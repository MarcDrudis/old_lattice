{
 "metadata": {
  "language_info": {
   "codemirror_mode": {
    "name": "ipython",
    "version": 3
   },
   "file_extension": ".py",
   "mimetype": "text/x-python",
   "name": "python",
   "nbconvert_exporter": "python",
   "pygments_lexer": "ipython3",
   "version": "3.7.9-final"
  },
  "orig_nbformat": 2,
  "kernelspec": {
   "name": "python3",
   "display_name": "Python 3"
  }
 },
 "nbformat": 4,
 "nbformat_minor": 2,
 "cells": [
  {
   "cell_type": "code",
   "execution_count": 1665,
   "metadata": {},
   "outputs": [],
   "source": [
    "import sys \n",
    "import os \n",
    "sys.path.append(os.path.abspath(\"/Users/niq/Desktop/ThesisIBM/CODE/Giulia/lattice-models-notebooks/lattice-model\"))\n",
    "\n",
    "from qiskit.aqua.components.variational_forms import VariationalForm\n",
    "from qiskit import QuantumRegister, QuantumCircuit, ClassicalRegister\n",
    "import numpy as np\n",
    "import qutip as qt\n",
    "\n",
    "from lattice.operators.qiskit_aqua_operator_utils import operator_sum\n",
    "from lattice.wilson_fermions.basic_operators import psi, psidag, U, Udag, standard_basis, fermion_id, link_id\n",
    "\n",
    "\n",
    "from lattice.lattice import *\n",
    "import lattice.wilson_fermions as wf\n",
    "from lattice.wilson_fermions.qiskit_utils import * \n",
    "from IPython.display import display\n",
    "from qiskit.aqua.operators.legacy import WeightedPauliOperator\n",
    "from lattice.operators.spin_operators import *\n",
    "from lattice.wilson_fermions.states import *\n",
    "\n",
    "#from qiskit.aqua.components.variational_forms import RY, RYRZ, SwapRZ\n",
    "\n",
    "from qiskit.aqua.algorithms import ExactEigensolver, VQE\n",
    "#from qiskit.aqua.components.variational_forms import RY, RYRZ, SwapRZ\n",
    "from qiskit.aqua.components.optimizers import SPSA, COBYLA, L_BFGS_B\n",
    "\n",
    "from lattice.wilson_fermions.variational_form import *\n",
    "from lattice.wilson_fermions.variational_form2 import *\n",
    "from qiskit.aqua.components.initial_states import Zero, Custom\n",
    "\n",
    "import scipy.linalg"
   ]
  },
  {
   "cell_type": "code",
   "execution_count": 283,
   "metadata": {},
   "outputs": [],
   "source": [
    "@property\n",
    "def prt(self):\n",
    "    print(self.print_details())\n",
    "\n",
    "\n",
    "def prt_with_output(self):\n",
    "    return self.print_details()\n",
    "\n",
    "setattr(WeightedPauliOperator, 'prt', prt)\n",
    "#repr prende print(str), così qunado scriviamo il weighted operator mi da subito il print \n",
    "setattr(WeightedPauliOperator, '__repr__', prt_with_output)"
   ]
  },
  {
   "cell_type": "code",
   "execution_count": 1689,
   "metadata": {},
   "outputs": [
    {
     "output_type": "display_data",
     "data": {
      "text/plain": "<Figure size 432x288 with 1 Axes>",
      "image/svg+xml": "<?xml version=\"1.0\" encoding=\"utf-8\" standalone=\"no\"?>\n<!DOCTYPE svg PUBLIC \"-//W3C//DTD SVG 1.1//EN\"\n  \"http://www.w3.org/Graphics/SVG/1.1/DTD/svg11.dtd\">\n<!-- Created with matplotlib (https://matplotlib.org/) -->\n<svg height=\"260.235625pt\" version=\"1.1\" viewBox=\"0 0 375.68 260.235625\" width=\"375.68pt\" xmlns=\"http://www.w3.org/2000/svg\" xmlns:xlink=\"http://www.w3.org/1999/xlink\">\n <metadata>\n  <rdf:RDF xmlns:cc=\"http://creativecommons.org/ns#\" xmlns:dc=\"http://purl.org/dc/elements/1.1/\" xmlns:rdf=\"http://www.w3.org/1999/02/22-rdf-syntax-ns#\">\n   <cc:Work>\n    <dc:type rdf:resource=\"http://purl.org/dc/dcmitype/StillImage\"/>\n    <dc:date>2020-11-25T23:13:31.888095</dc:date>\n    <dc:format>image/svg+xml</dc:format>\n    <dc:creator>\n     <cc:Agent>\n      <dc:title>Matplotlib v3.3.3, https://matplotlib.org/</dc:title>\n     </cc:Agent>\n    </dc:creator>\n   </cc:Work>\n  </rdf:RDF>\n </metadata>\n <defs>\n  <style type=\"text/css\">*{stroke-linecap:butt;stroke-linejoin:round;}</style>\n </defs>\n <g id=\"figure_1\">\n  <g id=\"patch_1\">\n   <path d=\"M 0 260.235625 \nL 375.68 260.235625 \nL 375.68 0 \nL 0 0 \nz\n\" style=\"fill:none;\"/>\n  </g>\n  <g id=\"axes_1\">\n   <g id=\"patch_2\">\n    <path d=\"M 33.68 238.835625 \nL 368.48 238.835625 \nL 368.48 21.395625 \nL 33.68 21.395625 \nz\n\" style=\"fill:#ffffff;\"/>\n   </g>\n   <g id=\"PathCollection_1\">\n    <defs>\n     <path d=\"M 0 3 \nC 0.795609 3 1.55874 2.683901 2.12132 2.12132 \nC 2.683901 1.55874 3 0.795609 3 0 \nC 3 -0.795609 2.683901 -1.55874 2.12132 -2.12132 \nC 1.55874 -2.683901 0.795609 -3 0 -3 \nC -0.795609 -3 -1.55874 -2.683901 -2.12132 -2.12132 \nC -2.683901 -1.55874 -3 -0.795609 -3 0 \nC -3 0.795609 -2.683901 1.55874 -2.12132 2.12132 \nC -1.55874 2.683901 -0.795609 3 0 3 \nz\n\" id=\"m7b2a2823c9\" style=\"stroke:#1f77b4;\"/>\n    </defs>\n    <g clip-path=\"url(#p8ad3e22575)\">\n     <use style=\"fill:#1f77b4;stroke:#1f77b4;\" x=\"48.898182\" xlink:href=\"#m7b2a2823c9\" y=\"130.115625\"/>\n     <use style=\"fill:#1f77b4;stroke:#1f77b4;\" x=\"353.261818\" xlink:href=\"#m7b2a2823c9\" y=\"130.115625\"/>\n    </g>\n   </g>\n   <g id=\"matplotlib.axis_1\">\n    <g id=\"xtick_1\">\n     <g id=\"line2d_1\">\n      <defs>\n       <path d=\"M 0 0 \nL 0 3.5 \n\" id=\"m3a5400acad\" style=\"stroke:#000000;stroke-width:0.8;\"/>\n      </defs>\n      <g>\n       <use style=\"stroke:#000000;stroke-width:0.8;\" x=\"48.898182\" xlink:href=\"#m3a5400acad\" y=\"238.835625\"/>\n      </g>\n     </g>\n     <g id=\"text_1\">\n      <!-- 0.0 -->\n      <g transform=\"translate(43.898182 251.299375)scale(0.08 -0.08)\">\n       <defs>\n        <path d=\"M 47.59375 33 \nQ 47.59375 26.296875 46.296875 20.34375 \nQ 45 14.40625 42.453125 9.40625 \nQ 39.90625 4.40625 35.40625 1.5 \nQ 30.90625 -1.40625 25 -1.40625 \nQ 18.90625 -1.40625 14.296875 1.6875 \nQ 9.703125 4.796875 7.203125 10 \nQ 4.703125 15.203125 3.546875 21.09375 \nQ 2.40625 27 2.40625 33.59375 \nQ 2.40625 42.90625 4.703125 50.34375 \nQ 7 57.796875 12.34375 62.6875 \nQ 17.703125 67.59375 25.40625 67.59375 \nQ 35.203125 67.59375 41.390625 58 \nQ 47.59375 48.40625 47.59375 33 \nz\nM 38 32.5 \nQ 38 48.296875 34.640625 56.640625 \nQ 31.296875 65 24.796875 65 \nQ 18.59375 65 15.296875 56.59375 \nQ 12 48.203125 12 32.90625 \nQ 12 17.5 15.296875 9.34375 \nQ 18.59375 1.203125 25 1.203125 \nQ 31.296875 1.203125 34.640625 9.34375 \nQ 38 17.5 38 32.5 \nz\n\" id=\"STIXGeneral-Regular-48\"/>\n        <path d=\"M 18.09375 4.296875 \nQ 18.09375 2.09375 16.4375 0.5 \nQ 14.796875 -1.09375 12.5 -1.09375 \nQ 10.203125 -1.09375 8.59375 0.5 \nQ 7 2.09375 7 4.390625 \nQ 7 6.703125 8.640625 8.34375 \nQ 10.296875 10 12.59375 10 \nQ 14.796875 10 16.4375 8.296875 \nQ 18.09375 6.59375 18.09375 4.296875 \nz\n\" id=\"STIXGeneral-Regular-46\"/>\n       </defs>\n       <use xlink:href=\"#STIXGeneral-Regular-48\"/>\n       <use x=\"49.999985\" xlink:href=\"#STIXGeneral-Regular-46\"/>\n       <use x=\"74.999969\" xlink:href=\"#STIXGeneral-Regular-48\"/>\n      </g>\n     </g>\n    </g>\n    <g id=\"xtick_2\">\n     <g id=\"line2d_2\">\n      <g>\n       <use style=\"stroke:#000000;stroke-width:0.8;\" x=\"109.770909\" xlink:href=\"#m3a5400acad\" y=\"238.835625\"/>\n      </g>\n     </g>\n     <g id=\"text_2\">\n      <!-- 0.2 -->\n      <g transform=\"translate(104.770909 251.299375)scale(0.08 -0.08)\">\n       <defs>\n        <path d=\"M 47.40625 13.703125 \nL 42 0 \nL 2.90625 0 \nL 2.90625 1.203125 \nL 20.703125 20.09375 \nQ 27.703125 27.40625 30.703125 33.5 \nQ 33.703125 39.59375 33.703125 46.09375 \nQ 33.703125 52.796875 30 56.5 \nQ 26.296875 60.203125 19.796875 60.203125 \nQ 14.40625 60.203125 11.25 57.390625 \nQ 8.09375 54.59375 5.09375 47.203125 \nL 3 47.703125 \nQ 4.703125 57 9.84375 62.296875 \nQ 15 67.59375 23.796875 67.59375 \nQ 32.09375 67.59375 37.1875 62.59375 \nQ 42.296875 57.59375 42.296875 50 \nQ 42.296875 38.703125 29.5 25.203125 \nL 13 7.59375 \nL 36.40625 7.59375 \nQ 39.703125 7.59375 41.640625 8.890625 \nQ 43.59375 10.203125 46 14.296875 \nz\n\" id=\"STIXGeneral-Regular-50\"/>\n       </defs>\n       <use xlink:href=\"#STIXGeneral-Regular-48\"/>\n       <use x=\"49.999985\" xlink:href=\"#STIXGeneral-Regular-46\"/>\n       <use x=\"74.999969\" xlink:href=\"#STIXGeneral-Regular-50\"/>\n      </g>\n     </g>\n    </g>\n    <g id=\"xtick_3\">\n     <g id=\"line2d_3\">\n      <g>\n       <use style=\"stroke:#000000;stroke-width:0.8;\" x=\"170.643636\" xlink:href=\"#m3a5400acad\" y=\"238.835625\"/>\n      </g>\n     </g>\n     <g id=\"text_3\">\n      <!-- 0.4 -->\n      <g transform=\"translate(165.643636 251.299375)scale(0.08 -0.08)\">\n       <defs>\n        <path d=\"M 47.296875 16.703125 \nL 37 16.703125 \nL 37 0 \nL 29.203125 0 \nL 29.203125 16.703125 \nL 1.203125 16.703125 \nL 1.203125 23.09375 \nL 32.59375 67.59375 \nL 37 67.59375 \nL 37 23.09375 \nL 47.296875 23.09375 \nz\nM 29.203125 23.09375 \nL 29.203125 57.40625 \nL 5.203125 23.09375 \nz\n\" id=\"STIXGeneral-Regular-52\"/>\n       </defs>\n       <use xlink:href=\"#STIXGeneral-Regular-48\"/>\n       <use x=\"49.999985\" xlink:href=\"#STIXGeneral-Regular-46\"/>\n       <use x=\"74.999969\" xlink:href=\"#STIXGeneral-Regular-52\"/>\n      </g>\n     </g>\n    </g>\n    <g id=\"xtick_4\">\n     <g id=\"line2d_4\">\n      <g>\n       <use style=\"stroke:#000000;stroke-width:0.8;\" x=\"231.516364\" xlink:href=\"#m3a5400acad\" y=\"238.835625\"/>\n      </g>\n     </g>\n     <g id=\"text_4\">\n      <!-- 0.6 -->\n      <g transform=\"translate(226.516364 251.299375)scale(0.08 -0.08)\">\n       <defs>\n        <path d=\"M 44.59375 68.40625 \nL 44.796875 66.796875 \nQ 33 64.90625 25.09375 57.25 \nQ 17.203125 49.59375 15.203125 38.296875 \nQ 21 42.796875 27.90625 42.796875 \nQ 36.703125 42.796875 41.75 37.1875 \nQ 46.796875 31.59375 46.796875 21.90625 \nQ 46.796875 12.09375 41.703125 5.90625 \nQ 35.796875 -1.40625 25.796875 -1.40625 \nQ 13.59375 -1.40625 8.09375 8.703125 \nQ 3.40625 17.296875 3.40625 27.90625 \nQ 3.40625 44.296875 14.296875 55.5 \nQ 20.5 61.90625 27.046875 64.546875 \nQ 33.59375 67.203125 44.59375 68.40625 \nz\nM 37.796875 18.796875 \nQ 37.796875 38.203125 24.296875 38.203125 \nQ 19.296875 38.203125 16 35.546875 \nQ 12.703125 32.90625 12.703125 26.59375 \nQ 12.703125 14.90625 16.34375 8.15625 \nQ 20 1.40625 26.90625 1.40625 \nQ 32.203125 1.40625 35 6.15625 \nQ 37.796875 10.90625 37.796875 18.796875 \nz\n\" id=\"STIXGeneral-Regular-54\"/>\n       </defs>\n       <use xlink:href=\"#STIXGeneral-Regular-48\"/>\n       <use x=\"49.999985\" xlink:href=\"#STIXGeneral-Regular-46\"/>\n       <use x=\"74.999969\" xlink:href=\"#STIXGeneral-Regular-54\"/>\n      </g>\n     </g>\n    </g>\n    <g id=\"xtick_5\">\n     <g id=\"line2d_5\">\n      <g>\n       <use style=\"stroke:#000000;stroke-width:0.8;\" x=\"292.389091\" xlink:href=\"#m3a5400acad\" y=\"238.835625\"/>\n      </g>\n     </g>\n     <g id=\"text_5\">\n      <!-- 0.8 -->\n      <g transform=\"translate(287.389091 251.299375)scale(0.08 -0.08)\">\n       <defs>\n        <path d=\"M 44.5 15.5 \nQ 44.5 7.796875 39.140625 3.1875 \nQ 33.796875 -1.40625 24.796875 -1.40625 \nQ 16.40625 -1.40625 11 3.1875 \nQ 5.59375 7.796875 5.59375 14.90625 \nQ 5.59375 20.203125 8.1875 23.953125 \nQ 10.796875 27.703125 18.59375 33.203125 \nQ 11.09375 39.40625 8.640625 43.203125 \nQ 6.203125 47 6.203125 52 \nQ 6.203125 59.09375 11.640625 63.34375 \nQ 17.09375 67.59375 25.59375 67.59375 \nQ 32.90625 67.59375 37.65625 63.4375 \nQ 42.40625 59.296875 42.40625 53.296875 \nQ 42.40625 47.796875 39.546875 44.5 \nQ 36.703125 41.203125 29 37.09375 \nQ 38 31.09375 41.25 26.390625 \nQ 44.5 21.703125 44.5 15.5 \nz\nM 35.5 53.296875 \nQ 35.5 58.5 32.59375 61.640625 \nQ 29.703125 64.796875 24.59375 64.796875 \nQ 19.5 64.796875 16.546875 62.140625 \nQ 13.59375 59.5 13.59375 54.890625 \nQ 13.59375 50.296875 16.546875 46.546875 \nQ 19.5 42.796875 26.09375 38.90625 \nQ 31.203125 41.90625 33.34375 45.25 \nQ 35.5 48.59375 35.5 53.296875 \nz\nM 27.09375 27.203125 \nL 21.203125 31.203125 \nQ 16.796875 27.59375 15 24.140625 \nQ 13.203125 20.703125 13.203125 15.796875 \nQ 13.203125 9 16.640625 5.203125 \nQ 20.09375 1.40625 25.90625 1.40625 \nQ 30.796875 1.40625 33.84375 4.453125 \nQ 36.90625 7.5 36.90625 12.40625 \nQ 36.90625 16.90625 34.59375 20.296875 \nQ 32.296875 23.703125 27.09375 27.203125 \nz\n\" id=\"STIXGeneral-Regular-56\"/>\n       </defs>\n       <use xlink:href=\"#STIXGeneral-Regular-48\"/>\n       <use x=\"49.999985\" xlink:href=\"#STIXGeneral-Regular-46\"/>\n       <use x=\"74.999969\" xlink:href=\"#STIXGeneral-Regular-56\"/>\n      </g>\n     </g>\n    </g>\n    <g id=\"xtick_6\">\n     <g id=\"line2d_6\">\n      <g>\n       <use style=\"stroke:#000000;stroke-width:0.8;\" x=\"353.261818\" xlink:href=\"#m3a5400acad\" y=\"238.835625\"/>\n      </g>\n     </g>\n     <g id=\"text_6\">\n      <!-- 1.0 -->\n      <g transform=\"translate(348.261818 251.299375)scale(0.08 -0.08)\">\n       <defs>\n        <path d=\"M 39.40625 0 \nL 11.796875 0 \nL 11.796875 1.5 \nQ 17.296875 1.796875 19.296875 3.546875 \nQ 21.296875 5.296875 21.296875 9.5 \nL 21.296875 54.40625 \nQ 21.296875 59.296875 18.296875 59.296875 \nQ 16.90625 59.296875 13.796875 58.09375 \nL 11.09375 57.09375 \nL 11.09375 58.5 \nL 29 67.59375 \nL 29.90625 67.296875 \nL 29.90625 7.59375 \nQ 29.90625 4.296875 31.90625 2.890625 \nQ 33.90625 1.5 39.40625 1.5 \nz\n\" id=\"STIXGeneral-Regular-49\"/>\n       </defs>\n       <use xlink:href=\"#STIXGeneral-Regular-49\"/>\n       <use x=\"49.999985\" xlink:href=\"#STIXGeneral-Regular-46\"/>\n       <use x=\"74.999969\" xlink:href=\"#STIXGeneral-Regular-48\"/>\n      </g>\n     </g>\n    </g>\n   </g>\n   <g id=\"matplotlib.axis_2\">\n    <g id=\"ytick_1\">\n     <g id=\"line2d_7\">\n      <defs>\n       <path d=\"M 0 0 \nL -3.5 0 \n\" id=\"m40d3223b41\" style=\"stroke:#000000;stroke-width:0.8;\"/>\n      </defs>\n      <g>\n       <use style=\"stroke:#000000;stroke-width:0.8;\" x=\"33.68\" xlink:href=\"#m40d3223b41\" y=\"209.184716\"/>\n      </g>\n     </g>\n     <g id=\"text_7\">\n      <!-- −0.04 -->\n      <g transform=\"translate(7.2 211.916591)scale(0.08 -0.08)\">\n       <defs>\n        <path d=\"M 62.09375 22 \nL 6.40625 22 \nL 6.40625 28.59375 \nL 62.09375 28.59375 \nz\n\" id=\"STIXGeneral-Regular-8722\"/>\n       </defs>\n       <use xlink:href=\"#STIXGeneral-Regular-8722\"/>\n       <use x=\"68.499985\" xlink:href=\"#STIXGeneral-Regular-48\"/>\n       <use x=\"118.499969\" xlink:href=\"#STIXGeneral-Regular-46\"/>\n       <use x=\"143.499954\" xlink:href=\"#STIXGeneral-Regular-48\"/>\n       <use x=\"193.499939\" xlink:href=\"#STIXGeneral-Regular-52\"/>\n      </g>\n     </g>\n    </g>\n    <g id=\"ytick_2\">\n     <g id=\"line2d_8\">\n      <g>\n       <use style=\"stroke:#000000;stroke-width:0.8;\" x=\"33.68\" xlink:href=\"#m40d3223b41\" y=\"169.65017\"/>\n      </g>\n     </g>\n     <g id=\"text_8\">\n      <!-- −0.02 -->\n      <g transform=\"translate(7.2 172.382045)scale(0.08 -0.08)\">\n       <use xlink:href=\"#STIXGeneral-Regular-8722\"/>\n       <use x=\"68.499985\" xlink:href=\"#STIXGeneral-Regular-48\"/>\n       <use x=\"118.499969\" xlink:href=\"#STIXGeneral-Regular-46\"/>\n       <use x=\"143.499954\" xlink:href=\"#STIXGeneral-Regular-48\"/>\n       <use x=\"193.499939\" xlink:href=\"#STIXGeneral-Regular-50\"/>\n      </g>\n     </g>\n    </g>\n    <g id=\"ytick_3\">\n     <g id=\"line2d_9\">\n      <g>\n       <use style=\"stroke:#000000;stroke-width:0.8;\" x=\"33.68\" xlink:href=\"#m40d3223b41\" y=\"130.115625\"/>\n      </g>\n     </g>\n     <g id=\"text_9\">\n      <!-- 0.00 -->\n      <g transform=\"translate(12.68 132.8475)scale(0.08 -0.08)\">\n       <use xlink:href=\"#STIXGeneral-Regular-48\"/>\n       <use x=\"49.999985\" xlink:href=\"#STIXGeneral-Regular-46\"/>\n       <use x=\"74.999969\" xlink:href=\"#STIXGeneral-Regular-48\"/>\n       <use x=\"124.999954\" xlink:href=\"#STIXGeneral-Regular-48\"/>\n      </g>\n     </g>\n    </g>\n    <g id=\"ytick_4\">\n     <g id=\"line2d_10\">\n      <g>\n       <use style=\"stroke:#000000;stroke-width:0.8;\" x=\"33.68\" xlink:href=\"#m40d3223b41\" y=\"90.58108\"/>\n      </g>\n     </g>\n     <g id=\"text_10\">\n      <!-- 0.02 -->\n      <g transform=\"translate(12.68 93.312955)scale(0.08 -0.08)\">\n       <use xlink:href=\"#STIXGeneral-Regular-48\"/>\n       <use x=\"49.999985\" xlink:href=\"#STIXGeneral-Regular-46\"/>\n       <use x=\"74.999969\" xlink:href=\"#STIXGeneral-Regular-48\"/>\n       <use x=\"124.999954\" xlink:href=\"#STIXGeneral-Regular-50\"/>\n      </g>\n     </g>\n    </g>\n    <g id=\"ytick_5\">\n     <g id=\"line2d_11\">\n      <g>\n       <use style=\"stroke:#000000;stroke-width:0.8;\" x=\"33.68\" xlink:href=\"#m40d3223b41\" y=\"51.046534\"/>\n      </g>\n     </g>\n     <g id=\"text_11\">\n      <!-- 0.04 -->\n      <g transform=\"translate(12.68 53.778409)scale(0.08 -0.08)\">\n       <use xlink:href=\"#STIXGeneral-Regular-48\"/>\n       <use x=\"49.999985\" xlink:href=\"#STIXGeneral-Regular-46\"/>\n       <use x=\"74.999969\" xlink:href=\"#STIXGeneral-Regular-48\"/>\n       <use x=\"124.999954\" xlink:href=\"#STIXGeneral-Regular-52\"/>\n      </g>\n     </g>\n    </g>\n   </g>\n   <g id=\"line2d_12\">\n    <path clip-path=\"url(#p8ad3e22575)\" d=\"M 48.898182 130.115625 \nL 353.261818 130.115625 \n\" style=\"fill:none;stroke:#ff0000;stroke-linecap:square;stroke-opacity:0.2;stroke-width:1.5;\"/>\n   </g>\n   <g id=\"patch_3\">\n    <path d=\"M 33.68 238.835625 \nL 33.68 21.395625 \n\" style=\"fill:none;stroke:#000000;stroke-linecap:square;stroke-linejoin:miter;stroke-width:0.8;\"/>\n   </g>\n   <g id=\"patch_4\">\n    <path d=\"M 368.48 238.835625 \nL 368.48 21.395625 \n\" style=\"fill:none;stroke:#000000;stroke-linecap:square;stroke-linejoin:miter;stroke-width:0.8;\"/>\n   </g>\n   <g id=\"patch_5\">\n    <path d=\"M 33.68 238.835625 \nL 368.48 238.835625 \n\" style=\"fill:none;stroke:#000000;stroke-linecap:square;stroke-linejoin:miter;stroke-width:0.8;\"/>\n   </g>\n   <g id=\"patch_6\">\n    <path d=\"M 33.68 21.395625 \nL 368.48 21.395625 \n\" style=\"fill:none;stroke:#000000;stroke-linecap:square;stroke-linejoin:miter;stroke-width:0.8;\"/>\n   </g>\n   <g id=\"text_12\">\n    <!-- 0 -->\n    <g transform=\"translate(54.985455 128.138898)scale(0.1 -0.1)\">\n     <use xlink:href=\"#STIXGeneral-Regular-48\"/>\n    </g>\n   </g>\n   <g id=\"text_13\">\n    <!-- 1 -->\n    <g transform=\"translate(359.349091 128.138898)scale(0.1 -0.1)\">\n     <use xlink:href=\"#STIXGeneral-Regular-49\"/>\n    </g>\n   </g>\n   <g id=\"text_14\">\n    <!-- [0 0] -->\n    <g transform=\"translate(201.08 130.115625)scale(0.1 -0.1)\">\n     <defs>\n      <path d=\"M 29.90625 -15.59375 \nL 8.796875 -15.59375 \nL 8.796875 66.203125 \nL 29.90625 66.203125 \nL 29.90625 63.703125 \nL 21.59375 63.703125 \nQ 19 63.703125 17.703125 62.59375 \nQ 16.40625 61.5 16.40625 58.90625 \nL 16.40625 -7.703125 \nQ 16.40625 -13.09375 21.59375 -13.09375 \nL 29.90625 -13.09375 \nz\n\" id=\"STIXGeneral-Regular-91\"/>\n      <path id=\"STIXGeneral-Regular-32\"/>\n      <path d=\"M 24.5 -15.59375 \nL 3.40625 -15.59375 \nL 3.40625 -13.09375 \nL 12.203125 -13.09375 \nQ 14.796875 -13.09375 15.84375 -12 \nQ 16.90625 -10.90625 16.90625 -8.5 \nL 16.90625 58.296875 \nQ 16.90625 63.703125 11.796875 63.703125 \nL 3.40625 63.703125 \nL 3.40625 66.203125 \nL 24.5 66.203125 \nz\n\" id=\"STIXGeneral-Regular-93\"/>\n     </defs>\n     <use xlink:href=\"#STIXGeneral-Regular-91\"/>\n     <use x=\"33.299988\" xlink:href=\"#STIXGeneral-Regular-48\"/>\n     <use x=\"83.299973\" xlink:href=\"#STIXGeneral-Regular-32\"/>\n     <use x=\"108.299957\" xlink:href=\"#STIXGeneral-Regular-48\"/>\n     <use x=\"158.299942\" xlink:href=\"#STIXGeneral-Regular-93\"/>\n    </g>\n   </g>\n   <g id=\"text_15\">\n    <!-- Lattice [2] -->\n    <g transform=\"translate(175.922188 15.395625)scale(0.12 -0.12)\">\n     <defs>\n      <path d=\"M 59.796875 17.40625 \nL 55 0 \nL 1.203125 0 \nL 1.203125 1.90625 \nQ 6.703125 2.203125 8.296875 4 \nQ 9.90625 5.796875 9.90625 11.5 \nL 9.90625 54.59375 \nQ 9.90625 60.5 8.453125 62.203125 \nQ 7 63.90625 1.203125 64.296875 \nL 1.203125 66.203125 \nL 29.5 66.203125 \nL 29.5 64.296875 \nQ 23.40625 63.90625 21.75 62.25 \nQ 20.09375 60.59375 20.09375 54.796875 \nL 20.09375 8.40625 \nQ 20.09375 5.59375 21.84375 4.75 \nQ 23.59375 3.90625 29.09375 3.90625 \nL 36.09375 3.90625 \nQ 48.203125 3.90625 53 10 \nQ 55 12.703125 57.203125 17.40625 \nz\n\" id=\"STIXGeneral-Regular-76\"/>\n      <path d=\"M 44.203125 6.59375 \nL 44.203125 3.796875 \nQ 40.40625 -1 35.203125 -1 \nQ 29.5 -1 28.796875 6.296875 \nL 28.703125 6.296875 \nQ 22.296875 -1 14.203125 -1 \nQ 9.5 -1 6.59375 1.75 \nQ 3.703125 4.5 3.703125 9.40625 \nQ 3.703125 16.40625 10.703125 21.09375 \nQ 15.5 24.296875 28.703125 29.203125 \nL 28.703125 34.59375 \nQ 28.703125 39.09375 26.546875 41.34375 \nQ 24.40625 43.59375 20.90625 43.59375 \nQ 17.90625 43.59375 15.90625 42.140625 \nQ 13.90625 40.703125 13.90625 38.703125 \nQ 13.90625 37.796875 14.203125 36.6875 \nQ 14.5 35.59375 14.5 34.5 \nQ 14.5 33 13.140625 31.703125 \nQ 11.796875 30.40625 9.90625 30.40625 \nQ 8.203125 30.40625 6.890625 31.703125 \nQ 5.59375 33 5.59375 35 \nQ 5.59375 39.796875 10.703125 43 \nQ 15.40625 46 22.203125 46 \nQ 30.296875 46 34 41.5 \nQ 35.796875 39.40625 36.296875 37.25 \nQ 36.796875 35.09375 36.796875 30.40625 \nL 36.796875 11.296875 \nQ 36.796875 4.703125 39.90625 4.703125 \nQ 41.90625 4.703125 44.203125 6.59375 \nz\nM 28.703125 12.703125 \nL 28.703125 26.796875 \nQ 19.5 23.59375 15.90625 20.203125 \nQ 12.5 17.09375 12.5 12.5 \nQ 12.5 8.703125 14.390625 6.75 \nQ 16.296875 4.796875 19.40625 4.796875 \nQ 22.703125 4.796875 25.203125 6.40625 \nQ 27.296875 7.90625 28 9.203125 \nQ 28.703125 10.5 28.703125 12.703125 \nz\n\" id=\"STIXGeneral-Regular-97\"/>\n      <path d=\"M 26.59375 7.703125 \nL 27.90625 6.59375 \nQ 23.09375 -1 15.796875 -1 \nQ 7 -1 7 11.703125 \nL 7 41.796875 \nL 1.703125 41.796875 \nQ 1.296875 42.09375 1.296875 42.5 \nQ 1.296875 43.296875 3 44.40625 \nQ 6.796875 46.59375 12.703125 55.09375 \nQ 12.90625 55.40625 13.65625 56.34375 \nQ 14.40625 57.296875 14.703125 57.90625 \nQ 15.40625 57.90625 15.40625 56.59375 \nL 15.40625 45 \nL 25.5 45 \nL 25.5 41.796875 \nL 15.40625 41.796875 \nL 15.40625 13.203125 \nQ 15.40625 8.40625 16.59375 6.296875 \nQ 17.796875 4.203125 20.59375 4.203125 \nQ 23.59375 4.203125 26.59375 7.703125 \nz\n\" id=\"STIXGeneral-Regular-116\"/>\n      <path d=\"M 18 63.203125 \nQ 18 61 16.5 59.546875 \nQ 15 58.09375 12.796875 58.09375 \nQ 10.703125 58.09375 9.25 59.546875 \nQ 7.796875 61 7.796875 63.203125 \nQ 7.796875 65.296875 9.296875 66.796875 \nQ 10.796875 68.296875 12.90625 68.296875 \nQ 15.09375 68.296875 16.546875 66.796875 \nQ 18 65.296875 18 63.203125 \nz\nM 25.296875 0 \nL 1.59375 0 \nL 1.59375 1.5 \nQ 6.796875 1.796875 8.140625 3.296875 \nQ 9.5 4.796875 9.5 10.40625 \nL 9.5 33.09375 \nQ 9.5 36.59375 8.796875 38 \nQ 8.09375 39.40625 6.203125 39.40625 \nQ 3.796875 39.40625 2 38.90625 \nL 2 40.5 \nL 17.5 46 \nL 17.90625 45.59375 \nL 17.90625 10.5 \nQ 17.90625 4.90625 19.15625 3.40625 \nQ 20.40625 1.90625 25.296875 1.5 \nz\n\" id=\"STIXGeneral-Regular-105\"/>\n      <path d=\"M 39.796875 15.59375 \nL 41.203125 14.703125 \nQ 36.90625 6.296875 33 3.203125 \nQ 27.90625 -1 21.5 -1 \nQ 13.203125 -1 7.84375 5.25 \nQ 2.5 11.5 2.5 21.203125 \nQ 2.5 33.90625 10.90625 40.90625 \nQ 17.09375 46 24.40625 46 \nQ 30.703125 46 35.25 42.953125 \nQ 39.796875 39.90625 39.796875 35.703125 \nQ 39.796875 34 38.390625 32.75 \nQ 37 31.5 35.09375 31.5 \nQ 31.59375 31.5 30.296875 36.09375 \nL 29.703125 38.296875 \nQ 28.90625 41.09375 27.703125 42.09375 \nQ 26.5 43.09375 23.796875 43.09375 \nQ 17.703125 43.09375 13.953125 38.296875 \nQ 10.203125 33.5 10.203125 25.703125 \nQ 10.203125 17.09375 14.5 11.640625 \nQ 18.796875 6.203125 25.703125 6.203125 \nQ 30 6.203125 33.09375 8.25 \nQ 36.203125 10.296875 39.796875 15.59375 \nz\n\" id=\"STIXGeneral-Regular-99\"/>\n      <path d=\"M 40.796875 16.40625 \nL 42.40625 15.703125 \nQ 36.40625 -1 21.5 -1 \nQ 12.703125 -1 7.59375 5.140625 \nQ 2.5 11.296875 2.5 21.703125 \nQ 2.5 32.40625 8.203125 39.203125 \nQ 13.90625 46 23.203125 46 \nQ 32.203125 46 37.09375 39.09375 \nQ 40 35.09375 40.5 27.703125 \nL 9.703125 27.703125 \nQ 10.09375 21.40625 10.9375 18.09375 \nQ 11.796875 14.796875 14.296875 11.40625 \nQ 18.5 5.90625 25.40625 5.90625 \nQ 30.296875 5.90625 33.640625 8.296875 \nQ 37 10.703125 40.796875 16.40625 \nz\nM 9.90625 30.90625 \nL 30.296875 30.90625 \nQ 29.40625 37.203125 27.34375 39.796875 \nQ 25.296875 42.40625 20.5 42.40625 \nQ 16.296875 42.40625 13.5 39.453125 \nQ 10.703125 36.5 9.90625 30.90625 \nz\n\" id=\"STIXGeneral-Regular-101\"/>\n     </defs>\n     <use xlink:href=\"#STIXGeneral-Regular-76\"/>\n     <use x=\"61.099991\" xlink:href=\"#STIXGeneral-Regular-97\"/>\n     <use x=\"105.499985\" xlink:href=\"#STIXGeneral-Regular-116\"/>\n     <use x=\"133.299973\" xlink:href=\"#STIXGeneral-Regular-116\"/>\n     <use x=\"161.09996\" xlink:href=\"#STIXGeneral-Regular-105\"/>\n     <use x=\"188.899948\" xlink:href=\"#STIXGeneral-Regular-99\"/>\n     <use x=\"233.299942\" xlink:href=\"#STIXGeneral-Regular-101\"/>\n     <use x=\"277.699936\" xlink:href=\"#STIXGeneral-Regular-32\"/>\n     <use x=\"302.699921\" xlink:href=\"#STIXGeneral-Regular-91\"/>\n     <use x=\"335.999908\" xlink:href=\"#STIXGeneral-Regular-50\"/>\n     <use x=\"385.999893\" xlink:href=\"#STIXGeneral-Regular-93\"/>\n    </g>\n   </g>\n  </g>\n </g>\n <defs>\n  <clipPath id=\"p8ad3e22575\">\n   <rect height=\"217.44\" width=\"334.8\" x=\"33.68\" y=\"21.395625\"/>\n  </clipPath>\n </defs>\n</svg>\n",
      "image/png": "[encoded data removed]"
     },
     "metadata": {
      "needs_background": "light"
     }
    }
   ],
   "source": [
    "\n",
    "lattice=SquareLattice([2])\n",
    "lattice.plot_2d()\n",
    "\n",
    "\n",
    "rep=wf.dirac\n",
    "\n",
    "S=0.5\n",
    "N = 2\n",
    "params = {\n",
    "    'm': 1, # The fermionic mass\n",
    "    't': 1., # A strength parameter for the hopping\n",
    "    'r': 1., # The Wilson parameter\n",
    "    'a': 1., # The lattice spacing\n",
    "    'e': 4, # The charge parameter in the Dirac equation\n",
    "    'S': S,   # The parameter determining the Gauge field truncation\n",
    "    'theta': 0.5\n",
    "}\n",
    "initial_flux = 0.5\n",
    "boundary_conditions = {\n",
    "    (0,0): initial_flux,\n",
    "    (N-1,0): initial_flux\n",
    "}"
   ]
  },
  {
   "cell_type": "code",
   "execution_count": 1690,
   "metadata": {},
   "outputs": [
    {
     "output_type": "stream",
     "name": "stdout",
     "text": [
      "##### Building the Hamiltonian #########\nMass, Hopping & Wilson energy added.\n0.5\nGauge field flux energy added.\nGauge invariance regulator added.\n##### Hamiltonian successfully built #####\n"
     ]
    }
   ],
   "source": [
    "#init_state=DiracState(\"..\", [0], S=S)\n",
    "\n",
    "#A=WilsonLGT2(lattice=lattice, S=S, rep=rep, initial_state=init_state)\n",
    "\n",
    "H=wf.build_hamilton(lattice=lattice, params=params, rep=rep, boundary_cond=boundary_conditions, lam=0, output=\"qiskit\")\n",
    "\n",
    "H.chop()\n",
    "\n",
    "init_state=DiracState(\"..\", [0.5], S=S)\n",
    "init_circ=init_state.construct_circuit(\"circuit\")\n",
    "\n"
   ]
  },
  {
   "cell_type": "code",
   "execution_count": 1691,
   "metadata": {},
   "outputs": [],
   "source": [
    "q_init_circ=WilsonLGT2(lattice=lattice, S=S, rep=rep, initial_state=init_state).construct_circuit(parameters=[0,0,0])\n",
    "# voglio passare da un circuito a uno stato\n",
    "\n",
    "n_qubits = lattice.nsites * 2 + lattice.nedges * int(np.ceil(np.log2(2 * params['S'] + 1)))"
   ]
  },
  {
   "cell_type": "code",
   "execution_count": 1692,
   "metadata": {},
   "outputs": [
    {
     "output_type": "execute_result",
     "data": {
      "text/plain": [
       "([('..', [0.5])], array([1.]))"
      ]
     },
     "metadata": {},
     "execution_count": 1692
    }
   ],
   "source": [
    "### ho creato un circuito dalla variational form con dei parametri settati a 0 e ho verificato in effetti che non mi ha cambiato nulla del mio state \n",
    "state_decompose_dirac(state=q_init_circ, fermi_len=lattice.nsites, spin_len= lattice.nedges, S=params[\"S\"], thres=0.1 )\n",
    "\n"
   ]
  },
  {
   "source": [
    "### QUesto vuoldire che se trovo il modo di fare evolvere i parametri in modo intelligente, cioé rispetto l'evoluzione temporale, ad ogni step posso salvare lo stato che corrisponde a quel circuito. \n",
    "Esempio : ho capito come evolvono parametri doo un certo dt, parto da [0,0,0] arrivo a [1,2,0], allora il mio stato all'istante [1,2,0] sarà quello che esce da quella scomposizione\n"
   ],
   "cell_type": "markdown",
   "metadata": {}
  },
  {
   "source": [],
   "cell_type": "markdown",
   "metadata": {}
  },
  {
   "cell_type": "code",
   "execution_count": 1634,
   "metadata": {},
   "outputs": [
    {
     "output_type": "execute_result",
     "data": {
      "text/plain": [
       "3"
      ]
     },
     "metadata": {},
     "execution_count": 1634
    }
   ],
   "source": [
    "WilsonLGT2(lattice=lattice, S=S, rep=rep, initial_state=init_state).num_parameters"
   ]
  },
  {
   "source": [
    "### provo a fareun trotter con questi dati\n"
   ],
   "cell_type": "markdown",
   "metadata": {}
  },
  {
   "cell_type": "code",
   "execution_count": 1635,
   "metadata": {},
   "outputs": [
    {
     "output_type": "execute_result",
     "data": {
      "text/plain": [
       "([('..', [0.5])], array([1.]))"
      ]
     },
     "metadata": {},
     "execution_count": 1635
    }
   ],
   "source": [
    "# prendi stesso initial vect come sotto \n",
    "\n",
    "\n",
    "init_state2=plotvect2(WilsonLGT2(lattice=lattice, S=S, rep=rep, initial_state=init_state).construct_circuit(parameters=[0,0,0]))\n",
    "\n",
    "state_decompose_dirac(state=WilsonLGT2(lattice=lattice, S=S, rep=rep, initial_state=init_state).construct_circuit(parameters=[0,0,0]), fermi_len=lattice.nsites, spin_len= lattice.nedges, S=params[\"S\"], thres=0.1)\n"
   ]
  },
  {
   "cell_type": "code",
   "execution_count": 1636,
   "metadata": {},
   "outputs": [
    {
     "output_type": "execute_result",
     "data": {
      "text/plain": [
       "True"
      ]
     },
     "metadata": {},
     "execution_count": 1636
    }
   ],
   "source": [
    "isinstance(init_state, DiracState)"
   ]
  },
  {
   "cell_type": "code",
   "execution_count": 14,
   "metadata": {},
   "outputs": [
    {
     "output_type": "execute_result",
     "data": {
      "text/plain": [
       "numpy.ndarray"
      ]
     },
     "metadata": {},
     "execution_count": 14
    }
   ],
   "source": []
  },
  {
   "cell_type": "code",
   "execution_count": 1637,
   "metadata": {},
   "outputs": [
    {
     "output_type": "stream",
     "name": "stdout",
     "text": [
      "1. Constructing trotter step\n2. Extracting trotter matrix\n3. Running time evolution\nforcasted total time: 0.0s\ncompleted 60 of 60 in time 0.000s   -   0.0s left\ntotal time elapsed: 0.0625s\nTOTAL TIME: 0.066s\n"
     ]
    },
    {
     "output_type": "execute_result",
     "data": {
      "text/plain": [
       "Text(0.5, 1.0, 'Probability of observing initial state')"
      ]
     },
     "metadata": {},
     "execution_count": 1637
    },
    {
     "output_type": "display_data",
     "data": {
      "text/plain": "<Figure size 648x360 with 1 Axes>",
      "image/svg+xml": "<?xml version=\"1.0\" encoding=\"utf-8\" standalone=\"no\"?>\n<!DOCTYPE svg PUBLIC \"-//W3C//DTD SVG 1.1//EN\"\n  \"http://www.w3.org/Graphics/SVG/1.1/DTD/svg11.dtd\">\n<!-- Created with matplotlib (https://matplotlib.org/) -->\n<svg height=\"344.79125pt\" version=\"1.1\" viewBox=\"0 0 555.61875 344.79125\" width=\"555.61875pt\" xmlns=\"http://www.w3.org/2000/svg\" xmlns:xlink=\"http://www.w3.org/1999/xlink\">\n <metadata>\n  <rdf:RDF xmlns:cc=\"http://creativecommons.org/ns#\" xmlns:dc=\"http://purl.org/dc/elements/1.1/\" xmlns:rdf=\"http://www.w3.org/1999/02/22-rdf-syntax-ns#\">\n   <cc:Work>\n    <dc:type rdf:resource=\"http://purl.org/dc/dcmitype/StillImage\"/>\n    <dc:date>2020-11-25T17:46:08.631825</dc:date>\n    <dc:format>image/svg+xml</dc:format>\n    <dc:creator>\n     <cc:Agent>\n      <dc:title>Matplotlib v3.3.3, https://matplotlib.org/</dc:title>\n     </cc:Agent>\n    </dc:creator>\n   </cc:Work>\n  </rdf:RDF>\n </metadata>\n <defs>\n  <style type=\"text/css\">*{stroke-linecap:butt;stroke-linejoin:round;}</style>\n </defs>\n <g id=\"figure_1\">\n  <g id=\"patch_1\">\n   <path d=\"M 0 344.79125 \nL 555.61875 344.79125 \nL 555.61875 0 \nL 0 0 \nz\n\" style=\"fill:none;\"/>\n  </g>\n  <g id=\"axes_1\">\n   <g id=\"patch_2\">\n    <path d=\"M 46.21875 301.39125 \nL 548.41875 301.39125 \nL 548.41875 29.59125 \nL 46.21875 29.59125 \nz\n\" style=\"fill:#ffffff;\"/>\n   </g>\n   <g id=\"PolyCollection_1\">\n    <path clip-path=\"url(#p7a5726cb0b)\" d=\"M 69.046023 41.945795 \nL 69.046023 289.036705 \nL 76.655114 289.036705 \nL 84.264205 289.036705 \nL 91.873295 289.036705 \nL 99.482386 289.036705 \nL 107.091477 289.036705 \nL 114.700568 289.036705 \nL 122.309659 289.036705 \nL 129.91875 289.036705 \nL 137.527841 289.036705 \nL 145.136932 289.036705 \nL 152.746023 289.036705 \nL 160.355114 289.036705 \nL 167.964205 289.036705 \nL 175.573295 289.036705 \nL 183.182386 289.036705 \nL 190.791477 289.036705 \nL 198.400568 289.036705 \nL 206.009659 289.036705 \nL 213.61875 289.036705 \nL 221.227841 289.036705 \nL 228.836932 289.036705 \nL 236.446023 289.036705 \nL 244.055114 289.036705 \nL 251.664205 289.036705 \nL 259.273295 289.036705 \nL 266.882386 289.036705 \nL 274.491477 289.036705 \nL 282.100568 289.036705 \nL 289.709659 289.036705 \nL 297.31875 289.036705 \nL 304.927841 289.036705 \nL 312.536932 289.036705 \nL 320.146023 289.036705 \nL 327.755114 289.036705 \nL 335.364205 289.036705 \nL 342.973295 289.036705 \nL 350.582386 289.036705 \nL 358.191477 289.036705 \nL 365.800568 289.036705 \nL 373.409659 289.036705 \nL 381.01875 289.036705 \nL 388.627841 289.036705 \nL 396.236932 289.036705 \nL 403.846023 289.036705 \nL 411.455114 289.036705 \nL 419.064205 289.036705 \nL 426.673295 289.036705 \nL 434.282386 289.036705 \nL 441.891477 289.036705 \nL 449.500568 289.036705 \nL 457.109659 289.036705 \nL 464.71875 289.036705 \nL 472.327841 289.036705 \nL 479.936932 289.036705 \nL 487.546023 289.036705 \nL 495.155114 289.036705 \nL 502.764205 289.036705 \nL 510.373295 289.036705 \nL 517.982386 289.036705 \nL 525.591477 289.036705 \nL 525.591477 65.187015 \nL 525.591477 65.187015 \nL 517.982386 57.576483 \nL 510.373295 51.39345 \nL 502.764205 46.726442 \nL 495.155114 43.635839 \nL 487.546023 42.148614 \nL 479.936932 42.268642 \nL 472.327841 43.991857 \nL 464.71875 47.305651 \nL 457.109659 52.177546 \nL 449.500568 58.550947 \nL 441.891477 66.345596 \nL 434.282386 75.45331 \nL 426.673295 85.738555 \nL 419.064205 97.052978 \nL 411.455114 109.2487 \nL 403.846023 122.175189 \nL 396.236932 135.670479 \nL 388.627841 149.560819 \nL 381.01875 163.663141 \nL 373.409659 177.784291 \nL 365.800568 191.725863 \nL 358.191477 205.297242 \nL 350.582386 218.323062 \nL 342.973295 230.638901 \nL 335.364205 242.086502 \nL 327.755114 252.515588 \nL 320.146023 261.786646 \nL 312.536932 269.772486 \nL 304.927841 276.36289 \nL 297.31875 281.470279 \nL 289.709659 285.030105 \nL 282.100568 286.997602 \nL 274.491477 287.346673 \nL 266.882386 286.071185 \nL 259.273295 283.186636 \nL 251.664205 278.732019 \nL 244.055114 272.769652 \nL 236.446023 265.380843 \nL 228.836932 256.661747 \nL 221.227841 246.723747 \nL 213.61875 235.694762 \nL 206.009659 223.7184 \nL 198.400568 210.954426 \nL 190.791477 197.579367 \nL 183.182386 183.779379 \nL 175.573295 169.738195 \nL 167.964205 155.633645 \nL 160.355114 141.643527 \nL 152.746023 127.948118 \nL 145.136932 114.727519 \nL 137.527841 102.162098 \nL 129.91875 90.431385 \nL 122.309659 79.701424 \nL 114.700568 70.110927 \nL 107.091477 61.773438 \nL 99.482386 54.788624 \nL 91.873295 49.245092 \nL 84.264205 45.217568 \nL 76.655114 42.768517 \nL 69.046023 41.945795 \nz\n\" style=\"fill:#1f77b4;fill-opacity:0.2;\"/>\n   </g>\n   <g id=\"matplotlib.axis_1\">\n    <g id=\"xtick_1\">\n     <g id=\"line2d_1\">\n      <defs>\n       <path d=\"M 0 0 \nL 0 3.5 \n\" id=\"m929cc14039\" style=\"stroke:#000000;stroke-width:0.8;\"/>\n      </defs>\n      <g>\n       <use style=\"stroke:#000000;stroke-width:0.8;\" x=\"69.046023\" xlink:href=\"#m929cc14039\" y=\"301.39125\"/>\n      </g>\n     </g>\n     <g id=\"text_1\">\n      <!-- 0 -->\n      <g transform=\"translate(67.046023 313.855)scale(0.08 -0.08)\">\n       <defs>\n        <path d=\"M 47.59375 33 \nQ 47.59375 26.296875 46.296875 20.34375 \nQ 45 14.40625 42.453125 9.40625 \nQ 39.90625 4.40625 35.40625 1.5 \nQ 30.90625 -1.40625 25 -1.40625 \nQ 18.90625 -1.40625 14.296875 1.6875 \nQ 9.703125 4.796875 7.203125 10 \nQ 4.703125 15.203125 3.546875 21.09375 \nQ 2.40625 27 2.40625 33.59375 \nQ 2.40625 42.90625 4.703125 50.34375 \nQ 7 57.796875 12.34375 62.6875 \nQ 17.703125 67.59375 25.40625 67.59375 \nQ 35.203125 67.59375 41.390625 58 \nQ 47.59375 48.40625 47.59375 33 \nz\nM 38 32.5 \nQ 38 48.296875 34.640625 56.640625 \nQ 31.296875 65 24.796875 65 \nQ 18.59375 65 15.296875 56.59375 \nQ 12 48.203125 12 32.90625 \nQ 12 17.5 15.296875 9.34375 \nQ 18.59375 1.203125 25 1.203125 \nQ 31.296875 1.203125 34.640625 9.34375 \nQ 38 17.5 38 32.5 \nz\n\" id=\"STIXGeneral-Regular-48\"/>\n       </defs>\n       <use xlink:href=\"#STIXGeneral-Regular-48\"/>\n      </g>\n     </g>\n    </g>\n    <g id=\"xtick_2\">\n     <g id=\"line2d_2\">\n      <g>\n       <use style=\"stroke:#000000;stroke-width:0.8;\" x=\"145.136932\" xlink:href=\"#m929cc14039\" y=\"301.39125\"/>\n      </g>\n     </g>\n     <g id=\"text_2\">\n      <!-- 1 -->\n      <g transform=\"translate(143.136932 313.855)scale(0.08 -0.08)\">\n       <defs>\n        <path d=\"M 39.40625 0 \nL 11.796875 0 \nL 11.796875 1.5 \nQ 17.296875 1.796875 19.296875 3.546875 \nQ 21.296875 5.296875 21.296875 9.5 \nL 21.296875 54.40625 \nQ 21.296875 59.296875 18.296875 59.296875 \nQ 16.90625 59.296875 13.796875 58.09375 \nL 11.09375 57.09375 \nL 11.09375 58.5 \nL 29 67.59375 \nL 29.90625 67.296875 \nL 29.90625 7.59375 \nQ 29.90625 4.296875 31.90625 2.890625 \nQ 33.90625 1.5 39.40625 1.5 \nz\n\" id=\"STIXGeneral-Regular-49\"/>\n       </defs>\n       <use xlink:href=\"#STIXGeneral-Regular-49\"/>\n      </g>\n     </g>\n    </g>\n    <g id=\"xtick_3\">\n     <g id=\"line2d_3\">\n      <g>\n       <use style=\"stroke:#000000;stroke-width:0.8;\" x=\"221.227841\" xlink:href=\"#m929cc14039\" y=\"301.39125\"/>\n      </g>\n     </g>\n     <g id=\"text_3\">\n      <!-- 2 -->\n      <g transform=\"translate(219.227841 313.855)scale(0.08 -0.08)\">\n       <defs>\n        <path d=\"M 47.40625 13.703125 \nL 42 0 \nL 2.90625 0 \nL 2.90625 1.203125 \nL 20.703125 20.09375 \nQ 27.703125 27.40625 30.703125 33.5 \nQ 33.703125 39.59375 33.703125 46.09375 \nQ 33.703125 52.796875 30 56.5 \nQ 26.296875 60.203125 19.796875 60.203125 \nQ 14.40625 60.203125 11.25 57.390625 \nQ 8.09375 54.59375 5.09375 47.203125 \nL 3 47.703125 \nQ 4.703125 57 9.84375 62.296875 \nQ 15 67.59375 23.796875 67.59375 \nQ 32.09375 67.59375 37.1875 62.59375 \nQ 42.296875 57.59375 42.296875 50 \nQ 42.296875 38.703125 29.5 25.203125 \nL 13 7.59375 \nL 36.40625 7.59375 \nQ 39.703125 7.59375 41.640625 8.890625 \nQ 43.59375 10.203125 46 14.296875 \nz\n\" id=\"STIXGeneral-Regular-50\"/>\n       </defs>\n       <use xlink:href=\"#STIXGeneral-Regular-50\"/>\n      </g>\n     </g>\n    </g>\n    <g id=\"xtick_4\">\n     <g id=\"line2d_4\">\n      <g>\n       <use style=\"stroke:#000000;stroke-width:0.8;\" x=\"297.31875\" xlink:href=\"#m929cc14039\" y=\"301.39125\"/>\n      </g>\n     </g>\n     <g id=\"text_4\">\n      <!-- 3 -->\n      <g transform=\"translate(295.31875 313.855)scale(0.08 -0.08)\">\n       <defs>\n        <path d=\"M 6.09375 51 \nL 4.5 51.40625 \nQ 6.796875 58.90625 11.6875 63.25 \nQ 16.59375 67.59375 24.09375 67.59375 \nQ 31.09375 67.59375 35.390625 63.796875 \nQ 39.703125 60 39.703125 53.90625 \nQ 39.703125 45.703125 30.40625 40.09375 \nQ 35.90625 37.703125 38.703125 34.796875 \nQ 43.09375 29.90625 43.09375 21.90625 \nQ 43.09375 13.90625 38.5 7.90625 \nQ 35.09375 3.296875 28.75 0.9375 \nQ 22.40625 -1.40625 15.296875 -1.40625 \nQ 4.09375 -1.40625 4.09375 4.296875 \nQ 4.09375 5.90625 5.296875 6.90625 \nQ 6.5 7.90625 8.203125 7.90625 \nQ 10.703125 7.90625 14.296875 5.296875 \nQ 18.703125 2.203125 22.90625 2.203125 \nQ 28.40625 2.203125 32.15625 6.640625 \nQ 35.90625 11.09375 35.90625 17.5 \nQ 35.90625 29 25.5 32 \nQ 22.40625 33 15.296875 33 \nL 15.296875 34.40625 \nQ 20.90625 36.296875 23.703125 38 \nQ 31.796875 42.59375 31.796875 51.40625 \nQ 31.796875 56.40625 28.9375 59 \nQ 26.09375 61.59375 21 61.59375 \nQ 12 61.59375 6.09375 51 \nz\n\" id=\"STIXGeneral-Regular-51\"/>\n       </defs>\n       <use xlink:href=\"#STIXGeneral-Regular-51\"/>\n      </g>\n     </g>\n    </g>\n    <g id=\"xtick_5\">\n     <g id=\"line2d_5\">\n      <g>\n       <use style=\"stroke:#000000;stroke-width:0.8;\" x=\"373.409659\" xlink:href=\"#m929cc14039\" y=\"301.39125\"/>\n      </g>\n     </g>\n     <g id=\"text_5\">\n      <!-- 4 -->\n      <g transform=\"translate(371.409659 313.855)scale(0.08 -0.08)\">\n       <defs>\n        <path d=\"M 47.296875 16.703125 \nL 37 16.703125 \nL 37 0 \nL 29.203125 0 \nL 29.203125 16.703125 \nL 1.203125 16.703125 \nL 1.203125 23.09375 \nL 32.59375 67.59375 \nL 37 67.59375 \nL 37 23.09375 \nL 47.296875 23.09375 \nz\nM 29.203125 23.09375 \nL 29.203125 57.40625 \nL 5.203125 23.09375 \nz\n\" id=\"STIXGeneral-Regular-52\"/>\n       </defs>\n       <use xlink:href=\"#STIXGeneral-Regular-52\"/>\n      </g>\n     </g>\n    </g>\n    <g id=\"xtick_6\">\n     <g id=\"line2d_6\">\n      <g>\n       <use style=\"stroke:#000000;stroke-width:0.8;\" x=\"449.500568\" xlink:href=\"#m929cc14039\" y=\"301.39125\"/>\n      </g>\n     </g>\n     <g id=\"text_6\">\n      <!-- 5 -->\n      <g transform=\"translate(447.500568 313.855)scale(0.08 -0.08)\">\n       <defs>\n        <path d=\"M 43.796875 68.09375 \nL 40.203125 59.59375 \nQ 39.59375 58.296875 37.5 58.296875 \nL 18.09375 58.296875 \nL 14.09375 49.796875 \nQ 25.09375 47.703125 30 45.25 \nQ 34.90625 42.796875 39.09375 37 \nQ 42.59375 32.203125 42.59375 24.296875 \nQ 42.59375 17.09375 40.25 12.1875 \nQ 37.90625 7.296875 32.796875 3.5 \nQ 26 -1.40625 15.796875 -1.40625 \nQ 10.09375 -1.40625 6.59375 0.296875 \nQ 3.09375 2 3.09375 4.796875 \nQ 3.09375 8.59375 7.59375 8.59375 \nQ 11.203125 8.59375 15 5.5 \nQ 18.90625 2.296875 22.09375 2.296875 \nQ 27.296875 2.296875 31.4375 7.5 \nQ 35.59375 12.703125 35.59375 19.203125 \nQ 35.59375 28.796875 28.90625 34.203125 \nQ 20.203125 41.203125 7.59375 41.203125 \nQ 6.40625 41.203125 6.40625 42 \nL 6.5 42.5 \nL 17.40625 66.203125 \nL 38.09375 66.203125 \nQ 39.796875 66.203125 40.75 66.703125 \nQ 41.703125 67.203125 42.90625 68.796875 \nz\n\" id=\"STIXGeneral-Regular-53\"/>\n       </defs>\n       <use xlink:href=\"#STIXGeneral-Regular-53\"/>\n      </g>\n     </g>\n    </g>\n    <g id=\"xtick_7\">\n     <g id=\"line2d_7\">\n      <g>\n       <use style=\"stroke:#000000;stroke-width:0.8;\" x=\"525.591477\" xlink:href=\"#m929cc14039\" y=\"301.39125\"/>\n      </g>\n     </g>\n     <g id=\"text_7\">\n      <!-- 6 -->\n      <g transform=\"translate(523.591477 313.855)scale(0.08 -0.08)\">\n       <defs>\n        <path d=\"M 44.59375 68.40625 \nL 44.796875 66.796875 \nQ 33 64.90625 25.09375 57.25 \nQ 17.203125 49.59375 15.203125 38.296875 \nQ 21 42.796875 27.90625 42.796875 \nQ 36.703125 42.796875 41.75 37.1875 \nQ 46.796875 31.59375 46.796875 21.90625 \nQ 46.796875 12.09375 41.703125 5.90625 \nQ 35.796875 -1.40625 25.796875 -1.40625 \nQ 13.59375 -1.40625 8.09375 8.703125 \nQ 3.40625 17.296875 3.40625 27.90625 \nQ 3.40625 44.296875 14.296875 55.5 \nQ 20.5 61.90625 27.046875 64.546875 \nQ 33.59375 67.203125 44.59375 68.40625 \nz\nM 37.796875 18.796875 \nQ 37.796875 38.203125 24.296875 38.203125 \nQ 19.296875 38.203125 16 35.546875 \nQ 12.703125 32.90625 12.703125 26.59375 \nQ 12.703125 14.90625 16.34375 8.15625 \nQ 20 1.40625 26.90625 1.40625 \nQ 32.203125 1.40625 35 6.15625 \nQ 37.796875 10.90625 37.796875 18.796875 \nz\n\" id=\"STIXGeneral-Regular-54\"/>\n       </defs>\n       <use xlink:href=\"#STIXGeneral-Regular-54\"/>\n      </g>\n     </g>\n    </g>\n    <g id=\"text_8\">\n     <!-- Time t -->\n     <g transform=\"translate(270.929688 333.250625)scale(0.2 -0.2)\">\n      <defs>\n       <path d=\"M 59.296875 49.203125 \nL 56.90625 49.203125 \nQ 55.296875 57.40625 52.390625 59.703125 \nQ 49.5 62 41.5 62 \nL 35.59375 62 \nL 35.59375 11.09375 \nQ 35.59375 5.40625 37.296875 3.796875 \nQ 39 2.203125 45.203125 1.90625 \nL 45.203125 0 \nL 16 0 \nL 16 1.90625 \nQ 22.296875 2.296875 23.84375 4 \nQ 25.40625 5.703125 25.40625 12.296875 \nL 25.40625 62 \nL 19.40625 62 \nQ 11.296875 62 8.4375 59.640625 \nQ 5.59375 57.296875 4.09375 49.203125 \nL 1.703125 49.203125 \nL 2.40625 66.203125 \nL 58.59375 66.203125 \nz\n\" id=\"STIXGeneral-Regular-84\"/>\n       <path d=\"M 18 63.203125 \nQ 18 61 16.5 59.546875 \nQ 15 58.09375 12.796875 58.09375 \nQ 10.703125 58.09375 9.25 59.546875 \nQ 7.796875 61 7.796875 63.203125 \nQ 7.796875 65.296875 9.296875 66.796875 \nQ 10.796875 68.296875 12.90625 68.296875 \nQ 15.09375 68.296875 16.546875 66.796875 \nQ 18 65.296875 18 63.203125 \nz\nM 25.296875 0 \nL 1.59375 0 \nL 1.59375 1.5 \nQ 6.796875 1.796875 8.140625 3.296875 \nQ 9.5 4.796875 9.5 10.40625 \nL 9.5 33.09375 \nQ 9.5 36.59375 8.796875 38 \nQ 8.09375 39.40625 6.203125 39.40625 \nQ 3.796875 39.40625 2 38.90625 \nL 2 40.5 \nL 17.5 46 \nL 17.90625 45.59375 \nL 17.90625 10.5 \nQ 17.90625 4.90625 19.15625 3.40625 \nQ 20.40625 1.90625 25.296875 1.5 \nz\n\" id=\"STIXGeneral-Regular-105\"/>\n       <path d=\"M 77.5 0 \nL 55.703125 0 \nL 55.703125 1.5 \nQ 59.90625 1.90625 61.046875 3.25 \nQ 62.203125 4.59375 62.203125 9 \nL 62.203125 29.59375 \nQ 62.203125 35.59375 60.453125 38.1875 \nQ 58.703125 40.796875 54.5 40.796875 \nQ 51 40.796875 48.546875 39.390625 \nQ 46.09375 38 43.796875 34.703125 \nL 43.796875 9.5 \nQ 43.796875 4.703125 45.25 3.140625 \nQ 46.703125 1.59375 51 1.5 \nL 51 0 \nL 28.59375 0 \nL 28.59375 1.5 \nQ 33 1.796875 34.203125 2.9375 \nQ 35.40625 4.09375 35.40625 8.59375 \nL 35.40625 29.703125 \nQ 35.40625 40.796875 28.90625 40.796875 \nQ 26.09375 40.796875 22.9375 39.546875 \nQ 19.796875 38.296875 18.296875 36.5 \nQ 17 35 17 34.796875 \nL 17 7 \nQ 17 3.796875 18.390625 2.75 \nQ 19.796875 1.703125 23.796875 1.5 \nL 23.796875 0 \nL 1.59375 0 \nL 1.59375 1.5 \nQ 5.796875 1.59375 7.1875 3.046875 \nQ 8.59375 4.5 8.59375 8.796875 \nL 8.59375 33.59375 \nQ 8.59375 37.296875 7.796875 38.75 \nQ 7 40.203125 5.09375 40.203125 \nQ 3.59375 40.203125 1.90625 39.796875 \nL 1.90625 41.5 \nQ 8.703125 43.40625 15.796875 46 \nL 16.59375 45.703125 \nL 16.59375 38.296875 \nL 16.796875 38.296875 \nQ 21.296875 43 24.75 44.5 \nQ 28.203125 46 32.09375 46 \nQ 40 46 42.703125 37.59375 \nQ 50.5 46 59 46 \nQ 70.59375 46 70.59375 28 \nL 70.59375 7.703125 \nQ 70.59375 4.40625 71.59375 3.15625 \nQ 72.59375 1.90625 74.90625 1.703125 \nL 77.5 1.5 \nz\n\" id=\"STIXGeneral-Regular-109\"/>\n       <path d=\"M 40.796875 16.40625 \nL 42.40625 15.703125 \nQ 36.40625 -1 21.5 -1 \nQ 12.703125 -1 7.59375 5.140625 \nQ 2.5 11.296875 2.5 21.703125 \nQ 2.5 32.40625 8.203125 39.203125 \nQ 13.90625 46 23.203125 46 \nQ 32.203125 46 37.09375 39.09375 \nQ 40 35.09375 40.5 27.703125 \nL 9.703125 27.703125 \nQ 10.09375 21.40625 10.9375 18.09375 \nQ 11.796875 14.796875 14.296875 11.40625 \nQ 18.5 5.90625 25.40625 5.90625 \nQ 30.296875 5.90625 33.640625 8.296875 \nQ 37 10.703125 40.796875 16.40625 \nz\nM 9.90625 30.90625 \nL 30.296875 30.90625 \nQ 29.40625 37.203125 27.34375 39.796875 \nQ 25.296875 42.40625 20.5 42.40625 \nQ 16.296875 42.40625 13.5 39.453125 \nQ 10.703125 36.5 9.90625 30.90625 \nz\n\" id=\"STIXGeneral-Regular-101\"/>\n       <path id=\"STIXGeneral-Regular-32\"/>\n       <path d=\"M 26.59375 7.703125 \nL 27.90625 6.59375 \nQ 23.09375 -1 15.796875 -1 \nQ 7 -1 7 11.703125 \nL 7 41.796875 \nL 1.703125 41.796875 \nQ 1.296875 42.09375 1.296875 42.5 \nQ 1.296875 43.296875 3 44.40625 \nQ 6.796875 46.59375 12.703125 55.09375 \nQ 12.90625 55.40625 13.65625 56.34375 \nQ 14.40625 57.296875 14.703125 57.90625 \nQ 15.40625 57.90625 15.40625 56.59375 \nL 15.40625 45 \nL 25.5 45 \nL 25.5 41.796875 \nL 15.40625 41.796875 \nL 15.40625 13.203125 \nQ 15.40625 8.40625 16.59375 6.296875 \nQ 17.796875 4.203125 20.59375 4.203125 \nQ 23.59375 4.203125 26.59375 7.703125 \nz\n\" id=\"STIXGeneral-Regular-116\"/>\n      </defs>\n      <use xlink:href=\"#STIXGeneral-Regular-84\"/>\n      <use x=\"61.099991\" xlink:href=\"#STIXGeneral-Regular-105\"/>\n      <use x=\"88.899979\" xlink:href=\"#STIXGeneral-Regular-109\"/>\n      <use x=\"166.699966\" xlink:href=\"#STIXGeneral-Regular-101\"/>\n      <use x=\"211.09996\" xlink:href=\"#STIXGeneral-Regular-32\"/>\n      <use x=\"236.099945\" xlink:href=\"#STIXGeneral-Regular-116\"/>\n     </g>\n    </g>\n   </g>\n   <g id=\"matplotlib.axis_2\">\n    <g id=\"ytick_1\">\n     <g id=\"line2d_8\">\n      <defs>\n       <path d=\"M 0 0 \nL -3.5 0 \n\" id=\"meeaad1d8da\" style=\"stroke:#000000;stroke-width:0.8;\"/>\n      </defs>\n      <g>\n       <use style=\"stroke:#000000;stroke-width:0.8;\" x=\"46.21875\" xlink:href=\"#meeaad1d8da\" y=\"289.036705\"/>\n      </g>\n     </g>\n     <g id=\"text_9\">\n      <!-- 0.0 -->\n      <g transform=\"translate(29.21875 291.76858)scale(0.08 -0.08)\">\n       <defs>\n        <path d=\"M 18.09375 4.296875 \nQ 18.09375 2.09375 16.4375 0.5 \nQ 14.796875 -1.09375 12.5 -1.09375 \nQ 10.203125 -1.09375 8.59375 0.5 \nQ 7 2.09375 7 4.390625 \nQ 7 6.703125 8.640625 8.34375 \nQ 10.296875 10 12.59375 10 \nQ 14.796875 10 16.4375 8.296875 \nQ 18.09375 6.59375 18.09375 4.296875 \nz\n\" id=\"STIXGeneral-Regular-46\"/>\n       </defs>\n       <use xlink:href=\"#STIXGeneral-Regular-48\"/>\n       <use x=\"49.999985\" xlink:href=\"#STIXGeneral-Regular-46\"/>\n       <use x=\"74.999969\" xlink:href=\"#STIXGeneral-Regular-48\"/>\n      </g>\n     </g>\n    </g>\n    <g id=\"ytick_2\">\n     <g id=\"line2d_9\">\n      <g>\n       <use style=\"stroke:#000000;stroke-width:0.8;\" x=\"46.21875\" xlink:href=\"#meeaad1d8da\" y=\"239.618523\"/>\n      </g>\n     </g>\n     <g id=\"text_10\">\n      <!-- 0.2 -->\n      <g transform=\"translate(29.21875 242.350398)scale(0.08 -0.08)\">\n       <use xlink:href=\"#STIXGeneral-Regular-48\"/>\n       <use x=\"49.999985\" xlink:href=\"#STIXGeneral-Regular-46\"/>\n       <use x=\"74.999969\" xlink:href=\"#STIXGeneral-Regular-50\"/>\n      </g>\n     </g>\n    </g>\n    <g id=\"ytick_3\">\n     <g id=\"line2d_10\">\n      <g>\n       <use style=\"stroke:#000000;stroke-width:0.8;\" x=\"46.21875\" xlink:href=\"#meeaad1d8da\" y=\"190.200341\"/>\n      </g>\n     </g>\n     <g id=\"text_11\">\n      <!-- 0.4 -->\n      <g transform=\"translate(29.21875 192.932216)scale(0.08 -0.08)\">\n       <use xlink:href=\"#STIXGeneral-Regular-48\"/>\n       <use x=\"49.999985\" xlink:href=\"#STIXGeneral-Regular-46\"/>\n       <use x=\"74.999969\" xlink:href=\"#STIXGeneral-Regular-52\"/>\n      </g>\n     </g>\n    </g>\n    <g id=\"ytick_4\">\n     <g id=\"line2d_11\">\n      <g>\n       <use style=\"stroke:#000000;stroke-width:0.8;\" x=\"46.21875\" xlink:href=\"#meeaad1d8da\" y=\"140.782159\"/>\n      </g>\n     </g>\n     <g id=\"text_12\">\n      <!-- 0.6 -->\n      <g transform=\"translate(29.21875 143.514034)scale(0.08 -0.08)\">\n       <use xlink:href=\"#STIXGeneral-Regular-48\"/>\n       <use x=\"49.999985\" xlink:href=\"#STIXGeneral-Regular-46\"/>\n       <use x=\"74.999969\" xlink:href=\"#STIXGeneral-Regular-54\"/>\n      </g>\n     </g>\n    </g>\n    <g id=\"ytick_5\">\n     <g id=\"line2d_12\">\n      <g>\n       <use style=\"stroke:#000000;stroke-width:0.8;\" x=\"46.21875\" xlink:href=\"#meeaad1d8da\" y=\"91.363977\"/>\n      </g>\n     </g>\n     <g id=\"text_13\">\n      <!-- 0.8 -->\n      <g transform=\"translate(29.21875 94.095852)scale(0.08 -0.08)\">\n       <defs>\n        <path d=\"M 44.5 15.5 \nQ 44.5 7.796875 39.140625 3.1875 \nQ 33.796875 -1.40625 24.796875 -1.40625 \nQ 16.40625 -1.40625 11 3.1875 \nQ 5.59375 7.796875 5.59375 14.90625 \nQ 5.59375 20.203125 8.1875 23.953125 \nQ 10.796875 27.703125 18.59375 33.203125 \nQ 11.09375 39.40625 8.640625 43.203125 \nQ 6.203125 47 6.203125 52 \nQ 6.203125 59.09375 11.640625 63.34375 \nQ 17.09375 67.59375 25.59375 67.59375 \nQ 32.90625 67.59375 37.65625 63.4375 \nQ 42.40625 59.296875 42.40625 53.296875 \nQ 42.40625 47.796875 39.546875 44.5 \nQ 36.703125 41.203125 29 37.09375 \nQ 38 31.09375 41.25 26.390625 \nQ 44.5 21.703125 44.5 15.5 \nz\nM 35.5 53.296875 \nQ 35.5 58.5 32.59375 61.640625 \nQ 29.703125 64.796875 24.59375 64.796875 \nQ 19.5 64.796875 16.546875 62.140625 \nQ 13.59375 59.5 13.59375 54.890625 \nQ 13.59375 50.296875 16.546875 46.546875 \nQ 19.5 42.796875 26.09375 38.90625 \nQ 31.203125 41.90625 33.34375 45.25 \nQ 35.5 48.59375 35.5 53.296875 \nz\nM 27.09375 27.203125 \nL 21.203125 31.203125 \nQ 16.796875 27.59375 15 24.140625 \nQ 13.203125 20.703125 13.203125 15.796875 \nQ 13.203125 9 16.640625 5.203125 \nQ 20.09375 1.40625 25.90625 1.40625 \nQ 30.796875 1.40625 33.84375 4.453125 \nQ 36.90625 7.5 36.90625 12.40625 \nQ 36.90625 16.90625 34.59375 20.296875 \nQ 32.296875 23.703125 27.09375 27.203125 \nz\n\" id=\"STIXGeneral-Regular-56\"/>\n       </defs>\n       <use xlink:href=\"#STIXGeneral-Regular-48\"/>\n       <use x=\"49.999985\" xlink:href=\"#STIXGeneral-Regular-46\"/>\n       <use x=\"74.999969\" xlink:href=\"#STIXGeneral-Regular-56\"/>\n      </g>\n     </g>\n    </g>\n    <g id=\"ytick_6\">\n     <g id=\"line2d_13\">\n      <g>\n       <use style=\"stroke:#000000;stroke-width:0.8;\" x=\"46.21875\" xlink:href=\"#meeaad1d8da\" y=\"41.945795\"/>\n      </g>\n     </g>\n     <g id=\"text_14\">\n      <!-- 1.0 -->\n      <g transform=\"translate(29.21875 44.67767)scale(0.08 -0.08)\">\n       <use xlink:href=\"#STIXGeneral-Regular-49\"/>\n       <use x=\"49.999985\" xlink:href=\"#STIXGeneral-Regular-46\"/>\n       <use x=\"74.999969\" xlink:href=\"#STIXGeneral-Regular-48\"/>\n      </g>\n     </g>\n    </g>\n    <g id=\"text_15\">\n     <!-- Probability P(t) -->\n     <g transform=\"translate(20.859375 227.46)rotate(-90)scale(0.2 -0.2)\">\n      <defs>\n       <path d=\"M 1.59375 66.203125 \nL 27.5 66.203125 \nQ 41.703125 66.203125 49.203125 59.90625 \nQ 54.203125 55.703125 54.203125 48 \nQ 54.203125 40 48.5 34.90625 \nQ 44.296875 31.09375 39.890625 29.9375 \nQ 35.5 28.796875 27.09375 28.796875 \nQ 24.203125 28.796875 20.203125 29.09375 \nL 20.203125 11.203125 \nQ 20.203125 5.5 21.84375 3.84375 \nQ 23.5 2.203125 29.59375 1.90625 \nL 29.59375 0 \nL 1.59375 0 \nL 1.59375 1.90625 \nQ 7.40625 2.296875 8.703125 4 \nQ 10 5.703125 10 12.203125 \nL 10 55.09375 \nQ 10 60.703125 8.546875 62.296875 \nQ 7.09375 63.90625 1.59375 64.296875 \nz\nM 20.203125 58.90625 \nL 20.203125 33.09375 \nQ 23.59375 32.796875 26.296875 32.796875 \nQ 34.40625 32.796875 38.84375 36.75 \nQ 43.296875 40.703125 43.296875 47.5 \nQ 43.296875 55.59375 38.6875 59.046875 \nQ 34.09375 62.5 23.703125 62.5 \nQ 21.59375 62.5 20.890625 61.75 \nQ 20.203125 61 20.203125 58.90625 \nz\n\" id=\"STIXGeneral-Regular-80\"/>\n       <path d=\"M 16 45.796875 \nL 16 36.59375 \nQ 19.796875 42 22.34375 44 \nQ 24.90625 46 28 46 \nQ 30.59375 46 32.046875 44.59375 \nQ 33.5 43.203125 33.5 40.703125 \nQ 33.5 38.59375 32.453125 37.390625 \nQ 31.40625 36.203125 29.59375 36.203125 \nQ 27.703125 36.203125 25.59375 38.203125 \nQ 24 39.703125 23 39.703125 \nQ 20.90625 39.703125 18.453125 36.796875 \nQ 16 33.90625 16 31.5 \nL 16 9 \nQ 16 4.703125 17.703125 3.203125 \nQ 19.40625 1.703125 24.5 1.5 \nL 24.5 0 \nL 0.5 0 \nL 0.5 1.5 \nQ 5.296875 2.40625 6.4375 3.5 \nQ 7.59375 4.59375 7.59375 8.40625 \nL 7.59375 33.40625 \nQ 7.59375 36.703125 6.84375 38.046875 \nQ 6.09375 39.40625 4.203125 39.40625 \nQ 2.59375 39.40625 0.703125 39 \nL 0.703125 40.59375 \nQ 7 42.59375 15.5 46 \nz\n\" id=\"STIXGeneral-Regular-114\"/>\n       <path d=\"M 47 23.09375 \nQ 47 12.59375 40.75 5.796875 \nQ 34.5 -1 24.5 -1 \nQ 15.296875 -1 9.09375 5.75 \nQ 2.90625 12.5 2.90625 22.796875 \nQ 2.90625 33.203125 9.09375 39.59375 \nQ 15.296875 46 25.40625 46 \nQ 34.703125 46 40.84375 39.640625 \nQ 47 33.296875 47 23.09375 \nz\nM 38 20.40625 \nQ 38 31.796875 33 38.203125 \nQ 29 43.203125 23.5 43.203125 \nQ 18.296875 43.203125 15.09375 38.953125 \nQ 11.90625 34.703125 11.90625 27.296875 \nQ 11.90625 14.5 17.203125 6.796875 \nQ 20.59375 1.796875 26.203125 1.796875 \nQ 31.703125 1.796875 34.84375 6.75 \nQ 38 11.703125 38 20.40625 \nz\n\" id=\"STIXGeneral-Regular-111\"/>\n       <path d=\"M 15.296875 68.09375 \nL 15.296875 37.59375 \nQ 16.90625 41.40625 20.546875 43.703125 \nQ 24.203125 46 28.796875 46 \nQ 36.703125 46 41.75 39.703125 \nQ 46.796875 33.40625 46.796875 24 \nQ 46.796875 13 40.09375 6 \nQ 33.40625 -1 23.40625 -1 \nQ 17.296875 -1 12.09375 1.046875 \nQ 6.90625 3.09375 6.90625 5.59375 \nL 6.90625 56.59375 \nQ 6.90625 60.296875 6 61.34375 \nQ 5.09375 62.40625 2 62.40625 \nQ 1.296875 62.40625 0.296875 62.203125 \nL 0.296875 63.90625 \nL 3.296875 64.796875 \nQ 13.5 67.90625 14.796875 68.296875 \nz\nM 15.296875 31.796875 \nL 15.296875 7.40625 \nQ 15.296875 5.09375 18.140625 3.640625 \nQ 21 2.203125 25 2.203125 \nQ 30.90625 2.203125 34.296875 6.5 \nQ 38 11.09375 38 19.703125 \nQ 38 29.5 34.09375 35 \nQ 30.796875 39.703125 25.203125 39.703125 \nQ 21.203125 39.703125 18.25 37.34375 \nQ 15.296875 35 15.296875 31.796875 \nz\n\" id=\"STIXGeneral-Regular-98\"/>\n       <path d=\"M 44.203125 6.59375 \nL 44.203125 3.796875 \nQ 40.40625 -1 35.203125 -1 \nQ 29.5 -1 28.796875 6.296875 \nL 28.703125 6.296875 \nQ 22.296875 -1 14.203125 -1 \nQ 9.5 -1 6.59375 1.75 \nQ 3.703125 4.5 3.703125 9.40625 \nQ 3.703125 16.40625 10.703125 21.09375 \nQ 15.5 24.296875 28.703125 29.203125 \nL 28.703125 34.59375 \nQ 28.703125 39.09375 26.546875 41.34375 \nQ 24.40625 43.59375 20.90625 43.59375 \nQ 17.90625 43.59375 15.90625 42.140625 \nQ 13.90625 40.703125 13.90625 38.703125 \nQ 13.90625 37.796875 14.203125 36.6875 \nQ 14.5 35.59375 14.5 34.5 \nQ 14.5 33 13.140625 31.703125 \nQ 11.796875 30.40625 9.90625 30.40625 \nQ 8.203125 30.40625 6.890625 31.703125 \nQ 5.59375 33 5.59375 35 \nQ 5.59375 39.796875 10.703125 43 \nQ 15.40625 46 22.203125 46 \nQ 30.296875 46 34 41.5 \nQ 35.796875 39.40625 36.296875 37.25 \nQ 36.796875 35.09375 36.796875 30.40625 \nL 36.796875 11.296875 \nQ 36.796875 4.703125 39.90625 4.703125 \nQ 41.90625 4.703125 44.203125 6.59375 \nz\nM 28.703125 12.703125 \nL 28.703125 26.796875 \nQ 19.5 23.59375 15.90625 20.203125 \nQ 12.5 17.09375 12.5 12.5 \nQ 12.5 8.703125 14.390625 6.75 \nQ 16.296875 4.796875 19.40625 4.796875 \nQ 22.703125 4.796875 25.203125 6.40625 \nQ 27.296875 7.90625 28 9.203125 \nQ 28.703125 10.5 28.703125 12.703125 \nz\n\" id=\"STIXGeneral-Regular-97\"/>\n       <path d=\"M 25.703125 0 \nL 2.09375 0 \nL 2.09375 1.5 \nQ 6.796875 1.90625 8.296875 3.453125 \nQ 9.796875 5 9.796875 9.203125 \nL 9.796875 56.09375 \nQ 9.796875 59.703125 8.890625 61.09375 \nQ 8 62.5 5.59375 62.5 \nQ 3.5 62.5 1.90625 62.296875 \nL 1.90625 63.90625 \nQ 11.40625 66.203125 17.703125 68.296875 \nL 18.203125 67.90625 \nL 18.203125 8.703125 \nQ 18.203125 4.5 19.59375 3.140625 \nQ 21 1.796875 25.703125 1.5 \nz\n\" id=\"STIXGeneral-Regular-108\"/>\n       <path d=\"M 47.5 45 \nL 47.5 43.5 \nQ 45.703125 43.296875 44.59375 42.1875 \nQ 43.5 41.09375 42.5 38.40625 \nL 27.5 -2.5 \nQ 23.59375 -13.09375 19.640625 -17.4375 \nQ 15.703125 -21.796875 10 -21.796875 \nQ 6.796875 -21.796875 4.890625 -20.140625 \nQ 3 -18.5 3 -16 \nQ 3 -14.09375 4.25 -12.75 \nQ 5.5 -11.40625 7.296875 -11.40625 \nQ 10.203125 -11.40625 12.5 -12.703125 \nQ 13.796875 -13.40625 15.09375 -13.40625 \nQ 17.203125 -13.40625 20.09375 -9 \nQ 21.5 -7 22.796875 -3.296875 \nQ 24.09375 0.40625 24.09375 1.796875 \nQ 24.09375 3.09375 19.90625 11.90625 \nL 6.703125 40.09375 \nQ 5.40625 43 1.40625 43.59375 \nL 1.40625 45 \nL 21.90625 45 \nL 21.90625 43.5 \nQ 18.703125 43.40625 17.453125 42.796875 \nQ 16.203125 42.203125 16.203125 40.796875 \nQ 16.203125 39.703125 17.5 36.703125 \nL 28.703125 11.703125 \nL 38.40625 39.296875 \nQ 38.796875 40.203125 38.796875 41.09375 \nQ 38.796875 43.5 34.203125 43.5 \nL 34.203125 45 \nz\n\" id=\"STIXGeneral-Regular-121\"/>\n       <path d=\"M 30.40625 -16.09375 \nL 29.203125 -17.703125 \nQ 17.59375 -11.09375 11.1875 0.5 \nQ 4.796875 12.09375 4.796875 25.203125 \nQ 4.796875 52.90625 29.5 67.59375 \nL 30.40625 66 \nQ 20.203125 57.296875 16.796875 48.84375 \nQ 13.40625 40.40625 13.40625 25.5 \nQ 13.40625 10.703125 16.90625 1.5 \nQ 20.40625 -7.703125 30.40625 -16.09375 \nz\n\" id=\"STIXGeneral-Regular-40\"/>\n       <path d=\"M 2.90625 66 \nL 4.09375 67.59375 \nQ 15.5 60.796875 22 49.1875 \nQ 28.5 37.59375 28.5 24.703125 \nQ 28.5 -2.59375 3.796875 -17.703125 \nL 2.90625 -16.09375 \nQ 13.203125 -7.59375 16.546875 0.84375 \nQ 19.90625 9.296875 19.90625 24.40625 \nQ 19.90625 39.59375 16.546875 48.75 \nQ 13.203125 57.90625 2.90625 66 \nz\n\" id=\"STIXGeneral-Regular-41\"/>\n      </defs>\n      <use xlink:href=\"#STIXGeneral-Regular-80\"/>\n      <use x=\"55.699997\" xlink:href=\"#STIXGeneral-Regular-114\"/>\n      <use x=\"88.999985\" xlink:href=\"#STIXGeneral-Regular-111\"/>\n      <use x=\"138.999969\" xlink:href=\"#STIXGeneral-Regular-98\"/>\n      <use x=\"188.999954\" xlink:href=\"#STIXGeneral-Regular-97\"/>\n      <use x=\"233.399948\" xlink:href=\"#STIXGeneral-Regular-98\"/>\n      <use x=\"283.399933\" xlink:href=\"#STIXGeneral-Regular-105\"/>\n      <use x=\"311.199921\" xlink:href=\"#STIXGeneral-Regular-108\"/>\n      <use x=\"338.999908\" xlink:href=\"#STIXGeneral-Regular-105\"/>\n      <use x=\"366.799896\" xlink:href=\"#STIXGeneral-Regular-116\"/>\n      <use x=\"394.599884\" xlink:href=\"#STIXGeneral-Regular-121\"/>\n      <use x=\"444.599869\" xlink:href=\"#STIXGeneral-Regular-32\"/>\n      <use x=\"469.599854\" xlink:href=\"#STIXGeneral-Regular-80\"/>\n      <use x=\"525.29985\" xlink:href=\"#STIXGeneral-Regular-40\"/>\n      <use x=\"558.599838\" xlink:href=\"#STIXGeneral-Regular-116\"/>\n      <use x=\"586.399826\" xlink:href=\"#STIXGeneral-Regular-41\"/>\n     </g>\n    </g>\n   </g>\n   <g id=\"line2d_14\">\n    <path clip-path=\"url(#p7a5726cb0b)\" d=\"M 69.046023 41.945795 \nL 76.655114 42.768517 \nL 84.264205 45.217568 \nL 91.873295 49.245092 \nL 99.482386 54.788624 \nL 107.091477 61.773438 \nL 114.700568 70.110927 \nL 122.309659 79.701424 \nL 129.91875 90.431385 \nL 137.527841 102.162098 \nL 145.136932 114.727519 \nL 152.746023 127.948118 \nL 160.355114 141.643527 \nL 167.964205 155.633645 \nL 175.573295 169.738195 \nL 183.182386 183.779379 \nL 190.791477 197.579367 \nL 198.400568 210.954426 \nL 206.009659 223.7184 \nL 213.61875 235.694762 \nL 221.227841 246.723747 \nL 228.836932 256.661747 \nL 236.446023 265.380843 \nL 244.055114 272.769652 \nL 251.664205 278.732019 \nL 259.273295 283.186636 \nL 266.882386 286.071185 \nL 274.491477 287.346673 \nL 282.100568 286.997602 \nL 289.709659 285.030105 \nL 297.31875 281.470279 \nL 304.927841 276.36289 \nL 312.536932 269.772486 \nL 320.146023 261.786646 \nL 327.755114 252.515588 \nL 335.364205 242.086502 \nL 342.973295 230.638901 \nL 350.582386 218.323062 \nL 358.191477 205.297242 \nL 365.800568 191.725863 \nL 373.409659 177.784291 \nL 381.01875 163.663141 \nL 388.627841 149.560819 \nL 396.236932 135.670479 \nL 403.846023 122.175189 \nL 411.455114 109.2487 \nL 419.064205 97.052978 \nL 426.673295 85.738555 \nL 434.282386 75.45331 \nL 441.891477 66.345596 \nL 449.500568 58.550947 \nL 457.109659 52.177546 \nL 464.71875 47.305651 \nL 472.327841 43.991857 \nL 479.936932 42.268642 \nL 487.546023 42.148614 \nL 495.155114 43.635839 \nL 502.764205 46.726442 \nL 510.373295 51.39345 \nL 517.982386 57.576483 \nL 525.591477 65.187015 \n\" style=\"fill:none;stroke:#1f77b4;stroke-linecap:square;stroke-width:1.5;\"/>\n   </g>\n   <g id=\"patch_3\">\n    <path d=\"M 46.21875 301.39125 \nL 46.21875 29.59125 \n\" style=\"fill:none;stroke:#000000;stroke-linecap:square;stroke-linejoin:miter;stroke-width:0.8;\"/>\n   </g>\n   <g id=\"patch_4\">\n    <path d=\"M 548.41875 301.39125 \nL 548.41875 29.59125 \n\" style=\"fill:none;stroke:#000000;stroke-linecap:square;stroke-linejoin:miter;stroke-width:0.8;\"/>\n   </g>\n   <g id=\"patch_5\">\n    <path d=\"M 46.21875 301.39125 \nL 548.41875 301.39125 \n\" style=\"fill:none;stroke:#000000;stroke-linecap:square;stroke-linejoin:miter;stroke-width:0.8;\"/>\n   </g>\n   <g id=\"patch_6\">\n    <path d=\"M 46.21875 29.59125 \nL 548.41875 29.59125 \n\" style=\"fill:none;stroke:#000000;stroke-linecap:square;stroke-linejoin:miter;stroke-width:0.8;\"/>\n   </g>\n   <g id=\"text_16\">\n    <!-- Probability of observing initial state -->\n    <g transform=\"translate(124.63875 23.59125)scale(0.24 -0.24)\">\n     <defs>\n      <path d=\"M 2.09375 45 \nL 10.296875 45 \nQ 10.40625 51 11.09375 54.34375 \nQ 11.796875 57.703125 13.796875 61.09375 \nQ 18 68.296875 27.90625 68.296875 \nQ 32.40625 68.296875 35.34375 66.546875 \nQ 38.296875 64.796875 38.296875 62.09375 \nQ 38.296875 60.40625 37.09375 59.203125 \nQ 35.90625 58 34.09375 58 \nQ 31.703125 58 29.59375 61.59375 \nQ 27.203125 65.5 24.296875 65.5 \nQ 18.703125 65.5 18.703125 56.59375 \nL 18.703125 45 \nL 30.90625 45 \nL 30.90625 41.796875 \nL 18.703125 41.796875 \nL 18.703125 10.40625 \nQ 18.703125 4.796875 20.296875 3.25 \nQ 21.90625 1.703125 28 1.5 \nL 28 0 \nL 2 0 \nL 2 1.5 \nQ 7.40625 1.796875 8.84375 3.34375 \nQ 10.296875 4.90625 10.296875 10.40625 \nL 10.296875 41.796875 \nL 2.09375 41.796875 \nz\n\" id=\"STIXGeneral-Regular-102\"/>\n      <path d=\"M 15.59375 30.09375 \nL 26 23.796875 \nQ 31 20.796875 32.890625 18.1875 \nQ 34.796875 15.59375 34.796875 11.5 \nQ 34.796875 6.5 30.640625 2.75 \nQ 26.5 -1 20.796875 -1 \nQ 16.09375 -1 13.5 -0.09375 \nQ 10.796875 0.796875 8.90625 0.796875 \nQ 7.203125 0.796875 6.5 -0.40625 \nL 5.203125 -0.40625 \nL 5.203125 15.296875 \nL 6.796875 15.296875 \nQ 8.40625 8 11.40625 4.59375 \nQ 14.40625 1.203125 19.5 1.203125 \nQ 23.203125 1.203125 25.5 3.296875 \nQ 27.796875 5.40625 27.796875 8.59375 \nQ 27.796875 13.203125 22.5 16.09375 \nL 17.09375 19.09375 \nQ 5.09375 25.796875 5.09375 33.59375 \nQ 5.09375 39.40625 8.84375 42.65625 \nQ 12.59375 45.90625 18.90625 45.90625 \nQ 23.296875 45.90625 25.59375 44.796875 \nQ 27.40625 44 28.40625 44 \nQ 29.09375 44 30 45 \nL 31.09375 45 \nL 31.59375 31.40625 \nL 30.09375 31.40625 \nQ 28.40625 38.203125 25.84375 40.953125 \nQ 23.296875 43.703125 18.796875 43.703125 \nQ 15.40625 43.703125 13.34375 42 \nQ 11.296875 40.296875 11.296875 36.90625 \nQ 11.296875 35.203125 12.4375 33.25 \nQ 13.59375 31.296875 15.59375 30.09375 \nz\n\" id=\"STIXGeneral-Regular-115\"/>\n      <path d=\"M 47.703125 45 \nL 47.703125 43.5 \nQ 45.40625 43.296875 44.296875 42 \nQ 43.203125 40.703125 41.203125 35.703125 \nL 28.40625 3.59375 \nQ 26.40625 -1.40625 25.59375 -1.40625 \nQ 24.796875 -1.40625 23.796875 1.203125 \nQ 23.59375 1.5 23.390625 2.203125 \nQ 23.203125 2.90625 23 3.296875 \nL 11 32 \nQ 7.796875 39.59375 6.296875 41.4375 \nQ 4.796875 43.296875 1.90625 43.5 \nL 1.90625 45 \nL 21.5 45 \nL 21.5 43.5 \nQ 18.90625 43.296875 17.90625 42.6875 \nQ 16.90625 42.09375 16.90625 40.796875 \nQ 16.90625 39.203125 17.796875 37 \nL 28 11.40625 \nL 37.90625 37.296875 \nQ 38.5 38.796875 38.5 40.296875 \nQ 38.5 43.09375 33.796875 43.5 \nL 33.796875 45 \nz\n\" id=\"STIXGeneral-Regular-118\"/>\n      <path d=\"M 48.5 0 \nL 27.703125 0 \nL 27.796875 1.5 \nQ 31.5 1.796875 32.75 3.640625 \nQ 34 5.5 34 10.5 \nL 34 30.40625 \nQ 34 40.5 26.703125 40.5 \nQ 24.203125 40.5 22 39.296875 \nQ 19.796875 38.09375 16.40625 34.796875 \nL 16.40625 7.203125 \nQ 16.40625 4.203125 17.75 3 \nQ 19.09375 1.796875 22.90625 1.5 \nL 22.90625 0 \nL 1.796875 0 \nL 1.796875 1.5 \nQ 5.59375 1.796875 6.796875 3.34375 \nQ 8 4.90625 8 9.40625 \nL 8 33.703125 \nQ 8 37.40625 7.296875 38.796875 \nQ 6.59375 40.203125 4.5 40.203125 \nQ 2.5 40.203125 1.59375 39.796875 \nL 1.59375 41.5 \nQ 8.59375 43.5 15.296875 46 \nL 16.09375 45.703125 \nL 16.09375 37.90625 \nL 16.203125 37.90625 \nQ 23.296875 46 30.59375 46 \nQ 36.296875 46 39.34375 42 \nQ 42.40625 38 42.40625 30.59375 \nL 42.40625 8.5 \nQ 42.40625 4.5 43.59375 3.203125 \nQ 44.796875 1.90625 48.5 1.5 \nz\n\" id=\"STIXGeneral-Regular-110\"/>\n      <path d=\"M 47 38.796875 \nL 38.703125 38.796875 \nQ 40.59375 34.5 40.59375 30.40625 \nQ 40.59375 22.703125 35.390625 18.796875 \nQ 30.203125 14.90625 25 14.90625 \nQ 23.90625 14.90625 21.203125 15.203125 \nL 19.296875 15.40625 \nQ 17.296875 14.796875 15.296875 12.6875 \nQ 13.296875 10.59375 13.296875 9.09375 \nQ 13.296875 6.796875 21.09375 6.40625 \nL 34 5.796875 \nQ 39.5 5.59375 42.796875 2.6875 \nQ 46.09375 -0.203125 46.09375 -4.90625 \nQ 46.09375 -10.703125 40.09375 -15.40625 \nQ 31.796875 -21.796875 20.09375 -21.796875 \nQ 12.90625 -21.796875 7.84375 -18.9375 \nQ 2.796875 -16.09375 2.796875 -12.09375 \nQ 2.796875 -9.296875 5 -6.546875 \nQ 7.203125 -3.796875 12.59375 0.09375 \nQ 9.40625 1.59375 8.34375 2.6875 \nQ 7.296875 3.796875 7.296875 5.40625 \nQ 7.296875 8.296875 11.90625 12.296875 \nQ 14.203125 14.296875 16.203125 16.296875 \nQ 11.203125 18.796875 9.046875 21.890625 \nQ 6.90625 25 6.90625 29.703125 \nQ 6.90625 36.5 11.75 41.25 \nQ 16.59375 46 23.59375 46 \nQ 27.59375 46 31.59375 44.5 \nL 33.796875 43.703125 \nQ 36.703125 42.703125 39.296875 42.703125 \nL 47 42.703125 \nz\nM 15.203125 33.796875 \nL 15.203125 33.5 \nQ 15.203125 26.296875 18.046875 21.84375 \nQ 20.90625 17.40625 25.5 17.40625 \nQ 28.90625 17.40625 30.90625 19.84375 \nQ 32.90625 22.296875 32.90625 26.40625 \nQ 32.90625 33 29.90625 38.5 \nQ 27.40625 43.203125 22.59375 43.203125 \nQ 19.09375 43.203125 17.140625 40.703125 \nQ 15.203125 38.203125 15.203125 33.796875 \nz\nM 43.296875 -6.40625 \nQ 43.296875 -3.59375 40.546875 -2.546875 \nQ 37.796875 -1.5 30.90625 -1.5 \nQ 21 -1.5 14.703125 -0.203125 \nQ 11.703125 -3.796875 10.75 -5.4375 \nQ 9.796875 -7.09375 9.796875 -8.796875 \nQ 9.796875 -12.09375 13.75 -14.09375 \nQ 17.703125 -16.09375 24.296875 -16.09375 \nQ 32.796875 -16.09375 38.046875 -13.4375 \nQ 43.296875 -10.796875 43.296875 -6.40625 \nz\n\" id=\"STIXGeneral-Regular-103\"/>\n     </defs>\n     <use xlink:href=\"#STIXGeneral-Regular-80\"/>\n     <use x=\"55.699997\" xlink:href=\"#STIXGeneral-Regular-114\"/>\n     <use x=\"88.999985\" xlink:href=\"#STIXGeneral-Regular-111\"/>\n     <use x=\"138.999969\" xlink:href=\"#STIXGeneral-Regular-98\"/>\n     <use x=\"188.999954\" xlink:href=\"#STIXGeneral-Regular-97\"/>\n     <use x=\"233.399948\" xlink:href=\"#STIXGeneral-Regular-98\"/>\n     <use x=\"283.399933\" xlink:href=\"#STIXGeneral-Regular-105\"/>\n     <use x=\"311.199921\" xlink:href=\"#STIXGeneral-Regular-108\"/>\n     <use x=\"338.999908\" xlink:href=\"#STIXGeneral-Regular-105\"/>\n     <use x=\"366.799896\" xlink:href=\"#STIXGeneral-Regular-116\"/>\n     <use x=\"394.599884\" xlink:href=\"#STIXGeneral-Regular-121\"/>\n     <use x=\"444.599869\" xlink:href=\"#STIXGeneral-Regular-32\"/>\n     <use x=\"469.599854\" xlink:href=\"#STIXGeneral-Regular-111\"/>\n     <use x=\"519.599838\" xlink:href=\"#STIXGeneral-Regular-102\"/>\n     <use x=\"552.899826\" xlink:href=\"#STIXGeneral-Regular-32\"/>\n     <use x=\"577.899811\" xlink:href=\"#STIXGeneral-Regular-111\"/>\n     <use x=\"627.899796\" xlink:href=\"#STIXGeneral-Regular-98\"/>\n     <use x=\"677.89978\" xlink:href=\"#STIXGeneral-Regular-115\"/>\n     <use x=\"716.799774\" xlink:href=\"#STIXGeneral-Regular-101\"/>\n     <use x=\"761.199768\" xlink:href=\"#STIXGeneral-Regular-114\"/>\n     <use x=\"794.499756\" xlink:href=\"#STIXGeneral-Regular-118\"/>\n     <use x=\"844.499741\" xlink:href=\"#STIXGeneral-Regular-105\"/>\n     <use x=\"872.299728\" xlink:href=\"#STIXGeneral-Regular-110\"/>\n     <use x=\"922.299713\" xlink:href=\"#STIXGeneral-Regular-103\"/>\n     <use x=\"972.299698\" xlink:href=\"#STIXGeneral-Regular-32\"/>\n     <use x=\"997.299683\" xlink:href=\"#STIXGeneral-Regular-105\"/>\n     <use x=\"1025.09967\" xlink:href=\"#STIXGeneral-Regular-110\"/>\n     <use x=\"1075.099655\" xlink:href=\"#STIXGeneral-Regular-105\"/>\n     <use x=\"1102.899643\" xlink:href=\"#STIXGeneral-Regular-116\"/>\n     <use x=\"1130.699631\" xlink:href=\"#STIXGeneral-Regular-105\"/>\n     <use x=\"1158.499619\" xlink:href=\"#STIXGeneral-Regular-97\"/>\n     <use x=\"1202.899612\" xlink:href=\"#STIXGeneral-Regular-108\"/>\n     <use x=\"1230.6996\" xlink:href=\"#STIXGeneral-Regular-32\"/>\n     <use x=\"1255.699585\" xlink:href=\"#STIXGeneral-Regular-115\"/>\n     <use x=\"1294.599579\" xlink:href=\"#STIXGeneral-Regular-116\"/>\n     <use x=\"1322.399567\" xlink:href=\"#STIXGeneral-Regular-97\"/>\n     <use x=\"1366.799561\" xlink:href=\"#STIXGeneral-Regular-116\"/>\n     <use x=\"1394.599548\" xlink:href=\"#STIXGeneral-Regular-101\"/>\n    </g>\n   </g>\n   <g id=\"legend_1\">\n    <g id=\"patch_7\">\n     <path d=\"M 153.81875 80.19125 \nL 440.81875 80.19125 \nQ 444.81875 80.19125 444.81875 76.19125 \nL 444.81875 43.59125 \nQ 444.81875 39.59125 440.81875 39.59125 \nL 153.81875 39.59125 \nQ 149.81875 39.59125 149.81875 43.59125 \nL 149.81875 76.19125 \nQ 149.81875 80.19125 153.81875 80.19125 \nz\n\" style=\"fill:#ffffff;opacity:0.8;stroke:#cccccc;stroke-linejoin:miter;\"/>\n    </g>\n    <g id=\"line2d_15\">\n     <path d=\"M 157.81875 60.19125 \nL 197.81875 60.19125 \n\" style=\"fill:none;stroke:#1f77b4;stroke-linecap:square;stroke-width:1.5;\"/>\n    </g>\n    <g id=\"line2d_16\"/>\n    <g id=\"text_17\">\n     <!-- Probability P(t)=$|\\langle \\psi_0 | \\psi_t \\rangle|^2$ -->\n     <g transform=\"translate(213.81875 67.19125)scale(0.2 -0.2)\">\n      <defs>\n       <path d=\"M 63.703125 32 \nL 4.796875 32 \nL 4.796875 38.59375 \nL 63.703125 38.59375 \nz\nM 63.703125 12 \nL 4.796875 12 \nL 4.796875 18.59375 \nL 63.703125 18.59375 \nz\n\" id=\"STIXGeneral-Regular-61\"/>\n       <path d=\"M 11.921875 -23.1875 \nL 11.921875 73.1875 \nQ 11.921875 73.96875 12.5 74.484375 \nQ 13.09375 75 13.921875 75 \nQ 14.65625 75 15.28125 74.484375 \nQ 15.921875 73.96875 15.921875 73.1875 \nL 15.921875 -23.1875 \nQ 15.921875 -23.96875 15.28125 -24.484375 \nQ 14.65625 -25 13.921875 -25 \nQ 13.09375 -25 12.5 -24.484375 \nQ 11.921875 -23.96875 11.921875 -23.1875 \nz\n\" id=\"Cmsy10-106\"/>\n       <path d=\"M 35.5 -114.796875 \nL 10.015625 -56.78125 \nQ 9.8125 -56.5 9.8125 -56 \nQ 9.8125 -55.515625 10.015625 -55.328125 \nL 35.5 2.78125 \nQ 35.984375 4 37.3125 4 \nQ 38.03125 4 38.671875 3.359375 \nQ 39.3125 2.734375 39.3125 2 \nQ 39.3125 1.515625 39.203125 1.3125 \nL 14.015625 -56 \nL 39.203125 -113.28125 \nQ 39.3125 -113.484375 39.3125 -114.015625 \nQ 39.3125 -114.75 38.671875 -115.375 \nQ 38.03125 -116.015625 37.3125 -116.015625 \nQ 36.03125 -116.015625 35.5 -114.796875 \nz\n\" id=\"Cmex10-173\"/>\n       <path d=\"M 23.78125 -19.484375 \nL 28.515625 -0.875 \nQ 24.171875 -0.875 20.09375 0.75 \nQ 16.015625 2.390625 13.5 5.5625 \nQ 10.984375 8.734375 10.984375 13.28125 \nQ 10.984375 15.875 11.90625 19.1875 \nQ 12.84375 22.515625 13.890625 25.296875 \nQ 14.9375 28.078125 16.703125 32.625 \nQ 18.015625 36.28125 18.015625 38.625 \nQ 18.015625 41.609375 15.828125 41.609375 \nQ 11.859375 41.609375 9.296875 37.53125 \nQ 6.734375 33.453125 5.515625 28.421875 \nQ 5.328125 27.78125 4.6875 27.78125 \nL 3.515625 27.78125 \nQ 2.6875 27.78125 2.6875 28.71875 \nL 2.6875 29 \nQ 4.296875 34.96875 7.609375 39.578125 \nQ 10.9375 44.1875 16.015625 44.1875 \nQ 19.578125 44.1875 22.046875 41.84375 \nQ 24.515625 39.5 24.515625 35.890625 \nQ 24.515625 34.03125 23.6875 31.984375 \nQ 21.921875 27.4375 20.890625 24.75 \nQ 19.875 22.078125 18.9375 18.671875 \nQ 18.015625 15.28125 18.015625 12.59375 \nQ 18.015625 7.71875 21.0625 5.03125 \nQ 24.125 2.34375 29.109375 1.703125 \nL 45.90625 68.796875 \nQ 46.09375 69.390625 46.6875 69.390625 \nL 47.90625 69.390625 \nQ 48.6875 69.390625 48.6875 68.40625 \nL 31.984375 1.515625 \nL 33.109375 1.515625 \nQ 37.3125 1.515625 41.96875 4 \nQ 46.625 6.5 50.453125 10.546875 \nQ 54.296875 14.59375 56.546875 19.25 \nQ 58.796875 23.921875 58.796875 27.984375 \nQ 58.796875 31 57.8125 32.6875 \nQ 56.84375 34.375 55.28125 36.203125 \nQ 53.71875 38.03125 53.71875 39.109375 \nQ 53.71875 41.0625 55.328125 42.671875 \nQ 56.9375 44.28125 58.890625 44.28125 \nQ 61.28125 44.28125 62.328125 42.078125 \nQ 63.375 39.890625 63.375 37.109375 \nQ 63.375 34.1875 62.78125 31.25 \nQ 62.203125 28.328125 61.1875 24.3125 \nQ 58.890625 15.1875 51.609375 7.90625 \nQ 49.125 5.421875 46.109375 3.34375 \nQ 43.109375 1.265625 39.765625 0.0625 \nQ 36.421875 -1.125 33.015625 -1.125 \nL 31.390625 -1.125 \nL 26.703125 -19.921875 \nQ 26.515625 -20.515625 25.875 -20.515625 \nL 24.703125 -20.515625 \nQ 24.3125 -20.515625 24.046875 -20.1875 \nQ 23.78125 -19.875 23.78125 -19.484375 \nz\n\" id=\"Cmmi10-195\"/>\n       <path d=\"M 25 -2.203125 \nQ 12.75 -2.203125 8.328125 7.875 \nQ 3.90625 17.96875 3.90625 31.890625 \nQ 3.90625 40.578125 5.484375 48.234375 \nQ 7.078125 55.90625 11.78125 61.25 \nQ 16.5 66.609375 25 66.609375 \nQ 31.59375 66.609375 35.78125 63.375 \nQ 39.984375 60.15625 42.1875 55.046875 \nQ 44.390625 49.953125 45.1875 44.109375 \nQ 46 38.28125 46 31.890625 \nQ 46 23.296875 44.40625 15.796875 \nQ 42.828125 8.296875 38.1875 3.046875 \nQ 33.546875 -2.203125 25 -2.203125 \nz\nM 25 0.390625 \nQ 30.5625 0.390625 33.296875 6.09375 \nQ 36.03125 11.8125 36.671875 18.75 \nQ 37.3125 25.6875 37.3125 33.5 \nQ 37.3125 41.015625 36.671875 47.359375 \nQ 36.03125 53.71875 33.3125 58.859375 \nQ 30.609375 64.015625 25 64.015625 \nQ 19.34375 64.015625 16.609375 58.828125 \nQ 13.875 53.65625 13.234375 47.328125 \nQ 12.59375 41.015625 12.59375 33.5 \nQ 12.59375 27.9375 12.859375 23 \nQ 13.140625 18.0625 14.3125 12.8125 \nQ 15.484375 7.5625 18.09375 3.96875 \nQ 20.703125 0.390625 25 0.390625 \nz\n\" id=\"Cmr10-48\"/>\n       <path d=\"M 6.203125 8.109375 \nQ 6.203125 9.578125 6.5 10.890625 \nL 13.71875 39.59375 \nL 3.21875 39.59375 \nQ 2.203125 39.59375 2.203125 40.921875 \nQ 2.59375 43.109375 3.515625 43.109375 \nL 14.59375 43.109375 \nL 18.609375 59.421875 \nQ 19 60.75 20.171875 61.671875 \nQ 21.34375 62.59375 22.796875 62.59375 \nQ 24.078125 62.59375 24.921875 61.828125 \nQ 25.78125 61.078125 25.78125 59.8125 \nQ 25.78125 59.515625 25.75 59.34375 \nQ 25.734375 59.1875 25.6875 58.984375 \nL 21.6875 43.109375 \nL 31.984375 43.109375 \nQ 33.015625 43.109375 33.015625 41.796875 \nQ 32.953125 41.546875 32.8125 40.953125 \nQ 32.671875 40.375 32.421875 39.984375 \nQ 32.171875 39.59375 31.6875 39.59375 \nL 20.796875 39.59375 \nL 13.625 10.6875 \nQ 12.890625 7.859375 12.890625 5.8125 \nQ 12.890625 1.515625 15.828125 1.515625 \nQ 20.21875 1.515625 23.609375 5.640625 \nQ 27 9.765625 28.8125 14.703125 \nQ 29.203125 15.28125 29.59375 15.28125 \nL 30.8125 15.28125 \nQ 31.203125 15.28125 31.4375 15.015625 \nQ 31.6875 14.75 31.6875 14.40625 \nQ 31.6875 14.203125 31.59375 14.109375 \nQ 29.390625 8.0625 25.1875 3.46875 \nQ 21 -1.125 15.578125 -1.125 \nQ 11.625 -1.125 8.90625 1.453125 \nQ 6.203125 4.046875 6.203125 8.109375 \nz\n\" id=\"Cmmi10-116\"/>\n       <path d=\"M 7.8125 -114.015625 \nQ 7.8125 -113.484375 8.015625 -113.28125 \nL 33.109375 -56 \nL 8.015625 1.3125 \nQ 7.8125 1.515625 7.8125 2 \nQ 7.8125 2.734375 8.390625 3.359375 \nQ 8.984375 4 9.8125 4 \nQ 10.984375 4 11.71875 2.78125 \nL 37.203125 -55.328125 \nQ 37.3125 -55.515625 37.3125 -56 \nQ 37.3125 -56.5 37.203125 -56.78125 \nL 11.71875 -114.796875 \nQ 10.9375 -116.015625 9.8125 -116.015625 \nQ 8.984375 -116.015625 8.390625 -115.375 \nQ 7.8125 -114.75 7.8125 -114.015625 \nz\n\" id=\"Cmex10-174\"/>\n       <path d=\"M 4.984375 0 \nL 4.984375 2.6875 \nQ 4.984375 2.9375 5.171875 3.21875 \nL 20.703125 20.40625 \nQ 24.21875 24.21875 26.40625 26.796875 \nQ 28.609375 29.390625 30.75 32.765625 \nQ 32.90625 36.140625 34.15625 39.625 \nQ 35.40625 43.109375 35.40625 47.015625 \nQ 35.40625 51.125 33.890625 54.859375 \nQ 32.375 58.59375 29.375 60.84375 \nQ 26.375 63.09375 22.125 63.09375 \nQ 17.78125 63.09375 14.3125 60.46875 \nQ 10.84375 57.859375 9.421875 53.71875 \nQ 9.8125 53.8125 10.5 53.8125 \nQ 12.75 53.8125 14.328125 52.296875 \nQ 15.921875 50.78125 15.921875 48.390625 \nQ 15.921875 46.09375 14.328125 44.5 \nQ 12.75 42.921875 10.5 42.921875 \nQ 8.15625 42.921875 6.5625 44.546875 \nQ 4.984375 46.1875 4.984375 48.390625 \nQ 4.984375 52.15625 6.390625 55.4375 \nQ 7.8125 58.734375 10.46875 61.296875 \nQ 13.140625 63.875 16.484375 65.234375 \nQ 19.828125 66.609375 23.578125 66.609375 \nQ 29.296875 66.609375 34.21875 64.1875 \nQ 39.15625 61.765625 42.03125 57.34375 \nQ 44.921875 52.9375 44.921875 47.015625 \nQ 44.921875 42.671875 43.015625 38.765625 \nQ 41.109375 34.859375 38.125 31.65625 \nQ 35.15625 28.46875 30.515625 24.40625 \nQ 25.875 20.359375 24.421875 19 \nL 13.09375 8.109375 \nL 22.703125 8.109375 \nQ 29.78125 8.109375 34.546875 8.21875 \nQ 39.3125 8.34375 39.59375 8.59375 \nQ 40.765625 9.859375 42 17.828125 \nL 44.921875 17.828125 \nL 42.09375 0 \nz\n\" id=\"Cmr10-50\"/>\n      </defs>\n      <use transform=\"translate(0 0.658854)\" xlink:href=\"#STIXGeneral-Regular-80\"/>\n      <use transform=\"translate(55.699997 0.658854)\" xlink:href=\"#STIXGeneral-Regular-114\"/>\n      <use transform=\"translate(88.999985 0.658854)\" xlink:href=\"#STIXGeneral-Regular-111\"/>\n      <use transform=\"translate(138.999969 0.658854)\" xlink:href=\"#STIXGeneral-Regular-98\"/>\n      <use transform=\"translate(188.999954 0.658854)\" xlink:href=\"#STIXGeneral-Regular-97\"/>\n      <use transform=\"translate(233.399948 0.658854)\" xlink:href=\"#STIXGeneral-Regular-98\"/>\n      <use transform=\"translate(283.399933 0.658854)\" xlink:href=\"#STIXGeneral-Regular-105\"/>\n      <use transform=\"translate(311.199921 0.658854)\" xlink:href=\"#STIXGeneral-Regular-108\"/>\n      <use transform=\"translate(338.999908 0.658854)\" xlink:href=\"#STIXGeneral-Regular-105\"/>\n      <use transform=\"translate(366.799896 0.658854)\" xlink:href=\"#STIXGeneral-Regular-116\"/>\n      <use transform=\"translate(394.599884 0.658854)\" xlink:href=\"#STIXGeneral-Regular-121\"/>\n      <use transform=\"translate(444.599869 0.658854)\" xlink:href=\"#STIXGeneral-Regular-32\"/>\n      <use transform=\"translate(469.599854 0.658854)\" xlink:href=\"#STIXGeneral-Regular-80\"/>\n      <use transform=\"translate(525.29985 0.658854)\" xlink:href=\"#STIXGeneral-Regular-40\"/>\n      <use transform=\"translate(558.599838 0.658854)\" xlink:href=\"#STIXGeneral-Regular-116\"/>\n      <use transform=\"translate(586.399826 0.658854)\" xlink:href=\"#STIXGeneral-Regular-41\"/>\n      <use transform=\"translate(619.699814 0.658854)\" xlink:href=\"#STIXGeneral-Regular-61\"/>\n      <use transform=\"translate(688.199799 0.658854)\" xlink:href=\"#Cmsy10-106\"/>\n      <use transform=\"translate(715.885345 94)\" xlink:href=\"#Cmex10-173\"/>\n      <use transform=\"translate(763.102142 0.658854)\" xlink:href=\"#Cmmi10-195\"/>\n      <use transform=\"translate(828.190033 -16.347396)scale(0.7)\" xlink:href=\"#Cmr10-48\"/>\n      <use transform=\"translate(869.567377 0.658854)\" xlink:href=\"#Cmsy10-106\"/>\n      <use transform=\"translate(897.252924 0.658854)\" xlink:href=\"#Cmmi10-195\"/>\n      <use transform=\"translate(962.340814 -16.347396)scale(0.7)\" xlink:href=\"#Cmmi10-116\"/>\n      <use transform=\"translate(993.976947 94)\" xlink:href=\"#Cmex10-174\"/>\n      <use transform=\"translate(1041.193744 0.658854)\" xlink:href=\"#Cmsy10-106\"/>\n      <use transform=\"translate(1073.343431 38.922917)scale(0.7)\" xlink:href=\"#Cmr10-50\"/>\n     </g>\n    </g>\n   </g>\n  </g>\n </g>\n <defs>\n  <clipPath id=\"p7a5726cb0b\">\n   <rect height=\"271.8\" width=\"502.2\" x=\"46.21875\" y=\"29.59125\"/>\n  </clipPath>\n </defs>\n</svg>\n",
      "image/png": "[encoded data removed]"
     },
     "metadata": {
      "needs_background": "light"
     }
    }
   ],
   "source": [
    "init_state=DiracState(\"..\", [0.5], S=S)\n",
    "\n",
    "#init_state2=plotvect2(WilsonLGT2(lattice=lattice, S=S, rep=rep, initial_state=init_state).construct_circuit(parameters=[1,0,0]))\n",
    "\n",
    "tstep=0.1\n",
    "nstep=60\n",
    "\n",
    "[time,evolve,qmatrix]=qiskit_trotter_simulate(Hamilton=H,init_state=init_state, t_stepsize=tstep, nsteps=nstep)\n",
    "\n",
    "overlaps_prob= np.asarray([ np.square(np.abs(qiskit_overlap(init_state.construct_circuit(\"vector\").flatten(), evolve))) for evolve in evolve])\n",
    "\n",
    "\n",
    "plt.figure(figsize=(9,5))\n",
    "plt.plot(time,overlaps_prob, label=r'Probability P(t)=$|\\langle \\psi_0 | \\psi_t \\rangle|^2$')\n",
    "plt.fill_between(time, 0, overlaps_prob, alpha=0.2)\n",
    "plt.legend(fontsize=20)\n",
    "plt.xlabel('Time t', fontsize=20)\n",
    "plt.ylabel('Probability P(t)', fontsize=20)\n",
    "plt.title('Probability of observing initial state', fontsize=24)"
   ]
  },
  {
   "cell_type": "code",
   "execution_count": 1638,
   "metadata": {},
   "outputs": [
    {
     "output_type": "execute_result",
     "data": {
      "text/plain": [
       "{'qiskit-terra': '0.16.1',\n",
       " 'qiskit-aer': '0.7.1',\n",
       " 'qiskit-ignis': '0.5.1',\n",
       " 'qiskit-ibmq-provider': '0.11.1',\n",
       " 'qiskit-aqua': '0.8.1',\n",
       " 'qiskit': '0.23.1'}"
      ]
     },
     "metadata": {},
     "execution_count": 1638
    }
   ],
   "source": [
    "import qiskit\n",
    "qiskit.__qiskit_version__\n"
   ]
  },
  {
   "cell_type": "code",
   "execution_count": 63,
   "metadata": {},
   "outputs": [],
   "source": [
    "### proof of the hadarmard test "
   ]
  },
  {
   "cell_type": "code",
   "execution_count": 64,
   "metadata": {},
   "outputs": [],
   "source": [
    "M_simulator= Aer.get_backend(name='qasm_simulator')\n",
    "S_simulator = Aer.get_backend(name='statevector_simulator')\n",
    "def plotvect(circ):\n",
    "    backend=Aer.get_backend(\"statevector_simulator\")\n",
    "    statevect=execute(circ,backend=S_simulator).result().get_statevector()\n",
    "    print(round(statevect[0],3),\"|0> + \", round(statevect[1], 3), \" |1>  \" )\n",
    "    return statevect\n",
    "\n",
    "def Measure(circ, Shots=1024, compbasis=True):\n",
    "    counts=execute(circ, shots=Shots,backend=M_simulator).result().get_counts()\n",
    "    p0=counts[\"0\"]/Shots\n",
    "    p1=counts[\"1\"]/Shots\n",
    "    if compbasis:\n",
    "        print( \"prob getting |0> \", p0 , \" \\n\", \"prob getting |1> \", p1 , \" \\n\", '\\n{ |0> , |1> } Basis - Energy Expectation Value: ',round( (p0)+(-1.0*p1) ,3) )\n",
    "    else:\n",
    "        print( '\\n{ |+> , |-> } Basis - Energy Expectation Value: ',round( (p0)+(-1.0*p1) ,3) )\n",
    "    return p0, p1"
   ]
  },
  {
   "cell_type": "code",
   "execution_count": 65,
   "metadata": {},
   "outputs": [
    {
     "output_type": "stream",
     "name": "stdout",
     "text": [
      "     ┌───┐                       ┌───┐┌─┐\nq_0: ┤ H ├───────────■───────────┤ H ├┤M├\n     ├───┤┌──────────┴──────────┐└───┘└╥┘\nq_1: ┤ X ├┤ U3(3π/4,-3π/4,3π/4) ├──────╫─\n     └───┘└─────────────────────┘      ║ \nc: 1/══════════════════════════════════╩═\n                                       0 \nprob getting |0>  0.6855  \n prob getting |1>  0.3145  \n \n{ |0> , |1> } Basis - Energy Expectation Value:  0.371\n"
     ]
    }
   ],
   "source": [
    "pi=np.pi\n",
    "qregs=QuantumRegister(2,name=\"q\")\n",
    "cregs=ClassicalRegister(1,name=\"c\")\n",
    "\n",
    "circ=QuantumCircuit(qregs, cregs)\n",
    "circ.h(0)\n",
    "circ.x(1)\n",
    "circ.cu3(3/4*pi,-3/4*pi,3/4*pi,qregs[0],qregs[1])\n",
    "#circ.u3(pi/2,pi/2,pi/2,1)\n",
    "circ.h(0)\n",
    "circ.measure(qregs[0], cregs)\n",
    "print(circ)\n",
    "\n",
    "job = execute(circ, backend=Aer.get_backend(\"statevector_simulator\"))\n",
    "job.result().get_statevector()\n",
    "p0,p1= Measure(circ,Shots=4000)\n",
    "#devo confrontare la media della misura !! "
   ]
  },
  {
   "cell_type": "code",
   "execution_count": 183,
   "metadata": {},
   "outputs": [],
   "source": []
  },
  {
   "cell_type": "code",
   "execution_count": 66,
   "metadata": {},
   "outputs": [
    {
     "output_type": "stream",
     "name": "stdout",
     "text": [
      "(0.653-0.653j) |0> +  (0.383+0j)  |1>  \n         ┌───┐┌─────────────────────┐ ░ ┌─┐\nqregs_0: ┤ X ├┤ U3(3π/4,-3π/4,3π/4) ├─░─┤M├\n         └───┘└─────────────────────┘ ░ └╥┘\n meas: 1/════════════════════════════════╩═\n                                         0 \nprob getting |0>  0.8475  \n prob getting |1>  0.1525  \n \n{ |0> , |1> } Basis - Energy Expectation Value:  0.695\n0.383\n"
     ]
    }
   ],
   "source": [
    "pi=np.pi\n",
    "qregs=QuantumRegister(1,name=\"qregs\")\n",
    "circ=QuantumCircuit(qregs,name='circ')\n",
    "circ.x(0)\n",
    "circ.u3(3/4*pi,-3/4*pi,3/4*pi,0)\n",
    "statevect=plotvect(circ)\n",
    "\n",
    "circ.measure_all()\n",
    "\n",
    "print(circ)\n",
    "\n",
    "job = execute(circ, backend=Aer.get_backend(name='qasm_simulator'), shots=1024)\n",
    "\n",
    "#job.result().get_statevector()\n",
    "counts=job.result().get_counts()\n",
    "counts\n",
    "### prova vogliamo calcolare la media di questo stato  prima direttamente, poi con l'hadamard test di sopra \n",
    "Measure(circ=circ,Shots=4000)\n",
    "\n",
    "# prendo il vettore (01) che é il nostro psi \n",
    "init_vect=np.array([0,1])\n",
    "print(np.real(np.round(np.inner(init_vect.conj(), statevect),3)))\n",
    "# per trovare il risultato tanto agongato o prendo la sqareroot di prob(1), oppure prendo la moltilplicazione dei due state vector !! "
   ]
  },
  {
   "source": [
    "### viene abbastanza giusto Nota che se "
   ],
   "cell_type": "markdown",
   "metadata": {}
  },
  {
   "cell_type": "code",
   "execution_count": 67,
   "metadata": {},
   "outputs": [],
   "source": [
    "# ora usiamo il circuito della variational form \n"
   ]
  },
  {
   "cell_type": "code",
   "execution_count": 68,
   "metadata": {},
   "outputs": [
    {
     "output_type": "execute_result",
     "data": {
      "text/plain": [
       "0.3840572873934304"
      ]
     },
     "metadata": {},
     "execution_count": 68
    }
   ],
   "source": [
    "np.sqrt(0.1475 )"
   ]
  },
  {
   "cell_type": "code",
   "execution_count": 69,
   "metadata": {},
   "outputs": [
    {
     "output_type": "execute_result",
     "data": {
      "text/plain": [
       "                                     \n",
       "q_0: ───────────────────────■────────\n",
       "     ┌──────────────┐┌──────┴───────┐\n",
       "q_1: ┤0             ├┤0             ├\n",
       "     │              ││              │\n",
       "q_2: ┤1             ├┤1             ├\n",
       "     │              ││              │\n",
       "q_3: ┤2 circuit3336 ├┤2 circuit3326 ├\n",
       "     │              ││              │\n",
       "q_4: ┤3             ├┤3             ├\n",
       "     │              ││              │\n",
       "q_5: ┤4             ├┤4             ├\n",
       "     └──────────────┘└──────────────┘"
      ],
      "text/html": "<pre style=\"word-wrap: normal;white-space: pre;background: #fff0;line-height: 1.1;font-family: &quot;Courier New&quot;,Courier,monospace\">                                     \nq_0: ───────────────────────■────────\n     ┌──────────────┐┌──────┴───────┐\nq_1: ┤0             ├┤0             ├\n     │              ││              │\nq_2: ┤1             ├┤1             ├\n     │              ││              │\nq_3: ┤2 circuit3336 ├┤2 circuit3326 ├\n     │              ││              │\nq_4: ┤3             ├┤3             ├\n     │              ││              │\nq_5: ┤4             ├┤4             ├\n     └──────────────┘└──────────────┘</pre>"
     },
     "metadata": {},
     "execution_count": 69
    }
   ],
   "source": [
    "### il nostro psi ora é il dirac state \n",
    "from qiskit.converters.circuit_to_instruction import *\n",
    "from qiskit.circuit.library.standard_gates import HGate\n",
    "qre=QuantumRegister(H.num_qubits+1,\"q\")\n",
    "\n",
    "Ultimate=QuantumCircuit(qre)\n",
    "\n",
    "## nota che ho tolto initial state !!! \n",
    "cir=WilsonLGT2(lattice=lattice, S=S, rep=rep).construct_circuit(parameters=[0,0,0]).decompose()\n",
    "\n",
    "init_circ=DiracState(\"..\",[0.5],S=S).construct_circuit(\"circuit\")\n",
    "init_ist=circuit_to_instruction(init_circ)\n",
    "inst=circuit_to_instruction(cir)\n",
    "\n",
    "custom = cir.to_gate().control(1)\n",
    "Ultimate.append(init_ist,[1,2,3,4,5])\n",
    "Ultimate.append(custom,[0,1,2,3,4,5])\n",
    "Ultimate.draw()\n",
    "\n",
    "\n",
    "### cosi abbbiamo il nostro initial state\n"
   ]
  },
  {
   "cell_type": "code",
   "execution_count": 70,
   "metadata": {
    "tags": []
   },
   "outputs": [
    {
     "output_type": "stream",
     "name": "stdout",
     "text": [
      "Help on function to_gate in module qiskit.circuit.quantumcircuit:\n\nto_gate(self, parameter_map=None, label=None)\n    Create a Gate out of this circuit.\n    \n    Args:\n        parameter_map(dict): For parameterized circuits, a mapping from\n           parameters in the circuit to parameters to be used in the\n           gate. If None, existing circuit parameters will also\n           parameterize the gate.\n        label (str): Optional gate label.\n    \n    Returns:\n        Gate: a composite gate encapsulating this circuit\n        (can be decomposed back)\n\n"
     ]
    }
   ],
   "source": [
    "help(QuantumCircuit.to_gate)"
   ]
  },
  {
   "cell_type": "code",
   "execution_count": 71,
   "metadata": {},
   "outputs": [],
   "source": [
    "## voglio costruire la derivata della var form \n",
    "##### la prima é tipo un hopping like term che dipende dal sito in cui ci troviamo e dalla coupling matrice \n",
    "\n",
    "\n",
    "\n",
    "def Varder(edge, lattice, S, mixmat=np.array([[0,0],[1,0]]), hopp_coeff=1., output='qiskit'):\n",
    "\n",
    "    site = lattice.site_vector(edge[0])\n",
    "    hopping_dim = edge[1]\n",
    "\n",
    "    # 2. Generate the hopping term as a sum over the fermionic (spinor) components\n",
    "    summands = []\n",
    "    # 2.1 Check for boundary sites\n",
    "    # Treat open and closed boundary conditions (skip term if edge is at boundary)\n",
    "    is_at_boundary = lattice.is_boundary_along(site, hopping_dim, direction='positive')\n",
    "    if is_at_boundary:\n",
    "        # print('encountered boundary at {}, {}'.format(site, j))\n",
    "        raise UserWarning('The given `site` and `hopping_dim` combination goes outside the lattice.')\n",
    "\n",
    "    # 2.2Get the edge along which hopping takes place and the next site\n",
    "    next_site = lattice.project(site + standard_basis(hopping_dim, lattice.ndim))\n",
    "\n",
    "\n",
    "\n",
    "    # 3 Sum over all spinor components:\n",
    "    for alpha in range(2):\n",
    "        for beta in range(2):\n",
    "            # Skip cases with zero coefficients\n",
    "            if mixmat[alpha, beta] == 0:\n",
    "                # print('skipped ab {}, {}'.format(alpha, beta))\n",
    "                continue\n",
    "\n",
    "            # Generate the fermionic hopping terms\n",
    "            bwd_hopp = (hopp_coeff\n",
    "                        * psidag(site, alpha, lattice)\n",
    "                        * mixmat[alpha, beta]\n",
    "                        * psi(next_site, beta, lattice))\n",
    "            fwd_hopp = bwd_hopp.dag()\n",
    "\n",
    "            # If gauge field is present, tensor with the hopping terms with the link operators\n",
    "            if S > 0:\n",
    "                bwd_hopp = bwd_hopp @ U(edge, S, lattice)\n",
    "                fwd_hopp = fwd_hopp @ Udag(edge, S, lattice)\n",
    "\n",
    "            # Convert the operators to qubit operators and add them to the total hopping term\n",
    "            if not output == 'abstract':\n",
    "                bwd_hopp = bwd_hopp.to_qubit_operator(output=output)\n",
    "                fwd_hopp = fwd_hopp.to_qubit_operator(output=output)\n",
    "\n",
    "            summands += [fwd_hopp, bwd_hopp]\n",
    "\n",
    "    # 5. Sum up all hopping terms and return the hopping hamilton_qiskit\n",
    "    hopping_term = operator_sum(summands)\n",
    "    if output == 'qiskit':\n",
    "        hopping_term.chop()\n",
    "    return hopping_term"
   ]
  },
  {
   "cell_type": "code",
   "execution_count": 72,
   "metadata": {},
   "outputs": [
    {
     "output_type": "execute_result",
     "data": {
      "text/plain": [
       "<qiskit.aqua.operators.legacy.weighted_pauli_operator.WeightedPauliOperator at 0x7ffc0ab434d0>"
      ]
     },
     "metadata": {},
     "execution_count": 72
    }
   ],
   "source": [
    "#questo potrebbe essere ilp rimo termine che devo trovare l'exp value \n",
    "Varder([0,0],lattice=lattice, S=params[\"S\"])"
   ]
  },
  {
   "cell_type": "code",
   "execution_count": 73,
   "metadata": {},
   "outputs": [],
   "source": [
    "from lattice.wilson_fermions.basic_operators import psi, psidag, U, Udag, standard_basis, fermion_id, link_id\n"
   ]
  },
  {
   "cell_type": "code",
   "execution_count": 51,
   "metadata": {},
   "outputs": [
    {
     "output_type": "execute_result",
     "data": {
      "text/plain": [
       "INII \t 2.0\n",
       "NIII \t 1.0"
      ]
     },
     "metadata": {},
     "execution_count": 51
    }
   ],
   "source": []
  },
  {
   "cell_type": "code",
   "execution_count": 598,
   "metadata": {},
   "outputs": [],
   "source": [
    "def numb(site, lattice, rep=dirac, m=1., S=0, lam=1):\n",
    "    \"\"\"Constructs the observable corresponding to the mass (in the low energy limit)\n",
    "     at lattice site `site` . \"\"\"\n",
    "    ide = np.array([[1,0],[0,lam]])\n",
    "\n",
    "    summands = []\n",
    "    # 1. sum over all spinor components at the given lattice site\n",
    "    for alpha in range(2):\n",
    "        for beta in range(2):\n",
    "            summands.append(psidag(site, alpha, lattice) * ide[alpha, beta] * psi(site, beta, lattice))\n",
    "    mx = m * operator_sum(summands)\n",
    "\n",
    "    # 2. If we are working with interacting Wilson fermions (S>0), tensor with an identity on the spin register\n",
    "    if S > 0:\n",
    "        mx = mx @ link_id(S, lattice)\n",
    "\n",
    "    return mx"
   ]
  },
  {
   "cell_type": "code",
   "execution_count": 600,
   "metadata": {},
   "outputs": [
    {
     "output_type": "execute_result",
     "data": {
      "text/plain": [
       "              ┌───┐┌─────────────┐         \n",
       " fermionic_0: ┤ X ├┤0            ├─────────\n",
       "              └───┘│             │┌───────┐\n",
       " fermionic_1: ─────┤1            ├┤ RZ(2) ├\n",
       "              ┌───┐│             │└───────┘\n",
       " fermionic_2: ┤ X ├┤2 h_[0 0](0) ├─────────\n",
       "              └───┘│             │┌───────┐\n",
       " fermionic_3: ─────┤3            ├┤ RZ(3) ├\n",
       "                   │             │└───────┘\n",
       "spin(0.5)0_0: ─────┤4            ├─────────\n",
       "                   └─────────────┘         "
      ],
      "text/html": "<pre style=\"word-wrap: normal;white-space: pre;background: #fff0;line-height: 1.1;font-family: &quot;Courier New&quot;,Courier,monospace\">              ┌───┐┌─────────────┐         \n fermionic_0: ┤ X ├┤0            ├─────────\n              └───┘│             │┌───────┐\n fermionic_1: ─────┤1            ├┤ RZ(2) ├\n              ┌───┐│             │└───────┘\n fermionic_2: ┤ X ├┤2 h_[0 0](0) ├─────────\n              └───┘│             │┌───────┐\n fermionic_3: ─────┤3            ├┤ RZ(3) ├\n                   │             │└───────┘\nspin(0.5)0_0: ─────┤4            ├─────────\n                   └─────────────┘         </pre>"
     },
     "metadata": {},
     "execution_count": 600
    }
   ],
   "source": [
    "varu=WilsonLGT2(lattice=lattice,S=params[\"S\"], rep=dirac,initial_state=DiracState(\"..\",[0.5],S=params[\"S\"]))\n",
    "varu.construct_circuit(parameters=[0,2,3]).draw()"
   ]
  },
  {
   "cell_type": "code",
   "execution_count": 599,
   "metadata": {},
   "outputs": [
    {
     "output_type": "stream",
     "name": "stdout",
     "text": [
      "IIIII\t(1+0j)\nIIIIZ\t(0.5+0j)\nIIIZI\t(0.5+0j)\n\n"
     ]
    },
    {
     "output_type": "execute_result",
     "data": {
      "text/plain": [
       "     ┌───────┐\n",
       "q_0: ┤ RZ(1) ├\n",
       "     ├───────┤\n",
       "q_1: ┤ RZ(2) ├\n",
       "     ├───────┤\n",
       "q_2: ┤ RZ(1) ├\n",
       "     ├───────┤\n",
       "q_3: ┤ RZ(3) ├\n",
       "     └───────┘\n",
       "q_4: ─────────\n",
       "              "
      ],
      "text/html": "<pre style=\"word-wrap: normal;white-space: pre;background: #fff0;line-height: 1.1;font-family: &quot;Courier New&quot;,Courier,monospace\">     ┌───────┐\nq_0: ┤ RZ(1) ├\n     ├───────┤\nq_1: ┤ RZ(2) ├\n     ├───────┤\nq_2: ┤ RZ(1) ├\n     ├───────┤\nq_3: ┤ RZ(3) ├\n     └───────┘\nq_4: ─────────\n              </pre>"
     },
     "metadata": {},
     "execution_count": 599
    }
   ],
   "source": [
    "hallo=construct_trotter_step(numb(site=[0], lattice=lattice, S=0.5,lam=2).to_qubit_operator(output='qiskit'), 1)\n",
    "print(repr(numb(site=[0], lattice=lattice, S=0.5).to_qubit_operator(output='qiskit')))\n",
    "hallo2=construct_trotter_step(numb(site=[1], lattice=lattice, S=0.5, lam=3).to_qubit_operator(output='qiskit'), 1)\n",
    "cirq=QuantumCircuit(5,name=\"qc\")\n",
    "cirq.append(hallo, qargs=cirq.qubits)\n",
    "cirq.append(hallo2, qargs=cirq.qubits)\n",
    "cirq.decompose().draw()"
   ]
  },
  {
   "cell_type": "code",
   "execution_count": 610,
   "metadata": {},
   "outputs": [
    {
     "output_type": "stream",
     "name": "stdout",
     "text": [
      "     ┌───────┐\nq_0: ┤ RZ(1) ├\n     └───────┘\n"
     ]
    },
    {
     "output_type": "execute_result",
     "data": {
      "text/plain": [
       "array([0.87758256-0.47942554j, 0.        +0.j        ])"
      ]
     },
     "metadata": {},
     "execution_count": 610
    }
   ],
   "source": [
    "cir=QuantumCircuit(1)\n",
    "cir.rz(1,0)\n",
    "print(cir)\n",
    "statevector=plotvect2(cir)\n",
    "statevector"
   ]
  },
  {
   "cell_type": "code",
   "execution_count": 699,
   "metadata": {},
   "outputs": [],
   "source": [
    "### occhio che lambda c'é solo nella moltiplicazione del primo termine !!! \n",
    "## l'identità non é un'identita!!! \n",
    "def termlambda(site, lattice, rep=dirac, m=1., S=0):\n",
    "    \"\"\"Constructs the observable corresponding to the mass (in the low energy limit)\n",
    "     at lattice site `site` . \"\"\"\n",
    "    ide = np.array([[0,0],[0,1]])\n",
    "\n",
    "    summands = []\n",
    "    # 1. sum over all spinor components at the given lattice site\n",
    "    for alpha in range(2):\n",
    "        for beta in range(2):\n",
    "            summands.append(psidag(site, alpha, lattice) * ide[alpha, beta] * psi(site, beta, lattice))\n",
    "    mx = m * operator_sum(summands)\n",
    "\n",
    "    # 2. If we are working with interacting Wilson fermions (S>0), tensor with an identity on the spin register\n",
    "    if S > 0:\n",
    "        mx = mx @ link_id(S, lattice)\n",
    "\n",
    "    return mx"
   ]
  },
  {
   "cell_type": "code",
   "execution_count": 700,
   "metadata": {},
   "outputs": [
    {
     "output_type": "stream",
     "name": "stdout",
     "text": [
      "IIIII\t(1+0j)\nIIIIZ\t(0.5+0j)\nIIIZI\t(0.5+0j)\n\n"
     ]
    },
    {
     "output_type": "execute_result",
     "data": {
      "text/plain": [
       "IIIII\t(0.5+0j)\n",
       "IIIZI\t(0.5+0j)"
      ]
     },
     "metadata": {},
     "execution_count": 700
    }
   ],
   "source": [
    "##3 c'é una bella differenza tra i due!! \n",
    "print(repr(numb(site=[0], lattice=lattice, S=0.5).to_qubit_operator(output='qiskit')))\n",
    "termlambda(site=[0], lattice=lattice, S=0.5).to_qubit_operator(output='qiskit')"
   ]
  },
  {
   "cell_type": "code",
   "execution_count": 701,
   "metadata": {},
   "outputs": [],
   "source": [
    "def is_hermitian(C):\n",
    "    C=to_matrix_operator(C).dense_matrix\n",
    "    Ch=C.conj().T\n",
    "    a=0\n",
    "    for i in range(len(C[0])):\n",
    "        for j in range(len(C[0])):\n",
    "            if C[i][j]!=Ch[i][j]:\n",
    "                a+=1\n",
    "                \n",
    "    if a==0:\n",
    "        return True \n",
    "    else:\n",
    "        return False                 \n"
   ]
  },
  {
   "cell_type": "code",
   "execution_count": 702,
   "metadata": {},
   "outputs": [
    {
     "output_type": "execute_result",
     "data": {
      "text/plain": [
       "True"
      ]
     },
     "metadata": {},
     "execution_count": 702
    }
   ],
   "source": [
    "is_hermitian(H)"
   ]
  },
  {
   "cell_type": "code",
   "execution_count": null,
   "metadata": {},
   "outputs": [],
   "source": []
  },
  {
   "cell_type": "code",
   "execution_count": 703,
   "metadata": {},
   "outputs": [],
   "source": [
    "### ho tre parametri e per ognuno i termini ceh scendono dalla derivata sono questi \n",
    "\n",
    "##\n",
    "## per forza il conj é solo moltiplicazine per -1j visto ceh é una lista di pauli operator! \n",
    "term0=Varder(edge=[0,0], lattice=lattice,S=params[\"S\"])*1j\n",
    "term0conj=Varder(edge=[0,0], lattice=lattice,S=params[\"S\"])*(-1j)\n",
    "\n",
    "term1=1j*termlambda(site=[0],lattice=lattice, S=params[\"S\"]).to_qubit_operator(output='qiskit')\n",
    "term1conj=(-1j)*termlambda(site=[0],lattice=lattice, S=params[\"S\"]).to_qubit_operator(output='qiskit')\n",
    "\n",
    "term2=1j*termlambda(site=[1],lattice=lattice, S=params[\"S\"]).to_qubit_operator(output='qiskit')\n",
    "term2conj=(-1j)*termlambda(site=[1],lattice=lattice, S=params[\"S\"]).to_qubit_operator(output='qiskit')\n",
    "\n",
    "\n",
    "### ora voglio trovare oi coefficenti della matrice A \n",
    "\n",
    "\n",
    "# derivata per theta0, e theta0, esce\n",
    "#A[0,0]=(\n",
    "A={\n",
    "    \"A00\":term0conj*term0,\n",
    "    \"A01\":term0conj*term1,\n",
    "    \"A02\":term0conj*term2,\n",
    "    \"A10\":term1conj*term0,\n",
    "    \"A11\":term1conj*term1,\n",
    "    \"A12\":term1conj*term2,\n",
    "    \"A20\":term2conj*term0,\n",
    "    \"A21\":term2conj*term1,\n",
    "    \"A22\":term2conj*term2,\n",
    "}\n",
    "\n",
    "# costrusiamo il vettore C é semplicemente term i conj per l'hamiltoniano \n",
    "C={\n",
    "    \"C0\": term0conj*H,\n",
    "    \"C1\": term1conj*H,\n",
    "    \"C2\": term2conj*H\n",
    "}\n",
    "\n"
   ]
  },
  {
   "cell_type": "code",
   "execution_count": 290,
   "metadata": {},
   "outputs": [
    {
     "output_type": "stream",
     "name": "stdout",
     "text": [
      "\n"
     ]
    }
   ],
   "source": [
    "print()"
   ]
  },
  {
   "cell_type": "code",
   "execution_count": 291,
   "metadata": {},
   "outputs": [
    {
     "output_type": "execute_result",
     "data": {
      "text/plain": [
       "([('bb', [0.5]), ('..', [0.5]), ('ap', [-0.5])],\n",
       " array([0.69994717, 0.16337155, 0.13668128]))"
      ]
     },
     "metadata": {},
     "execution_count": 291
    }
   ],
   "source": [
    "# ora noi iniziamo con un certo termine \n",
    "#theta_init=[np.pi*3/4,np.pi*3/4,np.pi*3/4]\n",
    "theta_init=[1,0,0]\n",
    "\n",
    "q_init_circ=WilsonLGT2(lattice=lattice, S=S, rep=rep, initial_state=init_state).construct_circuit(parameters=theta_init)\n",
    "\n",
    "state_decompose_dirac(state=q_init_circ, fermi_len=lattice.nsites, spin_len= lattice.nedges, S=params[\"S\"], thres=0.1 )"
   ]
  },
  {
   "source": [
    "Volgio costruire una funzione che prende la lsita di A e C, e ridà gli exp value rispetto al circuito dato dai parametri. Fai che con quelle matrici posso trovare i nuovi parametri, i nuovi parametri permettono di costruire il nuovo state da cui calcolo i nuovi vaolri dellem matrici. Posso farlo prima in modo esatto, cioé utilizzando gli statevector del circuit, poi in un secondo tempo facendolo con i veri counts!!! \n"
   ],
   "cell_type": "markdown",
   "metadata": {}
  },
  {
   "cell_type": "code",
   "execution_count": 292,
   "metadata": {},
   "outputs": [],
   "source": [
    "### exp value, gli dò un operatore in qiskit e uno stato come circuito \n",
    "\n",
    "def qiskit_exp_statevect(obs_qiskit, circ):\n",
    "    state_vect=execute(circ,backend=Aer.get_backend(\"statevector_simulator\")).result().get_statevector().flatten()\n",
    "    mat=to_matrix_operator(obs_qiskit).dense_matrix\n",
    "    return np.inner(state_vect.conj(), np.dot(mat, state_vect))"
   ]
  },
  {
   "cell_type": "code",
   "execution_count": 293,
   "metadata": {},
   "outputs": [
    {
     "output_type": "execute_result",
     "data": {
      "text/plain": [
       "(0.9999999999999994+0j)"
      ]
     },
     "metadata": {},
     "execution_count": 293
    }
   ],
   "source": [
    "Identity=(fermion_id(lattice)@link_id(lattice=lattice,S=params[\"S\"])).to_qubit_operator(output=\"qiskit\")\n",
    "qiskit_exp_statevect(Identity,q_init_circ)\n"
   ]
  },
  {
   "cell_type": "code",
   "execution_count": 704,
   "metadata": {},
   "outputs": [],
   "source": [
    "def get_matrix_vect(A,C,state_circuit=None, params=None):\n",
    "    Amat=np.zeros([3,3],  dtype=complex)\n",
    "    Cvect=np.zeros([3], dtype=complex)\n",
    "    if state_circuit is None:\n",
    "        if params is None:\n",
    "            raise NotImplementedError(\"provide at lest params or state_circuit\")\n",
    "        else:\n",
    "            state_circuit=WilsonLGT2(lattice=lattice, S=S, rep=rep, initial_state=init_state).construct_circuit(parameters=params)\n",
    "\n",
    "    Amat[0][0]=qiskit_exp_statevect(A[\"A00\"],state_circuit)\n",
    "    Amat[0][1]=qiskit_exp_statevect(A[\"A01\"],state_circuit)\n",
    "    Amat[0][2]=qiskit_exp_statevect(A[\"A02\"],state_circuit)\n",
    "    Amat[1][0]=qiskit_exp_statevect(A[\"A10\"],state_circuit)\n",
    "    Amat[1][1]=qiskit_exp_statevect(A[\"A11\"],state_circuit)\n",
    "    Amat[1][2]=qiskit_exp_statevect(A[\"A12\"],state_circuit)\n",
    "    Amat[2][0]=qiskit_exp_statevect(A[\"A20\"],state_circuit)\n",
    "    Amat[2][1]=qiskit_exp_statevect(A[\"A21\"],state_circuit)\n",
    "    Amat[2][2]=qiskit_exp_statevect(A[\"A22\"],state_circuit)\n",
    "\n",
    "    Cvect[0]=qiskit_exp_statevect(C[\"C0\"],state_circuit)\n",
    "    Cvect[1]=qiskit_exp_statevect(C[\"C1\"],state_circuit)\n",
    "    Cvect[2]=qiskit_exp_statevect(C[\"C2\"],state_circuit)\n",
    "\n",
    "    return np.real(Amat), np.imag(Cvect)"
   ]
  },
  {
   "cell_type": "code",
   "execution_count": 405,
   "metadata": {},
   "outputs": [],
   "source": []
  },
  {
   "cell_type": "code",
   "execution_count": 705,
   "metadata": {},
   "outputs": [],
   "source": [
    "Amat,Cvec=get_matrix_vect(A=A,C=C,params=[1,0,0])\n"
   ]
  },
  {
   "cell_type": "code",
   "execution_count": 706,
   "metadata": {},
   "outputs": [
    {
     "output_type": "execute_result",
     "data": {
      "text/plain": [
       "(array([[5.95507845e-33, 3.25655801e-34, 6.51311602e-34],\n",
       "        [3.25655801e-34, 1.00000000e+00, 1.00000000e+00],\n",
       "        [6.51311602e-34, 1.00000000e+00, 1.00000000e+00]]),\n",
       " array([-2.33759637e-33, -8.00000000e+00, -8.00000000e+00]))"
      ]
     },
     "metadata": {},
     "execution_count": 706
    }
   ],
   "source": [
    "get_matrix_vect(A=A,C=C,state_circuit=q_init_circ)"
   ]
  },
  {
   "cell_type": "code",
   "execution_count": 707,
   "metadata": {},
   "outputs": [],
   "source": [
    "## abbiamo bisogno di una funzione che prende circuito e restituisce state vect \n",
    "def plotvect2(circ):\n",
    "    backend=Aer.get_backend(\"statevector_simulator\")\n",
    "    statevect=execute(circ,backend=backend).result().get_statevector()\n",
    "    return statevect\n",
    "## check\n"
   ]
  },
  {
   "cell_type": "code",
   "execution_count": 708,
   "metadata": {},
   "outputs": [],
   "source": [
    "### to solve we use that \n",
    "def solveG(A,C):\n",
    "    if np.linalg.det(A)==0:\n",
    "        invA=np.linalg.pinv(A)\n",
    "        print(\"Warning matrix is singular, using np.linalg.pinv(A)\")\n",
    "    else:\n",
    "        invA=np.linalg.inv(A) \n",
    "    return  np.dot(invA,C)   "
   ]
  },
  {
   "cell_type": "code",
   "execution_count": 709,
   "metadata": {},
   "outputs": [
    {
     "output_type": "execute_result",
     "data": {
      "text/plain": [
       "array([ 1.-0.j, -0.+0.j,  0.+0.j, -0.-0.j, -0.-0.j, -0.+0.j, -0.-0.j,\n",
       "        0.+0.j,  0.-0.j,  0.-0.j,  0.-0.j, -0.-0.j,  0.-0.j,  0.+0.j,\n",
       "        0.-0.j, -0.+0.j,  0.-0.j,  0.-0.j, -0.+0.j, -0.-0.j,  0.+0.j,\n",
       "        0.+0.j,  0.+0.j,  0.-0.j,  0.+0.j, -0.+0.j,  0.+0.j,  0.-0.j,\n",
       "        0.+0.j,  0.+0.j,  0.-0.j, -0.+0.j])"
      ]
     },
     "metadata": {},
     "execution_count": 709
    }
   ],
   "source": [
    "q_init_circ=WilsonLGT2(lattice=lattice, S=S, rep=rep, initial_state=init_state).construct_circuit(parameters=[np.pi+4*np.pi,0,0])\n",
    "\n",
    "np.around(plotvect2(q_init_circ),5)"
   ]
  },
  {
   "cell_type": "code",
   "execution_count": 904,
   "metadata": {},
   "outputs": [
    {
     "output_type": "error",
     "ename": "IndexError",
     "evalue": "only integers, slices (`:`), ellipsis (`...`), numpy.newaxis (`None`) and integer or boolean arrays are valid indices",
     "traceback": [
      "\u001b[0;31m---------------------------------------------------------------------------\u001b[0m",
      "\u001b[0;31mIndexError\u001b[0m                                Traceback (most recent call last)",
      "\u001b[0;32m<ipython-input-904-ad4d5222c8ad>\u001b[0m in \u001b[0;36m<module>\u001b[0;34m\u001b[0m\n\u001b[1;32m     29\u001b[0m     \u001b[0mstate_circ\u001b[0m\u001b[0;34m=\u001b[0m\u001b[0mWilsonLGT2\u001b[0m\u001b[0;34m(\u001b[0m\u001b[0mlattice\u001b[0m\u001b[0;34m=\u001b[0m\u001b[0mlattice\u001b[0m\u001b[0;34m,\u001b[0m \u001b[0mS\u001b[0m\u001b[0;34m=\u001b[0m\u001b[0mS\u001b[0m\u001b[0;34m,\u001b[0m \u001b[0mrep\u001b[0m\u001b[0;34m=\u001b[0m\u001b[0mrep\u001b[0m\u001b[0;34m,\u001b[0m \u001b[0minitial_state\u001b[0m\u001b[0;34m=\u001b[0m\u001b[0minit_state\u001b[0m\u001b[0;34m)\u001b[0m\u001b[0;34m.\u001b[0m\u001b[0mconstruct_circuit\u001b[0m\u001b[0;34m(\u001b[0m\u001b[0mparameters\u001b[0m\u001b[0;34m=\u001b[0m\u001b[0mtheta\u001b[0m\u001b[0;34m)\u001b[0m\u001b[0;34m\u001b[0m\u001b[0;34m\u001b[0m\u001b[0m\n\u001b[1;32m     30\u001b[0m     \u001b[0mevolvevar\u001b[0m\u001b[0;34m.\u001b[0m\u001b[0mappend\u001b[0m\u001b[0;34m(\u001b[0m\u001b[0mplotvect2\u001b[0m\u001b[0;34m(\u001b[0m\u001b[0mstate_circ\u001b[0m\u001b[0;34m)\u001b[0m\u001b[0;34m)\u001b[0m\u001b[0;34m\u001b[0m\u001b[0;34m\u001b[0m\u001b[0m\n\u001b[0;32m---> 31\u001b[0;31m     \u001b[0mAmat\u001b[0m\u001b[0;34m,\u001b[0m\u001b[0mCvec\u001b[0m\u001b[0;34m=\u001b[0m\u001b[0mget_matrix_vect\u001b[0m\u001b[0;34m(\u001b[0m\u001b[0mA\u001b[0m\u001b[0;34m=\u001b[0m\u001b[0mA\u001b[0m\u001b[0;34m,\u001b[0m\u001b[0mC\u001b[0m\u001b[0;34m=\u001b[0m\u001b[0mC\u001b[0m\u001b[0;34m,\u001b[0m\u001b[0mstate_circuit\u001b[0m\u001b[0;34m=\u001b[0m\u001b[0mstate_circ\u001b[0m\u001b[0;34m)\u001b[0m\u001b[0;34m\u001b[0m\u001b[0;34m\u001b[0m\u001b[0m\n\u001b[0m\u001b[1;32m     32\u001b[0m     \u001b[0mthetadot\u001b[0m\u001b[0;34m=\u001b[0m\u001b[0msolveG\u001b[0m\u001b[0;34m(\u001b[0m\u001b[0mAmat\u001b[0m\u001b[0;34m,\u001b[0m\u001b[0mCvec\u001b[0m\u001b[0;34m)\u001b[0m\u001b[0;34m\u001b[0m\u001b[0;34m\u001b[0m\u001b[0m\n\u001b[1;32m     33\u001b[0m     \u001b[0;31m#thetadot=scipy.linalg.solve(Amat,Cvec)\u001b[0m\u001b[0;34m\u001b[0m\u001b[0;34m\u001b[0m\u001b[0;34m\u001b[0m\u001b[0m\n",
      "\u001b[0;32m<ipython-input-704-dafa34528c12>\u001b[0m in \u001b[0;36mget_matrix_vect\u001b[0;34m(A, C, state_circuit, params)\u001b[0m\n\u001b[1;32m      8\u001b[0m             \u001b[0mstate_circuit\u001b[0m\u001b[0;34m=\u001b[0m\u001b[0mWilsonLGT2\u001b[0m\u001b[0;34m(\u001b[0m\u001b[0mlattice\u001b[0m\u001b[0;34m=\u001b[0m\u001b[0mlattice\u001b[0m\u001b[0;34m,\u001b[0m \u001b[0mS\u001b[0m\u001b[0;34m=\u001b[0m\u001b[0mS\u001b[0m\u001b[0;34m,\u001b[0m \u001b[0mrep\u001b[0m\u001b[0;34m=\u001b[0m\u001b[0mrep\u001b[0m\u001b[0;34m,\u001b[0m \u001b[0minitial_state\u001b[0m\u001b[0;34m=\u001b[0m\u001b[0minit_state\u001b[0m\u001b[0;34m)\u001b[0m\u001b[0;34m.\u001b[0m\u001b[0mconstruct_circuit\u001b[0m\u001b[0;34m(\u001b[0m\u001b[0mparameters\u001b[0m\u001b[0;34m=\u001b[0m\u001b[0mparams\u001b[0m\u001b[0;34m)\u001b[0m\u001b[0;34m\u001b[0m\u001b[0;34m\u001b[0m\u001b[0m\n\u001b[1;32m      9\u001b[0m \u001b[0;34m\u001b[0m\u001b[0m\n\u001b[0;32m---> 10\u001b[0;31m     \u001b[0mAmat\u001b[0m\u001b[0;34m[\u001b[0m\u001b[0;36m0\u001b[0m\u001b[0;34m]\u001b[0m\u001b[0;34m[\u001b[0m\u001b[0;36m0\u001b[0m\u001b[0;34m]\u001b[0m\u001b[0;34m=\u001b[0m\u001b[0mqiskit_exp_statevect\u001b[0m\u001b[0;34m(\u001b[0m\u001b[0mA\u001b[0m\u001b[0;34m[\u001b[0m\u001b[0;34m\"A00\"\u001b[0m\u001b[0;34m]\u001b[0m\u001b[0;34m,\u001b[0m\u001b[0mstate_circuit\u001b[0m\u001b[0;34m)\u001b[0m\u001b[0;34m\u001b[0m\u001b[0;34m\u001b[0m\u001b[0m\n\u001b[0m\u001b[1;32m     11\u001b[0m     \u001b[0mAmat\u001b[0m\u001b[0;34m[\u001b[0m\u001b[0;36m0\u001b[0m\u001b[0;34m]\u001b[0m\u001b[0;34m[\u001b[0m\u001b[0;36m1\u001b[0m\u001b[0;34m]\u001b[0m\u001b[0;34m=\u001b[0m\u001b[0mqiskit_exp_statevect\u001b[0m\u001b[0;34m(\u001b[0m\u001b[0mA\u001b[0m\u001b[0;34m[\u001b[0m\u001b[0;34m\"A01\"\u001b[0m\u001b[0;34m]\u001b[0m\u001b[0;34m,\u001b[0m\u001b[0mstate_circuit\u001b[0m\u001b[0;34m)\u001b[0m\u001b[0;34m\u001b[0m\u001b[0;34m\u001b[0m\u001b[0m\n\u001b[1;32m     12\u001b[0m     \u001b[0mAmat\u001b[0m\u001b[0;34m[\u001b[0m\u001b[0;36m0\u001b[0m\u001b[0;34m]\u001b[0m\u001b[0;34m[\u001b[0m\u001b[0;36m2\u001b[0m\u001b[0;34m]\u001b[0m\u001b[0;34m=\u001b[0m\u001b[0mqiskit_exp_statevect\u001b[0m\u001b[0;34m(\u001b[0m\u001b[0mA\u001b[0m\u001b[0;34m[\u001b[0m\u001b[0;34m\"A02\"\u001b[0m\u001b[0;34m]\u001b[0m\u001b[0;34m,\u001b[0m\u001b[0mstate_circuit\u001b[0m\u001b[0;34m)\u001b[0m\u001b[0;34m\u001b[0m\u001b[0;34m\u001b[0m\u001b[0m\n",
      "\u001b[0;31mIndexError\u001b[0m: only integers, slices (`:`), ellipsis (`...`), numpy.newaxis (`None`) and integer or boolean arrays are valid indices"
     ]
    }
   ],
   "source": [
    "\n",
    "### devo risolvere il caso in cui ci sono eigenvalue negativi !!! \n",
    "## ora che ho thetadot posso farel'upload dei theta rispetto a \n",
    "\"\"\"\n",
    "tstep=0.1\n",
    "nstep=50\n",
    "\n",
    "\"\"\"\n",
    "init_state=DiracState(\"ap\", [-0.5], S=S)\n",
    "\n",
    "theta_init=[0,0,0]\n",
    "\n",
    "q_init_circ=WilsonLGT2(lattice=lattice, S=S, rep=rep, initial_state=init_state).construct_circuit(parameters=theta_init)\n",
    "\n",
    "init_vect=np.around(plotvect2(q_init_circ),5)\n",
    "\n",
    "state_decompose_dirac(state=q_init_circ, fermi_len=lattice.nsites, spin_len= lattice.nedges, S=params[\"S\"], thres=0.1 )\n",
    "\n",
    "tfin=5\n",
    "delta_t=0.1\n",
    "nstep=tfin/delta_t\n",
    "\n",
    "t=np.linspace(0, tfin, int(tfin/delta_t))\n",
    "delta_t=t[-1]/len(t)\n",
    "\n",
    "evolvevar=[]\n",
    "\n",
    "theta=theta_init\n",
    "for i in range(len(t)):\n",
    "    state_circ=WilsonLGT2(lattice=lattice, S=S, rep=rep, initial_state=init_state).construct_circuit(parameters=theta)\n",
    "    evolvevar.append(plotvect2(state_circ))\n",
    "    Amat,Cvec=get_matrix_vect(A=A,C=C,state_circuit=state_circ)\n",
    "    thetadot=solveG(Amat,Cvec)\n",
    "    #thetadot=scipy.linalg.solve(Amat,Cvec)\n",
    "    theta= theta+ delta_t * thetadot\n",
    "    \n"
   ]
  },
  {
   "cell_type": "code",
   "execution_count": null,
   "metadata": {},
   "outputs": [],
   "source": [
    "final_circ=WilsonLGT2(lattice=lattice, S=S, rep=rep, initial_state=init_state).construct_circuit(parameters=theta)\n",
    "\n",
    "state_decompose_dirac(state=final_circ, fermi_len=lattice.nsites, spin_len= lattice.nedges, S=params[\"S\"], thres=0.1 )"
   ]
  },
  {
   "cell_type": "code",
   "execution_count": null,
   "metadata": {},
   "outputs": [],
   "source": [
    "#compute overlap with initial state \n",
    "overlapsvar=np.asarray([ np.square(np.abs(qiskit_overlap(init_vect, evolve))) for evolve in evolvevar])\n",
    "\n",
    "#overlapsvar=np.asarray([ np.square(np.abs(qiskit_overlap(init_state.construct_circuit(\"vector\").flatten(), evolve))) for evolve in evolvevar])\n"
   ]
  },
  {
   "cell_type": "code",
   "execution_count": null,
   "metadata": {},
   "outputs": [],
   "source": [
    "plt.figure(figsize=(9,5))\n",
    "plt.plot(t,overlapsvar,\".-\" ,label=r'Probability P(t)=$|\\langle \\psi_0 | \\psi_t \\rangle|^2$')\n",
    "plt.fill_between(t, 0, overlapsvar, alpha=0.2)\n",
    "plt.legend(fontsize=20)\n",
    "plt.xlabel('Time t', fontsize=20)\n",
    "plt.ylabel('Probability P(t)', fontsize=20)\n",
    "plt.title('Probability of observing initial state', fontsize=24)"
   ]
  },
  {
   "cell_type": "code",
   "execution_count": null,
   "metadata": {},
   "outputs": [],
   "source": [
    "problistvar = np.array([[np.square(np.abs(qiskit_overlap(split_state.full().flatten(), state.flatten()))) for state in evolvevar] \n",
    "                     for split_state in split_states])\n",
    "other = 1 - np.sum(problistvar, axis=0)\n",
    "problistvar = np.vstack((problistvar, other))\n",
    "\n",
    "\n",
    "\n",
    "thres=0.0\n",
    "# 1. Extract the relevant rows in the probability list depending on the threshold:\n",
    "relevant_indices = np.unique(np.where(problistvar > thres)[0])\n",
    "\n",
    "relevant_labels = labellist[relevant_indices]\n",
    "relevant_probs =  problistvar[relevant_indices]\n",
    "colors=['C0',\n",
    "        'darkgreen', 'forestgreen', 'mediumseagreen', 'limegreen','lawngreen','yellowgreen',\n",
    "        'maroon', 'firebrick', 'red',\n",
    "        'grey']\n",
    "\n",
    "# 2. Plot\n",
    "baseline = np.zeros_like(t)\n",
    "for line, label, color in zip(np.cumsum(relevant_probs, axis=0), relevant_labels, colors):\n",
    "    plt.plot(t, line, color=color, label=label)\n",
    "    plt.fill_between(t, baseline, line, alpha=0.4, color=color)\n",
    "    baseline = line\n",
    "\n",
    "plt.legend(loc='lower center', ncol=2, fontsize=axes_size);\n",
    "plt.xlim((0,t[-1]))\n",
    "plt.ylim((0,1))\n",
    "#sns.despine()\n",
    "plt.xticks(fontsize=tick_size)\n",
    "plt.yticks(fontsize=tick_size)\n",
    "plt.title(r'String breaking ($m \\ll e$): Splitting of probabilities', fontsize=title_size)\n",
    "plt.ylabel(r'State probability', fontsize = axes_size)\n",
    "plt.xlabel(r'Time $t$', fontsize = axes_size);\n",
    "plt.savefig(overleafpath + 'string_breaking_probability_split.pdf')"
   ]
  },
  {
   "cell_type": "code",
   "execution_count": 1470,
   "metadata": {},
   "outputs": [
    {
     "output_type": "stream",
     "name": "stdout",
     "text": [
      "1. Constructing trotter step\n2. Extracting trotter matrix\n3. Running time evolution\nforcasted total time: 0.0s\ncompleted 50 of 50 in time 0.000s   -   0.0s left\ntotal time elapsed: 0.0665s\nTOTAL TIME: 0.067s\n"
     ]
    },
    {
     "output_type": "execute_result",
     "data": {
      "text/plain": [
       "Text(0.5, 1.0, 'Probability of observing initial state')"
      ]
     },
     "metadata": {},
     "execution_count": 1470
    },
    {
     "output_type": "display_data",
     "data": {
      "text/plain": "<Figure size 648x360 with 1 Axes>",
      "image/svg+xml": "<?xml version=\"1.0\" encoding=\"utf-8\" standalone=\"no\"?>\n<!DOCTYPE svg PUBLIC \"-//W3C//DTD SVG 1.1//EN\"\n  \"http://www.w3.org/Graphics/SVG/1.1/DTD/svg11.dtd\">\n<!-- Created with matplotlib (https://matplotlib.org/) -->\n<svg height=\"344.79125pt\" version=\"1.1\" viewBox=\"0 0 555.61875 344.79125\" width=\"555.61875pt\" xmlns=\"http://www.w3.org/2000/svg\" xmlns:xlink=\"http://www.w3.org/1999/xlink\">\n <metadata>\n  <rdf:RDF xmlns:cc=\"http://creativecommons.org/ns#\" xmlns:dc=\"http://purl.org/dc/elements/1.1/\" xmlns:rdf=\"http://www.w3.org/1999/02/22-rdf-syntax-ns#\">\n   <cc:Work>\n    <dc:type rdf:resource=\"http://purl.org/dc/dcmitype/StillImage\"/>\n    <dc:date>2020-11-25T16:16:18.803318</dc:date>\n    <dc:format>image/svg+xml</dc:format>\n    <dc:creator>\n     <cc:Agent>\n      <dc:title>Matplotlib v3.3.3, https://matplotlib.org/</dc:title>\n     </cc:Agent>\n    </dc:creator>\n   </cc:Work>\n  </rdf:RDF>\n </metadata>\n <defs>\n  <style type=\"text/css\">*{stroke-linecap:butt;stroke-linejoin:round;}</style>\n </defs>\n <g id=\"figure_1\">\n  <g id=\"patch_1\">\n   <path d=\"M 0 344.79125 \nL 555.61875 344.79125 \nL 555.61875 0 \nL 0 0 \nz\n\" style=\"fill:none;\"/>\n  </g>\n  <g id=\"axes_1\">\n   <g id=\"patch_2\">\n    <path d=\"M 46.21875 301.39125 \nL 548.41875 301.39125 \nL 548.41875 29.59125 \nL 46.21875 29.59125 \nz\n\" style=\"fill:#ffffff;\"/>\n   </g>\n   <g id=\"PolyCollection_1\">\n    <path clip-path=\"url(#p2c3d5fa424)\" d=\"M 69.046023 41.945795 \nL 69.046023 289.036705 \nL 78.176932 289.036705 \nL 87.307841 289.036705 \nL 96.43875 289.036705 \nL 105.569659 289.036705 \nL 114.700568 289.036705 \nL 123.831477 289.036705 \nL 132.962386 289.036705 \nL 142.093295 289.036705 \nL 151.224205 289.036705 \nL 160.355114 289.036705 \nL 169.486023 289.036705 \nL 178.616932 289.036705 \nL 187.747841 289.036705 \nL 196.87875 289.036705 \nL 206.009659 289.036705 \nL 215.140568 289.036705 \nL 224.271477 289.036705 \nL 233.402386 289.036705 \nL 242.533295 289.036705 \nL 251.664205 289.036705 \nL 260.795114 289.036705 \nL 269.926023 289.036705 \nL 279.056932 289.036705 \nL 288.187841 289.036705 \nL 297.31875 289.036705 \nL 306.449659 289.036705 \nL 315.580568 289.036705 \nL 324.711477 289.036705 \nL 333.842386 289.036705 \nL 342.973295 289.036705 \nL 352.104205 289.036705 \nL 361.235114 289.036705 \nL 370.366023 289.036705 \nL 379.496932 289.036705 \nL 388.627841 289.036705 \nL 397.75875 289.036705 \nL 406.889659 289.036705 \nL 416.020568 289.036705 \nL 425.151477 289.036705 \nL 434.282386 289.036705 \nL 443.413295 289.036705 \nL 452.544205 289.036705 \nL 461.675114 289.036705 \nL 470.806023 289.036705 \nL 479.936932 289.036705 \nL 489.067841 289.036705 \nL 498.19875 289.036705 \nL 507.329659 289.036705 \nL 516.460568 289.036705 \nL 525.591477 289.036705 \nL 525.591477 66.147455 \nL 525.591477 66.147455 \nL 516.460568 64.949648 \nL 507.329659 62.76429 \nL 498.19875 59.700975 \nL 489.067841 56.009755 \nL 479.936932 52.057146 \nL 470.806023 48.283561 \nL 461.675114 45.149536 \nL 452.544205 43.07612 \nL 443.413295 42.383766 \nL 434.282386 43.235951 \nL 425.151477 45.597683 \nL 416.020568 49.221463 \nL 406.889659 53.670745 \nL 397.75875 58.382412 \nL 388.627841 62.757908 \nL 379.496932 66.26256 \nL 370.366023 68.509283 \nL 361.235114 69.308043 \nL 352.104205 68.673909 \nL 342.973295 66.798899 \nL 333.842386 64.000998 \nL 324.711477 60.665125 \nL 315.580568 57.186886 \nL 306.449659 53.924473 \nL 297.31875 51.160829 \nL 288.187841 49.078298 \nL 279.056932 47.749652 \nL 269.926023 47.149318 \nL 260.795114 47.184598 \nL 251.664205 47.739564 \nL 242.533295 48.717712 \nL 233.402386 50.067688 \nL 224.271477 51.781697 \nL 215.140568 53.866932 \nL 206.009659 56.301771 \nL 196.87875 58.995063 \nL 187.747841 61.765436 \nL 178.616932 64.349307 \nL 169.486023 66.435339 \nL 160.355114 67.714895 \nL 151.224205 67.935487 \nL 142.093295 66.947033 \nL 132.962386 64.735454 \nL 123.831477 61.441325 \nL 114.700568 57.361236 \nL 105.569659 52.927934 \nL 96.43875 48.665315 \nL 87.307841 45.118637 \nL 78.176932 42.768517 \nL 69.046023 41.945795 \nz\n\" style=\"fill:#1f77b4;fill-opacity:0.2;\"/>\n   </g>\n   <g id=\"matplotlib.axis_1\">\n    <g id=\"xtick_1\">\n     <g id=\"line2d_1\">\n      <defs>\n       <path d=\"M 0 0 \nL 0 3.5 \n\" id=\"m90e4676428\" style=\"stroke:#000000;stroke-width:0.8;\"/>\n      </defs>\n      <g>\n       <use style=\"stroke:#000000;stroke-width:0.8;\" x=\"69.046023\" xlink:href=\"#m90e4676428\" y=\"301.39125\"/>\n      </g>\n     </g>\n     <g id=\"text_1\">\n      <!-- 0 -->\n      <g transform=\"translate(67.046023 313.855)scale(0.08 -0.08)\">\n       <defs>\n        <path d=\"M 47.59375 33 \nQ 47.59375 26.296875 46.296875 20.34375 \nQ 45 14.40625 42.453125 9.40625 \nQ 39.90625 4.40625 35.40625 1.5 \nQ 30.90625 -1.40625 25 -1.40625 \nQ 18.90625 -1.40625 14.296875 1.6875 \nQ 9.703125 4.796875 7.203125 10 \nQ 4.703125 15.203125 3.546875 21.09375 \nQ 2.40625 27 2.40625 33.59375 \nQ 2.40625 42.90625 4.703125 50.34375 \nQ 7 57.796875 12.34375 62.6875 \nQ 17.703125 67.59375 25.40625 67.59375 \nQ 35.203125 67.59375 41.390625 58 \nQ 47.59375 48.40625 47.59375 33 \nz\nM 38 32.5 \nQ 38 48.296875 34.640625 56.640625 \nQ 31.296875 65 24.796875 65 \nQ 18.59375 65 15.296875 56.59375 \nQ 12 48.203125 12 32.90625 \nQ 12 17.5 15.296875 9.34375 \nQ 18.59375 1.203125 25 1.203125 \nQ 31.296875 1.203125 34.640625 9.34375 \nQ 38 17.5 38 32.5 \nz\n\" id=\"STIXGeneral-Regular-48\"/>\n       </defs>\n       <use xlink:href=\"#STIXGeneral-Regular-48\"/>\n      </g>\n     </g>\n    </g>\n    <g id=\"xtick_2\">\n     <g id=\"line2d_2\">\n      <g>\n       <use style=\"stroke:#000000;stroke-width:0.8;\" x=\"160.355114\" xlink:href=\"#m90e4676428\" y=\"301.39125\"/>\n      </g>\n     </g>\n     <g id=\"text_2\">\n      <!-- 1 -->\n      <g transform=\"translate(158.355114 313.855)scale(0.08 -0.08)\">\n       <defs>\n        <path d=\"M 39.40625 0 \nL 11.796875 0 \nL 11.796875 1.5 \nQ 17.296875 1.796875 19.296875 3.546875 \nQ 21.296875 5.296875 21.296875 9.5 \nL 21.296875 54.40625 \nQ 21.296875 59.296875 18.296875 59.296875 \nQ 16.90625 59.296875 13.796875 58.09375 \nL 11.09375 57.09375 \nL 11.09375 58.5 \nL 29 67.59375 \nL 29.90625 67.296875 \nL 29.90625 7.59375 \nQ 29.90625 4.296875 31.90625 2.890625 \nQ 33.90625 1.5 39.40625 1.5 \nz\n\" id=\"STIXGeneral-Regular-49\"/>\n       </defs>\n       <use xlink:href=\"#STIXGeneral-Regular-49\"/>\n      </g>\n     </g>\n    </g>\n    <g id=\"xtick_3\">\n     <g id=\"line2d_3\">\n      <g>\n       <use style=\"stroke:#000000;stroke-width:0.8;\" x=\"251.664205\" xlink:href=\"#m90e4676428\" y=\"301.39125\"/>\n      </g>\n     </g>\n     <g id=\"text_3\">\n      <!-- 2 -->\n      <g transform=\"translate(249.664205 313.855)scale(0.08 -0.08)\">\n       <defs>\n        <path d=\"M 47.40625 13.703125 \nL 42 0 \nL 2.90625 0 \nL 2.90625 1.203125 \nL 20.703125 20.09375 \nQ 27.703125 27.40625 30.703125 33.5 \nQ 33.703125 39.59375 33.703125 46.09375 \nQ 33.703125 52.796875 30 56.5 \nQ 26.296875 60.203125 19.796875 60.203125 \nQ 14.40625 60.203125 11.25 57.390625 \nQ 8.09375 54.59375 5.09375 47.203125 \nL 3 47.703125 \nQ 4.703125 57 9.84375 62.296875 \nQ 15 67.59375 23.796875 67.59375 \nQ 32.09375 67.59375 37.1875 62.59375 \nQ 42.296875 57.59375 42.296875 50 \nQ 42.296875 38.703125 29.5 25.203125 \nL 13 7.59375 \nL 36.40625 7.59375 \nQ 39.703125 7.59375 41.640625 8.890625 \nQ 43.59375 10.203125 46 14.296875 \nz\n\" id=\"STIXGeneral-Regular-50\"/>\n       </defs>\n       <use xlink:href=\"#STIXGeneral-Regular-50\"/>\n      </g>\n     </g>\n    </g>\n    <g id=\"xtick_4\">\n     <g id=\"line2d_4\">\n      <g>\n       <use style=\"stroke:#000000;stroke-width:0.8;\" x=\"342.973295\" xlink:href=\"#m90e4676428\" y=\"301.39125\"/>\n      </g>\n     </g>\n     <g id=\"text_4\">\n      <!-- 3 -->\n      <g transform=\"translate(340.973295 313.855)scale(0.08 -0.08)\">\n       <defs>\n        <path d=\"M 6.09375 51 \nL 4.5 51.40625 \nQ 6.796875 58.90625 11.6875 63.25 \nQ 16.59375 67.59375 24.09375 67.59375 \nQ 31.09375 67.59375 35.390625 63.796875 \nQ 39.703125 60 39.703125 53.90625 \nQ 39.703125 45.703125 30.40625 40.09375 \nQ 35.90625 37.703125 38.703125 34.796875 \nQ 43.09375 29.90625 43.09375 21.90625 \nQ 43.09375 13.90625 38.5 7.90625 \nQ 35.09375 3.296875 28.75 0.9375 \nQ 22.40625 -1.40625 15.296875 -1.40625 \nQ 4.09375 -1.40625 4.09375 4.296875 \nQ 4.09375 5.90625 5.296875 6.90625 \nQ 6.5 7.90625 8.203125 7.90625 \nQ 10.703125 7.90625 14.296875 5.296875 \nQ 18.703125 2.203125 22.90625 2.203125 \nQ 28.40625 2.203125 32.15625 6.640625 \nQ 35.90625 11.09375 35.90625 17.5 \nQ 35.90625 29 25.5 32 \nQ 22.40625 33 15.296875 33 \nL 15.296875 34.40625 \nQ 20.90625 36.296875 23.703125 38 \nQ 31.796875 42.59375 31.796875 51.40625 \nQ 31.796875 56.40625 28.9375 59 \nQ 26.09375 61.59375 21 61.59375 \nQ 12 61.59375 6.09375 51 \nz\n\" id=\"STIXGeneral-Regular-51\"/>\n       </defs>\n       <use xlink:href=\"#STIXGeneral-Regular-51\"/>\n      </g>\n     </g>\n    </g>\n    <g id=\"xtick_5\">\n     <g id=\"line2d_5\">\n      <g>\n       <use style=\"stroke:#000000;stroke-width:0.8;\" x=\"434.282386\" xlink:href=\"#m90e4676428\" y=\"301.39125\"/>\n      </g>\n     </g>\n     <g id=\"text_5\">\n      <!-- 4 -->\n      <g transform=\"translate(432.282386 313.855)scale(0.08 -0.08)\">\n       <defs>\n        <path d=\"M 47.296875 16.703125 \nL 37 16.703125 \nL 37 0 \nL 29.203125 0 \nL 29.203125 16.703125 \nL 1.203125 16.703125 \nL 1.203125 23.09375 \nL 32.59375 67.59375 \nL 37 67.59375 \nL 37 23.09375 \nL 47.296875 23.09375 \nz\nM 29.203125 23.09375 \nL 29.203125 57.40625 \nL 5.203125 23.09375 \nz\n\" id=\"STIXGeneral-Regular-52\"/>\n       </defs>\n       <use xlink:href=\"#STIXGeneral-Regular-52\"/>\n      </g>\n     </g>\n    </g>\n    <g id=\"xtick_6\">\n     <g id=\"line2d_6\">\n      <g>\n       <use style=\"stroke:#000000;stroke-width:0.8;\" x=\"525.591477\" xlink:href=\"#m90e4676428\" y=\"301.39125\"/>\n      </g>\n     </g>\n     <g id=\"text_6\">\n      <!-- 5 -->\n      <g transform=\"translate(523.591477 313.855)scale(0.08 -0.08)\">\n       <defs>\n        <path d=\"M 43.796875 68.09375 \nL 40.203125 59.59375 \nQ 39.59375 58.296875 37.5 58.296875 \nL 18.09375 58.296875 \nL 14.09375 49.796875 \nQ 25.09375 47.703125 30 45.25 \nQ 34.90625 42.796875 39.09375 37 \nQ 42.59375 32.203125 42.59375 24.296875 \nQ 42.59375 17.09375 40.25 12.1875 \nQ 37.90625 7.296875 32.796875 3.5 \nQ 26 -1.40625 15.796875 -1.40625 \nQ 10.09375 -1.40625 6.59375 0.296875 \nQ 3.09375 2 3.09375 4.796875 \nQ 3.09375 8.59375 7.59375 8.59375 \nQ 11.203125 8.59375 15 5.5 \nQ 18.90625 2.296875 22.09375 2.296875 \nQ 27.296875 2.296875 31.4375 7.5 \nQ 35.59375 12.703125 35.59375 19.203125 \nQ 35.59375 28.796875 28.90625 34.203125 \nQ 20.203125 41.203125 7.59375 41.203125 \nQ 6.40625 41.203125 6.40625 42 \nL 6.5 42.5 \nL 17.40625 66.203125 \nL 38.09375 66.203125 \nQ 39.796875 66.203125 40.75 66.703125 \nQ 41.703125 67.203125 42.90625 68.796875 \nz\n\" id=\"STIXGeneral-Regular-53\"/>\n       </defs>\n       <use xlink:href=\"#STIXGeneral-Regular-53\"/>\n      </g>\n     </g>\n    </g>\n    <g id=\"text_7\">\n     <!-- Time t -->\n     <g transform=\"translate(270.929688 333.250625)scale(0.2 -0.2)\">\n      <defs>\n       <path d=\"M 59.296875 49.203125 \nL 56.90625 49.203125 \nQ 55.296875 57.40625 52.390625 59.703125 \nQ 49.5 62 41.5 62 \nL 35.59375 62 \nL 35.59375 11.09375 \nQ 35.59375 5.40625 37.296875 3.796875 \nQ 39 2.203125 45.203125 1.90625 \nL 45.203125 0 \nL 16 0 \nL 16 1.90625 \nQ 22.296875 2.296875 23.84375 4 \nQ 25.40625 5.703125 25.40625 12.296875 \nL 25.40625 62 \nL 19.40625 62 \nQ 11.296875 62 8.4375 59.640625 \nQ 5.59375 57.296875 4.09375 49.203125 \nL 1.703125 49.203125 \nL 2.40625 66.203125 \nL 58.59375 66.203125 \nz\n\" id=\"STIXGeneral-Regular-84\"/>\n       <path d=\"M 18 63.203125 \nQ 18 61 16.5 59.546875 \nQ 15 58.09375 12.796875 58.09375 \nQ 10.703125 58.09375 9.25 59.546875 \nQ 7.796875 61 7.796875 63.203125 \nQ 7.796875 65.296875 9.296875 66.796875 \nQ 10.796875 68.296875 12.90625 68.296875 \nQ 15.09375 68.296875 16.546875 66.796875 \nQ 18 65.296875 18 63.203125 \nz\nM 25.296875 0 \nL 1.59375 0 \nL 1.59375 1.5 \nQ 6.796875 1.796875 8.140625 3.296875 \nQ 9.5 4.796875 9.5 10.40625 \nL 9.5 33.09375 \nQ 9.5 36.59375 8.796875 38 \nQ 8.09375 39.40625 6.203125 39.40625 \nQ 3.796875 39.40625 2 38.90625 \nL 2 40.5 \nL 17.5 46 \nL 17.90625 45.59375 \nL 17.90625 10.5 \nQ 17.90625 4.90625 19.15625 3.40625 \nQ 20.40625 1.90625 25.296875 1.5 \nz\n\" id=\"STIXGeneral-Regular-105\"/>\n       <path d=\"M 77.5 0 \nL 55.703125 0 \nL 55.703125 1.5 \nQ 59.90625 1.90625 61.046875 3.25 \nQ 62.203125 4.59375 62.203125 9 \nL 62.203125 29.59375 \nQ 62.203125 35.59375 60.453125 38.1875 \nQ 58.703125 40.796875 54.5 40.796875 \nQ 51 40.796875 48.546875 39.390625 \nQ 46.09375 38 43.796875 34.703125 \nL 43.796875 9.5 \nQ 43.796875 4.703125 45.25 3.140625 \nQ 46.703125 1.59375 51 1.5 \nL 51 0 \nL 28.59375 0 \nL 28.59375 1.5 \nQ 33 1.796875 34.203125 2.9375 \nQ 35.40625 4.09375 35.40625 8.59375 \nL 35.40625 29.703125 \nQ 35.40625 40.796875 28.90625 40.796875 \nQ 26.09375 40.796875 22.9375 39.546875 \nQ 19.796875 38.296875 18.296875 36.5 \nQ 17 35 17 34.796875 \nL 17 7 \nQ 17 3.796875 18.390625 2.75 \nQ 19.796875 1.703125 23.796875 1.5 \nL 23.796875 0 \nL 1.59375 0 \nL 1.59375 1.5 \nQ 5.796875 1.59375 7.1875 3.046875 \nQ 8.59375 4.5 8.59375 8.796875 \nL 8.59375 33.59375 \nQ 8.59375 37.296875 7.796875 38.75 \nQ 7 40.203125 5.09375 40.203125 \nQ 3.59375 40.203125 1.90625 39.796875 \nL 1.90625 41.5 \nQ 8.703125 43.40625 15.796875 46 \nL 16.59375 45.703125 \nL 16.59375 38.296875 \nL 16.796875 38.296875 \nQ 21.296875 43 24.75 44.5 \nQ 28.203125 46 32.09375 46 \nQ 40 46 42.703125 37.59375 \nQ 50.5 46 59 46 \nQ 70.59375 46 70.59375 28 \nL 70.59375 7.703125 \nQ 70.59375 4.40625 71.59375 3.15625 \nQ 72.59375 1.90625 74.90625 1.703125 \nL 77.5 1.5 \nz\n\" id=\"STIXGeneral-Regular-109\"/>\n       <path d=\"M 40.796875 16.40625 \nL 42.40625 15.703125 \nQ 36.40625 -1 21.5 -1 \nQ 12.703125 -1 7.59375 5.140625 \nQ 2.5 11.296875 2.5 21.703125 \nQ 2.5 32.40625 8.203125 39.203125 \nQ 13.90625 46 23.203125 46 \nQ 32.203125 46 37.09375 39.09375 \nQ 40 35.09375 40.5 27.703125 \nL 9.703125 27.703125 \nQ 10.09375 21.40625 10.9375 18.09375 \nQ 11.796875 14.796875 14.296875 11.40625 \nQ 18.5 5.90625 25.40625 5.90625 \nQ 30.296875 5.90625 33.640625 8.296875 \nQ 37 10.703125 40.796875 16.40625 \nz\nM 9.90625 30.90625 \nL 30.296875 30.90625 \nQ 29.40625 37.203125 27.34375 39.796875 \nQ 25.296875 42.40625 20.5 42.40625 \nQ 16.296875 42.40625 13.5 39.453125 \nQ 10.703125 36.5 9.90625 30.90625 \nz\n\" id=\"STIXGeneral-Regular-101\"/>\n       <path id=\"STIXGeneral-Regular-32\"/>\n       <path d=\"M 26.59375 7.703125 \nL 27.90625 6.59375 \nQ 23.09375 -1 15.796875 -1 \nQ 7 -1 7 11.703125 \nL 7 41.796875 \nL 1.703125 41.796875 \nQ 1.296875 42.09375 1.296875 42.5 \nQ 1.296875 43.296875 3 44.40625 \nQ 6.796875 46.59375 12.703125 55.09375 \nQ 12.90625 55.40625 13.65625 56.34375 \nQ 14.40625 57.296875 14.703125 57.90625 \nQ 15.40625 57.90625 15.40625 56.59375 \nL 15.40625 45 \nL 25.5 45 \nL 25.5 41.796875 \nL 15.40625 41.796875 \nL 15.40625 13.203125 \nQ 15.40625 8.40625 16.59375 6.296875 \nQ 17.796875 4.203125 20.59375 4.203125 \nQ 23.59375 4.203125 26.59375 7.703125 \nz\n\" id=\"STIXGeneral-Regular-116\"/>\n      </defs>\n      <use xlink:href=\"#STIXGeneral-Regular-84\"/>\n      <use x=\"61.099991\" xlink:href=\"#STIXGeneral-Regular-105\"/>\n      <use x=\"88.899979\" xlink:href=\"#STIXGeneral-Regular-109\"/>\n      <use x=\"166.699966\" xlink:href=\"#STIXGeneral-Regular-101\"/>\n      <use x=\"211.09996\" xlink:href=\"#STIXGeneral-Regular-32\"/>\n      <use x=\"236.099945\" xlink:href=\"#STIXGeneral-Regular-116\"/>\n     </g>\n    </g>\n   </g>\n   <g id=\"matplotlib.axis_2\">\n    <g id=\"ytick_1\">\n     <g id=\"line2d_7\">\n      <defs>\n       <path d=\"M 0 0 \nL -3.5 0 \n\" id=\"mf7ff7a413b\" style=\"stroke:#000000;stroke-width:0.8;\"/>\n      </defs>\n      <g>\n       <use style=\"stroke:#000000;stroke-width:0.8;\" x=\"46.21875\" xlink:href=\"#mf7ff7a413b\" y=\"289.036705\"/>\n      </g>\n     </g>\n     <g id=\"text_8\">\n      <!-- 0.0 -->\n      <g transform=\"translate(29.21875 291.76858)scale(0.08 -0.08)\">\n       <defs>\n        <path d=\"M 18.09375 4.296875 \nQ 18.09375 2.09375 16.4375 0.5 \nQ 14.796875 -1.09375 12.5 -1.09375 \nQ 10.203125 -1.09375 8.59375 0.5 \nQ 7 2.09375 7 4.390625 \nQ 7 6.703125 8.640625 8.34375 \nQ 10.296875 10 12.59375 10 \nQ 14.796875 10 16.4375 8.296875 \nQ 18.09375 6.59375 18.09375 4.296875 \nz\n\" id=\"STIXGeneral-Regular-46\"/>\n       </defs>\n       <use xlink:href=\"#STIXGeneral-Regular-48\"/>\n       <use x=\"49.999985\" xlink:href=\"#STIXGeneral-Regular-46\"/>\n       <use x=\"74.999969\" xlink:href=\"#STIXGeneral-Regular-48\"/>\n      </g>\n     </g>\n    </g>\n    <g id=\"ytick_2\">\n     <g id=\"line2d_8\">\n      <g>\n       <use style=\"stroke:#000000;stroke-width:0.8;\" x=\"46.21875\" xlink:href=\"#mf7ff7a413b\" y=\"239.618523\"/>\n      </g>\n     </g>\n     <g id=\"text_9\">\n      <!-- 0.2 -->\n      <g transform=\"translate(29.21875 242.350398)scale(0.08 -0.08)\">\n       <use xlink:href=\"#STIXGeneral-Regular-48\"/>\n       <use x=\"49.999985\" xlink:href=\"#STIXGeneral-Regular-46\"/>\n       <use x=\"74.999969\" xlink:href=\"#STIXGeneral-Regular-50\"/>\n      </g>\n     </g>\n    </g>\n    <g id=\"ytick_3\">\n     <g id=\"line2d_9\">\n      <g>\n       <use style=\"stroke:#000000;stroke-width:0.8;\" x=\"46.21875\" xlink:href=\"#mf7ff7a413b\" y=\"190.200341\"/>\n      </g>\n     </g>\n     <g id=\"text_10\">\n      <!-- 0.4 -->\n      <g transform=\"translate(29.21875 192.932216)scale(0.08 -0.08)\">\n       <use xlink:href=\"#STIXGeneral-Regular-48\"/>\n       <use x=\"49.999985\" xlink:href=\"#STIXGeneral-Regular-46\"/>\n       <use x=\"74.999969\" xlink:href=\"#STIXGeneral-Regular-52\"/>\n      </g>\n     </g>\n    </g>\n    <g id=\"ytick_4\">\n     <g id=\"line2d_10\">\n      <g>\n       <use style=\"stroke:#000000;stroke-width:0.8;\" x=\"46.21875\" xlink:href=\"#mf7ff7a413b\" y=\"140.782159\"/>\n      </g>\n     </g>\n     <g id=\"text_11\">\n      <!-- 0.6 -->\n      <g transform=\"translate(29.21875 143.514034)scale(0.08 -0.08)\">\n       <defs>\n        <path d=\"M 44.59375 68.40625 \nL 44.796875 66.796875 \nQ 33 64.90625 25.09375 57.25 \nQ 17.203125 49.59375 15.203125 38.296875 \nQ 21 42.796875 27.90625 42.796875 \nQ 36.703125 42.796875 41.75 37.1875 \nQ 46.796875 31.59375 46.796875 21.90625 \nQ 46.796875 12.09375 41.703125 5.90625 \nQ 35.796875 -1.40625 25.796875 -1.40625 \nQ 13.59375 -1.40625 8.09375 8.703125 \nQ 3.40625 17.296875 3.40625 27.90625 \nQ 3.40625 44.296875 14.296875 55.5 \nQ 20.5 61.90625 27.046875 64.546875 \nQ 33.59375 67.203125 44.59375 68.40625 \nz\nM 37.796875 18.796875 \nQ 37.796875 38.203125 24.296875 38.203125 \nQ 19.296875 38.203125 16 35.546875 \nQ 12.703125 32.90625 12.703125 26.59375 \nQ 12.703125 14.90625 16.34375 8.15625 \nQ 20 1.40625 26.90625 1.40625 \nQ 32.203125 1.40625 35 6.15625 \nQ 37.796875 10.90625 37.796875 18.796875 \nz\n\" id=\"STIXGeneral-Regular-54\"/>\n       </defs>\n       <use xlink:href=\"#STIXGeneral-Regular-48\"/>\n       <use x=\"49.999985\" xlink:href=\"#STIXGeneral-Regular-46\"/>\n       <use x=\"74.999969\" xlink:href=\"#STIXGeneral-Regular-54\"/>\n      </g>\n     </g>\n    </g>\n    <g id=\"ytick_5\">\n     <g id=\"line2d_11\">\n      <g>\n       <use style=\"stroke:#000000;stroke-width:0.8;\" x=\"46.21875\" xlink:href=\"#mf7ff7a413b\" y=\"91.363977\"/>\n      </g>\n     </g>\n     <g id=\"text_12\">\n      <!-- 0.8 -->\n      <g transform=\"translate(29.21875 94.095852)scale(0.08 -0.08)\">\n       <defs>\n        <path d=\"M 44.5 15.5 \nQ 44.5 7.796875 39.140625 3.1875 \nQ 33.796875 -1.40625 24.796875 -1.40625 \nQ 16.40625 -1.40625 11 3.1875 \nQ 5.59375 7.796875 5.59375 14.90625 \nQ 5.59375 20.203125 8.1875 23.953125 \nQ 10.796875 27.703125 18.59375 33.203125 \nQ 11.09375 39.40625 8.640625 43.203125 \nQ 6.203125 47 6.203125 52 \nQ 6.203125 59.09375 11.640625 63.34375 \nQ 17.09375 67.59375 25.59375 67.59375 \nQ 32.90625 67.59375 37.65625 63.4375 \nQ 42.40625 59.296875 42.40625 53.296875 \nQ 42.40625 47.796875 39.546875 44.5 \nQ 36.703125 41.203125 29 37.09375 \nQ 38 31.09375 41.25 26.390625 \nQ 44.5 21.703125 44.5 15.5 \nz\nM 35.5 53.296875 \nQ 35.5 58.5 32.59375 61.640625 \nQ 29.703125 64.796875 24.59375 64.796875 \nQ 19.5 64.796875 16.546875 62.140625 \nQ 13.59375 59.5 13.59375 54.890625 \nQ 13.59375 50.296875 16.546875 46.546875 \nQ 19.5 42.796875 26.09375 38.90625 \nQ 31.203125 41.90625 33.34375 45.25 \nQ 35.5 48.59375 35.5 53.296875 \nz\nM 27.09375 27.203125 \nL 21.203125 31.203125 \nQ 16.796875 27.59375 15 24.140625 \nQ 13.203125 20.703125 13.203125 15.796875 \nQ 13.203125 9 16.640625 5.203125 \nQ 20.09375 1.40625 25.90625 1.40625 \nQ 30.796875 1.40625 33.84375 4.453125 \nQ 36.90625 7.5 36.90625 12.40625 \nQ 36.90625 16.90625 34.59375 20.296875 \nQ 32.296875 23.703125 27.09375 27.203125 \nz\n\" id=\"STIXGeneral-Regular-56\"/>\n       </defs>\n       <use xlink:href=\"#STIXGeneral-Regular-48\"/>\n       <use x=\"49.999985\" xlink:href=\"#STIXGeneral-Regular-46\"/>\n       <use x=\"74.999969\" xlink:href=\"#STIXGeneral-Regular-56\"/>\n      </g>\n     </g>\n    </g>\n    <g id=\"ytick_6\">\n     <g id=\"line2d_12\">\n      <g>\n       <use style=\"stroke:#000000;stroke-width:0.8;\" x=\"46.21875\" xlink:href=\"#mf7ff7a413b\" y=\"41.945795\"/>\n      </g>\n     </g>\n     <g id=\"text_13\">\n      <!-- 1.0 -->\n      <g transform=\"translate(29.21875 44.67767)scale(0.08 -0.08)\">\n       <use xlink:href=\"#STIXGeneral-Regular-49\"/>\n       <use x=\"49.999985\" xlink:href=\"#STIXGeneral-Regular-46\"/>\n       <use x=\"74.999969\" xlink:href=\"#STIXGeneral-Regular-48\"/>\n      </g>\n     </g>\n    </g>\n    <g id=\"text_14\">\n     <!-- Probability P(t) -->\n     <g transform=\"translate(20.859375 227.46)rotate(-90)scale(0.2 -0.2)\">\n      <defs>\n       <path d=\"M 1.59375 66.203125 \nL 27.5 66.203125 \nQ 41.703125 66.203125 49.203125 59.90625 \nQ 54.203125 55.703125 54.203125 48 \nQ 54.203125 40 48.5 34.90625 \nQ 44.296875 31.09375 39.890625 29.9375 \nQ 35.5 28.796875 27.09375 28.796875 \nQ 24.203125 28.796875 20.203125 29.09375 \nL 20.203125 11.203125 \nQ 20.203125 5.5 21.84375 3.84375 \nQ 23.5 2.203125 29.59375 1.90625 \nL 29.59375 0 \nL 1.59375 0 \nL 1.59375 1.90625 \nQ 7.40625 2.296875 8.703125 4 \nQ 10 5.703125 10 12.203125 \nL 10 55.09375 \nQ 10 60.703125 8.546875 62.296875 \nQ 7.09375 63.90625 1.59375 64.296875 \nz\nM 20.203125 58.90625 \nL 20.203125 33.09375 \nQ 23.59375 32.796875 26.296875 32.796875 \nQ 34.40625 32.796875 38.84375 36.75 \nQ 43.296875 40.703125 43.296875 47.5 \nQ 43.296875 55.59375 38.6875 59.046875 \nQ 34.09375 62.5 23.703125 62.5 \nQ 21.59375 62.5 20.890625 61.75 \nQ 20.203125 61 20.203125 58.90625 \nz\n\" id=\"STIXGeneral-Regular-80\"/>\n       <path d=\"M 16 45.796875 \nL 16 36.59375 \nQ 19.796875 42 22.34375 44 \nQ 24.90625 46 28 46 \nQ 30.59375 46 32.046875 44.59375 \nQ 33.5 43.203125 33.5 40.703125 \nQ 33.5 38.59375 32.453125 37.390625 \nQ 31.40625 36.203125 29.59375 36.203125 \nQ 27.703125 36.203125 25.59375 38.203125 \nQ 24 39.703125 23 39.703125 \nQ 20.90625 39.703125 18.453125 36.796875 \nQ 16 33.90625 16 31.5 \nL 16 9 \nQ 16 4.703125 17.703125 3.203125 \nQ 19.40625 1.703125 24.5 1.5 \nL 24.5 0 \nL 0.5 0 \nL 0.5 1.5 \nQ 5.296875 2.40625 6.4375 3.5 \nQ 7.59375 4.59375 7.59375 8.40625 \nL 7.59375 33.40625 \nQ 7.59375 36.703125 6.84375 38.046875 \nQ 6.09375 39.40625 4.203125 39.40625 \nQ 2.59375 39.40625 0.703125 39 \nL 0.703125 40.59375 \nQ 7 42.59375 15.5 46 \nz\n\" id=\"STIXGeneral-Regular-114\"/>\n       <path d=\"M 47 23.09375 \nQ 47 12.59375 40.75 5.796875 \nQ 34.5 -1 24.5 -1 \nQ 15.296875 -1 9.09375 5.75 \nQ 2.90625 12.5 2.90625 22.796875 \nQ 2.90625 33.203125 9.09375 39.59375 \nQ 15.296875 46 25.40625 46 \nQ 34.703125 46 40.84375 39.640625 \nQ 47 33.296875 47 23.09375 \nz\nM 38 20.40625 \nQ 38 31.796875 33 38.203125 \nQ 29 43.203125 23.5 43.203125 \nQ 18.296875 43.203125 15.09375 38.953125 \nQ 11.90625 34.703125 11.90625 27.296875 \nQ 11.90625 14.5 17.203125 6.796875 \nQ 20.59375 1.796875 26.203125 1.796875 \nQ 31.703125 1.796875 34.84375 6.75 \nQ 38 11.703125 38 20.40625 \nz\n\" id=\"STIXGeneral-Regular-111\"/>\n       <path d=\"M 15.296875 68.09375 \nL 15.296875 37.59375 \nQ 16.90625 41.40625 20.546875 43.703125 \nQ 24.203125 46 28.796875 46 \nQ 36.703125 46 41.75 39.703125 \nQ 46.796875 33.40625 46.796875 24 \nQ 46.796875 13 40.09375 6 \nQ 33.40625 -1 23.40625 -1 \nQ 17.296875 -1 12.09375 1.046875 \nQ 6.90625 3.09375 6.90625 5.59375 \nL 6.90625 56.59375 \nQ 6.90625 60.296875 6 61.34375 \nQ 5.09375 62.40625 2 62.40625 \nQ 1.296875 62.40625 0.296875 62.203125 \nL 0.296875 63.90625 \nL 3.296875 64.796875 \nQ 13.5 67.90625 14.796875 68.296875 \nz\nM 15.296875 31.796875 \nL 15.296875 7.40625 \nQ 15.296875 5.09375 18.140625 3.640625 \nQ 21 2.203125 25 2.203125 \nQ 30.90625 2.203125 34.296875 6.5 \nQ 38 11.09375 38 19.703125 \nQ 38 29.5 34.09375 35 \nQ 30.796875 39.703125 25.203125 39.703125 \nQ 21.203125 39.703125 18.25 37.34375 \nQ 15.296875 35 15.296875 31.796875 \nz\n\" id=\"STIXGeneral-Regular-98\"/>\n       <path d=\"M 44.203125 6.59375 \nL 44.203125 3.796875 \nQ 40.40625 -1 35.203125 -1 \nQ 29.5 -1 28.796875 6.296875 \nL 28.703125 6.296875 \nQ 22.296875 -1 14.203125 -1 \nQ 9.5 -1 6.59375 1.75 \nQ 3.703125 4.5 3.703125 9.40625 \nQ 3.703125 16.40625 10.703125 21.09375 \nQ 15.5 24.296875 28.703125 29.203125 \nL 28.703125 34.59375 \nQ 28.703125 39.09375 26.546875 41.34375 \nQ 24.40625 43.59375 20.90625 43.59375 \nQ 17.90625 43.59375 15.90625 42.140625 \nQ 13.90625 40.703125 13.90625 38.703125 \nQ 13.90625 37.796875 14.203125 36.6875 \nQ 14.5 35.59375 14.5 34.5 \nQ 14.5 33 13.140625 31.703125 \nQ 11.796875 30.40625 9.90625 30.40625 \nQ 8.203125 30.40625 6.890625 31.703125 \nQ 5.59375 33 5.59375 35 \nQ 5.59375 39.796875 10.703125 43 \nQ 15.40625 46 22.203125 46 \nQ 30.296875 46 34 41.5 \nQ 35.796875 39.40625 36.296875 37.25 \nQ 36.796875 35.09375 36.796875 30.40625 \nL 36.796875 11.296875 \nQ 36.796875 4.703125 39.90625 4.703125 \nQ 41.90625 4.703125 44.203125 6.59375 \nz\nM 28.703125 12.703125 \nL 28.703125 26.796875 \nQ 19.5 23.59375 15.90625 20.203125 \nQ 12.5 17.09375 12.5 12.5 \nQ 12.5 8.703125 14.390625 6.75 \nQ 16.296875 4.796875 19.40625 4.796875 \nQ 22.703125 4.796875 25.203125 6.40625 \nQ 27.296875 7.90625 28 9.203125 \nQ 28.703125 10.5 28.703125 12.703125 \nz\n\" id=\"STIXGeneral-Regular-97\"/>\n       <path d=\"M 25.703125 0 \nL 2.09375 0 \nL 2.09375 1.5 \nQ 6.796875 1.90625 8.296875 3.453125 \nQ 9.796875 5 9.796875 9.203125 \nL 9.796875 56.09375 \nQ 9.796875 59.703125 8.890625 61.09375 \nQ 8 62.5 5.59375 62.5 \nQ 3.5 62.5 1.90625 62.296875 \nL 1.90625 63.90625 \nQ 11.40625 66.203125 17.703125 68.296875 \nL 18.203125 67.90625 \nL 18.203125 8.703125 \nQ 18.203125 4.5 19.59375 3.140625 \nQ 21 1.796875 25.703125 1.5 \nz\n\" id=\"STIXGeneral-Regular-108\"/>\n       <path d=\"M 47.5 45 \nL 47.5 43.5 \nQ 45.703125 43.296875 44.59375 42.1875 \nQ 43.5 41.09375 42.5 38.40625 \nL 27.5 -2.5 \nQ 23.59375 -13.09375 19.640625 -17.4375 \nQ 15.703125 -21.796875 10 -21.796875 \nQ 6.796875 -21.796875 4.890625 -20.140625 \nQ 3 -18.5 3 -16 \nQ 3 -14.09375 4.25 -12.75 \nQ 5.5 -11.40625 7.296875 -11.40625 \nQ 10.203125 -11.40625 12.5 -12.703125 \nQ 13.796875 -13.40625 15.09375 -13.40625 \nQ 17.203125 -13.40625 20.09375 -9 \nQ 21.5 -7 22.796875 -3.296875 \nQ 24.09375 0.40625 24.09375 1.796875 \nQ 24.09375 3.09375 19.90625 11.90625 \nL 6.703125 40.09375 \nQ 5.40625 43 1.40625 43.59375 \nL 1.40625 45 \nL 21.90625 45 \nL 21.90625 43.5 \nQ 18.703125 43.40625 17.453125 42.796875 \nQ 16.203125 42.203125 16.203125 40.796875 \nQ 16.203125 39.703125 17.5 36.703125 \nL 28.703125 11.703125 \nL 38.40625 39.296875 \nQ 38.796875 40.203125 38.796875 41.09375 \nQ 38.796875 43.5 34.203125 43.5 \nL 34.203125 45 \nz\n\" id=\"STIXGeneral-Regular-121\"/>\n       <path d=\"M 30.40625 -16.09375 \nL 29.203125 -17.703125 \nQ 17.59375 -11.09375 11.1875 0.5 \nQ 4.796875 12.09375 4.796875 25.203125 \nQ 4.796875 52.90625 29.5 67.59375 \nL 30.40625 66 \nQ 20.203125 57.296875 16.796875 48.84375 \nQ 13.40625 40.40625 13.40625 25.5 \nQ 13.40625 10.703125 16.90625 1.5 \nQ 20.40625 -7.703125 30.40625 -16.09375 \nz\n\" id=\"STIXGeneral-Regular-40\"/>\n       <path d=\"M 2.90625 66 \nL 4.09375 67.59375 \nQ 15.5 60.796875 22 49.1875 \nQ 28.5 37.59375 28.5 24.703125 \nQ 28.5 -2.59375 3.796875 -17.703125 \nL 2.90625 -16.09375 \nQ 13.203125 -7.59375 16.546875 0.84375 \nQ 19.90625 9.296875 19.90625 24.40625 \nQ 19.90625 39.59375 16.546875 48.75 \nQ 13.203125 57.90625 2.90625 66 \nz\n\" id=\"STIXGeneral-Regular-41\"/>\n      </defs>\n      <use xlink:href=\"#STIXGeneral-Regular-80\"/>\n      <use x=\"55.699997\" xlink:href=\"#STIXGeneral-Regular-114\"/>\n      <use x=\"88.999985\" xlink:href=\"#STIXGeneral-Regular-111\"/>\n      <use x=\"138.999969\" xlink:href=\"#STIXGeneral-Regular-98\"/>\n      <use x=\"188.999954\" xlink:href=\"#STIXGeneral-Regular-97\"/>\n      <use x=\"233.399948\" xlink:href=\"#STIXGeneral-Regular-98\"/>\n      <use x=\"283.399933\" xlink:href=\"#STIXGeneral-Regular-105\"/>\n      <use x=\"311.199921\" xlink:href=\"#STIXGeneral-Regular-108\"/>\n      <use x=\"338.999908\" xlink:href=\"#STIXGeneral-Regular-105\"/>\n      <use x=\"366.799896\" xlink:href=\"#STIXGeneral-Regular-116\"/>\n      <use x=\"394.599884\" xlink:href=\"#STIXGeneral-Regular-121\"/>\n      <use x=\"444.599869\" xlink:href=\"#STIXGeneral-Regular-32\"/>\n      <use x=\"469.599854\" xlink:href=\"#STIXGeneral-Regular-80\"/>\n      <use x=\"525.29985\" xlink:href=\"#STIXGeneral-Regular-40\"/>\n      <use x=\"558.599838\" xlink:href=\"#STIXGeneral-Regular-116\"/>\n      <use x=\"586.399826\" xlink:href=\"#STIXGeneral-Regular-41\"/>\n     </g>\n    </g>\n   </g>\n   <g id=\"line2d_13\">\n    <path clip-path=\"url(#p2c3d5fa424)\" d=\"M 69.046023 41.945795 \nL 78.176932 42.768517 \nL 87.307841 45.118637 \nL 96.43875 48.665315 \nL 105.569659 52.927934 \nL 114.700568 57.361236 \nL 123.831477 61.441325 \nL 132.962386 64.735454 \nL 142.093295 66.947033 \nL 151.224205 67.935487 \nL 160.355114 67.714895 \nL 169.486023 66.435339 \nL 178.616932 64.349307 \nL 187.747841 61.765436 \nL 196.87875 58.995063 \nL 206.009659 56.301771 \nL 215.140568 53.866932 \nL 224.271477 51.781697 \nL 233.402386 50.067688 \nL 242.533295 48.717712 \nL 251.664205 47.739564 \nL 260.795114 47.184598 \nL 269.926023 47.149318 \nL 279.056932 47.749652 \nL 288.187841 49.078298 \nL 297.31875 51.160829 \nL 306.449659 53.924473 \nL 315.580568 57.186886 \nL 324.711477 60.665125 \nL 333.842386 64.000998 \nL 342.973295 66.798899 \nL 352.104205 68.673909 \nL 361.235114 69.308043 \nL 370.366023 68.509283 \nL 379.496932 66.26256 \nL 388.627841 62.757908 \nL 397.75875 58.382412 \nL 406.889659 53.670745 \nL 416.020568 49.221463 \nL 425.151477 45.597683 \nL 434.282386 43.235951 \nL 443.413295 42.383766 \nL 452.544205 43.07612 \nL 461.675114 45.149536 \nL 470.806023 48.283561 \nL 479.936932 52.057146 \nL 489.067841 56.009755 \nL 498.19875 59.700975 \nL 507.329659 62.76429 \nL 516.460568 64.949648 \nL 525.591477 66.147455 \n\" style=\"fill:none;stroke:#1f77b4;stroke-linecap:square;stroke-width:1.5;\"/>\n   </g>\n   <g id=\"patch_3\">\n    <path d=\"M 46.21875 301.39125 \nL 46.21875 29.59125 \n\" style=\"fill:none;stroke:#000000;stroke-linecap:square;stroke-linejoin:miter;stroke-width:0.8;\"/>\n   </g>\n   <g id=\"patch_4\">\n    <path d=\"M 548.41875 301.39125 \nL 548.41875 29.59125 \n\" style=\"fill:none;stroke:#000000;stroke-linecap:square;stroke-linejoin:miter;stroke-width:0.8;\"/>\n   </g>\n   <g id=\"patch_5\">\n    <path d=\"M 46.21875 301.39125 \nL 548.41875 301.39125 \n\" style=\"fill:none;stroke:#000000;stroke-linecap:square;stroke-linejoin:miter;stroke-width:0.8;\"/>\n   </g>\n   <g id=\"patch_6\">\n    <path d=\"M 46.21875 29.59125 \nL 548.41875 29.59125 \n\" style=\"fill:none;stroke:#000000;stroke-linecap:square;stroke-linejoin:miter;stroke-width:0.8;\"/>\n   </g>\n   <g id=\"text_15\">\n    <!-- Probability of observing initial state -->\n    <g transform=\"translate(124.63875 23.59125)scale(0.24 -0.24)\">\n     <defs>\n      <path d=\"M 2.09375 45 \nL 10.296875 45 \nQ 10.40625 51 11.09375 54.34375 \nQ 11.796875 57.703125 13.796875 61.09375 \nQ 18 68.296875 27.90625 68.296875 \nQ 32.40625 68.296875 35.34375 66.546875 \nQ 38.296875 64.796875 38.296875 62.09375 \nQ 38.296875 60.40625 37.09375 59.203125 \nQ 35.90625 58 34.09375 58 \nQ 31.703125 58 29.59375 61.59375 \nQ 27.203125 65.5 24.296875 65.5 \nQ 18.703125 65.5 18.703125 56.59375 \nL 18.703125 45 \nL 30.90625 45 \nL 30.90625 41.796875 \nL 18.703125 41.796875 \nL 18.703125 10.40625 \nQ 18.703125 4.796875 20.296875 3.25 \nQ 21.90625 1.703125 28 1.5 \nL 28 0 \nL 2 0 \nL 2 1.5 \nQ 7.40625 1.796875 8.84375 3.34375 \nQ 10.296875 4.90625 10.296875 10.40625 \nL 10.296875 41.796875 \nL 2.09375 41.796875 \nz\n\" id=\"STIXGeneral-Regular-102\"/>\n      <path d=\"M 15.59375 30.09375 \nL 26 23.796875 \nQ 31 20.796875 32.890625 18.1875 \nQ 34.796875 15.59375 34.796875 11.5 \nQ 34.796875 6.5 30.640625 2.75 \nQ 26.5 -1 20.796875 -1 \nQ 16.09375 -1 13.5 -0.09375 \nQ 10.796875 0.796875 8.90625 0.796875 \nQ 7.203125 0.796875 6.5 -0.40625 \nL 5.203125 -0.40625 \nL 5.203125 15.296875 \nL 6.796875 15.296875 \nQ 8.40625 8 11.40625 4.59375 \nQ 14.40625 1.203125 19.5 1.203125 \nQ 23.203125 1.203125 25.5 3.296875 \nQ 27.796875 5.40625 27.796875 8.59375 \nQ 27.796875 13.203125 22.5 16.09375 \nL 17.09375 19.09375 \nQ 5.09375 25.796875 5.09375 33.59375 \nQ 5.09375 39.40625 8.84375 42.65625 \nQ 12.59375 45.90625 18.90625 45.90625 \nQ 23.296875 45.90625 25.59375 44.796875 \nQ 27.40625 44 28.40625 44 \nQ 29.09375 44 30 45 \nL 31.09375 45 \nL 31.59375 31.40625 \nL 30.09375 31.40625 \nQ 28.40625 38.203125 25.84375 40.953125 \nQ 23.296875 43.703125 18.796875 43.703125 \nQ 15.40625 43.703125 13.34375 42 \nQ 11.296875 40.296875 11.296875 36.90625 \nQ 11.296875 35.203125 12.4375 33.25 \nQ 13.59375 31.296875 15.59375 30.09375 \nz\n\" id=\"STIXGeneral-Regular-115\"/>\n      <path d=\"M 47.703125 45 \nL 47.703125 43.5 \nQ 45.40625 43.296875 44.296875 42 \nQ 43.203125 40.703125 41.203125 35.703125 \nL 28.40625 3.59375 \nQ 26.40625 -1.40625 25.59375 -1.40625 \nQ 24.796875 -1.40625 23.796875 1.203125 \nQ 23.59375 1.5 23.390625 2.203125 \nQ 23.203125 2.90625 23 3.296875 \nL 11 32 \nQ 7.796875 39.59375 6.296875 41.4375 \nQ 4.796875 43.296875 1.90625 43.5 \nL 1.90625 45 \nL 21.5 45 \nL 21.5 43.5 \nQ 18.90625 43.296875 17.90625 42.6875 \nQ 16.90625 42.09375 16.90625 40.796875 \nQ 16.90625 39.203125 17.796875 37 \nL 28 11.40625 \nL 37.90625 37.296875 \nQ 38.5 38.796875 38.5 40.296875 \nQ 38.5 43.09375 33.796875 43.5 \nL 33.796875 45 \nz\n\" id=\"STIXGeneral-Regular-118\"/>\n      <path d=\"M 48.5 0 \nL 27.703125 0 \nL 27.796875 1.5 \nQ 31.5 1.796875 32.75 3.640625 \nQ 34 5.5 34 10.5 \nL 34 30.40625 \nQ 34 40.5 26.703125 40.5 \nQ 24.203125 40.5 22 39.296875 \nQ 19.796875 38.09375 16.40625 34.796875 \nL 16.40625 7.203125 \nQ 16.40625 4.203125 17.75 3 \nQ 19.09375 1.796875 22.90625 1.5 \nL 22.90625 0 \nL 1.796875 0 \nL 1.796875 1.5 \nQ 5.59375 1.796875 6.796875 3.34375 \nQ 8 4.90625 8 9.40625 \nL 8 33.703125 \nQ 8 37.40625 7.296875 38.796875 \nQ 6.59375 40.203125 4.5 40.203125 \nQ 2.5 40.203125 1.59375 39.796875 \nL 1.59375 41.5 \nQ 8.59375 43.5 15.296875 46 \nL 16.09375 45.703125 \nL 16.09375 37.90625 \nL 16.203125 37.90625 \nQ 23.296875 46 30.59375 46 \nQ 36.296875 46 39.34375 42 \nQ 42.40625 38 42.40625 30.59375 \nL 42.40625 8.5 \nQ 42.40625 4.5 43.59375 3.203125 \nQ 44.796875 1.90625 48.5 1.5 \nz\n\" id=\"STIXGeneral-Regular-110\"/>\n      <path d=\"M 47 38.796875 \nL 38.703125 38.796875 \nQ 40.59375 34.5 40.59375 30.40625 \nQ 40.59375 22.703125 35.390625 18.796875 \nQ 30.203125 14.90625 25 14.90625 \nQ 23.90625 14.90625 21.203125 15.203125 \nL 19.296875 15.40625 \nQ 17.296875 14.796875 15.296875 12.6875 \nQ 13.296875 10.59375 13.296875 9.09375 \nQ 13.296875 6.796875 21.09375 6.40625 \nL 34 5.796875 \nQ 39.5 5.59375 42.796875 2.6875 \nQ 46.09375 -0.203125 46.09375 -4.90625 \nQ 46.09375 -10.703125 40.09375 -15.40625 \nQ 31.796875 -21.796875 20.09375 -21.796875 \nQ 12.90625 -21.796875 7.84375 -18.9375 \nQ 2.796875 -16.09375 2.796875 -12.09375 \nQ 2.796875 -9.296875 5 -6.546875 \nQ 7.203125 -3.796875 12.59375 0.09375 \nQ 9.40625 1.59375 8.34375 2.6875 \nQ 7.296875 3.796875 7.296875 5.40625 \nQ 7.296875 8.296875 11.90625 12.296875 \nQ 14.203125 14.296875 16.203125 16.296875 \nQ 11.203125 18.796875 9.046875 21.890625 \nQ 6.90625 25 6.90625 29.703125 \nQ 6.90625 36.5 11.75 41.25 \nQ 16.59375 46 23.59375 46 \nQ 27.59375 46 31.59375 44.5 \nL 33.796875 43.703125 \nQ 36.703125 42.703125 39.296875 42.703125 \nL 47 42.703125 \nz\nM 15.203125 33.796875 \nL 15.203125 33.5 \nQ 15.203125 26.296875 18.046875 21.84375 \nQ 20.90625 17.40625 25.5 17.40625 \nQ 28.90625 17.40625 30.90625 19.84375 \nQ 32.90625 22.296875 32.90625 26.40625 \nQ 32.90625 33 29.90625 38.5 \nQ 27.40625 43.203125 22.59375 43.203125 \nQ 19.09375 43.203125 17.140625 40.703125 \nQ 15.203125 38.203125 15.203125 33.796875 \nz\nM 43.296875 -6.40625 \nQ 43.296875 -3.59375 40.546875 -2.546875 \nQ 37.796875 -1.5 30.90625 -1.5 \nQ 21 -1.5 14.703125 -0.203125 \nQ 11.703125 -3.796875 10.75 -5.4375 \nQ 9.796875 -7.09375 9.796875 -8.796875 \nQ 9.796875 -12.09375 13.75 -14.09375 \nQ 17.703125 -16.09375 24.296875 -16.09375 \nQ 32.796875 -16.09375 38.046875 -13.4375 \nQ 43.296875 -10.796875 43.296875 -6.40625 \nz\n\" id=\"STIXGeneral-Regular-103\"/>\n     </defs>\n     <use xlink:href=\"#STIXGeneral-Regular-80\"/>\n     <use x=\"55.699997\" xlink:href=\"#STIXGeneral-Regular-114\"/>\n     <use x=\"88.999985\" xlink:href=\"#STIXGeneral-Regular-111\"/>\n     <use x=\"138.999969\" xlink:href=\"#STIXGeneral-Regular-98\"/>\n     <use x=\"188.999954\" xlink:href=\"#STIXGeneral-Regular-97\"/>\n     <use x=\"233.399948\" xlink:href=\"#STIXGeneral-Regular-98\"/>\n     <use x=\"283.399933\" xlink:href=\"#STIXGeneral-Regular-105\"/>\n     <use x=\"311.199921\" xlink:href=\"#STIXGeneral-Regular-108\"/>\n     <use x=\"338.999908\" xlink:href=\"#STIXGeneral-Regular-105\"/>\n     <use x=\"366.799896\" xlink:href=\"#STIXGeneral-Regular-116\"/>\n     <use x=\"394.599884\" xlink:href=\"#STIXGeneral-Regular-121\"/>\n     <use x=\"444.599869\" xlink:href=\"#STIXGeneral-Regular-32\"/>\n     <use x=\"469.599854\" xlink:href=\"#STIXGeneral-Regular-111\"/>\n     <use x=\"519.599838\" xlink:href=\"#STIXGeneral-Regular-102\"/>\n     <use x=\"552.899826\" xlink:href=\"#STIXGeneral-Regular-32\"/>\n     <use x=\"577.899811\" xlink:href=\"#STIXGeneral-Regular-111\"/>\n     <use x=\"627.899796\" xlink:href=\"#STIXGeneral-Regular-98\"/>\n     <use x=\"677.89978\" xlink:href=\"#STIXGeneral-Regular-115\"/>\n     <use x=\"716.799774\" xlink:href=\"#STIXGeneral-Regular-101\"/>\n     <use x=\"761.199768\" xlink:href=\"#STIXGeneral-Regular-114\"/>\n     <use x=\"794.499756\" xlink:href=\"#STIXGeneral-Regular-118\"/>\n     <use x=\"844.499741\" xlink:href=\"#STIXGeneral-Regular-105\"/>\n     <use x=\"872.299728\" xlink:href=\"#STIXGeneral-Regular-110\"/>\n     <use x=\"922.299713\" xlink:href=\"#STIXGeneral-Regular-103\"/>\n     <use x=\"972.299698\" xlink:href=\"#STIXGeneral-Regular-32\"/>\n     <use x=\"997.299683\" xlink:href=\"#STIXGeneral-Regular-105\"/>\n     <use x=\"1025.09967\" xlink:href=\"#STIXGeneral-Regular-110\"/>\n     <use x=\"1075.099655\" xlink:href=\"#STIXGeneral-Regular-105\"/>\n     <use x=\"1102.899643\" xlink:href=\"#STIXGeneral-Regular-116\"/>\n     <use x=\"1130.699631\" xlink:href=\"#STIXGeneral-Regular-105\"/>\n     <use x=\"1158.499619\" xlink:href=\"#STIXGeneral-Regular-97\"/>\n     <use x=\"1202.899612\" xlink:href=\"#STIXGeneral-Regular-108\"/>\n     <use x=\"1230.6996\" xlink:href=\"#STIXGeneral-Regular-32\"/>\n     <use x=\"1255.699585\" xlink:href=\"#STIXGeneral-Regular-115\"/>\n     <use x=\"1294.599579\" xlink:href=\"#STIXGeneral-Regular-116\"/>\n     <use x=\"1322.399567\" xlink:href=\"#STIXGeneral-Regular-97\"/>\n     <use x=\"1366.799561\" xlink:href=\"#STIXGeneral-Regular-116\"/>\n     <use x=\"1394.599548\" xlink:href=\"#STIXGeneral-Regular-101\"/>\n    </g>\n   </g>\n   <g id=\"legend_1\">\n    <g id=\"patch_7\">\n     <path d=\"M 60.21875 291.39125 \nL 347.21875 291.39125 \nQ 351.21875 291.39125 351.21875 287.39125 \nL 351.21875 254.79125 \nQ 351.21875 250.79125 347.21875 250.79125 \nL 60.21875 250.79125 \nQ 56.21875 250.79125 56.21875 254.79125 \nL 56.21875 287.39125 \nQ 56.21875 291.39125 60.21875 291.39125 \nz\n\" style=\"fill:#ffffff;opacity:0.8;stroke:#cccccc;stroke-linejoin:miter;\"/>\n    </g>\n    <g id=\"line2d_14\">\n     <path d=\"M 64.21875 271.39125 \nL 104.21875 271.39125 \n\" style=\"fill:none;stroke:#1f77b4;stroke-linecap:square;stroke-width:1.5;\"/>\n    </g>\n    <g id=\"line2d_15\"/>\n    <g id=\"text_16\">\n     <!-- Probability P(t)=$|\\langle \\psi_0 | \\psi_t \\rangle|^2$ -->\n     <g transform=\"translate(120.21875 278.39125)scale(0.2 -0.2)\">\n      <defs>\n       <path d=\"M 63.703125 32 \nL 4.796875 32 \nL 4.796875 38.59375 \nL 63.703125 38.59375 \nz\nM 63.703125 12 \nL 4.796875 12 \nL 4.796875 18.59375 \nL 63.703125 18.59375 \nz\n\" id=\"STIXGeneral-Regular-61\"/>\n       <path d=\"M 11.921875 -23.1875 \nL 11.921875 73.1875 \nQ 11.921875 73.96875 12.5 74.484375 \nQ 13.09375 75 13.921875 75 \nQ 14.65625 75 15.28125 74.484375 \nQ 15.921875 73.96875 15.921875 73.1875 \nL 15.921875 -23.1875 \nQ 15.921875 -23.96875 15.28125 -24.484375 \nQ 14.65625 -25 13.921875 -25 \nQ 13.09375 -25 12.5 -24.484375 \nQ 11.921875 -23.96875 11.921875 -23.1875 \nz\n\" id=\"Cmsy10-106\"/>\n       <path d=\"M 35.5 -114.796875 \nL 10.015625 -56.78125 \nQ 9.8125 -56.5 9.8125 -56 \nQ 9.8125 -55.515625 10.015625 -55.328125 \nL 35.5 2.78125 \nQ 35.984375 4 37.3125 4 \nQ 38.03125 4 38.671875 3.359375 \nQ 39.3125 2.734375 39.3125 2 \nQ 39.3125 1.515625 39.203125 1.3125 \nL 14.015625 -56 \nL 39.203125 -113.28125 \nQ 39.3125 -113.484375 39.3125 -114.015625 \nQ 39.3125 -114.75 38.671875 -115.375 \nQ 38.03125 -116.015625 37.3125 -116.015625 \nQ 36.03125 -116.015625 35.5 -114.796875 \nz\n\" id=\"Cmex10-173\"/>\n       <path d=\"M 23.78125 -19.484375 \nL 28.515625 -0.875 \nQ 24.171875 -0.875 20.09375 0.75 \nQ 16.015625 2.390625 13.5 5.5625 \nQ 10.984375 8.734375 10.984375 13.28125 \nQ 10.984375 15.875 11.90625 19.1875 \nQ 12.84375 22.515625 13.890625 25.296875 \nQ 14.9375 28.078125 16.703125 32.625 \nQ 18.015625 36.28125 18.015625 38.625 \nQ 18.015625 41.609375 15.828125 41.609375 \nQ 11.859375 41.609375 9.296875 37.53125 \nQ 6.734375 33.453125 5.515625 28.421875 \nQ 5.328125 27.78125 4.6875 27.78125 \nL 3.515625 27.78125 \nQ 2.6875 27.78125 2.6875 28.71875 \nL 2.6875 29 \nQ 4.296875 34.96875 7.609375 39.578125 \nQ 10.9375 44.1875 16.015625 44.1875 \nQ 19.578125 44.1875 22.046875 41.84375 \nQ 24.515625 39.5 24.515625 35.890625 \nQ 24.515625 34.03125 23.6875 31.984375 \nQ 21.921875 27.4375 20.890625 24.75 \nQ 19.875 22.078125 18.9375 18.671875 \nQ 18.015625 15.28125 18.015625 12.59375 \nQ 18.015625 7.71875 21.0625 5.03125 \nQ 24.125 2.34375 29.109375 1.703125 \nL 45.90625 68.796875 \nQ 46.09375 69.390625 46.6875 69.390625 \nL 47.90625 69.390625 \nQ 48.6875 69.390625 48.6875 68.40625 \nL 31.984375 1.515625 \nL 33.109375 1.515625 \nQ 37.3125 1.515625 41.96875 4 \nQ 46.625 6.5 50.453125 10.546875 \nQ 54.296875 14.59375 56.546875 19.25 \nQ 58.796875 23.921875 58.796875 27.984375 \nQ 58.796875 31 57.8125 32.6875 \nQ 56.84375 34.375 55.28125 36.203125 \nQ 53.71875 38.03125 53.71875 39.109375 \nQ 53.71875 41.0625 55.328125 42.671875 \nQ 56.9375 44.28125 58.890625 44.28125 \nQ 61.28125 44.28125 62.328125 42.078125 \nQ 63.375 39.890625 63.375 37.109375 \nQ 63.375 34.1875 62.78125 31.25 \nQ 62.203125 28.328125 61.1875 24.3125 \nQ 58.890625 15.1875 51.609375 7.90625 \nQ 49.125 5.421875 46.109375 3.34375 \nQ 43.109375 1.265625 39.765625 0.0625 \nQ 36.421875 -1.125 33.015625 -1.125 \nL 31.390625 -1.125 \nL 26.703125 -19.921875 \nQ 26.515625 -20.515625 25.875 -20.515625 \nL 24.703125 -20.515625 \nQ 24.3125 -20.515625 24.046875 -20.1875 \nQ 23.78125 -19.875 23.78125 -19.484375 \nz\n\" id=\"Cmmi10-195\"/>\n       <path d=\"M 25 -2.203125 \nQ 12.75 -2.203125 8.328125 7.875 \nQ 3.90625 17.96875 3.90625 31.890625 \nQ 3.90625 40.578125 5.484375 48.234375 \nQ 7.078125 55.90625 11.78125 61.25 \nQ 16.5 66.609375 25 66.609375 \nQ 31.59375 66.609375 35.78125 63.375 \nQ 39.984375 60.15625 42.1875 55.046875 \nQ 44.390625 49.953125 45.1875 44.109375 \nQ 46 38.28125 46 31.890625 \nQ 46 23.296875 44.40625 15.796875 \nQ 42.828125 8.296875 38.1875 3.046875 \nQ 33.546875 -2.203125 25 -2.203125 \nz\nM 25 0.390625 \nQ 30.5625 0.390625 33.296875 6.09375 \nQ 36.03125 11.8125 36.671875 18.75 \nQ 37.3125 25.6875 37.3125 33.5 \nQ 37.3125 41.015625 36.671875 47.359375 \nQ 36.03125 53.71875 33.3125 58.859375 \nQ 30.609375 64.015625 25 64.015625 \nQ 19.34375 64.015625 16.609375 58.828125 \nQ 13.875 53.65625 13.234375 47.328125 \nQ 12.59375 41.015625 12.59375 33.5 \nQ 12.59375 27.9375 12.859375 23 \nQ 13.140625 18.0625 14.3125 12.8125 \nQ 15.484375 7.5625 18.09375 3.96875 \nQ 20.703125 0.390625 25 0.390625 \nz\n\" id=\"Cmr10-48\"/>\n       <path d=\"M 6.203125 8.109375 \nQ 6.203125 9.578125 6.5 10.890625 \nL 13.71875 39.59375 \nL 3.21875 39.59375 \nQ 2.203125 39.59375 2.203125 40.921875 \nQ 2.59375 43.109375 3.515625 43.109375 \nL 14.59375 43.109375 \nL 18.609375 59.421875 \nQ 19 60.75 20.171875 61.671875 \nQ 21.34375 62.59375 22.796875 62.59375 \nQ 24.078125 62.59375 24.921875 61.828125 \nQ 25.78125 61.078125 25.78125 59.8125 \nQ 25.78125 59.515625 25.75 59.34375 \nQ 25.734375 59.1875 25.6875 58.984375 \nL 21.6875 43.109375 \nL 31.984375 43.109375 \nQ 33.015625 43.109375 33.015625 41.796875 \nQ 32.953125 41.546875 32.8125 40.953125 \nQ 32.671875 40.375 32.421875 39.984375 \nQ 32.171875 39.59375 31.6875 39.59375 \nL 20.796875 39.59375 \nL 13.625 10.6875 \nQ 12.890625 7.859375 12.890625 5.8125 \nQ 12.890625 1.515625 15.828125 1.515625 \nQ 20.21875 1.515625 23.609375 5.640625 \nQ 27 9.765625 28.8125 14.703125 \nQ 29.203125 15.28125 29.59375 15.28125 \nL 30.8125 15.28125 \nQ 31.203125 15.28125 31.4375 15.015625 \nQ 31.6875 14.75 31.6875 14.40625 \nQ 31.6875 14.203125 31.59375 14.109375 \nQ 29.390625 8.0625 25.1875 3.46875 \nQ 21 -1.125 15.578125 -1.125 \nQ 11.625 -1.125 8.90625 1.453125 \nQ 6.203125 4.046875 6.203125 8.109375 \nz\n\" id=\"Cmmi10-116\"/>\n       <path d=\"M 7.8125 -114.015625 \nQ 7.8125 -113.484375 8.015625 -113.28125 \nL 33.109375 -56 \nL 8.015625 1.3125 \nQ 7.8125 1.515625 7.8125 2 \nQ 7.8125 2.734375 8.390625 3.359375 \nQ 8.984375 4 9.8125 4 \nQ 10.984375 4 11.71875 2.78125 \nL 37.203125 -55.328125 \nQ 37.3125 -55.515625 37.3125 -56 \nQ 37.3125 -56.5 37.203125 -56.78125 \nL 11.71875 -114.796875 \nQ 10.9375 -116.015625 9.8125 -116.015625 \nQ 8.984375 -116.015625 8.390625 -115.375 \nQ 7.8125 -114.75 7.8125 -114.015625 \nz\n\" id=\"Cmex10-174\"/>\n       <path d=\"M 4.984375 0 \nL 4.984375 2.6875 \nQ 4.984375 2.9375 5.171875 3.21875 \nL 20.703125 20.40625 \nQ 24.21875 24.21875 26.40625 26.796875 \nQ 28.609375 29.390625 30.75 32.765625 \nQ 32.90625 36.140625 34.15625 39.625 \nQ 35.40625 43.109375 35.40625 47.015625 \nQ 35.40625 51.125 33.890625 54.859375 \nQ 32.375 58.59375 29.375 60.84375 \nQ 26.375 63.09375 22.125 63.09375 \nQ 17.78125 63.09375 14.3125 60.46875 \nQ 10.84375 57.859375 9.421875 53.71875 \nQ 9.8125 53.8125 10.5 53.8125 \nQ 12.75 53.8125 14.328125 52.296875 \nQ 15.921875 50.78125 15.921875 48.390625 \nQ 15.921875 46.09375 14.328125 44.5 \nQ 12.75 42.921875 10.5 42.921875 \nQ 8.15625 42.921875 6.5625 44.546875 \nQ 4.984375 46.1875 4.984375 48.390625 \nQ 4.984375 52.15625 6.390625 55.4375 \nQ 7.8125 58.734375 10.46875 61.296875 \nQ 13.140625 63.875 16.484375 65.234375 \nQ 19.828125 66.609375 23.578125 66.609375 \nQ 29.296875 66.609375 34.21875 64.1875 \nQ 39.15625 61.765625 42.03125 57.34375 \nQ 44.921875 52.9375 44.921875 47.015625 \nQ 44.921875 42.671875 43.015625 38.765625 \nQ 41.109375 34.859375 38.125 31.65625 \nQ 35.15625 28.46875 30.515625 24.40625 \nQ 25.875 20.359375 24.421875 19 \nL 13.09375 8.109375 \nL 22.703125 8.109375 \nQ 29.78125 8.109375 34.546875 8.21875 \nQ 39.3125 8.34375 39.59375 8.59375 \nQ 40.765625 9.859375 42 17.828125 \nL 44.921875 17.828125 \nL 42.09375 0 \nz\n\" id=\"Cmr10-50\"/>\n      </defs>\n      <use transform=\"translate(0 0.658854)\" xlink:href=\"#STIXGeneral-Regular-80\"/>\n      <use transform=\"translate(55.699997 0.658854)\" xlink:href=\"#STIXGeneral-Regular-114\"/>\n      <use transform=\"translate(88.999985 0.658854)\" xlink:href=\"#STIXGeneral-Regular-111\"/>\n      <use transform=\"translate(138.999969 0.658854)\" xlink:href=\"#STIXGeneral-Regular-98\"/>\n      <use transform=\"translate(188.999954 0.658854)\" xlink:href=\"#STIXGeneral-Regular-97\"/>\n      <use transform=\"translate(233.399948 0.658854)\" xlink:href=\"#STIXGeneral-Regular-98\"/>\n      <use transform=\"translate(283.399933 0.658854)\" xlink:href=\"#STIXGeneral-Regular-105\"/>\n      <use transform=\"translate(311.199921 0.658854)\" xlink:href=\"#STIXGeneral-Regular-108\"/>\n      <use transform=\"translate(338.999908 0.658854)\" xlink:href=\"#STIXGeneral-Regular-105\"/>\n      <use transform=\"translate(366.799896 0.658854)\" xlink:href=\"#STIXGeneral-Regular-116\"/>\n      <use transform=\"translate(394.599884 0.658854)\" xlink:href=\"#STIXGeneral-Regular-121\"/>\n      <use transform=\"translate(444.599869 0.658854)\" xlink:href=\"#STIXGeneral-Regular-32\"/>\n      <use transform=\"translate(469.599854 0.658854)\" xlink:href=\"#STIXGeneral-Regular-80\"/>\n      <use transform=\"translate(525.29985 0.658854)\" xlink:href=\"#STIXGeneral-Regular-40\"/>\n      <use transform=\"translate(558.599838 0.658854)\" xlink:href=\"#STIXGeneral-Regular-116\"/>\n      <use transform=\"translate(586.399826 0.658854)\" xlink:href=\"#STIXGeneral-Regular-41\"/>\n      <use transform=\"translate(619.699814 0.658854)\" xlink:href=\"#STIXGeneral-Regular-61\"/>\n      <use transform=\"translate(688.199799 0.658854)\" xlink:href=\"#Cmsy10-106\"/>\n      <use transform=\"translate(715.885345 94)\" xlink:href=\"#Cmex10-173\"/>\n      <use transform=\"translate(763.102142 0.658854)\" xlink:href=\"#Cmmi10-195\"/>\n      <use transform=\"translate(828.190033 -16.347396)scale(0.7)\" xlink:href=\"#Cmr10-48\"/>\n      <use transform=\"translate(869.567377 0.658854)\" xlink:href=\"#Cmsy10-106\"/>\n      <use transform=\"translate(897.252924 0.658854)\" xlink:href=\"#Cmmi10-195\"/>\n      <use transform=\"translate(962.340814 -16.347396)scale(0.7)\" xlink:href=\"#Cmmi10-116\"/>\n      <use transform=\"translate(993.976947 94)\" xlink:href=\"#Cmex10-174\"/>\n      <use transform=\"translate(1041.193744 0.658854)\" xlink:href=\"#Cmsy10-106\"/>\n      <use transform=\"translate(1073.343431 38.922917)scale(0.7)\" xlink:href=\"#Cmr10-50\"/>\n     </g>\n    </g>\n   </g>\n  </g>\n </g>\n <defs>\n  <clipPath id=\"p2c3d5fa424\">\n   <rect height=\"271.8\" width=\"502.2\" x=\"46.21875\" y=\"29.59125\"/>\n  </clipPath>\n </defs>\n</svg>\n",
      "image/png": "[encoded data removed]"
     },
     "metadata": {
      "needs_background": "light"
     }
    }
   ],
   "source": [
    "#init_state=DiracState(\"..\", [0.5], S=S)\n",
    "\n",
    "\n",
    "tstep=0.1\n",
    "nstep=50\n",
    "\n",
    "[time,evolve,qmatrix]=qiskit_trotter_simulate(Hamilton=H,init_state=init_state, t_stepsize=tstep, nsteps=nstep)\n",
    "\n",
    "overlaps_prob= np.asarray([ np.square(np.abs(qiskit_overlap(init_vect, evolve))) for evolve in evolve])\n",
    "\n",
    "\n",
    "plt.figure(figsize=(9,5))\n",
    "plt.plot(time,overlaps_prob, label=r'Probability P(t)=$|\\langle \\psi_0 | \\psi_t \\rangle|^2$')\n",
    "plt.fill_between(time, 0, overlaps_prob, alpha=0.2)\n",
    "plt.legend(fontsize=20)\n",
    "plt.xlabel('Time t', fontsize=20)\n",
    "plt.ylabel('Probability P(t)', fontsize=20)\n",
    "plt.title('Probability of observing initial state', fontsize=24)"
   ]
  },
  {
   "cell_type": "code",
   "execution_count": null,
   "metadata": {},
   "outputs": [],
   "source": []
  },
  {
   "cell_type": "code",
   "execution_count": 314,
   "metadata": {},
   "outputs": [],
   "source": [
    "# Latex \\textwidth: 426.79134pt\n",
    "def set_size(width, fraction=1, subplot=[1,1]):\n",
    "    \"\"\" Set aesthetic figure dimensions to avoid scaling in latex.\n",
    "\n",
    "    Parameters\n",
    "    ----------\n",
    "    width: float\n",
    "            Width in pts\n",
    "    fraction: float\n",
    "            Fraction of the width which you wish the figure to occupy\n",
    "\n",
    "    Returns\n",
    "    -------\n",
    "    fig_dim: tuple\n",
    "            Dimensions of figure in inches\n",
    "    \"\"\"\n",
    "    # Width of figure\n",
    "    fig_width_pt = width * fraction\n",
    "\n",
    "    # Convert from pt to inches\n",
    "    inches_per_pt = 1 / 72.27\n",
    "\n",
    "    # Golden ratio to set aesthetic figure height\n",
    "    golden_ratio = (5**.5 - 1) / 2\n",
    "\n",
    "    # Figure width in inches\n",
    "    fig_width_in = fig_width_pt * inches_per_pt\n",
    "    # Figure height in inches\n",
    "    fig_height_in = fig_width_in * golden_ratio * (subplot[0] / subplot[1])\n",
    "\n",
    "    fig_dim = (fig_width_in, fig_height_in)\n",
    "\n",
    "    return fig_dim\n",
    "\n",
    "thesis_width = 426.79134\n",
    "optimal_figsize = set_size(thesis_width)\n",
    "\n",
    "import matplotlib as mpl\n",
    "import matplotlib.pyplot as plt\n",
    "\n",
    "nice_fonts = {\n",
    "        # Use LaTeX to write all text\n",
    "        \"text.usetex\": False,\n",
    "        \"font.family\": \"serif\",\n",
    "        # Use 10pt font in plots, to match 10pt font in document\n",
    "        \"axes.labelsize\": 10,\n",
    "        \"font.size\": 10,\n",
    "        # Make the legend/label fonts a little smaller\n",
    "        \"legend.fontsize\": 8,\n",
    "        \"xtick.labelsize\": 8,\n",
    "        \"ytick.labelsize\": 8,\n",
    "        # Set the font\n",
    "        'mathtext.fontset': 'cm',\n",
    "        'font.family': 'STIXGeneral'\n",
    "}\n",
    "\n",
    "#mpl.rcParams['text.usetex'] = True\n",
    "#mpl.rcParams['text.latex.preamble'] = [r'\\usepackage{amsmath}']\n",
    "mpl.rcParams.update(nice_fonts)\n",
    "\n",
    "title_size = 12\n",
    "tick_size = 8\n",
    "label_size = 8\n",
    "axes_size = 10\n",
    "figsize = optimal_figsize\n",
    "\n",
    "#overleafpath = '/Users/ima/Dropbox/Apps/Overleaf/Master Thesis/'\n",
    "overleafpath = '/Users/niq/Desktop/ThesisIBM/plot/ '"
   ]
  },
  {
   "cell_type": "code",
   "execution_count": 315,
   "metadata": {},
   "outputs": [],
   "source": [
    "def draw_config(fermis, spins):\n",
    "    \n",
    "    #spin_mapping = {\n",
    "     #   1: \"\\u2192\",\n",
    "      #  0: \"~\",\n",
    "      #  -1: \"\\u2190\"}\n",
    "\n",
    "    spin_mapping = {\n",
    "        0.5: \"\\u2192\",\n",
    "        -0.5: \"~\"}    \n",
    "    \n",
    "    fermi_mapping = {\n",
    "        'p': 'p', \n",
    "        '.': 'o',\n",
    "        'a': 'a',\n",
    "        'b': 'b'\n",
    "    }\n",
    "  \n",
    "    mystr = ''\n",
    "    i = 0\n",
    "    for fermi, spin in zip(fermis, spins):\n",
    "        mystr += fermi_mapping[fermi] + spin_mapping[spin]\n",
    "        \n",
    "    if len(fermis) > len(spins):\n",
    "        mystr += fermi_mapping[fermis[-1]]\n",
    "        \n",
    "    return mystr "
   ]
  },
  {
   "cell_type": "code",
   "execution_count": 316,
   "metadata": {},
   "outputs": [],
   "source": [
    "split_states = [DiracState(\"ap\",[-0.5],S=params[\"S\"]).construct_circuit(\"qutip\") ,DiracState(\"..\",[0.5],S=params[\"S\"]).construct_circuit(\"qutip\"),\n",
    "DiracState(\".b\",[0.5],S=params[\"S\"]).construct_circuit(\"qutip\"),\n",
    "DiracState(\"b.\",[0.5],S=params[\"S\"]).construct_circuit(\"qutip\"),\n",
    "DiracState(\"bb\",[0.5],S=params[\"S\"]).construct_circuit(\"qutip\")]\n",
    "\n",
    "labellist = np.array([draw_config(*state_decompose_dirac(state, \n",
    "                                         fermi_len=lattice.nsites, \n",
    "                                         spin_len=lattice.nedges, S=S, output='other')[0][0])\n",
    "             for state in split_states] + ['other'])\n",
    "\n",
    "problist = np.array([[np.square(np.abs(qiskit_overlap(split_state.full().flatten(), state.flatten()))) for state in evolve] \n",
    "                     for split_state in split_states])\n",
    "other = 1 - np.sum(problist, axis=0)\n",
    "problist = np.vstack((problist, other))\n"
   ]
  },
  {
   "cell_type": "code",
   "execution_count": 317,
   "metadata": {
    "tags": []
   },
   "outputs": [
    {
     "output_type": "display_data",
     "data": {
      "text/plain": "<Figure size 432x288 with 1 Axes>",
      "image/svg+xml": "<?xml version=\"1.0\" encoding=\"utf-8\" standalone=\"no\"?>\n<!DOCTYPE svg PUBLIC \"-//W3C//DTD SVG 1.1//EN\"\n  \"http://www.w3.org/Graphics/SVG/1.1/DTD/svg11.dtd\">\n<!-- Created with matplotlib (https://matplotlib.org/) -->\n<svg height=\"273.32pt\" version=\"1.1\" viewBox=\"0 0 381.209375 273.32\" width=\"381.209375pt\" xmlns=\"http://www.w3.org/2000/svg\" xmlns:xlink=\"http://www.w3.org/1999/xlink\">\n <metadata>\n  <rdf:RDF xmlns:cc=\"http://creativecommons.org/ns#\" xmlns:dc=\"http://purl.org/dc/elements/1.1/\" xmlns:rdf=\"http://www.w3.org/1999/02/22-rdf-syntax-ns#\">\n   <cc:Work>\n    <dc:type rdf:resource=\"http://purl.org/dc/dcmitype/StillImage\"/>\n    <dc:date>2020-11-24T09:08:21.106936</dc:date>\n    <dc:format>image/svg+xml</dc:format>\n    <dc:creator>\n     <cc:Agent>\n      <dc:title>Matplotlib v3.3.3, https://matplotlib.org/</dc:title>\n     </cc:Agent>\n    </dc:creator>\n   </cc:Work>\n  </rdf:RDF>\n </metadata>\n <defs>\n  <style type=\"text/css\">*{stroke-linecap:butt;stroke-linejoin:round;}</style>\n </defs>\n <g id=\"figure_1\">\n  <g id=\"patch_1\">\n   <path d=\"M 0 273.32 \nL 381.209375 273.32 \nL 381.209375 0 \nL 0 0 \nz\n\" style=\"fill:none;\"/>\n  </g>\n  <g id=\"axes_1\">\n   <g id=\"patch_2\">\n    <path d=\"M 37.209375 238.92 \nL 372.009375 238.92 \nL 372.009375 21.48 \nL 37.209375 21.48 \nz\n\" style=\"fill:#ffffff;\"/>\n   </g>\n   <g id=\"PolyCollection_1\">\n    <defs>\n     <path d=\"M 37.209375 -251.84 \nL 37.209375 -34.4 \nL 43.905375 -34.4 \nL 50.601375 -34.4 \nL 57.297375 -34.4 \nL 63.993375 -34.4 \nL 70.689375 -34.4 \nL 77.385375 -34.4 \nL 84.081375 -34.4 \nL 90.777375 -34.4 \nL 97.473375 -34.4 \nL 104.169375 -34.4 \nL 110.865375 -34.4 \nL 117.561375 -34.4 \nL 124.257375 -34.4 \nL 130.953375 -34.4 \nL 137.649375 -34.4 \nL 144.345375 -34.4 \nL 151.041375 -34.4 \nL 157.737375 -34.4 \nL 164.433375 -34.4 \nL 171.129375 -34.4 \nL 177.825375 -34.4 \nL 184.521375 -34.4 \nL 191.217375 -34.4 \nL 197.913375 -34.4 \nL 204.609375 -34.4 \nL 211.305375 -34.4 \nL 218.001375 -34.4 \nL 224.697375 -34.4 \nL 231.393375 -34.4 \nL 238.089375 -34.4 \nL 244.785375 -34.4 \nL 251.481375 -34.4 \nL 258.177375 -34.4 \nL 264.873375 -34.4 \nL 271.569375 -34.4 \nL 278.265375 -34.4 \nL 284.961375 -34.4 \nL 291.657375 -34.4 \nL 298.353375 -34.4 \nL 305.049375 -34.4 \nL 311.745375 -34.4 \nL 318.441375 -34.4 \nL 325.137375 -34.4 \nL 331.833375 -34.4 \nL 338.529375 -34.4 \nL 345.225375 -34.4 \nL 351.921375 -34.4 \nL 358.617375 -34.4 \nL 365.313375 -34.4 \nL 372.009375 -34.4 \nL 372.009375 -228.424354 \nL 372.009375 -228.424354 \nL 365.313375 -230.063094 \nL 358.617375 -236.411706 \nL 351.921375 -244.440153 \nL 345.225375 -249.592881 \nL 338.529375 -249.584358 \nL 331.833375 -245.883642 \nL 325.137375 -241.671119 \nL 318.441375 -238.877345 \nL 311.745375 -237.386145 \nL 305.049375 -236.432063 \nL 298.353375 -235.767033 \nL 291.657375 -235.243547 \nL 284.961375 -234.144704 \nL 278.265375 -231.96888 \nL 271.569375 -229.929298 \nL 264.873375 -230.731564 \nL 258.177375 -235.983297 \nL 251.481375 -243.843252 \nL 244.785375 -249.888904 \nL 238.089375 -250.75732 \nL 231.393375 -246.882024 \nL 224.697375 -241.587001 \nL 218.001375 -237.823915 \nL 211.305375 -236.133822 \nL 204.609375 -235.458178 \nL 197.913375 -234.987614 \nL 191.217375 -234.619129 \nL 184.521375 -234.113897 \nL 177.825375 -232.948427 \nL 171.129375 -231.518209 \nL 164.433375 -231.825308 \nL 157.737375 -235.885066 \nL 151.041375 -243.078665 \nL 144.345375 -249.651615 \nL 137.649375 -251.556352 \nL 130.953375 -247.968895 \nL 124.257375 -241.813715 \nL 117.561375 -236.873113 \nL 110.865375 -234.701559 \nL 104.169375 -234.344166 \nL 97.473375 -234.348091 \nL 90.777375 -234.239092 \nL 84.081375 -234.099103 \nL 77.385375 -233.712853 \nL 70.689375 -233.024625 \nL 63.993375 -233.208142 \nL 57.297375 -236.189699 \nL 50.601375 -242.344747 \nL 43.905375 -248.958452 \nL 37.209375 -251.84 \nz\n\" id=\"me6ec8e281a\" style=\"stroke:#1f77b4;stroke-opacity:0.4;\"/>\n    </defs>\n    <g clip-path=\"url(#pfb2bdd2415)\">\n     <use style=\"fill:#1f77b4;fill-opacity:0.4;stroke:#1f77b4;stroke-opacity:0.4;\" x=\"0\" xlink:href=\"#me6ec8e281a\" y=\"273.32\"/>\n    </g>\n   </g>\n   <g id=\"PolyCollection_2\">\n    <defs>\n     <path d=\"M 37.209375 -251.84 \nL 37.209375 -251.84 \nL 43.905375 -248.958452 \nL 50.601375 -242.344747 \nL 57.297375 -236.189699 \nL 63.993375 -233.208142 \nL 70.689375 -233.024625 \nL 77.385375 -233.712853 \nL 84.081375 -234.099103 \nL 90.777375 -234.239092 \nL 97.473375 -234.348091 \nL 104.169375 -234.344166 \nL 110.865375 -234.701559 \nL 117.561375 -236.873113 \nL 124.257375 -241.813715 \nL 130.953375 -247.968895 \nL 137.649375 -251.556352 \nL 144.345375 -249.651615 \nL 151.041375 -243.078665 \nL 157.737375 -235.885066 \nL 164.433375 -231.825308 \nL 171.129375 -231.518209 \nL 177.825375 -232.948427 \nL 184.521375 -234.113897 \nL 191.217375 -234.619129 \nL 197.913375 -234.987614 \nL 204.609375 -235.458178 \nL 211.305375 -236.133822 \nL 218.001375 -237.823915 \nL 224.697375 -241.587001 \nL 231.393375 -246.882024 \nL 238.089375 -250.75732 \nL 244.785375 -249.888904 \nL 251.481375 -243.843252 \nL 258.177375 -235.983297 \nL 264.873375 -230.731564 \nL 271.569375 -229.929298 \nL 278.265375 -231.96888 \nL 284.961375 -234.144704 \nL 291.657375 -235.243547 \nL 298.353375 -235.767033 \nL 305.049375 -236.432063 \nL 311.745375 -237.386145 \nL 318.441375 -238.877345 \nL 325.137375 -241.671119 \nL 331.833375 -245.883642 \nL 338.529375 -249.584358 \nL 345.225375 -249.592881 \nL 351.921375 -244.440153 \nL 358.617375 -236.411706 \nL 365.313375 -230.063094 \nL 372.009375 -228.424354 \nL 372.009375 -242.276151 \nL 372.009375 -242.276151 \nL 365.313375 -241.325932 \nL 358.617375 -244.419546 \nL 351.921375 -249.141644 \nL 345.225375 -251.570562 \nL 338.529375 -249.925123 \nL 331.833375 -245.951329 \nL 325.137375 -242.849504 \nL 318.441375 -242.330997 \nL 311.745375 -243.865586 \nL 305.049375 -246.148978 \nL 298.353375 -248.366654 \nL 291.657375 -249.880673 \nL 284.961375 -249.636621 \nL 278.265375 -246.985233 \nL 271.569375 -243.196127 \nL 264.873375 -241.244217 \nL 258.177375 -243.208723 \nL 251.481375 -247.857337 \nL 244.785375 -251.385543 \nL 238.089375 -250.908419 \nL 231.393375 -247.092218 \nL 224.697375 -243.220504 \nL 218.001375 -241.965383 \nL 211.305375 -243.411707 \nL 204.609375 -245.944581 \nL 197.913375 -248.191523 \nL 191.217375 -249.581557 \nL 184.521375 -249.584154 \nL 177.825375 -247.596464 \nL 171.129375 -244.144199 \nL 164.433375 -241.552008 \nL 157.737375 -242.324107 \nL 151.041375 -246.437606 \nL 144.345375 -250.728712 \nL 137.649375 -251.594005 \nL 130.953375 -248.397632 \nL 124.257375 -243.966055 \nL 117.561375 -241.743101 \nL 110.865375 -242.786279 \nL 104.169375 -245.572661 \nL 97.473375 -248.099851 \nL 90.777375 -249.456209 \nL 84.081375 -249.477995 \nL 77.385375 -247.933091 \nL 70.689375 -244.965527 \nL 63.993375 -242.12577 \nL 57.297375 -241.847951 \nL 50.601375 -245.086411 \nL 43.905375 -249.680036 \nL 37.209375 -251.84 \nz\n\" id=\"m1dfd5b1597\" style=\"stroke:#006400;stroke-opacity:0.4;\"/>\n    </defs>\n    <g clip-path=\"url(#pfb2bdd2415)\">\n     <use style=\"fill:#006400;fill-opacity:0.4;stroke:#006400;stroke-opacity:0.4;\" x=\"0\" xlink:href=\"#m1dfd5b1597\" y=\"273.32\"/>\n    </g>\n   </g>\n   <g id=\"PolyCollection_3\">\n    <defs>\n     <path d=\"M 37.209375 -251.84 \nL 37.209375 -251.84 \nL 43.905375 -249.680036 \nL 50.601375 -245.086411 \nL 57.297375 -241.847951 \nL 63.993375 -242.12577 \nL 70.689375 -244.965527 \nL 77.385375 -247.933091 \nL 84.081375 -249.477995 \nL 90.777375 -249.456209 \nL 97.473375 -248.099851 \nL 104.169375 -245.572661 \nL 110.865375 -242.786279 \nL 117.561375 -241.743101 \nL 124.257375 -243.966055 \nL 130.953375 -248.397632 \nL 137.649375 -251.594005 \nL 144.345375 -250.728712 \nL 151.041375 -246.437606 \nL 157.737375 -242.324107 \nL 164.433375 -241.552008 \nL 171.129375 -244.144199 \nL 177.825375 -247.596464 \nL 184.521375 -249.584154 \nL 191.217375 -249.581557 \nL 197.913375 -248.191523 \nL 204.609375 -245.944581 \nL 211.305375 -243.411707 \nL 218.001375 -241.965383 \nL 224.697375 -243.220504 \nL 231.393375 -247.092218 \nL 238.089375 -250.908419 \nL 244.785375 -251.385543 \nL 251.481375 -247.857337 \nL 258.177375 -243.208723 \nL 264.873375 -241.244217 \nL 271.569375 -243.196127 \nL 278.265375 -246.985233 \nL 284.961375 -249.636621 \nL 291.657375 -249.880673 \nL 298.353375 -248.366654 \nL 305.049375 -246.148978 \nL 311.745375 -243.865586 \nL 318.441375 -242.330997 \nL 325.137375 -242.849504 \nL 331.833375 -245.951329 \nL 338.529375 -249.925123 \nL 345.225375 -251.570562 \nL 351.921375 -249.141644 \nL 358.617375 -244.419546 \nL 365.313375 -241.325932 \nL 372.009375 -242.276151 \nL 372.009375 -246.82093 \nL 372.009375 -246.82093 \nL 365.313375 -245.892086 \nL 358.617375 -247.586295 \nL 351.921375 -250.400068 \nL 345.225375 -251.650375 \nL 338.529375 -250.3147 \nL 331.833375 -247.93453 \nL 325.137375 -246.686651 \nL 318.441375 -247.101784 \nL 311.745375 -248.060622 \nL 305.049375 -248.627981 \nL 298.353375 -249.079933 \nL 291.657375 -249.900699 \nL 284.961375 -250.475269 \nL 278.265375 -249.623802 \nL 271.569375 -247.44895 \nL 264.873375 -245.874967 \nL 258.177375 -246.733048 \nL 251.481375 -249.50977 \nL 244.785375 -251.614927 \nL 238.089375 -251.079243 \nL 231.393375 -248.595937 \nL 224.697375 -246.58188 \nL 218.001375 -246.516811 \nL 211.305375 -247.730201 \nL 204.609375 -248.761164 \nL 197.913375 -249.195576 \nL 191.217375 -249.616717 \nL 184.521375 -250.112506 \nL 177.825375 -249.764862 \nL 171.129375 -248.044256 \nL 164.433375 -246.154522 \nL 157.737375 -246.141454 \nL 151.041375 -248.48946 \nL 144.345375 -251.178247 \nL 137.649375 -251.63574 \nL 130.953375 -249.475195 \nL 124.257375 -246.838579 \nL 117.561375 -246.006692 \nL 110.865375 -247.147194 \nL 104.169375 -248.681932 \nL 97.473375 -249.412232 \nL 90.777375 -249.574109 \nL 84.081375 -249.768335 \nL 77.385375 -249.657432 \nL 70.689375 -248.470683 \nL 63.993375 -246.613661 \nL 57.297375 -245.883182 \nL 50.601375 -247.522843 \nL 43.905375 -250.404031 \nL 37.209375 -251.84 \nz\n\" id=\"m6e09551164\" style=\"stroke:#228b22;stroke-opacity:0.4;\"/>\n    </defs>\n    <g clip-path=\"url(#pfb2bdd2415)\">\n     <use style=\"fill:#228b22;fill-opacity:0.4;stroke:#228b22;stroke-opacity:0.4;\" x=\"0\" xlink:href=\"#m6e09551164\" y=\"273.32\"/>\n    </g>\n   </g>\n   <g id=\"PolyCollection_4\">\n    <defs>\n     <path d=\"M 37.209375 -251.84 \nL 37.209375 -251.84 \nL 43.905375 -250.404031 \nL 50.601375 -247.522843 \nL 57.297375 -245.883182 \nL 63.993375 -246.613661 \nL 70.689375 -248.470683 \nL 77.385375 -249.657432 \nL 84.081375 -249.768335 \nL 90.777375 -249.574109 \nL 97.473375 -249.412232 \nL 104.169375 -248.681932 \nL 110.865375 -247.147194 \nL 117.561375 -246.006692 \nL 124.257375 -246.838579 \nL 130.953375 -249.475195 \nL 137.649375 -251.63574 \nL 144.345375 -251.178247 \nL 151.041375 -248.48946 \nL 157.737375 -246.141454 \nL 164.433375 -246.154522 \nL 171.129375 -248.044256 \nL 177.825375 -249.764862 \nL 184.521375 -250.112506 \nL 191.217375 -249.616717 \nL 197.913375 -249.195576 \nL 204.609375 -248.761164 \nL 211.305375 -247.730201 \nL 218.001375 -246.516811 \nL 224.697375 -246.58188 \nL 231.393375 -248.595937 \nL 238.089375 -251.079243 \nL 244.785375 -251.614927 \nL 251.481375 -249.50977 \nL 258.177375 -246.733048 \nL 264.873375 -245.874967 \nL 271.569375 -247.44895 \nL 278.265375 -249.623802 \nL 284.961375 -250.475269 \nL 291.657375 -249.900699 \nL 298.353375 -249.079933 \nL 305.049375 -248.627981 \nL 311.745375 -248.060622 \nL 318.441375 -247.101784 \nL 325.137375 -246.686651 \nL 331.833375 -247.93453 \nL 338.529375 -250.3147 \nL 345.225375 -251.650375 \nL 351.921375 -250.400068 \nL 358.617375 -247.586295 \nL 365.313375 -245.892086 \nL 372.009375 -246.82093 \nL 372.009375 -250.550939 \nL 372.009375 -250.550939 \nL 365.313375 -249.738847 \nL 358.617375 -250.32422 \nL 351.921375 -251.527951 \nL 345.225375 -251.733764 \nL 338.529375 -250.626341 \nL 331.833375 -249.624341 \nL 325.137375 -250.029368 \nL 318.441375 -251.316358 \nL 311.745375 -251.812625 \nL 305.049375 -250.881344 \nL 298.353375 -249.750153 \nL 291.657375 -249.900825 \nL 284.961375 -251.132675 \nL 278.265375 -251.836007 \nL 271.569375 -251.109004 \nL 264.873375 -249.934907 \nL 258.177375 -249.877102 \nL 251.481375 -251.014026 \nL 244.785375 -251.833381 \nL 238.089375 -251.226381 \nL 231.393375 -249.958192 \nL 224.697375 -249.67536 \nL 218.001375 -250.74762 \nL 211.305375 -251.777508 \nL 204.609375 -251.425993 \nL 197.913375 -250.16276 \nL 191.217375 -249.647141 \nL 184.521375 -250.55327 \nL 177.825375 -251.692116 \nL 171.129375 -251.577931 \nL 164.433375 -250.378007 \nL 157.737375 -249.685445 \nL 151.041375 -250.417886 \nL 144.345375 -251.607516 \nL 137.649375 -251.674468 \nL 130.953375 -250.509673 \nL 124.257375 -249.626895 \nL 117.561375 -250.179574 \nL 110.865375 -251.445192 \nL 104.169375 -251.769285 \nL 97.473375 -250.732794 \nL 90.777375 -249.699432 \nL 84.081375 -250.025391 \nL 77.385375 -251.281541 \nL 70.689375 -251.820352 \nL 63.993375 -250.940516 \nL 57.297375 -249.805659 \nL 50.601375 -249.912114 \nL 43.905375 -251.120818 \nL 37.209375 -251.84 \nz\n\" id=\"ma46720a153\" style=\"stroke:#3cb371;stroke-opacity:0.4;\"/>\n    </defs>\n    <g clip-path=\"url(#pfb2bdd2415)\">\n     <use style=\"fill:#3cb371;fill-opacity:0.4;stroke:#3cb371;stroke-opacity:0.4;\" x=\"0\" xlink:href=\"#ma46720a153\" y=\"273.32\"/>\n    </g>\n   </g>\n   <g id=\"PolyCollection_5\">\n    <defs>\n     <path d=\"M 37.209375 -251.84 \nL 37.209375 -251.84 \nL 43.905375 -251.120818 \nL 50.601375 -249.912114 \nL 57.297375 -249.805659 \nL 63.993375 -250.940516 \nL 70.689375 -251.820352 \nL 77.385375 -251.281541 \nL 84.081375 -250.025391 \nL 90.777375 -249.699432 \nL 97.473375 -250.732794 \nL 104.169375 -251.769285 \nL 110.865375 -251.445192 \nL 117.561375 -250.179574 \nL 124.257375 -249.626895 \nL 130.953375 -250.509673 \nL 137.649375 -251.674468 \nL 144.345375 -251.607516 \nL 151.041375 -250.417886 \nL 157.737375 -249.685445 \nL 164.433375 -250.378007 \nL 171.129375 -251.577931 \nL 177.825375 -251.692116 \nL 184.521375 -250.55327 \nL 191.217375 -249.647141 \nL 197.913375 -250.16276 \nL 204.609375 -251.425993 \nL 211.305375 -251.777508 \nL 218.001375 -250.74762 \nL 224.697375 -249.67536 \nL 231.393375 -249.958192 \nL 238.089375 -251.226381 \nL 244.785375 -251.833381 \nL 251.481375 -251.014026 \nL 258.177375 -249.877102 \nL 264.873375 -249.934907 \nL 271.569375 -251.109004 \nL 278.265375 -251.836007 \nL 284.961375 -251.132675 \nL 291.657375 -249.900825 \nL 298.353375 -249.750153 \nL 305.049375 -250.881344 \nL 311.745375 -251.812625 \nL 318.441375 -251.316358 \nL 325.137375 -250.029368 \nL 331.833375 -249.624341 \nL 338.529375 -250.626341 \nL 345.225375 -251.733764 \nL 351.921375 -251.527951 \nL 358.617375 -250.32422 \nL 365.313375 -249.738847 \nL 372.009375 -250.550939 \nL 372.009375 -251.84 \nL 372.009375 -251.84 \nL 365.313375 -251.84 \nL 358.617375 -251.84 \nL 351.921375 -251.84 \nL 345.225375 -251.84 \nL 338.529375 -251.84 \nL 331.833375 -251.84 \nL 325.137375 -251.84 \nL 318.441375 -251.84 \nL 311.745375 -251.84 \nL 305.049375 -251.84 \nL 298.353375 -251.84 \nL 291.657375 -251.84 \nL 284.961375 -251.84 \nL 278.265375 -251.84 \nL 271.569375 -251.84 \nL 264.873375 -251.84 \nL 258.177375 -251.84 \nL 251.481375 -251.84 \nL 244.785375 -251.84 \nL 238.089375 -251.84 \nL 231.393375 -251.84 \nL 224.697375 -251.84 \nL 218.001375 -251.84 \nL 211.305375 -251.84 \nL 204.609375 -251.84 \nL 197.913375 -251.84 \nL 191.217375 -251.84 \nL 184.521375 -251.84 \nL 177.825375 -251.84 \nL 171.129375 -251.84 \nL 164.433375 -251.84 \nL 157.737375 -251.84 \nL 151.041375 -251.84 \nL 144.345375 -251.84 \nL 137.649375 -251.84 \nL 130.953375 -251.84 \nL 124.257375 -251.84 \nL 117.561375 -251.84 \nL 110.865375 -251.84 \nL 104.169375 -251.84 \nL 97.473375 -251.84 \nL 90.777375 -251.84 \nL 84.081375 -251.84 \nL 77.385375 -251.84 \nL 70.689375 -251.84 \nL 63.993375 -251.84 \nL 57.297375 -251.84 \nL 50.601375 -251.84 \nL 43.905375 -251.84 \nL 37.209375 -251.84 \nz\n\" id=\"m979827abae\" style=\"stroke:#32cd32;stroke-opacity:0.4;\"/>\n    </defs>\n    <g clip-path=\"url(#pfb2bdd2415)\">\n     <use style=\"fill:#32cd32;fill-opacity:0.4;stroke:#32cd32;stroke-opacity:0.4;\" x=\"0\" xlink:href=\"#m979827abae\" y=\"273.32\"/>\n    </g>\n   </g>\n   <g id=\"PolyCollection_6\">\n    <defs>\n     <path d=\"M 37.209375 -251.84 \nL 37.209375 -251.84 \nL 43.905375 -251.84 \nL 50.601375 -251.84 \nL 57.297375 -251.84 \nL 63.993375 -251.84 \nL 70.689375 -251.84 \nL 77.385375 -251.84 \nL 84.081375 -251.84 \nL 90.777375 -251.84 \nL 97.473375 -251.84 \nL 104.169375 -251.84 \nL 110.865375 -251.84 \nL 117.561375 -251.84 \nL 124.257375 -251.84 \nL 130.953375 -251.84 \nL 137.649375 -251.84 \nL 144.345375 -251.84 \nL 151.041375 -251.84 \nL 157.737375 -251.84 \nL 164.433375 -251.84 \nL 171.129375 -251.84 \nL 177.825375 -251.84 \nL 184.521375 -251.84 \nL 191.217375 -251.84 \nL 197.913375 -251.84 \nL 204.609375 -251.84 \nL 211.305375 -251.84 \nL 218.001375 -251.84 \nL 224.697375 -251.84 \nL 231.393375 -251.84 \nL 238.089375 -251.84 \nL 244.785375 -251.84 \nL 251.481375 -251.84 \nL 258.177375 -251.84 \nL 264.873375 -251.84 \nL 271.569375 -251.84 \nL 278.265375 -251.84 \nL 284.961375 -251.84 \nL 291.657375 -251.84 \nL 298.353375 -251.84 \nL 305.049375 -251.84 \nL 311.745375 -251.84 \nL 318.441375 -251.84 \nL 325.137375 -251.84 \nL 331.833375 -251.84 \nL 338.529375 -251.84 \nL 345.225375 -251.84 \nL 351.921375 -251.84 \nL 358.617375 -251.84 \nL 365.313375 -251.84 \nL 372.009375 -251.84 \nL 372.009375 -251.84 \nL 372.009375 -251.84 \nL 365.313375 -251.84 \nL 358.617375 -251.84 \nL 351.921375 -251.84 \nL 345.225375 -251.84 \nL 338.529375 -251.84 \nL 331.833375 -251.84 \nL 325.137375 -251.84 \nL 318.441375 -251.84 \nL 311.745375 -251.84 \nL 305.049375 -251.84 \nL 298.353375 -251.84 \nL 291.657375 -251.84 \nL 284.961375 -251.84 \nL 278.265375 -251.84 \nL 271.569375 -251.84 \nL 264.873375 -251.84 \nL 258.177375 -251.84 \nL 251.481375 -251.84 \nL 244.785375 -251.84 \nL 238.089375 -251.84 \nL 231.393375 -251.84 \nL 224.697375 -251.84 \nL 218.001375 -251.84 \nL 211.305375 -251.84 \nL 204.609375 -251.84 \nL 197.913375 -251.84 \nL 191.217375 -251.84 \nL 184.521375 -251.84 \nL 177.825375 -251.84 \nL 171.129375 -251.84 \nL 164.433375 -251.84 \nL 157.737375 -251.84 \nL 151.041375 -251.84 \nL 144.345375 -251.84 \nL 137.649375 -251.84 \nL 130.953375 -251.84 \nL 124.257375 -251.84 \nL 117.561375 -251.84 \nL 110.865375 -251.84 \nL 104.169375 -251.84 \nL 97.473375 -251.84 \nL 90.777375 -251.84 \nL 84.081375 -251.84 \nL 77.385375 -251.84 \nL 70.689375 -251.84 \nL 63.993375 -251.84 \nL 57.297375 -251.84 \nL 50.601375 -251.84 \nL 43.905375 -251.84 \nL 37.209375 -251.84 \nz\n\" id=\"ma6840acc25\" style=\"stroke:#7cfc00;stroke-opacity:0.4;\"/>\n    </defs>\n    <g clip-path=\"url(#pfb2bdd2415)\">\n     <use style=\"fill:#7cfc00;fill-opacity:0.4;stroke:#7cfc00;stroke-opacity:0.4;\" x=\"0\" xlink:href=\"#ma6840acc25\" y=\"273.32\"/>\n    </g>\n   </g>\n   <g id=\"matplotlib.axis_1\">\n    <g id=\"xtick_1\">\n     <g id=\"line2d_1\">\n      <defs>\n       <path d=\"M 0 0 \nL 0 3.5 \n\" id=\"md576e18f5b\" style=\"stroke:#000000;stroke-width:0.8;\"/>\n      </defs>\n      <g>\n       <use style=\"stroke:#000000;stroke-width:0.8;\" x=\"37.209375\" xlink:href=\"#md576e18f5b\" y=\"238.92\"/>\n      </g>\n     </g>\n     <g id=\"text_1\">\n      <!-- 0 -->\n      <g transform=\"translate(35.209375 251.38375)scale(0.08 -0.08)\">\n       <defs>\n        <path d=\"M 47.59375 33 \nQ 47.59375 26.296875 46.296875 20.34375 \nQ 45 14.40625 42.453125 9.40625 \nQ 39.90625 4.40625 35.40625 1.5 \nQ 30.90625 -1.40625 25 -1.40625 \nQ 18.90625 -1.40625 14.296875 1.6875 \nQ 9.703125 4.796875 7.203125 10 \nQ 4.703125 15.203125 3.546875 21.09375 \nQ 2.40625 27 2.40625 33.59375 \nQ 2.40625 42.90625 4.703125 50.34375 \nQ 7 57.796875 12.34375 62.6875 \nQ 17.703125 67.59375 25.40625 67.59375 \nQ 35.203125 67.59375 41.390625 58 \nQ 47.59375 48.40625 47.59375 33 \nz\nM 38 32.5 \nQ 38 48.296875 34.640625 56.640625 \nQ 31.296875 65 24.796875 65 \nQ 18.59375 65 15.296875 56.59375 \nQ 12 48.203125 12 32.90625 \nQ 12 17.5 15.296875 9.34375 \nQ 18.59375 1.203125 25 1.203125 \nQ 31.296875 1.203125 34.640625 9.34375 \nQ 38 17.5 38 32.5 \nz\n\" id=\"STIXGeneral-Regular-48\"/>\n       </defs>\n       <use xlink:href=\"#STIXGeneral-Regular-48\"/>\n      </g>\n     </g>\n    </g>\n    <g id=\"xtick_2\">\n     <g id=\"line2d_2\">\n      <g>\n       <use style=\"stroke:#000000;stroke-width:0.8;\" x=\"104.169375\" xlink:href=\"#md576e18f5b\" y=\"238.92\"/>\n      </g>\n     </g>\n     <g id=\"text_2\">\n      <!-- 1 -->\n      <g transform=\"translate(102.169375 251.38375)scale(0.08 -0.08)\">\n       <defs>\n        <path d=\"M 39.40625 0 \nL 11.796875 0 \nL 11.796875 1.5 \nQ 17.296875 1.796875 19.296875 3.546875 \nQ 21.296875 5.296875 21.296875 9.5 \nL 21.296875 54.40625 \nQ 21.296875 59.296875 18.296875 59.296875 \nQ 16.90625 59.296875 13.796875 58.09375 \nL 11.09375 57.09375 \nL 11.09375 58.5 \nL 29 67.59375 \nL 29.90625 67.296875 \nL 29.90625 7.59375 \nQ 29.90625 4.296875 31.90625 2.890625 \nQ 33.90625 1.5 39.40625 1.5 \nz\n\" id=\"STIXGeneral-Regular-49\"/>\n       </defs>\n       <use xlink:href=\"#STIXGeneral-Regular-49\"/>\n      </g>\n     </g>\n    </g>\n    <g id=\"xtick_3\">\n     <g id=\"line2d_3\">\n      <g>\n       <use style=\"stroke:#000000;stroke-width:0.8;\" x=\"171.129375\" xlink:href=\"#md576e18f5b\" y=\"238.92\"/>\n      </g>\n     </g>\n     <g id=\"text_3\">\n      <!-- 2 -->\n      <g transform=\"translate(169.129375 251.38375)scale(0.08 -0.08)\">\n       <defs>\n        <path d=\"M 47.40625 13.703125 \nL 42 0 \nL 2.90625 0 \nL 2.90625 1.203125 \nL 20.703125 20.09375 \nQ 27.703125 27.40625 30.703125 33.5 \nQ 33.703125 39.59375 33.703125 46.09375 \nQ 33.703125 52.796875 30 56.5 \nQ 26.296875 60.203125 19.796875 60.203125 \nQ 14.40625 60.203125 11.25 57.390625 \nQ 8.09375 54.59375 5.09375 47.203125 \nL 3 47.703125 \nQ 4.703125 57 9.84375 62.296875 \nQ 15 67.59375 23.796875 67.59375 \nQ 32.09375 67.59375 37.1875 62.59375 \nQ 42.296875 57.59375 42.296875 50 \nQ 42.296875 38.703125 29.5 25.203125 \nL 13 7.59375 \nL 36.40625 7.59375 \nQ 39.703125 7.59375 41.640625 8.890625 \nQ 43.59375 10.203125 46 14.296875 \nz\n\" id=\"STIXGeneral-Regular-50\"/>\n       </defs>\n       <use xlink:href=\"#STIXGeneral-Regular-50\"/>\n      </g>\n     </g>\n    </g>\n    <g id=\"xtick_4\">\n     <g id=\"line2d_4\">\n      <g>\n       <use style=\"stroke:#000000;stroke-width:0.8;\" x=\"238.089375\" xlink:href=\"#md576e18f5b\" y=\"238.92\"/>\n      </g>\n     </g>\n     <g id=\"text_4\">\n      <!-- 3 -->\n      <g transform=\"translate(236.089375 251.38375)scale(0.08 -0.08)\">\n       <defs>\n        <path d=\"M 6.09375 51 \nL 4.5 51.40625 \nQ 6.796875 58.90625 11.6875 63.25 \nQ 16.59375 67.59375 24.09375 67.59375 \nQ 31.09375 67.59375 35.390625 63.796875 \nQ 39.703125 60 39.703125 53.90625 \nQ 39.703125 45.703125 30.40625 40.09375 \nQ 35.90625 37.703125 38.703125 34.796875 \nQ 43.09375 29.90625 43.09375 21.90625 \nQ 43.09375 13.90625 38.5 7.90625 \nQ 35.09375 3.296875 28.75 0.9375 \nQ 22.40625 -1.40625 15.296875 -1.40625 \nQ 4.09375 -1.40625 4.09375 4.296875 \nQ 4.09375 5.90625 5.296875 6.90625 \nQ 6.5 7.90625 8.203125 7.90625 \nQ 10.703125 7.90625 14.296875 5.296875 \nQ 18.703125 2.203125 22.90625 2.203125 \nQ 28.40625 2.203125 32.15625 6.640625 \nQ 35.90625 11.09375 35.90625 17.5 \nQ 35.90625 29 25.5 32 \nQ 22.40625 33 15.296875 33 \nL 15.296875 34.40625 \nQ 20.90625 36.296875 23.703125 38 \nQ 31.796875 42.59375 31.796875 51.40625 \nQ 31.796875 56.40625 28.9375 59 \nQ 26.09375 61.59375 21 61.59375 \nQ 12 61.59375 6.09375 51 \nz\n\" id=\"STIXGeneral-Regular-51\"/>\n       </defs>\n       <use xlink:href=\"#STIXGeneral-Regular-51\"/>\n      </g>\n     </g>\n    </g>\n    <g id=\"xtick_5\">\n     <g id=\"line2d_5\">\n      <g>\n       <use style=\"stroke:#000000;stroke-width:0.8;\" x=\"305.049375\" xlink:href=\"#md576e18f5b\" y=\"238.92\"/>\n      </g>\n     </g>\n     <g id=\"text_5\">\n      <!-- 4 -->\n      <g transform=\"translate(303.049375 251.38375)scale(0.08 -0.08)\">\n       <defs>\n        <path d=\"M 47.296875 16.703125 \nL 37 16.703125 \nL 37 0 \nL 29.203125 0 \nL 29.203125 16.703125 \nL 1.203125 16.703125 \nL 1.203125 23.09375 \nL 32.59375 67.59375 \nL 37 67.59375 \nL 37 23.09375 \nL 47.296875 23.09375 \nz\nM 29.203125 23.09375 \nL 29.203125 57.40625 \nL 5.203125 23.09375 \nz\n\" id=\"STIXGeneral-Regular-52\"/>\n       </defs>\n       <use xlink:href=\"#STIXGeneral-Regular-52\"/>\n      </g>\n     </g>\n    </g>\n    <g id=\"xtick_6\">\n     <g id=\"line2d_6\">\n      <g>\n       <use style=\"stroke:#000000;stroke-width:0.8;\" x=\"372.009375\" xlink:href=\"#md576e18f5b\" y=\"238.92\"/>\n      </g>\n     </g>\n     <g id=\"text_6\">\n      <!-- 5 -->\n      <g transform=\"translate(370.009375 251.38375)scale(0.08 -0.08)\">\n       <defs>\n        <path d=\"M 43.796875 68.09375 \nL 40.203125 59.59375 \nQ 39.59375 58.296875 37.5 58.296875 \nL 18.09375 58.296875 \nL 14.09375 49.796875 \nQ 25.09375 47.703125 30 45.25 \nQ 34.90625 42.796875 39.09375 37 \nQ 42.59375 32.203125 42.59375 24.296875 \nQ 42.59375 17.09375 40.25 12.1875 \nQ 37.90625 7.296875 32.796875 3.5 \nQ 26 -1.40625 15.796875 -1.40625 \nQ 10.09375 -1.40625 6.59375 0.296875 \nQ 3.09375 2 3.09375 4.796875 \nQ 3.09375 8.59375 7.59375 8.59375 \nQ 11.203125 8.59375 15 5.5 \nQ 18.90625 2.296875 22.09375 2.296875 \nQ 27.296875 2.296875 31.4375 7.5 \nQ 35.59375 12.703125 35.59375 19.203125 \nQ 35.59375 28.796875 28.90625 34.203125 \nQ 20.203125 41.203125 7.59375 41.203125 \nQ 6.40625 41.203125 6.40625 42 \nL 6.5 42.5 \nL 17.40625 66.203125 \nL 38.09375 66.203125 \nQ 39.796875 66.203125 40.75 66.703125 \nQ 41.703125 67.203125 42.90625 68.796875 \nz\n\" id=\"STIXGeneral-Regular-53\"/>\n       </defs>\n       <use xlink:href=\"#STIXGeneral-Regular-53\"/>\n      </g>\n     </g>\n    </g>\n    <g id=\"text_7\">\n     <!-- Time $t$ -->\n     <g transform=\"translate(190.959375 263.949688)scale(0.1 -0.1)\">\n      <defs>\n       <path d=\"M 59.296875 49.203125 \nL 56.90625 49.203125 \nQ 55.296875 57.40625 52.390625 59.703125 \nQ 49.5 62 41.5 62 \nL 35.59375 62 \nL 35.59375 11.09375 \nQ 35.59375 5.40625 37.296875 3.796875 \nQ 39 2.203125 45.203125 1.90625 \nL 45.203125 0 \nL 16 0 \nL 16 1.90625 \nQ 22.296875 2.296875 23.84375 4 \nQ 25.40625 5.703125 25.40625 12.296875 \nL 25.40625 62 \nL 19.40625 62 \nQ 11.296875 62 8.4375 59.640625 \nQ 5.59375 57.296875 4.09375 49.203125 \nL 1.703125 49.203125 \nL 2.40625 66.203125 \nL 58.59375 66.203125 \nz\n\" id=\"STIXGeneral-Regular-84\"/>\n       <path d=\"M 18 63.203125 \nQ 18 61 16.5 59.546875 \nQ 15 58.09375 12.796875 58.09375 \nQ 10.703125 58.09375 9.25 59.546875 \nQ 7.796875 61 7.796875 63.203125 \nQ 7.796875 65.296875 9.296875 66.796875 \nQ 10.796875 68.296875 12.90625 68.296875 \nQ 15.09375 68.296875 16.546875 66.796875 \nQ 18 65.296875 18 63.203125 \nz\nM 25.296875 0 \nL 1.59375 0 \nL 1.59375 1.5 \nQ 6.796875 1.796875 8.140625 3.296875 \nQ 9.5 4.796875 9.5 10.40625 \nL 9.5 33.09375 \nQ 9.5 36.59375 8.796875 38 \nQ 8.09375 39.40625 6.203125 39.40625 \nQ 3.796875 39.40625 2 38.90625 \nL 2 40.5 \nL 17.5 46 \nL 17.90625 45.59375 \nL 17.90625 10.5 \nQ 17.90625 4.90625 19.15625 3.40625 \nQ 20.40625 1.90625 25.296875 1.5 \nz\n\" id=\"STIXGeneral-Regular-105\"/>\n       <path d=\"M 77.5 0 \nL 55.703125 0 \nL 55.703125 1.5 \nQ 59.90625 1.90625 61.046875 3.25 \nQ 62.203125 4.59375 62.203125 9 \nL 62.203125 29.59375 \nQ 62.203125 35.59375 60.453125 38.1875 \nQ 58.703125 40.796875 54.5 40.796875 \nQ 51 40.796875 48.546875 39.390625 \nQ 46.09375 38 43.796875 34.703125 \nL 43.796875 9.5 \nQ 43.796875 4.703125 45.25 3.140625 \nQ 46.703125 1.59375 51 1.5 \nL 51 0 \nL 28.59375 0 \nL 28.59375 1.5 \nQ 33 1.796875 34.203125 2.9375 \nQ 35.40625 4.09375 35.40625 8.59375 \nL 35.40625 29.703125 \nQ 35.40625 40.796875 28.90625 40.796875 \nQ 26.09375 40.796875 22.9375 39.546875 \nQ 19.796875 38.296875 18.296875 36.5 \nQ 17 35 17 34.796875 \nL 17 7 \nQ 17 3.796875 18.390625 2.75 \nQ 19.796875 1.703125 23.796875 1.5 \nL 23.796875 0 \nL 1.59375 0 \nL 1.59375 1.5 \nQ 5.796875 1.59375 7.1875 3.046875 \nQ 8.59375 4.5 8.59375 8.796875 \nL 8.59375 33.59375 \nQ 8.59375 37.296875 7.796875 38.75 \nQ 7 40.203125 5.09375 40.203125 \nQ 3.59375 40.203125 1.90625 39.796875 \nL 1.90625 41.5 \nQ 8.703125 43.40625 15.796875 46 \nL 16.59375 45.703125 \nL 16.59375 38.296875 \nL 16.796875 38.296875 \nQ 21.296875 43 24.75 44.5 \nQ 28.203125 46 32.09375 46 \nQ 40 46 42.703125 37.59375 \nQ 50.5 46 59 46 \nQ 70.59375 46 70.59375 28 \nL 70.59375 7.703125 \nQ 70.59375 4.40625 71.59375 3.15625 \nQ 72.59375 1.90625 74.90625 1.703125 \nL 77.5 1.5 \nz\n\" id=\"STIXGeneral-Regular-109\"/>\n       <path d=\"M 40.796875 16.40625 \nL 42.40625 15.703125 \nQ 36.40625 -1 21.5 -1 \nQ 12.703125 -1 7.59375 5.140625 \nQ 2.5 11.296875 2.5 21.703125 \nQ 2.5 32.40625 8.203125 39.203125 \nQ 13.90625 46 23.203125 46 \nQ 32.203125 46 37.09375 39.09375 \nQ 40 35.09375 40.5 27.703125 \nL 9.703125 27.703125 \nQ 10.09375 21.40625 10.9375 18.09375 \nQ 11.796875 14.796875 14.296875 11.40625 \nQ 18.5 5.90625 25.40625 5.90625 \nQ 30.296875 5.90625 33.640625 8.296875 \nQ 37 10.703125 40.796875 16.40625 \nz\nM 9.90625 30.90625 \nL 30.296875 30.90625 \nQ 29.40625 37.203125 27.34375 39.796875 \nQ 25.296875 42.40625 20.5 42.40625 \nQ 16.296875 42.40625 13.5 39.453125 \nQ 10.703125 36.5 9.90625 30.90625 \nz\n\" id=\"STIXGeneral-Regular-101\"/>\n       <path id=\"STIXGeneral-Regular-32\"/>\n       <path d=\"M 6.203125 8.109375 \nQ 6.203125 9.578125 6.5 10.890625 \nL 13.71875 39.59375 \nL 3.21875 39.59375 \nQ 2.203125 39.59375 2.203125 40.921875 \nQ 2.59375 43.109375 3.515625 43.109375 \nL 14.59375 43.109375 \nL 18.609375 59.421875 \nQ 19 60.75 20.171875 61.671875 \nQ 21.34375 62.59375 22.796875 62.59375 \nQ 24.078125 62.59375 24.921875 61.828125 \nQ 25.78125 61.078125 25.78125 59.8125 \nQ 25.78125 59.515625 25.75 59.34375 \nQ 25.734375 59.1875 25.6875 58.984375 \nL 21.6875 43.109375 \nL 31.984375 43.109375 \nQ 33.015625 43.109375 33.015625 41.796875 \nQ 32.953125 41.546875 32.8125 40.953125 \nQ 32.671875 40.375 32.421875 39.984375 \nQ 32.171875 39.59375 31.6875 39.59375 \nL 20.796875 39.59375 \nL 13.625 10.6875 \nQ 12.890625 7.859375 12.890625 5.8125 \nQ 12.890625 1.515625 15.828125 1.515625 \nQ 20.21875 1.515625 23.609375 5.640625 \nQ 27 9.765625 28.8125 14.703125 \nQ 29.203125 15.28125 29.59375 15.28125 \nL 30.8125 15.28125 \nQ 31.203125 15.28125 31.4375 15.015625 \nQ 31.6875 14.75 31.6875 14.40625 \nQ 31.6875 14.203125 31.59375 14.109375 \nQ 29.390625 8.0625 25.1875 3.46875 \nQ 21 -1.125 15.578125 -1.125 \nQ 11.625 -1.125 8.90625 1.453125 \nQ 6.203125 4.046875 6.203125 8.109375 \nz\n\" id=\"Cmmi10-116\"/>\n      </defs>\n      <use transform=\"translate(0 0.703125)\" xlink:href=\"#STIXGeneral-Regular-84\"/>\n      <use transform=\"translate(61.099991 0.703125)\" xlink:href=\"#STIXGeneral-Regular-105\"/>\n      <use transform=\"translate(88.899979 0.703125)\" xlink:href=\"#STIXGeneral-Regular-109\"/>\n      <use transform=\"translate(166.699966 0.703125)\" xlink:href=\"#STIXGeneral-Regular-101\"/>\n      <use transform=\"translate(211.09996 0.703125)\" xlink:href=\"#STIXGeneral-Regular-32\"/>\n      <use transform=\"translate(236.099945 0.703125)\" xlink:href=\"#Cmmi10-116\"/>\n     </g>\n    </g>\n   </g>\n   <g id=\"matplotlib.axis_2\">\n    <g id=\"ytick_1\">\n     <g id=\"line2d_7\">\n      <defs>\n       <path d=\"M 0 0 \nL -3.5 0 \n\" id=\"ma120bc57fd\" style=\"stroke:#000000;stroke-width:0.8;\"/>\n      </defs>\n      <g>\n       <use style=\"stroke:#000000;stroke-width:0.8;\" x=\"37.209375\" xlink:href=\"#ma120bc57fd\" y=\"238.92\"/>\n      </g>\n     </g>\n     <g id=\"text_8\">\n      <!-- 0.0 -->\n      <g transform=\"translate(20.209375 241.651875)scale(0.08 -0.08)\">\n       <defs>\n        <path d=\"M 18.09375 4.296875 \nQ 18.09375 2.09375 16.4375 0.5 \nQ 14.796875 -1.09375 12.5 -1.09375 \nQ 10.203125 -1.09375 8.59375 0.5 \nQ 7 2.09375 7 4.390625 \nQ 7 6.703125 8.640625 8.34375 \nQ 10.296875 10 12.59375 10 \nQ 14.796875 10 16.4375 8.296875 \nQ 18.09375 6.59375 18.09375 4.296875 \nz\n\" id=\"STIXGeneral-Regular-46\"/>\n       </defs>\n       <use xlink:href=\"#STIXGeneral-Regular-48\"/>\n       <use x=\"49.999985\" xlink:href=\"#STIXGeneral-Regular-46\"/>\n       <use x=\"74.999969\" xlink:href=\"#STIXGeneral-Regular-48\"/>\n      </g>\n     </g>\n    </g>\n    <g id=\"ytick_2\">\n     <g id=\"line2d_8\">\n      <g>\n       <use style=\"stroke:#000000;stroke-width:0.8;\" x=\"37.209375\" xlink:href=\"#ma120bc57fd\" y=\"195.432\"/>\n      </g>\n     </g>\n     <g id=\"text_9\">\n      <!-- 0.2 -->\n      <g transform=\"translate(20.209375 198.163875)scale(0.08 -0.08)\">\n       <use xlink:href=\"#STIXGeneral-Regular-48\"/>\n       <use x=\"49.999985\" xlink:href=\"#STIXGeneral-Regular-46\"/>\n       <use x=\"74.999969\" xlink:href=\"#STIXGeneral-Regular-50\"/>\n      </g>\n     </g>\n    </g>\n    <g id=\"ytick_3\">\n     <g id=\"line2d_9\">\n      <g>\n       <use style=\"stroke:#000000;stroke-width:0.8;\" x=\"37.209375\" xlink:href=\"#ma120bc57fd\" y=\"151.944\"/>\n      </g>\n     </g>\n     <g id=\"text_10\">\n      <!-- 0.4 -->\n      <g transform=\"translate(20.209375 154.675875)scale(0.08 -0.08)\">\n       <use xlink:href=\"#STIXGeneral-Regular-48\"/>\n       <use x=\"49.999985\" xlink:href=\"#STIXGeneral-Regular-46\"/>\n       <use x=\"74.999969\" xlink:href=\"#STIXGeneral-Regular-52\"/>\n      </g>\n     </g>\n    </g>\n    <g id=\"ytick_4\">\n     <g id=\"line2d_10\">\n      <g>\n       <use style=\"stroke:#000000;stroke-width:0.8;\" x=\"37.209375\" xlink:href=\"#ma120bc57fd\" y=\"108.456\"/>\n      </g>\n     </g>\n     <g id=\"text_11\">\n      <!-- 0.6 -->\n      <g transform=\"translate(20.209375 111.187875)scale(0.08 -0.08)\">\n       <defs>\n        <path d=\"M 44.59375 68.40625 \nL 44.796875 66.796875 \nQ 33 64.90625 25.09375 57.25 \nQ 17.203125 49.59375 15.203125 38.296875 \nQ 21 42.796875 27.90625 42.796875 \nQ 36.703125 42.796875 41.75 37.1875 \nQ 46.796875 31.59375 46.796875 21.90625 \nQ 46.796875 12.09375 41.703125 5.90625 \nQ 35.796875 -1.40625 25.796875 -1.40625 \nQ 13.59375 -1.40625 8.09375 8.703125 \nQ 3.40625 17.296875 3.40625 27.90625 \nQ 3.40625 44.296875 14.296875 55.5 \nQ 20.5 61.90625 27.046875 64.546875 \nQ 33.59375 67.203125 44.59375 68.40625 \nz\nM 37.796875 18.796875 \nQ 37.796875 38.203125 24.296875 38.203125 \nQ 19.296875 38.203125 16 35.546875 \nQ 12.703125 32.90625 12.703125 26.59375 \nQ 12.703125 14.90625 16.34375 8.15625 \nQ 20 1.40625 26.90625 1.40625 \nQ 32.203125 1.40625 35 6.15625 \nQ 37.796875 10.90625 37.796875 18.796875 \nz\n\" id=\"STIXGeneral-Regular-54\"/>\n       </defs>\n       <use xlink:href=\"#STIXGeneral-Regular-48\"/>\n       <use x=\"49.999985\" xlink:href=\"#STIXGeneral-Regular-46\"/>\n       <use x=\"74.999969\" xlink:href=\"#STIXGeneral-Regular-54\"/>\n      </g>\n     </g>\n    </g>\n    <g id=\"ytick_5\">\n     <g id=\"line2d_11\">\n      <g>\n       <use style=\"stroke:#000000;stroke-width:0.8;\" x=\"37.209375\" xlink:href=\"#ma120bc57fd\" y=\"64.968\"/>\n      </g>\n     </g>\n     <g id=\"text_12\">\n      <!-- 0.8 -->\n      <g transform=\"translate(20.209375 67.699875)scale(0.08 -0.08)\">\n       <defs>\n        <path d=\"M 44.5 15.5 \nQ 44.5 7.796875 39.140625 3.1875 \nQ 33.796875 -1.40625 24.796875 -1.40625 \nQ 16.40625 -1.40625 11 3.1875 \nQ 5.59375 7.796875 5.59375 14.90625 \nQ 5.59375 20.203125 8.1875 23.953125 \nQ 10.796875 27.703125 18.59375 33.203125 \nQ 11.09375 39.40625 8.640625 43.203125 \nQ 6.203125 47 6.203125 52 \nQ 6.203125 59.09375 11.640625 63.34375 \nQ 17.09375 67.59375 25.59375 67.59375 \nQ 32.90625 67.59375 37.65625 63.4375 \nQ 42.40625 59.296875 42.40625 53.296875 \nQ 42.40625 47.796875 39.546875 44.5 \nQ 36.703125 41.203125 29 37.09375 \nQ 38 31.09375 41.25 26.390625 \nQ 44.5 21.703125 44.5 15.5 \nz\nM 35.5 53.296875 \nQ 35.5 58.5 32.59375 61.640625 \nQ 29.703125 64.796875 24.59375 64.796875 \nQ 19.5 64.796875 16.546875 62.140625 \nQ 13.59375 59.5 13.59375 54.890625 \nQ 13.59375 50.296875 16.546875 46.546875 \nQ 19.5 42.796875 26.09375 38.90625 \nQ 31.203125 41.90625 33.34375 45.25 \nQ 35.5 48.59375 35.5 53.296875 \nz\nM 27.09375 27.203125 \nL 21.203125 31.203125 \nQ 16.796875 27.59375 15 24.140625 \nQ 13.203125 20.703125 13.203125 15.796875 \nQ 13.203125 9 16.640625 5.203125 \nQ 20.09375 1.40625 25.90625 1.40625 \nQ 30.796875 1.40625 33.84375 4.453125 \nQ 36.90625 7.5 36.90625 12.40625 \nQ 36.90625 16.90625 34.59375 20.296875 \nQ 32.296875 23.703125 27.09375 27.203125 \nz\n\" id=\"STIXGeneral-Regular-56\"/>\n       </defs>\n       <use xlink:href=\"#STIXGeneral-Regular-48\"/>\n       <use x=\"49.999985\" xlink:href=\"#STIXGeneral-Regular-46\"/>\n       <use x=\"74.999969\" xlink:href=\"#STIXGeneral-Regular-56\"/>\n      </g>\n     </g>\n    </g>\n    <g id=\"ytick_6\">\n     <g id=\"line2d_12\">\n      <g>\n       <use style=\"stroke:#000000;stroke-width:0.8;\" x=\"37.209375\" xlink:href=\"#ma120bc57fd\" y=\"21.48\"/>\n      </g>\n     </g>\n     <g id=\"text_13\">\n      <!-- 1.0 -->\n      <g transform=\"translate(20.209375 24.211875)scale(0.08 -0.08)\">\n       <use xlink:href=\"#STIXGeneral-Regular-49\"/>\n       <use x=\"49.999985\" xlink:href=\"#STIXGeneral-Regular-46\"/>\n       <use x=\"74.999969\" xlink:href=\"#STIXGeneral-Regular-48\"/>\n      </g>\n     </g>\n    </g>\n    <g id=\"text_14\">\n     <!-- State probability -->\n     <g transform=\"translate(14.029688 163.394531)rotate(-90)scale(0.1 -0.1)\">\n      <defs>\n       <path d=\"M 46.90625 46.296875 \nL 44.40625 46.296875 \nQ 42.703125 52.5 40.296875 55.703125 \nQ 34.203125 63.5 25.796875 63.5 \nQ 21.203125 63.5 18.453125 60.84375 \nQ 15.703125 58.203125 15.703125 54 \nQ 15.703125 52 16.703125 50.09375 \nQ 17.703125 48.203125 18.84375 46.84375 \nQ 20 45.5 22.890625 43.5 \nQ 25.796875 41.5 27.59375 40.453125 \nQ 29.40625 39.40625 33.59375 36.90625 \nQ 41.703125 32.203125 45.390625 27.546875 \nQ 49.09375 22.90625 49.09375 17.296875 \nQ 49.09375 9 43.296875 3.796875 \nQ 37.5 -1.40625 28.703125 -1.40625 \nQ 22.203125 -1.40625 16.90625 0.90625 \nQ 14.296875 2 12.203125 2 \nQ 11 2 10.203125 1.09375 \nQ 9.40625 0.203125 9.40625 -1.296875 \nL 7.203125 -1.296875 \nL 4.296875 19.90625 \nL 6.5 19.90625 \nQ 13.203125 2.203125 27.09375 2.203125 \nQ 32.40625 2.203125 35.703125 5.34375 \nQ 39 8.5 39 13.40625 \nQ 39 18.09375 36.09375 21.296875 \nQ 31.296875 26.5 19.296875 32.90625 \nQ 7.09375 39.40625 7.09375 50.09375 \nQ 7.09375 58.09375 12 62.84375 \nQ 16.90625 67.59375 24.5 67.59375 \nQ 29.796875 67.59375 35 65.40625 \nQ 37.703125 64.203125 39.40625 64.203125 \nQ 42 64.203125 42.59375 67.59375 \nL 44.703125 67.59375 \nz\n\" id=\"STIXGeneral-Regular-83\"/>\n       <path d=\"M 26.59375 7.703125 \nL 27.90625 6.59375 \nQ 23.09375 -1 15.796875 -1 \nQ 7 -1 7 11.703125 \nL 7 41.796875 \nL 1.703125 41.796875 \nQ 1.296875 42.09375 1.296875 42.5 \nQ 1.296875 43.296875 3 44.40625 \nQ 6.796875 46.59375 12.703125 55.09375 \nQ 12.90625 55.40625 13.65625 56.34375 \nQ 14.40625 57.296875 14.703125 57.90625 \nQ 15.40625 57.90625 15.40625 56.59375 \nL 15.40625 45 \nL 25.5 45 \nL 25.5 41.796875 \nL 15.40625 41.796875 \nL 15.40625 13.203125 \nQ 15.40625 8.40625 16.59375 6.296875 \nQ 17.796875 4.203125 20.59375 4.203125 \nQ 23.59375 4.203125 26.59375 7.703125 \nz\n\" id=\"STIXGeneral-Regular-116\"/>\n       <path d=\"M 44.203125 6.59375 \nL 44.203125 3.796875 \nQ 40.40625 -1 35.203125 -1 \nQ 29.5 -1 28.796875 6.296875 \nL 28.703125 6.296875 \nQ 22.296875 -1 14.203125 -1 \nQ 9.5 -1 6.59375 1.75 \nQ 3.703125 4.5 3.703125 9.40625 \nQ 3.703125 16.40625 10.703125 21.09375 \nQ 15.5 24.296875 28.703125 29.203125 \nL 28.703125 34.59375 \nQ 28.703125 39.09375 26.546875 41.34375 \nQ 24.40625 43.59375 20.90625 43.59375 \nQ 17.90625 43.59375 15.90625 42.140625 \nQ 13.90625 40.703125 13.90625 38.703125 \nQ 13.90625 37.796875 14.203125 36.6875 \nQ 14.5 35.59375 14.5 34.5 \nQ 14.5 33 13.140625 31.703125 \nQ 11.796875 30.40625 9.90625 30.40625 \nQ 8.203125 30.40625 6.890625 31.703125 \nQ 5.59375 33 5.59375 35 \nQ 5.59375 39.796875 10.703125 43 \nQ 15.40625 46 22.203125 46 \nQ 30.296875 46 34 41.5 \nQ 35.796875 39.40625 36.296875 37.25 \nQ 36.796875 35.09375 36.796875 30.40625 \nL 36.796875 11.296875 \nQ 36.796875 4.703125 39.90625 4.703125 \nQ 41.90625 4.703125 44.203125 6.59375 \nz\nM 28.703125 12.703125 \nL 28.703125 26.796875 \nQ 19.5 23.59375 15.90625 20.203125 \nQ 12.5 17.09375 12.5 12.5 \nQ 12.5 8.703125 14.390625 6.75 \nQ 16.296875 4.796875 19.40625 4.796875 \nQ 22.703125 4.796875 25.203125 6.40625 \nQ 27.296875 7.90625 28 9.203125 \nQ 28.703125 10.5 28.703125 12.703125 \nz\n\" id=\"STIXGeneral-Regular-97\"/>\n       <path d=\"M 15.90625 45.796875 \nL 15.90625 38.09375 \nQ 22.203125 46 30.296875 46 \nQ 37.59375 46 42.296875 40 \nQ 47 34 47 24.703125 \nQ 47 13.796875 40.953125 6.390625 \nQ 34.90625 -1 26 -1 \nQ 22.90625 -1 20.75 -0.09375 \nQ 18.59375 0.796875 15.90625 3.296875 \nL 15.90625 -12.40625 \nQ 15.90625 -17.09375 17.5 -18.4375 \nQ 19.09375 -19.796875 24.703125 -19.90625 \nL 24.703125 -21.703125 \nL 0.5 -21.703125 \nL 0.5 -20 \nQ 4.90625 -19.59375 6.203125 -18.296875 \nQ 7.5 -17 7.5 -13.09375 \nL 7.5 33.703125 \nQ 7.5 37.203125 6.703125 38.296875 \nQ 5.90625 39.40625 3.40625 39.40625 \nQ 1.796875 39.40625 0.90625 39.296875 \nL 0.90625 40.90625 \nQ 7.90625 43 15.296875 46 \nz\nM 15.90625 33.40625 \nL 15.90625 8.796875 \nQ 15.90625 6.59375 19.34375 4.390625 \nQ 22.796875 2.203125 26.296875 2.203125 \nQ 31.703125 2.203125 35.046875 7.296875 \nQ 38.40625 12.40625 38.40625 20.703125 \nQ 38.40625 29.5 35.046875 34.75 \nQ 31.703125 40 26.09375 40 \nQ 22.59375 40 19.25 37.796875 \nQ 15.90625 35.59375 15.90625 33.40625 \nz\n\" id=\"STIXGeneral-Regular-112\"/>\n       <path d=\"M 16 45.796875 \nL 16 36.59375 \nQ 19.796875 42 22.34375 44 \nQ 24.90625 46 28 46 \nQ 30.59375 46 32.046875 44.59375 \nQ 33.5 43.203125 33.5 40.703125 \nQ 33.5 38.59375 32.453125 37.390625 \nQ 31.40625 36.203125 29.59375 36.203125 \nQ 27.703125 36.203125 25.59375 38.203125 \nQ 24 39.703125 23 39.703125 \nQ 20.90625 39.703125 18.453125 36.796875 \nQ 16 33.90625 16 31.5 \nL 16 9 \nQ 16 4.703125 17.703125 3.203125 \nQ 19.40625 1.703125 24.5 1.5 \nL 24.5 0 \nL 0.5 0 \nL 0.5 1.5 \nQ 5.296875 2.40625 6.4375 3.5 \nQ 7.59375 4.59375 7.59375 8.40625 \nL 7.59375 33.40625 \nQ 7.59375 36.703125 6.84375 38.046875 \nQ 6.09375 39.40625 4.203125 39.40625 \nQ 2.59375 39.40625 0.703125 39 \nL 0.703125 40.59375 \nQ 7 42.59375 15.5 46 \nz\n\" id=\"STIXGeneral-Regular-114\"/>\n       <path d=\"M 47 23.09375 \nQ 47 12.59375 40.75 5.796875 \nQ 34.5 -1 24.5 -1 \nQ 15.296875 -1 9.09375 5.75 \nQ 2.90625 12.5 2.90625 22.796875 \nQ 2.90625 33.203125 9.09375 39.59375 \nQ 15.296875 46 25.40625 46 \nQ 34.703125 46 40.84375 39.640625 \nQ 47 33.296875 47 23.09375 \nz\nM 38 20.40625 \nQ 38 31.796875 33 38.203125 \nQ 29 43.203125 23.5 43.203125 \nQ 18.296875 43.203125 15.09375 38.953125 \nQ 11.90625 34.703125 11.90625 27.296875 \nQ 11.90625 14.5 17.203125 6.796875 \nQ 20.59375 1.796875 26.203125 1.796875 \nQ 31.703125 1.796875 34.84375 6.75 \nQ 38 11.703125 38 20.40625 \nz\n\" id=\"STIXGeneral-Regular-111\"/>\n       <path d=\"M 15.296875 68.09375 \nL 15.296875 37.59375 \nQ 16.90625 41.40625 20.546875 43.703125 \nQ 24.203125 46 28.796875 46 \nQ 36.703125 46 41.75 39.703125 \nQ 46.796875 33.40625 46.796875 24 \nQ 46.796875 13 40.09375 6 \nQ 33.40625 -1 23.40625 -1 \nQ 17.296875 -1 12.09375 1.046875 \nQ 6.90625 3.09375 6.90625 5.59375 \nL 6.90625 56.59375 \nQ 6.90625 60.296875 6 61.34375 \nQ 5.09375 62.40625 2 62.40625 \nQ 1.296875 62.40625 0.296875 62.203125 \nL 0.296875 63.90625 \nL 3.296875 64.796875 \nQ 13.5 67.90625 14.796875 68.296875 \nz\nM 15.296875 31.796875 \nL 15.296875 7.40625 \nQ 15.296875 5.09375 18.140625 3.640625 \nQ 21 2.203125 25 2.203125 \nQ 30.90625 2.203125 34.296875 6.5 \nQ 38 11.09375 38 19.703125 \nQ 38 29.5 34.09375 35 \nQ 30.796875 39.703125 25.203125 39.703125 \nQ 21.203125 39.703125 18.25 37.34375 \nQ 15.296875 35 15.296875 31.796875 \nz\n\" id=\"STIXGeneral-Regular-98\"/>\n       <path d=\"M 25.703125 0 \nL 2.09375 0 \nL 2.09375 1.5 \nQ 6.796875 1.90625 8.296875 3.453125 \nQ 9.796875 5 9.796875 9.203125 \nL 9.796875 56.09375 \nQ 9.796875 59.703125 8.890625 61.09375 \nQ 8 62.5 5.59375 62.5 \nQ 3.5 62.5 1.90625 62.296875 \nL 1.90625 63.90625 \nQ 11.40625 66.203125 17.703125 68.296875 \nL 18.203125 67.90625 \nL 18.203125 8.703125 \nQ 18.203125 4.5 19.59375 3.140625 \nQ 21 1.796875 25.703125 1.5 \nz\n\" id=\"STIXGeneral-Regular-108\"/>\n       <path d=\"M 47.5 45 \nL 47.5 43.5 \nQ 45.703125 43.296875 44.59375 42.1875 \nQ 43.5 41.09375 42.5 38.40625 \nL 27.5 -2.5 \nQ 23.59375 -13.09375 19.640625 -17.4375 \nQ 15.703125 -21.796875 10 -21.796875 \nQ 6.796875 -21.796875 4.890625 -20.140625 \nQ 3 -18.5 3 -16 \nQ 3 -14.09375 4.25 -12.75 \nQ 5.5 -11.40625 7.296875 -11.40625 \nQ 10.203125 -11.40625 12.5 -12.703125 \nQ 13.796875 -13.40625 15.09375 -13.40625 \nQ 17.203125 -13.40625 20.09375 -9 \nQ 21.5 -7 22.796875 -3.296875 \nQ 24.09375 0.40625 24.09375 1.796875 \nQ 24.09375 3.09375 19.90625 11.90625 \nL 6.703125 40.09375 \nQ 5.40625 43 1.40625 43.59375 \nL 1.40625 45 \nL 21.90625 45 \nL 21.90625 43.5 \nQ 18.703125 43.40625 17.453125 42.796875 \nQ 16.203125 42.203125 16.203125 40.796875 \nQ 16.203125 39.703125 17.5 36.703125 \nL 28.703125 11.703125 \nL 38.40625 39.296875 \nQ 38.796875 40.203125 38.796875 41.09375 \nQ 38.796875 43.5 34.203125 43.5 \nL 34.203125 45 \nz\n\" id=\"STIXGeneral-Regular-121\"/>\n      </defs>\n      <use xlink:href=\"#STIXGeneral-Regular-83\"/>\n      <use x=\"55.599991\" xlink:href=\"#STIXGeneral-Regular-116\"/>\n      <use x=\"83.399979\" xlink:href=\"#STIXGeneral-Regular-97\"/>\n      <use x=\"127.799973\" xlink:href=\"#STIXGeneral-Regular-116\"/>\n      <use x=\"155.59996\" xlink:href=\"#STIXGeneral-Regular-101\"/>\n      <use x=\"199.999954\" xlink:href=\"#STIXGeneral-Regular-32\"/>\n      <use x=\"224.999939\" xlink:href=\"#STIXGeneral-Regular-112\"/>\n      <use x=\"274.999924\" xlink:href=\"#STIXGeneral-Regular-114\"/>\n      <use x=\"308.299911\" xlink:href=\"#STIXGeneral-Regular-111\"/>\n      <use x=\"358.299896\" xlink:href=\"#STIXGeneral-Regular-98\"/>\n      <use x=\"408.299881\" xlink:href=\"#STIXGeneral-Regular-97\"/>\n      <use x=\"452.699875\" xlink:href=\"#STIXGeneral-Regular-98\"/>\n      <use x=\"502.69986\" xlink:href=\"#STIXGeneral-Regular-105\"/>\n      <use x=\"530.499847\" xlink:href=\"#STIXGeneral-Regular-108\"/>\n      <use x=\"558.299835\" xlink:href=\"#STIXGeneral-Regular-105\"/>\n      <use x=\"586.099823\" xlink:href=\"#STIXGeneral-Regular-116\"/>\n      <use x=\"613.899811\" xlink:href=\"#STIXGeneral-Regular-121\"/>\n     </g>\n    </g>\n   </g>\n   <g id=\"line2d_13\">\n    <path clip-path=\"url(#pfb2bdd2415)\" d=\"M 37.209375 21.48 \nL 43.905375 24.361548 \nL 50.601375 30.975253 \nL 57.297375 37.130301 \nL 63.993375 40.111858 \nL 70.689375 40.295375 \nL 77.385375 39.607147 \nL 84.081375 39.220897 \nL 90.777375 39.080908 \nL 97.473375 38.971909 \nL 104.169375 38.975834 \nL 110.865375 38.618441 \nL 117.561375 36.446887 \nL 124.257375 31.506285 \nL 130.953375 25.351105 \nL 137.649375 21.763648 \nL 144.345375 23.668385 \nL 151.041375 30.241335 \nL 157.737375 37.434934 \nL 164.433375 41.494692 \nL 171.129375 41.801791 \nL 177.825375 40.371573 \nL 184.521375 39.206103 \nL 191.217375 38.700871 \nL 197.913375 38.332386 \nL 204.609375 37.861822 \nL 211.305375 37.186178 \nL 218.001375 35.496085 \nL 224.697375 31.732999 \nL 231.393375 26.437976 \nL 238.089375 22.56268 \nL 244.785375 23.431096 \nL 251.481375 29.476748 \nL 258.177375 37.336703 \nL 264.873375 42.588436 \nL 271.569375 43.390702 \nL 278.265375 41.35112 \nL 284.961375 39.175296 \nL 291.657375 38.076453 \nL 298.353375 37.552967 \nL 305.049375 36.887937 \nL 311.745375 35.933855 \nL 318.441375 34.442655 \nL 325.137375 31.648881 \nL 331.833375 27.436358 \nL 338.529375 23.735642 \nL 345.225375 23.727119 \nL 351.921375 28.879847 \nL 358.617375 36.908294 \nL 365.313375 43.256906 \nL 372.009375 44.895646 \n\" style=\"fill:none;stroke:#1f77b4;stroke-linecap:square;stroke-width:1.5;\"/>\n   </g>\n   <g id=\"line2d_14\">\n    <path clip-path=\"url(#pfb2bdd2415)\" d=\"M 37.209375 21.48 \nL 43.905375 23.639964 \nL 50.601375 28.233589 \nL 57.297375 31.472049 \nL 63.993375 31.19423 \nL 70.689375 28.354473 \nL 77.385375 25.386909 \nL 84.081375 23.842005 \nL 90.777375 23.863791 \nL 97.473375 25.220149 \nL 104.169375 27.747339 \nL 110.865375 30.533721 \nL 117.561375 31.576899 \nL 124.257375 29.353945 \nL 130.953375 24.922368 \nL 137.649375 21.725995 \nL 144.345375 22.591288 \nL 151.041375 26.882394 \nL 157.737375 30.995893 \nL 164.433375 31.767992 \nL 171.129375 29.175801 \nL 177.825375 25.723536 \nL 184.521375 23.735846 \nL 191.217375 23.738443 \nL 197.913375 25.128477 \nL 204.609375 27.375419 \nL 211.305375 29.908293 \nL 218.001375 31.354617 \nL 224.697375 30.099496 \nL 231.393375 26.227782 \nL 238.089375 22.411581 \nL 244.785375 21.934457 \nL 251.481375 25.462663 \nL 258.177375 30.111277 \nL 264.873375 32.075783 \nL 271.569375 30.123873 \nL 278.265375 26.334767 \nL 284.961375 23.683379 \nL 291.657375 23.439327 \nL 298.353375 24.953346 \nL 305.049375 27.171022 \nL 311.745375 29.454414 \nL 318.441375 30.989003 \nL 325.137375 30.470496 \nL 331.833375 27.368671 \nL 338.529375 23.394877 \nL 345.225375 21.749438 \nL 351.921375 24.178356 \nL 358.617375 28.900454 \nL 365.313375 31.994068 \nL 372.009375 31.043849 \n\" style=\"fill:none;stroke:#006400;stroke-linecap:square;stroke-width:1.5;\"/>\n   </g>\n   <g id=\"line2d_15\">\n    <path clip-path=\"url(#pfb2bdd2415)\" d=\"M 37.209375 21.48 \nL 43.905375 22.915969 \nL 50.601375 25.797157 \nL 57.297375 27.436818 \nL 63.993375 26.706339 \nL 70.689375 24.849317 \nL 77.385375 23.662568 \nL 84.081375 23.551665 \nL 90.777375 23.745891 \nL 97.473375 23.907768 \nL 104.169375 24.638068 \nL 110.865375 26.172806 \nL 117.561375 27.313308 \nL 124.257375 26.481421 \nL 130.953375 23.844805 \nL 137.649375 21.68426 \nL 144.345375 22.141753 \nL 151.041375 24.83054 \nL 157.737375 27.178546 \nL 164.433375 27.165478 \nL 171.129375 25.275744 \nL 177.825375 23.555138 \nL 184.521375 23.207494 \nL 191.217375 23.703283 \nL 197.913375 24.124424 \nL 204.609375 24.558836 \nL 211.305375 25.589799 \nL 218.001375 26.803189 \nL 224.697375 26.73812 \nL 231.393375 24.724063 \nL 238.089375 22.240757 \nL 244.785375 21.705073 \nL 251.481375 23.81023 \nL 258.177375 26.586952 \nL 264.873375 27.445033 \nL 271.569375 25.87105 \nL 278.265375 23.696198 \nL 284.961375 22.844731 \nL 291.657375 23.419301 \nL 298.353375 24.240067 \nL 305.049375 24.692019 \nL 311.745375 25.259378 \nL 318.441375 26.218216 \nL 325.137375 26.633349 \nL 331.833375 25.38547 \nL 338.529375 23.0053 \nL 345.225375 21.669625 \nL 351.921375 22.919932 \nL 358.617375 25.733705 \nL 365.313375 27.427914 \nL 372.009375 26.49907 \n\" style=\"fill:none;stroke:#228b22;stroke-linecap:square;stroke-width:1.5;\"/>\n   </g>\n   <g id=\"line2d_16\">\n    <path clip-path=\"url(#pfb2bdd2415)\" d=\"M 37.209375 21.48 \nL 43.905375 22.199182 \nL 50.601375 23.407886 \nL 57.297375 23.514341 \nL 63.993375 22.379484 \nL 70.689375 21.499648 \nL 77.385375 22.038459 \nL 84.081375 23.294609 \nL 90.777375 23.620568 \nL 97.473375 22.587206 \nL 104.169375 21.550715 \nL 110.865375 21.874808 \nL 117.561375 23.140426 \nL 124.257375 23.693105 \nL 130.953375 22.810327 \nL 137.649375 21.645532 \nL 144.345375 21.712484 \nL 151.041375 22.902114 \nL 157.737375 23.634555 \nL 164.433375 22.941993 \nL 171.129375 21.742069 \nL 177.825375 21.627884 \nL 184.521375 22.76673 \nL 191.217375 23.672859 \nL 197.913375 23.15724 \nL 204.609375 21.894007 \nL 211.305375 21.542492 \nL 218.001375 22.57238 \nL 224.697375 23.64464 \nL 231.393375 23.361808 \nL 238.089375 22.093619 \nL 244.785375 21.486619 \nL 251.481375 22.305974 \nL 258.177375 23.442898 \nL 264.873375 23.385093 \nL 271.569375 22.210996 \nL 278.265375 21.483993 \nL 284.961375 22.187325 \nL 291.657375 23.419175 \nL 298.353375 23.569847 \nL 305.049375 22.438656 \nL 311.745375 21.507375 \nL 318.441375 22.003642 \nL 325.137375 23.290632 \nL 331.833375 23.695659 \nL 338.529375 22.693659 \nL 345.225375 21.586236 \nL 351.921375 21.792049 \nL 358.617375 22.99578 \nL 365.313375 23.581153 \nL 372.009375 22.769061 \n\" style=\"fill:none;stroke:#3cb371;stroke-linecap:square;stroke-width:1.5;\"/>\n   </g>\n   <g id=\"line2d_17\">\n    <path clip-path=\"url(#pfb2bdd2415)\" d=\"M 37.209375 21.48 \nL 43.905375 21.48 \nL 50.601375 21.48 \nL 57.297375 21.48 \nL 63.993375 21.48 \nL 70.689375 21.48 \nL 77.385375 21.48 \nL 84.081375 21.48 \nL 90.777375 21.48 \nL 97.473375 21.48 \nL 104.169375 21.48 \nL 110.865375 21.48 \nL 117.561375 21.48 \nL 124.257375 21.48 \nL 130.953375 21.48 \nL 137.649375 21.48 \nL 144.345375 21.48 \nL 151.041375 21.48 \nL 157.737375 21.48 \nL 164.433375 21.48 \nL 171.129375 21.48 \nL 177.825375 21.48 \nL 184.521375 21.48 \nL 191.217375 21.48 \nL 197.913375 21.48 \nL 204.609375 21.48 \nL 211.305375 21.48 \nL 218.001375 21.48 \nL 224.697375 21.48 \nL 231.393375 21.48 \nL 238.089375 21.48 \nL 244.785375 21.48 \nL 251.481375 21.48 \nL 258.177375 21.48 \nL 264.873375 21.48 \nL 271.569375 21.48 \nL 278.265375 21.48 \nL 284.961375 21.48 \nL 291.657375 21.48 \nL 298.353375 21.48 \nL 305.049375 21.48 \nL 311.745375 21.48 \nL 318.441375 21.48 \nL 325.137375 21.48 \nL 331.833375 21.48 \nL 338.529375 21.48 \nL 345.225375 21.48 \nL 351.921375 21.48 \nL 358.617375 21.48 \nL 365.313375 21.48 \nL 372.009375 21.48 \n\" style=\"fill:none;stroke:#32cd32;stroke-linecap:square;stroke-width:1.5;\"/>\n   </g>\n   <g id=\"line2d_18\">\n    <path clip-path=\"url(#pfb2bdd2415)\" d=\"M 37.209375 21.48 \nL 43.905375 21.48 \nL 50.601375 21.48 \nL 57.297375 21.48 \nL 63.993375 21.48 \nL 70.689375 21.48 \nL 77.385375 21.48 \nL 84.081375 21.48 \nL 90.777375 21.48 \nL 97.473375 21.48 \nL 104.169375 21.48 \nL 110.865375 21.48 \nL 117.561375 21.48 \nL 124.257375 21.48 \nL 130.953375 21.48 \nL 137.649375 21.48 \nL 144.345375 21.48 \nL 151.041375 21.48 \nL 157.737375 21.48 \nL 164.433375 21.48 \nL 171.129375 21.48 \nL 177.825375 21.48 \nL 184.521375 21.48 \nL 191.217375 21.48 \nL 197.913375 21.48 \nL 204.609375 21.48 \nL 211.305375 21.48 \nL 218.001375 21.48 \nL 224.697375 21.48 \nL 231.393375 21.48 \nL 238.089375 21.48 \nL 244.785375 21.48 \nL 251.481375 21.48 \nL 258.177375 21.48 \nL 264.873375 21.48 \nL 271.569375 21.48 \nL 278.265375 21.48 \nL 284.961375 21.48 \nL 291.657375 21.48 \nL 298.353375 21.48 \nL 305.049375 21.48 \nL 311.745375 21.48 \nL 318.441375 21.48 \nL 325.137375 21.48 \nL 331.833375 21.48 \nL 338.529375 21.48 \nL 345.225375 21.48 \nL 351.921375 21.48 \nL 358.617375 21.48 \nL 365.313375 21.48 \nL 372.009375 21.48 \n\" style=\"fill:none;stroke:#7cfc00;stroke-linecap:square;stroke-width:1.5;\"/>\n   </g>\n   <g id=\"patch_3\">\n    <path d=\"M 37.209375 238.92 \nL 37.209375 21.48 \n\" style=\"fill:none;stroke:#000000;stroke-linecap:square;stroke-linejoin:miter;stroke-width:0.8;\"/>\n   </g>\n   <g id=\"patch_4\">\n    <path d=\"M 372.009375 238.92 \nL 372.009375 21.48 \n\" style=\"fill:none;stroke:#000000;stroke-linecap:square;stroke-linejoin:miter;stroke-width:0.8;\"/>\n   </g>\n   <g id=\"patch_5\">\n    <path d=\"M 37.209375 238.92 \nL 372.009375 238.92 \n\" style=\"fill:none;stroke:#000000;stroke-linecap:square;stroke-linejoin:miter;stroke-width:0.8;\"/>\n   </g>\n   <g id=\"patch_6\">\n    <path d=\"M 37.209375 21.48 \nL 372.009375 21.48 \n\" style=\"fill:none;stroke:#000000;stroke-linecap:square;stroke-linejoin:miter;stroke-width:0.8;\"/>\n   </g>\n   <g id=\"text_15\">\n    <!-- String breaking ($m \\ll e$): Splitting of probabilities -->\n    <g transform=\"translate(83.889375 15.48)scale(0.12 -0.12)\">\n     <defs>\n      <path d=\"M 48.5 0 \nL 27.703125 0 \nL 27.796875 1.5 \nQ 31.5 1.796875 32.75 3.640625 \nQ 34 5.5 34 10.5 \nL 34 30.40625 \nQ 34 40.5 26.703125 40.5 \nQ 24.203125 40.5 22 39.296875 \nQ 19.796875 38.09375 16.40625 34.796875 \nL 16.40625 7.203125 \nQ 16.40625 4.203125 17.75 3 \nQ 19.09375 1.796875 22.90625 1.5 \nL 22.90625 0 \nL 1.796875 0 \nL 1.796875 1.5 \nQ 5.59375 1.796875 6.796875 3.34375 \nQ 8 4.90625 8 9.40625 \nL 8 33.703125 \nQ 8 37.40625 7.296875 38.796875 \nQ 6.59375 40.203125 4.5 40.203125 \nQ 2.5 40.203125 1.59375 39.796875 \nL 1.59375 41.5 \nQ 8.59375 43.5 15.296875 46 \nL 16.09375 45.703125 \nL 16.09375 37.90625 \nL 16.203125 37.90625 \nQ 23.296875 46 30.59375 46 \nQ 36.296875 46 39.34375 42 \nQ 42.40625 38 42.40625 30.59375 \nL 42.40625 8.5 \nQ 42.40625 4.5 43.59375 3.203125 \nQ 44.796875 1.90625 48.5 1.5 \nz\n\" id=\"STIXGeneral-Regular-110\"/>\n      <path d=\"M 47 38.796875 \nL 38.703125 38.796875 \nQ 40.59375 34.5 40.59375 30.40625 \nQ 40.59375 22.703125 35.390625 18.796875 \nQ 30.203125 14.90625 25 14.90625 \nQ 23.90625 14.90625 21.203125 15.203125 \nL 19.296875 15.40625 \nQ 17.296875 14.796875 15.296875 12.6875 \nQ 13.296875 10.59375 13.296875 9.09375 \nQ 13.296875 6.796875 21.09375 6.40625 \nL 34 5.796875 \nQ 39.5 5.59375 42.796875 2.6875 \nQ 46.09375 -0.203125 46.09375 -4.90625 \nQ 46.09375 -10.703125 40.09375 -15.40625 \nQ 31.796875 -21.796875 20.09375 -21.796875 \nQ 12.90625 -21.796875 7.84375 -18.9375 \nQ 2.796875 -16.09375 2.796875 -12.09375 \nQ 2.796875 -9.296875 5 -6.546875 \nQ 7.203125 -3.796875 12.59375 0.09375 \nQ 9.40625 1.59375 8.34375 2.6875 \nQ 7.296875 3.796875 7.296875 5.40625 \nQ 7.296875 8.296875 11.90625 12.296875 \nQ 14.203125 14.296875 16.203125 16.296875 \nQ 11.203125 18.796875 9.046875 21.890625 \nQ 6.90625 25 6.90625 29.703125 \nQ 6.90625 36.5 11.75 41.25 \nQ 16.59375 46 23.59375 46 \nQ 27.59375 46 31.59375 44.5 \nL 33.796875 43.703125 \nQ 36.703125 42.703125 39.296875 42.703125 \nL 47 42.703125 \nz\nM 15.203125 33.796875 \nL 15.203125 33.5 \nQ 15.203125 26.296875 18.046875 21.84375 \nQ 20.90625 17.40625 25.5 17.40625 \nQ 28.90625 17.40625 30.90625 19.84375 \nQ 32.90625 22.296875 32.90625 26.40625 \nQ 32.90625 33 29.90625 38.5 \nQ 27.40625 43.203125 22.59375 43.203125 \nQ 19.09375 43.203125 17.140625 40.703125 \nQ 15.203125 38.203125 15.203125 33.796875 \nz\nM 43.296875 -6.40625 \nQ 43.296875 -3.59375 40.546875 -2.546875 \nQ 37.796875 -1.5 30.90625 -1.5 \nQ 21 -1.5 14.703125 -0.203125 \nQ 11.703125 -3.796875 10.75 -5.4375 \nQ 9.796875 -7.09375 9.796875 -8.796875 \nQ 9.796875 -12.09375 13.75 -14.09375 \nQ 17.703125 -16.09375 24.296875 -16.09375 \nQ 32.796875 -16.09375 38.046875 -13.4375 \nQ 43.296875 -10.796875 43.296875 -6.40625 \nz\n\" id=\"STIXGeneral-Regular-103\"/>\n      <path d=\"M 50.5 0 \nL 28.703125 0 \nL 28.703125 1.5 \nL 30.59375 1.5 \nQ 32.703125 1.5 32.703125 3 \nQ 32.703125 3.90625 31.59375 5.296875 \nL 16.59375 25.09375 \nL 16.59375 6.703125 \nQ 16.59375 4.09375 17.84375 2.890625 \nQ 19.09375 1.703125 22.09375 1.59375 \nL 24.09375 1.5 \nL 24.09375 0 \nL 0.703125 0 \nL 0.703125 1.5 \nQ 6.09375 2.40625 7.140625 3.34375 \nQ 8.203125 4.296875 8.203125 8.203125 \nL 8.203125 56.40625 \nQ 8.203125 60 7.296875 61.25 \nQ 6.40625 62.5 3.90625 62.5 \nQ 3.296875 62.5 0.703125 62.296875 \nL 0.703125 63.90625 \nL 3.703125 64.703125 \nQ 9.703125 66.296875 16.203125 68.296875 \nL 16.59375 68.09375 \nL 16.59375 26.09375 \nL 30.296875 38.296875 \nQ 32.59375 40.40625 32.59375 41.796875 \nQ 32.59375 42.796875 31.546875 43.140625 \nQ 30.5 43.5 27.59375 43.59375 \nL 27.59375 45 \nL 48 45 \nL 48 43.5 \nQ 43 43.5 39.140625 41.34375 \nQ 35.296875 39.203125 26.40625 30.90625 \nL 23.5 28.203125 \nL 38.796875 8.796875 \nQ 44.203125 1.90625 50.5 1.5 \nz\n\" id=\"STIXGeneral-Regular-107\"/>\n      <path d=\"M 30.40625 -16.09375 \nL 29.203125 -17.703125 \nQ 17.59375 -11.09375 11.1875 0.5 \nQ 4.796875 12.09375 4.796875 25.203125 \nQ 4.796875 52.90625 29.5 67.59375 \nL 30.40625 66 \nQ 20.203125 57.296875 16.796875 48.84375 \nQ 13.40625 40.40625 13.40625 25.5 \nQ 13.40625 10.703125 16.90625 1.5 \nQ 20.40625 -7.703125 30.40625 -16.09375 \nz\n\" id=\"STIXGeneral-Regular-40\"/>\n      <path d=\"M 7.71875 1.703125 \nQ 7.71875 2.296875 7.8125 2.59375 \nL 15.28125 32.421875 \nQ 16.015625 35.203125 16.015625 37.3125 \nQ 16.015625 41.609375 13.09375 41.609375 \nQ 9.96875 41.609375 8.453125 37.859375 \nQ 6.9375 34.125 5.515625 28.421875 \nQ 5.515625 28.125 5.21875 27.953125 \nQ 4.9375 27.78125 4.6875 27.78125 \nL 3.515625 27.78125 \nQ 3.171875 27.78125 2.921875 28.140625 \nQ 2.6875 28.515625 2.6875 28.8125 \nQ 3.765625 33.15625 4.765625 36.171875 \nQ 5.765625 39.203125 7.890625 41.6875 \nQ 10.015625 44.1875 13.1875 44.1875 \nQ 16.9375 44.1875 19.8125 41.8125 \nQ 22.703125 39.453125 22.703125 35.796875 \nQ 25.6875 39.703125 29.6875 41.9375 \nQ 33.6875 44.1875 38.1875 44.1875 \nQ 42.921875 44.1875 46.359375 41.765625 \nQ 49.8125 39.359375 49.8125 34.90625 \nQ 52.875 39.265625 57 41.71875 \nQ 61.140625 44.1875 66.015625 44.1875 \nQ 71.1875 44.1875 74.328125 41.375 \nQ 77.484375 38.578125 77.484375 33.40625 \nQ 77.484375 29.296875 75.65625 23.484375 \nQ 73.828125 17.671875 71.09375 10.5 \nQ 69.671875 7.03125 69.671875 4.5 \nQ 69.671875 1.515625 72.015625 1.515625 \nQ 75.921875 1.515625 78.515625 5.703125 \nQ 81.109375 9.90625 82.171875 14.703125 \nQ 82.46875 15.28125 83.015625 15.28125 \nL 84.1875 15.28125 \nQ 84.578125 15.28125 84.84375 15.015625 \nQ 85.109375 14.75 85.109375 14.40625 \nQ 85.109375 14.3125 85.015625 14.109375 \nQ 83.640625 8.453125 80.25 3.65625 \nQ 76.859375 -1.125 71.78125 -1.125 \nQ 68.265625 -1.125 65.765625 1.296875 \nQ 63.28125 3.71875 63.28125 7.171875 \nQ 63.28125 8.9375 64.109375 11.078125 \nQ 66.9375 18.609375 68.8125 24.515625 \nQ 70.703125 30.421875 70.703125 34.90625 \nQ 70.703125 37.703125 69.578125 39.65625 \nQ 68.453125 41.609375 65.828125 41.609375 \nQ 60.359375 41.609375 56.34375 38.25 \nQ 52.34375 34.90625 49.421875 29.390625 \nQ 49.21875 28.421875 49.125 27.875 \nL 42.671875 2.203125 \nQ 42.328125 0.828125 41.125 -0.140625 \nQ 39.9375 -1.125 38.484375 -1.125 \nQ 37.3125 -1.125 36.40625 -0.34375 \nQ 35.5 0.4375 35.5 1.703125 \nQ 35.5 2.296875 35.59375 2.59375 \nL 42 28.078125 \nQ 43.015625 32.171875 43.015625 34.90625 \nQ 43.015625 37.703125 41.859375 39.65625 \nQ 40.71875 41.609375 37.984375 41.609375 \nQ 34.328125 41.609375 31.25 39.984375 \nQ 28.171875 38.375 25.875 35.71875 \nQ 23.578125 33.0625 21.6875 29.390625 \nL 14.890625 2.203125 \nQ 14.546875 0.828125 13.34375 -0.140625 \nQ 12.15625 -1.125 10.6875 -1.125 \nQ 9.46875 -1.125 8.59375 -0.34375 \nQ 7.71875 0.4375 7.71875 1.703125 \nz\n\" id=\"Cmmi10-109\"/>\n      <path d=\"M 6.59375 23.296875 \nQ 5.609375 23.78125 5.609375 25 \nQ 5.609375 26.21875 6.59375 26.703125 \nL 60.796875 56.390625 \nQ 61.671875 56.6875 61.8125 56.6875 \nQ 62.59375 56.6875 63.203125 56.078125 \nQ 63.8125 55.46875 63.8125 54.6875 \nQ 63.8125 53.609375 62.890625 52.984375 \nL 11.8125 25 \nL 62.890625 -2.984375 \nQ 63.8125 -3.609375 63.8125 -4.6875 \nQ 63.8125 -5.46875 63.203125 -6.078125 \nQ 62.59375 -6.6875 61.8125 -6.6875 \nQ 61.625 -6.6875 61.34375 -6.59375 \nQ 61.078125 -6.5 60.796875 -6.390625 \nz\nM 37.109375 23.296875 \nQ 36.078125 23.78125 36.078125 25 \nQ 36.078125 26.171875 37.109375 26.703125 \nL 91.3125 56.390625 \nQ 92.1875 56.6875 92.28125 56.6875 \nQ 93.171875 56.6875 93.71875 56.125 \nQ 94.28125 55.5625 94.28125 54.6875 \nQ 94.28125 53.609375 93.40625 52.984375 \nL 42.28125 25 \nL 93.40625 -2.984375 \nQ 94.28125 -3.609375 94.28125 -4.6875 \nQ 94.28125 -5.515625 93.71875 -6.09375 \nQ 93.171875 -6.6875 92.28125 -6.6875 \nQ 92.140625 -6.6875 91.875 -6.59375 \nQ 91.609375 -6.5 91.3125 -6.390625 \nz\n\" id=\"Cmsy10-191\"/>\n      <path d=\"M 20.125 -1.125 \nQ 15.328125 -1.125 11.734375 1.359375 \nQ 8.15625 3.859375 6.265625 8.078125 \nQ 4.390625 12.3125 4.390625 17 \nQ 4.390625 24.125 7.984375 30.390625 \nQ 11.578125 36.671875 17.71875 40.421875 \nQ 23.875 44.1875 30.90625 44.1875 \nQ 35.203125 44.1875 38.40625 41.96875 \nQ 41.609375 39.75 41.609375 35.59375 \nQ 41.609375 29.828125 37.015625 27.015625 \nQ 32.421875 24.21875 26.65625 23.5625 \nQ 20.90625 22.90625 13.921875 22.90625 \nL 13.625 22.90625 \nQ 12.015625 16.9375 12.015625 12.703125 \nQ 12.015625 8.25 14.0625 4.875 \nQ 16.109375 1.515625 20.3125 1.515625 \nQ 26.265625 1.515625 31.75 4.25 \nQ 37.25 6.984375 40.71875 11.8125 \nQ 41.015625 12.109375 41.5 12.109375 \nQ 42 12.109375 42.5 11.546875 \nQ 43.015625 10.984375 43.015625 10.5 \nQ 43.015625 10.109375 42.828125 9.90625 \nQ 39.15625 4.78125 32.953125 1.828125 \nQ 26.765625 -1.125 20.125 -1.125 \nz\nM 14.203125 25.484375 \nQ 20.015625 25.484375 24.953125 26.015625 \nQ 29.890625 26.5625 33.890625 28.734375 \nQ 37.890625 30.90625 37.890625 35.5 \nQ 37.890625 37.359375 36.859375 38.75 \nQ 35.84375 40.140625 34.203125 40.875 \nQ 32.5625 41.609375 30.8125 41.609375 \nQ 26.5625 41.609375 23.171875 39.3125 \nQ 19.78125 37.015625 17.578125 33.328125 \nQ 15.375 29.640625 14.203125 25.484375 \nz\n\" id=\"Cmmi10-101\"/>\n      <path d=\"M 2.90625 66 \nL 4.09375 67.59375 \nQ 15.5 60.796875 22 49.1875 \nQ 28.5 37.59375 28.5 24.703125 \nQ 28.5 -2.59375 3.796875 -17.703125 \nL 2.90625 -16.09375 \nQ 13.203125 -7.59375 16.546875 0.84375 \nQ 19.90625 9.296875 19.90625 24.40625 \nQ 19.90625 39.59375 16.546875 48.75 \nQ 13.203125 57.90625 2.90625 66 \nz\n\" id=\"STIXGeneral-Regular-41\"/>\n      <path d=\"M 15.90625 45.90625 \nQ 19.203125 42.59375 19.203125 40.296875 \nQ 19.203125 38 17.59375 36.390625 \nQ 16 34.796875 13.703125 34.796875 \nQ 11.40625 34.796875 9.75 36.4375 \nQ 8.09375 38.09375 8.09375 40.296875 \nQ 8.09375 42.703125 9.6875 44.296875 \nQ 11.296875 45.90625 13.703125 45.90625 \nQ 15.90625 45.90625 19.203125 42.59375 \nz\nM 19.203125 4.40625 \nQ 19.203125 2.203125 17.59375 0.546875 \nQ 16 -1.09375 13.703125 -1.09375 \nQ 11.40625 -1.09375 9.75 0.546875 \nQ 8.09375 2.203125 8.09375 4.40625 \nQ 8.09375 6.796875 9.6875 8.390625 \nQ 11.296875 10 13.703125 10 \nQ 15.90625 10 17.546875 8.34375 \nQ 19.203125 6.703125 19.203125 4.40625 \nz\n\" id=\"STIXGeneral-Regular-58\"/>\n      <path d=\"M 2.09375 45 \nL 10.296875 45 \nQ 10.40625 51 11.09375 54.34375 \nQ 11.796875 57.703125 13.796875 61.09375 \nQ 18 68.296875 27.90625 68.296875 \nQ 32.40625 68.296875 35.34375 66.546875 \nQ 38.296875 64.796875 38.296875 62.09375 \nQ 38.296875 60.40625 37.09375 59.203125 \nQ 35.90625 58 34.09375 58 \nQ 31.703125 58 29.59375 61.59375 \nQ 27.203125 65.5 24.296875 65.5 \nQ 18.703125 65.5 18.703125 56.59375 \nL 18.703125 45 \nL 30.90625 45 \nL 30.90625 41.796875 \nL 18.703125 41.796875 \nL 18.703125 10.40625 \nQ 18.703125 4.796875 20.296875 3.25 \nQ 21.90625 1.703125 28 1.5 \nL 28 0 \nL 2 0 \nL 2 1.5 \nQ 7.40625 1.796875 8.84375 3.34375 \nQ 10.296875 4.90625 10.296875 10.40625 \nL 10.296875 41.796875 \nL 2.09375 41.796875 \nz\n\" id=\"STIXGeneral-Regular-102\"/>\n      <path d=\"M 15.59375 30.09375 \nL 26 23.796875 \nQ 31 20.796875 32.890625 18.1875 \nQ 34.796875 15.59375 34.796875 11.5 \nQ 34.796875 6.5 30.640625 2.75 \nQ 26.5 -1 20.796875 -1 \nQ 16.09375 -1 13.5 -0.09375 \nQ 10.796875 0.796875 8.90625 0.796875 \nQ 7.203125 0.796875 6.5 -0.40625 \nL 5.203125 -0.40625 \nL 5.203125 15.296875 \nL 6.796875 15.296875 \nQ 8.40625 8 11.40625 4.59375 \nQ 14.40625 1.203125 19.5 1.203125 \nQ 23.203125 1.203125 25.5 3.296875 \nQ 27.796875 5.40625 27.796875 8.59375 \nQ 27.796875 13.203125 22.5 16.09375 \nL 17.09375 19.09375 \nQ 5.09375 25.796875 5.09375 33.59375 \nQ 5.09375 39.40625 8.84375 42.65625 \nQ 12.59375 45.90625 18.90625 45.90625 \nQ 23.296875 45.90625 25.59375 44.796875 \nQ 27.40625 44 28.40625 44 \nQ 29.09375 44 30 45 \nL 31.09375 45 \nL 31.59375 31.40625 \nL 30.09375 31.40625 \nQ 28.40625 38.203125 25.84375 40.953125 \nQ 23.296875 43.703125 18.796875 43.703125 \nQ 15.40625 43.703125 13.34375 42 \nQ 11.296875 40.296875 11.296875 36.90625 \nQ 11.296875 35.203125 12.4375 33.25 \nQ 13.59375 31.296875 15.59375 30.09375 \nz\n\" id=\"STIXGeneral-Regular-115\"/>\n     </defs>\n     <use transform=\"translate(0 0.703125)\" xlink:href=\"#STIXGeneral-Regular-83\"/>\n     <use transform=\"translate(55.599991 0.703125)\" xlink:href=\"#STIXGeneral-Regular-116\"/>\n     <use transform=\"translate(83.399979 0.703125)\" xlink:href=\"#STIXGeneral-Regular-114\"/>\n     <use transform=\"translate(116.699966 0.703125)\" xlink:href=\"#STIXGeneral-Regular-105\"/>\n     <use transform=\"translate(144.499954 0.703125)\" xlink:href=\"#STIXGeneral-Regular-110\"/>\n     <use transform=\"translate(194.499939 0.703125)\" xlink:href=\"#STIXGeneral-Regular-103\"/>\n     <use transform=\"translate(244.499924 0.703125)\" xlink:href=\"#STIXGeneral-Regular-32\"/>\n     <use transform=\"translate(269.499908 0.703125)\" xlink:href=\"#STIXGeneral-Regular-98\"/>\n     <use transform=\"translate(319.499893 0.703125)\" xlink:href=\"#STIXGeneral-Regular-114\"/>\n     <use transform=\"translate(352.799881 0.703125)\" xlink:href=\"#STIXGeneral-Regular-101\"/>\n     <use transform=\"translate(397.199875 0.703125)\" xlink:href=\"#STIXGeneral-Regular-97\"/>\n     <use transform=\"translate(441.599869 0.703125)\" xlink:href=\"#STIXGeneral-Regular-107\"/>\n     <use transform=\"translate(491.599854 0.703125)\" xlink:href=\"#STIXGeneral-Regular-105\"/>\n     <use transform=\"translate(519.399841 0.703125)\" xlink:href=\"#STIXGeneral-Regular-110\"/>\n     <use transform=\"translate(569.399826 0.703125)\" xlink:href=\"#STIXGeneral-Regular-103\"/>\n     <use transform=\"translate(619.399811 0.703125)\" xlink:href=\"#STIXGeneral-Regular-32\"/>\n     <use transform=\"translate(644.399796 0.703125)\" xlink:href=\"#STIXGeneral-Regular-40\"/>\n     <use transform=\"translate(677.699783 0.703125)\" xlink:href=\"#Cmmi10-109\"/>\n     <use transform=\"translate(783.051346 0.703125)\" xlink:href=\"#Cmsy10-191\"/>\n     <use transform=\"translate(900.60994 0.703125)\" xlink:href=\"#Cmmi10-101\"/>\n     <use transform=\"translate(947.094315 0.703125)\" xlink:href=\"#STIXGeneral-Regular-41\"/>\n     <use transform=\"translate(980.394302 0.703125)\" xlink:href=\"#STIXGeneral-Regular-58\"/>\n     <use transform=\"translate(1008.19429 0.703125)\" xlink:href=\"#STIXGeneral-Regular-32\"/>\n     <use transform=\"translate(1033.194275 0.703125)\" xlink:href=\"#STIXGeneral-Regular-83\"/>\n     <use transform=\"translate(1088.794266 0.703125)\" xlink:href=\"#STIXGeneral-Regular-112\"/>\n     <use transform=\"translate(1138.79425 0.703125)\" xlink:href=\"#STIXGeneral-Regular-108\"/>\n     <use transform=\"translate(1166.594238 0.703125)\" xlink:href=\"#STIXGeneral-Regular-105\"/>\n     <use transform=\"translate(1194.394226 0.703125)\" xlink:href=\"#STIXGeneral-Regular-116\"/>\n     <use transform=\"translate(1222.194214 0.703125)\" xlink:href=\"#STIXGeneral-Regular-116\"/>\n     <use transform=\"translate(1249.994202 0.703125)\" xlink:href=\"#STIXGeneral-Regular-105\"/>\n     <use transform=\"translate(1277.794189 0.703125)\" xlink:href=\"#STIXGeneral-Regular-110\"/>\n     <use transform=\"translate(1327.794174 0.703125)\" xlink:href=\"#STIXGeneral-Regular-103\"/>\n     <use transform=\"translate(1377.794159 0.703125)\" xlink:href=\"#STIXGeneral-Regular-32\"/>\n     <use transform=\"translate(1402.794144 0.703125)\" xlink:href=\"#STIXGeneral-Regular-111\"/>\n     <use transform=\"translate(1452.794128 0.703125)\" xlink:href=\"#STIXGeneral-Regular-102\"/>\n     <use transform=\"translate(1486.094116 0.703125)\" xlink:href=\"#STIXGeneral-Regular-32\"/>\n     <use transform=\"translate(1511.094101 0.703125)\" xlink:href=\"#STIXGeneral-Regular-112\"/>\n     <use transform=\"translate(1561.094086 0.703125)\" xlink:href=\"#STIXGeneral-Regular-114\"/>\n     <use transform=\"translate(1594.394073 0.703125)\" xlink:href=\"#STIXGeneral-Regular-111\"/>\n     <use transform=\"translate(1644.394058 0.703125)\" xlink:href=\"#STIXGeneral-Regular-98\"/>\n     <use transform=\"translate(1694.394043 0.703125)\" xlink:href=\"#STIXGeneral-Regular-97\"/>\n     <use transform=\"translate(1738.794037 0.703125)\" xlink:href=\"#STIXGeneral-Regular-98\"/>\n     <use transform=\"translate(1788.794022 0.703125)\" xlink:href=\"#STIXGeneral-Regular-105\"/>\n     <use transform=\"translate(1816.594009 0.703125)\" xlink:href=\"#STIXGeneral-Regular-108\"/>\n     <use transform=\"translate(1844.393997 0.703125)\" xlink:href=\"#STIXGeneral-Regular-105\"/>\n     <use transform=\"translate(1872.193985 0.703125)\" xlink:href=\"#STIXGeneral-Regular-116\"/>\n     <use transform=\"translate(1899.993973 0.703125)\" xlink:href=\"#STIXGeneral-Regular-105\"/>\n     <use transform=\"translate(1927.793961 0.703125)\" xlink:href=\"#STIXGeneral-Regular-101\"/>\n     <use transform=\"translate(1972.193954 0.703125)\" xlink:href=\"#STIXGeneral-Regular-115\"/>\n    </g>\n   </g>\n   <g id=\"legend_1\">\n    <g id=\"patch_7\">\n     <path d=\"M 144.704688 233.92 \nL 264.514063 233.92 \nQ 266.514063 233.92 266.514063 231.92 \nL 266.514063 190.409063 \nQ 266.514063 188.409063 264.514063 188.409063 \nL 144.704688 188.409063 \nQ 142.704688 188.409063 142.704688 190.409063 \nL 142.704688 231.92 \nQ 142.704688 233.92 144.704688 233.92 \nz\n\" style=\"fill:#ffffff;opacity:0.8;stroke:#cccccc;stroke-linejoin:miter;\"/>\n    </g>\n    <g id=\"line2d_19\">\n     <path d=\"M 146.704688 195.909063 \nL 166.704688 195.909063 \n\" style=\"fill:none;stroke:#1f77b4;stroke-linecap:square;stroke-width:1.5;\"/>\n    </g>\n    <g id=\"line2d_20\"/>\n    <g id=\"text_16\">\n     <!-- a~p -->\n     <g transform=\"translate(174.704688 199.409063)scale(0.1 -0.1)\">\n      <defs>\n       <path d=\"M 46.59375 32.5 \nL 50.203125 27.40625 \nQ 47 22.703125 44.09375 20.75 \nQ 41.203125 18.796875 37.703125 18.796875 \nQ 36.703125 18.796875 35.953125 18.84375 \nQ 35.203125 18.90625 34.296875 19.15625 \nQ 33.40625 19.40625 32.90625 19.546875 \nQ 32.40625 19.703125 31.34375 20.203125 \nQ 30.296875 20.703125 29.84375 20.890625 \nQ 29.40625 21.09375 27.90625 21.9375 \nQ 26.40625 22.796875 25.703125 23.09375 \nQ 20.703125 25.59375 16 25.59375 \nQ 13.40625 25.59375 11.15625 23.640625 \nQ 8.90625 21.703125 7.59375 18.296875 \nL 4 23.296875 \nQ 8.40625 32 16.5 32 \nQ 19 32 21.09375 31.390625 \nQ 23.203125 30.796875 28.203125 28.59375 \nQ 28.40625 28.5 29.953125 27.75 \nQ 31.5 27 32.546875 26.546875 \nQ 33.59375 26.09375 35.140625 25.640625 \nQ 36.703125 25.203125 37.796875 25.203125 \nQ 40.90625 25.203125 42.75 27 \nQ 44.59375 28.796875 46.59375 32.5 \nz\n\" id=\"STIXGeneral-Regular-126\"/>\n      </defs>\n      <use xlink:href=\"#STIXGeneral-Regular-97\"/>\n      <use x=\"44.399994\" xlink:href=\"#STIXGeneral-Regular-126\"/>\n      <use x=\"98.499985\" xlink:href=\"#STIXGeneral-Regular-112\"/>\n     </g>\n    </g>\n    <g id=\"line2d_21\">\n     <path d=\"M 146.704688 210.079375 \nL 166.704688 210.079375 \n\" style=\"fill:none;stroke:#006400;stroke-linecap:square;stroke-width:1.5;\"/>\n    </g>\n    <g id=\"line2d_22\"/>\n    <g id=\"text_17\">\n     <!-- o→o -->\n     <g transform=\"translate(174.704688 213.579375)scale(0.1 -0.1)\">\n      <defs>\n       <path d=\"M 85.59375 25.796875 \nL 85.59375 24.796875 \nQ 74.09375 19.90625 61.796875 5.703125 \nL 59.796875 7.59375 \nQ 62.59375 11.59375 68 17.203125 \nQ 69.40625 18.59375 69.40625 20 \nQ 69.40625 22 66.796875 22 \nL 7 22 \nL 7 28.59375 \nL 66.90625 28.59375 \nQ 67.703125 28.59375 68.59375 29.34375 \nQ 69.5 30.09375 69.5 30.796875 \nQ 69.5 31.90625 68.09375 33.296875 \nQ 63 38.203125 59.90625 42.90625 \nL 61.90625 44.796875 \nQ 74.296875 30.5 85.59375 25.796875 \nz\n\" id=\"STIXGeneral-Regular-8594\"/>\n      </defs>\n      <use xlink:href=\"#STIXGeneral-Regular-111\"/>\n      <use x=\"49.999985\" xlink:href=\"#STIXGeneral-Regular-8594\"/>\n      <use x=\"142.599976\" xlink:href=\"#STIXGeneral-Regular-111\"/>\n     </g>\n    </g>\n    <g id=\"line2d_23\">\n     <path d=\"M 146.704688 224.249688 \nL 166.704688 224.249688 \n\" style=\"fill:none;stroke:#228b22;stroke-linecap:square;stroke-width:1.5;\"/>\n    </g>\n    <g id=\"line2d_24\"/>\n    <g id=\"text_18\">\n     <!-- o→b -->\n     <g transform=\"translate(174.704688 227.749688)scale(0.1 -0.1)\">\n      <use xlink:href=\"#STIXGeneral-Regular-111\"/>\n      <use x=\"49.999985\" xlink:href=\"#STIXGeneral-Regular-8594\"/>\n      <use x=\"142.599976\" xlink:href=\"#STIXGeneral-Regular-98\"/>\n     </g>\n    </g>\n    <g id=\"line2d_25\">\n     <path d=\"M 213.964063 195.909063 \nL 233.964063 195.909063 \n\" style=\"fill:none;stroke:#3cb371;stroke-linecap:square;stroke-width:1.5;\"/>\n    </g>\n    <g id=\"line2d_26\"/>\n    <g id=\"text_19\">\n     <!-- b→o -->\n     <g transform=\"translate(241.964063 199.409063)scale(0.1 -0.1)\">\n      <use xlink:href=\"#STIXGeneral-Regular-98\"/>\n      <use x=\"49.999985\" xlink:href=\"#STIXGeneral-Regular-8594\"/>\n      <use x=\"142.599976\" xlink:href=\"#STIXGeneral-Regular-111\"/>\n     </g>\n    </g>\n    <g id=\"line2d_27\">\n     <path d=\"M 213.964063 210.079375 \nL 233.964063 210.079375 \n\" style=\"fill:none;stroke:#32cd32;stroke-linecap:square;stroke-width:1.5;\"/>\n    </g>\n    <g id=\"line2d_28\"/>\n    <g id=\"text_20\">\n     <!-- b→b -->\n     <g transform=\"translate(241.964063 213.579375)scale(0.1 -0.1)\">\n      <use xlink:href=\"#STIXGeneral-Regular-98\"/>\n      <use x=\"49.999985\" xlink:href=\"#STIXGeneral-Regular-8594\"/>\n      <use x=\"142.599976\" xlink:href=\"#STIXGeneral-Regular-98\"/>\n     </g>\n    </g>\n    <g id=\"line2d_29\">\n     <path d=\"M 213.964063 224.249688 \nL 233.964063 224.249688 \n\" style=\"fill:none;stroke:#7cfc00;stroke-linecap:square;stroke-width:1.5;\"/>\n    </g>\n    <g id=\"line2d_30\"/>\n    <g id=\"text_21\">\n     <!-- other -->\n     <g transform=\"translate(241.964063 227.749688)scale(0.1 -0.1)\">\n      <defs>\n       <path d=\"M 48.703125 0 \nL 27.5 0 \nL 27.5 1.5 \nQ 31.90625 2 33.09375 3.5 \nQ 34.296875 5 34.296875 10.203125 \nL 34.296875 30 \nQ 34.296875 40.59375 26.90625 40.59375 \nQ 23.90625 40.59375 21.40625 39.1875 \nQ 18.90625 37.796875 15.703125 34.296875 \nL 15.703125 10.203125 \nQ 15.703125 5 16.890625 3.5 \nQ 18.09375 2 22.5 1.5 \nL 22.5 0 \nL 0.90625 0 \nL 0.90625 1.5 \nQ 5.203125 2.09375 6.25 3.5 \nQ 7.296875 4.90625 7.296875 10.203125 \nL 7.296875 57.296875 \nQ 7.296875 60.5 6.34375 61.453125 \nQ 5.40625 62.40625 2.203125 62.40625 \nQ 1.296875 62.40625 1 62.296875 \nL 1 63.90625 \nL 3.703125 64.703125 \nQ 11.40625 67 15.203125 68.296875 \nL 15.703125 68 \nL 15.703125 37.59375 \nQ 19.203125 42.09375 22.59375 44.046875 \nQ 26 46 30.40625 46 \nQ 42.703125 46 42.703125 30.09375 \nL 42.703125 10.203125 \nQ 42.703125 5 43.640625 3.640625 \nQ 44.59375 2.296875 48.703125 1.5 \nz\n\" id=\"STIXGeneral-Regular-104\"/>\n      </defs>\n      <use xlink:href=\"#STIXGeneral-Regular-111\"/>\n      <use x=\"49.999985\" xlink:href=\"#STIXGeneral-Regular-116\"/>\n      <use x=\"77.799973\" xlink:href=\"#STIXGeneral-Regular-104\"/>\n      <use x=\"127.799957\" xlink:href=\"#STIXGeneral-Regular-101\"/>\n      <use x=\"172.199951\" xlink:href=\"#STIXGeneral-Regular-114\"/>\n     </g>\n    </g>\n   </g>\n  </g>\n </g>\n <defs>\n  <clipPath id=\"pfb2bdd2415\">\n   <rect height=\"217.44\" width=\"334.8\" x=\"37.209375\" y=\"21.48\"/>\n  </clipPath>\n </defs>\n</svg>\n",
      "image/png": "[encoded data removed]"
     },
     "metadata": {
      "needs_background": "light"
     }
    }
   ],
   "source": [
    "thres=0.0\n",
    "# 1. Extract the relevant rows in the probability list depending on the threshold:\n",
    "relevant_indices = np.unique(np.where(problist > thres)[0])\n",
    "\n",
    "relevant_labels = labellist[relevant_indices]\n",
    "relevant_probs =  problist[relevant_indices]\n",
    "colors=['C0',\n",
    "        'darkgreen', 'forestgreen', 'mediumseagreen', 'limegreen','lawngreen','yellowgreen',\n",
    "        'maroon', 'firebrick', 'red',\n",
    "        'grey']\n",
    "\n",
    "# 2. Plot\n",
    "baseline = np.zeros_like(time)\n",
    "for line, label, color in zip(np.cumsum(relevant_probs, axis=0), relevant_labels, colors):\n",
    "    plt.plot(time, line, color=color, label=label)\n",
    "    plt.fill_between(time, baseline, line, alpha=0.4, color=color)\n",
    "    baseline = line\n",
    "\n",
    "plt.legend(loc='lower center', ncol=2, fontsize=axes_size);\n",
    "plt.xlim((0,5))\n",
    "plt.ylim((0,1))\n",
    "#sns.despine()\n",
    "plt.xticks(fontsize=tick_size)\n",
    "plt.yticks(fontsize=tick_size)\n",
    "plt.title(r'String breaking ($m \\ll e$): Splitting of probabilities', fontsize=title_size)\n",
    "plt.ylabel(r'State probability', fontsize = axes_size)\n",
    "plt.xlabel(r'Time $t$', fontsize = axes_size);\n",
    "plt.savefig(overleafpath + 'string_breaking_probability_split.pdf')"
   ]
  },
  {
   "cell_type": "code",
   "execution_count": null,
   "metadata": {},
   "outputs": [],
   "source": []
  },
  {
   "cell_type": "code",
   "execution_count": 231,
   "metadata": {},
   "outputs": [
    {
     "output_type": "error",
     "ename": "LinAlgError",
     "evalue": "Singular matrix",
     "traceback": [
      "\u001b[0;31m---------------------------------------------------------------------------\u001b[0m",
      "\u001b[0;31mLinAlgError\u001b[0m                               Traceback (most recent call last)",
      "\u001b[0;32m<ipython-input-231-bc5985b024a0>\u001b[0m in \u001b[0;36m<module>\u001b[0;34m\u001b[0m\n\u001b[1;32m      1\u001b[0m \u001b[0mD\u001b[0m\u001b[0;34m=\u001b[0m\u001b[0mnp\u001b[0m\u001b[0;34m.\u001b[0m\u001b[0marray\u001b[0m\u001b[0;34m(\u001b[0m\u001b[0;34m[\u001b[0m\u001b[0;34m[\u001b[0m\u001b[0;36m1\u001b[0m\u001b[0;34m,\u001b[0m\u001b[0;36m0\u001b[0m\u001b[0;34m,\u001b[0m\u001b[0;36m0\u001b[0m\u001b[0;34m]\u001b[0m\u001b[0;34m,\u001b[0m\u001b[0;34m[\u001b[0m\u001b[0;36m0\u001b[0m\u001b[0;34m,\u001b[0m\u001b[0;36m1\u001b[0m\u001b[0;34m,\u001b[0m\u001b[0;36m1\u001b[0m\u001b[0;34m]\u001b[0m\u001b[0;34m,\u001b[0m\u001b[0;34m[\u001b[0m\u001b[0;36m0\u001b[0m\u001b[0;34m,\u001b[0m\u001b[0;36m1\u001b[0m\u001b[0;34m,\u001b[0m\u001b[0;36m1\u001b[0m\u001b[0;34m]\u001b[0m\u001b[0;34m]\u001b[0m\u001b[0;34m)\u001b[0m\u001b[0;34m\u001b[0m\u001b[0;34m\u001b[0m\u001b[0m\n\u001b[1;32m      2\u001b[0m \u001b[0mF\u001b[0m\u001b[0;34m=\u001b[0m\u001b[0mnp\u001b[0m\u001b[0;34m.\u001b[0m\u001b[0marray\u001b[0m\u001b[0;34m(\u001b[0m\u001b[0;34m[\u001b[0m\u001b[0;36m1\u001b[0m\u001b[0;34m,\u001b[0m\u001b[0;36m2\u001b[0m\u001b[0;34m,\u001b[0m\u001b[0;36m2\u001b[0m\u001b[0;34m]\u001b[0m\u001b[0;34m)\u001b[0m\u001b[0;34m\u001b[0m\u001b[0;34m\u001b[0m\u001b[0m\n\u001b[0;32m----> 3\u001b[0;31m \u001b[0mnp\u001b[0m\u001b[0;34m.\u001b[0m\u001b[0mlinalg\u001b[0m\u001b[0;34m.\u001b[0m\u001b[0msolve\u001b[0m\u001b[0;34m(\u001b[0m\u001b[0mD\u001b[0m\u001b[0;34m,\u001b[0m\u001b[0mF\u001b[0m\u001b[0;34m)\u001b[0m\u001b[0;34m\u001b[0m\u001b[0;34m\u001b[0m\u001b[0m\n\u001b[0m",
      "\u001b[0;32m<__array_function__ internals>\u001b[0m in \u001b[0;36msolve\u001b[0;34m(*args, **kwargs)\u001b[0m\n",
      "\u001b[0;32m~/opt/anaconda3/envs/name_of_my_env/lib/python3.7/site-packages/numpy/linalg/linalg.py\u001b[0m in \u001b[0;36msolve\u001b[0;34m(a, b)\u001b[0m\n\u001b[1;32m    392\u001b[0m     \u001b[0msignature\u001b[0m \u001b[0;34m=\u001b[0m \u001b[0;34m'DD->D'\u001b[0m \u001b[0;32mif\u001b[0m \u001b[0misComplexType\u001b[0m\u001b[0;34m(\u001b[0m\u001b[0mt\u001b[0m\u001b[0;34m)\u001b[0m \u001b[0;32melse\u001b[0m \u001b[0;34m'dd->d'\u001b[0m\u001b[0;34m\u001b[0m\u001b[0;34m\u001b[0m\u001b[0m\n\u001b[1;32m    393\u001b[0m     \u001b[0mextobj\u001b[0m \u001b[0;34m=\u001b[0m \u001b[0mget_linalg_error_extobj\u001b[0m\u001b[0;34m(\u001b[0m\u001b[0m_raise_linalgerror_singular\u001b[0m\u001b[0;34m)\u001b[0m\u001b[0;34m\u001b[0m\u001b[0;34m\u001b[0m\u001b[0m\n\u001b[0;32m--> 394\u001b[0;31m     \u001b[0mr\u001b[0m \u001b[0;34m=\u001b[0m \u001b[0mgufunc\u001b[0m\u001b[0;34m(\u001b[0m\u001b[0ma\u001b[0m\u001b[0;34m,\u001b[0m \u001b[0mb\u001b[0m\u001b[0;34m,\u001b[0m \u001b[0msignature\u001b[0m\u001b[0;34m=\u001b[0m\u001b[0msignature\u001b[0m\u001b[0;34m,\u001b[0m \u001b[0mextobj\u001b[0m\u001b[0;34m=\u001b[0m\u001b[0mextobj\u001b[0m\u001b[0;34m)\u001b[0m\u001b[0;34m\u001b[0m\u001b[0;34m\u001b[0m\u001b[0m\n\u001b[0m\u001b[1;32m    395\u001b[0m \u001b[0;34m\u001b[0m\u001b[0m\n\u001b[1;32m    396\u001b[0m     \u001b[0;32mreturn\u001b[0m \u001b[0mwrap\u001b[0m\u001b[0;34m(\u001b[0m\u001b[0mr\u001b[0m\u001b[0;34m.\u001b[0m\u001b[0mastype\u001b[0m\u001b[0;34m(\u001b[0m\u001b[0mresult_t\u001b[0m\u001b[0;34m,\u001b[0m \u001b[0mcopy\u001b[0m\u001b[0;34m=\u001b[0m\u001b[0;32mFalse\u001b[0m\u001b[0;34m)\u001b[0m\u001b[0;34m)\u001b[0m\u001b[0;34m\u001b[0m\u001b[0;34m\u001b[0m\u001b[0m\n",
      "\u001b[0;32m~/opt/anaconda3/envs/name_of_my_env/lib/python3.7/site-packages/numpy/linalg/linalg.py\u001b[0m in \u001b[0;36m_raise_linalgerror_singular\u001b[0;34m(err, flag)\u001b[0m\n\u001b[1;32m     86\u001b[0m \u001b[0;34m\u001b[0m\u001b[0m\n\u001b[1;32m     87\u001b[0m \u001b[0;32mdef\u001b[0m \u001b[0m_raise_linalgerror_singular\u001b[0m\u001b[0;34m(\u001b[0m\u001b[0merr\u001b[0m\u001b[0;34m,\u001b[0m \u001b[0mflag\u001b[0m\u001b[0;34m)\u001b[0m\u001b[0;34m:\u001b[0m\u001b[0;34m\u001b[0m\u001b[0;34m\u001b[0m\u001b[0m\n\u001b[0;32m---> 88\u001b[0;31m     \u001b[0;32mraise\u001b[0m \u001b[0mLinAlgError\u001b[0m\u001b[0;34m(\u001b[0m\u001b[0;34m\"Singular matrix\"\u001b[0m\u001b[0;34m)\u001b[0m\u001b[0;34m\u001b[0m\u001b[0;34m\u001b[0m\u001b[0m\n\u001b[0m\u001b[1;32m     89\u001b[0m \u001b[0;34m\u001b[0m\u001b[0m\n\u001b[1;32m     90\u001b[0m \u001b[0;32mdef\u001b[0m \u001b[0m_raise_linalgerror_nonposdef\u001b[0m\u001b[0;34m(\u001b[0m\u001b[0merr\u001b[0m\u001b[0;34m,\u001b[0m \u001b[0mflag\u001b[0m\u001b[0;34m)\u001b[0m\u001b[0;34m:\u001b[0m\u001b[0;34m\u001b[0m\u001b[0;34m\u001b[0m\u001b[0m\n",
      "\u001b[0;31mLinAlgError\u001b[0m: Singular matrix"
     ]
    }
   ],
   "source": []
  },
  {
   "cell_type": "code",
   "execution_count": 232,
   "metadata": {},
   "outputs": [
    {
     "output_type": "execute_result",
     "data": {
      "text/plain": [
       "array([1., 1., 1.])"
      ]
     },
     "metadata": {},
     "execution_count": 232
    }
   ],
   "source": []
  },
  {
   "cell_type": "code",
   "execution_count": 211,
   "metadata": {},
   "outputs": [
    {
     "output_type": "execute_result",
     "data": {
      "text/plain": [
       "-47.999999999999986"
      ]
     },
     "metadata": {},
     "execution_count": 211
    }
   ],
   "source": []
  },
  {
   "cell_type": "code",
   "execution_count": 728,
   "metadata": {},
   "outputs": [
    {
     "output_type": "stream",
     "name": "stdout",
     "text": [
      "[0.-1.j 0.+0.j]\n[0.+1.j 0.-0.j]\n[[0.-1.j 0.-0.j]\n [0.+0.j 0.+1.j]]\n"
     ]
    },
    {
     "output_type": "execute_result",
     "data": {
      "text/plain": [
       "     ┌───┐┌───┐\n",
       "q_0: ┤ X ├┤ Y ├\n",
       "     └───┘└───┘"
      ],
      "text/html": "<pre style=\"word-wrap: normal;white-space: pre;background: #fff0;line-height: 1.1;font-family: &quot;Courier New&quot;,Courier,monospace\">     ┌───┐┌───┐\nq_0: ┤ X ├┤ Y ├\n     └───┘└───┘</pre>"
     },
     "metadata": {},
     "execution_count": 728
    }
   ],
   "source": [
    "### occhio che commutano\n",
    "circ1=QuantumCircuit(1)\n",
    "circ2=QuantumCircuit(1)\n",
    "\n",
    "circ1.x(0)\n",
    "circ1.y(0)\n",
    "circ2.y(0)\n",
    "circ2.x(0)\n",
    "print(plotvect2(circ1))\n",
    "print(plotvect2(circ2))\n",
    "\n",
    "mat=execute(circ1, backend=Aer.get_backend(\"unitary_simulator\")).result().get_unitary()\n",
    "print(mat)\n",
    "#circ1.append(circ2,qargs=circ2.qubits)\n",
    "circ1.draw()\n"
   ]
  },
  {
   "cell_type": "code",
   "execution_count": 571,
   "metadata": {},
   "outputs": [
    {
     "output_type": "execute_result",
     "data": {
      "text/plain": [
       "5"
      ]
     },
     "metadata": {},
     "execution_count": 571
    }
   ],
   "source": [
    "cacc=np.array([1,2,3,4])\n",
    "cacc[1::2]\n",
    "H.num_qubits"
   ]
  },
  {
   "cell_type": "code",
   "execution_count": null,
   "metadata": {},
   "outputs": [],
   "source": []
  },
  {
   "cell_type": "code",
   "execution_count": 539,
   "metadata": {},
   "outputs": [
    {
     "output_type": "stream",
     "name": "stdout",
     "text": [
      " ##### questo nel caso in cui \n     ┌───┐\nq_0: ┤ X ├\n     ├───┤\nq_1: ┤ X ├\n     └───┘\nq_2: ─────\n          \nq_3: ─────\n     ┌───┐\nq_4: ┤ X ├\n     └───┘\n              ┌───────────┐\n fermionic_0: ┤ U3(π,0,π) ├\n              ├───────────┤\n fermionic_1: ┤ U3(π,0,π) ├\n              └───────────┘\n fermionic_2: ─────────────\n                           \n fermionic_3: ─────────────\n              ┌───────────┐\nspin(0.5)0_0: ┤ U3(π,0,π) ├\n              └───────────┘\n     ┌───┐\nq_0: ┤ X ├\n     ├───┤\nq_1: ┤ X ├\n     └───┘\nq_2: ─────\n          \nq_3: ─────\n     ┌───┐\nq_4: ┤ X ├\n     └───┘\n     ┌──────────┐┌─────────────┐         \nq_0: ┤ U(π,0,π) ├┤0            ├─────────\n     ├──────────┤│             │┌───────┐\nq_1: ┤ U(π,0,π) ├┤1            ├┤ RZ(0) ├\n     └──────────┘│             │└───────┘\nq_2: ────────────┤2 h_[0 0](0) ├─────────\n                 │             │┌───────┐\nq_3: ────────────┤3            ├┤ RZ(0) ├\n     ┌──────────┐│             │└───────┘\nq_4: ┤ U(π,0,π) ├┤4            ├─────────\n     └──────────┘└─────────────┘         \n     ┌─────────────┐┌─────────────┐         \nq_0: ┤0            ├┤0            ├─────────\n     │             ││             │┌───────┐\nq_1: ┤1            ├┤1            ├┤ RZ(0) ├\n     │             ││             │└───────┘\nq_2: ┤2 state_init ├┤2 h_[0 0](0) ├─────────\n     │             ││             │┌───────┐\nq_3: ┤3            ├┤3            ├┤ RZ(0) ├\n     │             ││             │└───────┘\nq_4: ┤4            ├┤4            ├─────────\n     └─────────────┘└─────────────┘         \n"
     ]
    }
   ],
   "source": [
    "#### prove !!!!!! \n",
    "\n",
    "\n",
    "### nota che il termine \n",
    "term0 ### non commuta mica con la variational fomr!!\n",
    "### distinguiamo due casi \n",
    "\n",
    "########## 1 ###########\n",
    "print( \" ##### questo nel caso in cui \")\n",
    "init_circuit_new1=init_state.construct_circuit(mode=\"circuit\", register=QuantumRegister(H.num_qubits,name=\"q\"))\n",
    "init_state_new1= Custom(num_qubits=H.num_qubits, circuit=init_circuit_new1)\n",
    "print(init_circuit_new1.decompose())\n",
    "\n",
    "########## 2 ########### teniamo stato normale \n",
    "init_state_new2=init_state\n",
    "\n",
    "print(init_state.construct_circuit(\"circuit\").decompose())\n",
    "\n",
    "print(init_state.construct_circuit(\"circuit\", register=QuantumRegister(5,name=\"q\")).decompose())\n",
    "#### funziona senza mettere in forma, ma devo farlo passare attraverso custom \n",
    "VarForm1=WilsonLGT2(lattice=lattice, S=S, rep=rep, initial_state=init_state_new1).construct_circuit(parameters=[0,0,0])\n",
    "\n",
    "#### se lo voglio mettere direttamnete con Dirac ma in forma q\n",
    "VarForm2=WilsonLGT2(lattice=lattice, S=S, rep=rep, initial_state=init_state).construct_circuit(parameters=[0,0,0], q= QuantumRegister(5,name=\"q\"))\n",
    "\n",
    "print(VarForm1)\n",
    "print(VarForm2)"
   ]
  },
  {
   "cell_type": "code",
   "execution_count": 549,
   "metadata": {},
   "outputs": [
    {
     "output_type": "execute_result",
     "data": {
      "text/plain": [
       "     ┌───┐ ░ ┌──────────────┐\n",
       "q_0: ┤ X ├─░─┤0             ├\n",
       "     ├───┤ ░ │              │\n",
       "q_1: ┤ X ├─░─┤1             ├\n",
       "     └───┘ ░ │              │\n",
       "q_2: ──────░─┤2 Pauli:XIYZY ├\n",
       "           ░ │              │\n",
       "q_3: ──────░─┤3             ├\n",
       "     ┌───┐ ░ │              │\n",
       "q_4: ┤ X ├─░─┤4             ├\n",
       "     └───┘ ░ └──────────────┘"
      ],
      "text/html": "<pre style=\"word-wrap: normal;white-space: pre;background: #fff0;line-height: 1.1;font-family: &quot;Courier New&quot;,Courier,monospace\">     ┌───┐ ░ ┌──────────────┐\nq_0: ┤ X ├─░─┤0             ├\n     ├───┤ ░ │              │\nq_1: ┤ X ├─░─┤1             ├\n     └───┘ ░ │              │\nq_2: ──────░─┤2 Pauli:XIYZY ├\n           ░ │              │\nq_3: ──────░─┤3             ├\n     ┌───┐ ░ │              │\nq_4: ┤ X ├─░─┤4             ├\n     └───┘ ░ └──────────────┘</pre>"
     },
     "metadata": {},
     "execution_count": 549
    }
   ],
   "source": [
    "\n",
    "#QUesta funzione crea tanti circuiti per misurare H in basi diverse, ma se usiamo lo statevector non serve \n",
    "H.construct_evaluation_circuit(init_circuit_new1, statevector_mode=True).decompose().draw()\n",
    "### fa tutte le combinazioni possibili di X,Y Z per non mancare neanche una misura, pensp !!!!\n"
   ]
  },
  {
   "source": [
    "###ORA SPACCO TUTTO !!! Ceerco di creare tre circuiti relativi alle cose e magari ne estrgggo la matrice. attenzione devo fare una funzione che prende però il parametro!!!! e mi ridà o le instruzioni o direttamnte il circuito!!\n"
   ],
   "cell_type": "markdown",
   "metadata": {}
  },
  {
   "source": [],
   "cell_type": "markdown",
   "metadata": {}
  },
  {
   "cell_type": "code",
   "execution_count": 1032,
   "metadata": {},
   "outputs": [],
   "source": [
    "### create exp(psidag Lambda psi)\n",
    "## nota che la matrice é (1,0)(0,lam) con lambda sotto che é come nella varform, nota anche che giulia disse che fece variare tutti i lambda\n",
    "def circuit_matrix_exp_lam(site, lattice, rep=dirac, m=1., S=0, lam0=1,lam1=0):\n",
    "    ## se lam1 = 0 va bene \n",
    "    nqubit=lattice.nsites * 2 + lattice.nedges * int(np.ceil(np.log2(2 * S + 1)))\n",
    "    ## in questo modo anche se solo lam0 é diverso da zero non fa nulla ! \n",
    "    ### ora basta che lam0=0 ed é zero l'altro é sempre zero ü \n",
    "    #if lam0 !=0 and lam1!=0:\n",
    "    if lam0 !=0:    \n",
    "        ide = np.array([[lam1,0],[0,lam0]])\n",
    "        summands = []\n",
    "    # 1. sum over all spinor components at the given lattice site\n",
    "        for alpha in range(2):\n",
    "            for beta in range(2):\n",
    "                summands.append(psidag(site, alpha, lattice) * ide[alpha, beta] * psi(site, beta, lattice))\n",
    "        mx = m * operator_sum(summands)\n",
    "\n",
    "    # 2. If we are working with interacting Wilson fermions (S>0), tensor with an identity on the spin register\n",
    "        if S > 0:\n",
    "            mx = mx @ link_id(S, lattice)\n",
    "\n",
    "        exp=construct_trotter_step(mx.to_qubit_operator(output='qiskit'), 1)   \n",
    "    else:\n",
    "          #caso in cui exponential 0\n",
    "        mx = fermion_id(lattice) @ link_id(S, lattice)\n",
    "        exp=construct_trotter_step(mx.to_qubit_operator(output='qiskit'), 0)   \n",
    "    circ=QuantumCircuit(nqubit,name=\"qc\")\n",
    "    circ.append(exp,qargs=circ.qubits)\n",
    "    backend_unitary=Aer.get_backend(\"unitary_simulator\")\n",
    "    qiskit_trotter_matrix = execute(circ, backend_unitary).result().get_unitary()\n",
    "\n",
    "    return [circ, qiskit_trotter_matrix]"
   ]
  },
  {
   "cell_type": "code",
   "execution_count": 1111,
   "metadata": {},
   "outputs": [
    {
     "output_type": "execute_result",
     "data": {
      "text/plain": [
       "     ┌──────────────────┐\n",
       "q_0: ┤0                 ├\n",
       "     │                  │\n",
       "q_1: ┤1                 ├\n",
       "     │                  │\n",
       "q_2: ┤2 trotter_step(0) ├\n",
       "     │                  │\n",
       "q_3: ┤3                 ├\n",
       "     │                  │\n",
       "q_4: ┤4                 ├\n",
       "     └──────────────────┘"
      ],
      "text/html": "<pre style=\"word-wrap: normal;white-space: pre;background: #fff0;line-height: 1.1;font-family: &quot;Courier New&quot;,Courier,monospace\">     ┌──────────────────┐\nq_0: ┤0                 ├\n     │                  │\nq_1: ┤1                 ├\n     │                  │\nq_2: ┤2 trotter_step(0) ├\n     │                  │\nq_3: ┤3                 ├\n     │                  │\nq_4: ┤4                 ├\n     └──────────────────┘</pre>"
     },
     "metadata": {},
     "execution_count": 1111
    }
   ],
   "source": [
    "[circuitlam0,matrixlam0]=circuit_matrix_exp_lam(site=[0], lattice=lattice, rep=dirac, m=1., S=params[\"S\"], lam0=1)\n",
    "[circuitlam1,matrixlam1]=circuit_matrix_exp_lam(site=[1], lattice=lattice, rep=dirac, m=1., S=params[\"S\"], lam0=0)\n",
    "\n",
    "\n",
    "#### attenzione nota che se lamda é zero il circuito non lo é per forza!!!!!!!!\n",
    "\n",
    "### ho cambiato lam1 é sempre zero !!!!! \n",
    "circuitlam0.decompose().draw()\n",
    "circuitlam1.decompose().draw()\n"
   ]
  },
  {
   "cell_type": "code",
   "execution_count": null,
   "metadata": {},
   "outputs": [],
   "source": [
    "\n",
    "\"\"\"\n",
    "def from_Var_to_trotter_phase(Var,lam=1):\n",
    "\n",
    "    Hop=Var._hopping_terms[0]\n",
    "    exp=construct_trotter_step(Hop, lam)\n",
    "    circ=QuantumCircuit(Var.num_qubits,name=\"qc\")\n",
    "    circ.append(exp,qargs=circ.qubits)\n",
    "    backend_unitary=Aer.get_backend(\"unitary_simulator\")\n",
    "    qiskit_trotter_matrix = execute(circ, backend_unitary).result().get_unitary()\n",
    "\n",
    "    return [circ, qiskit_trotter_matrix]\n",
    "\"\"\""
   ]
  },
  {
   "cell_type": "code",
   "execution_count": 1074,
   "metadata": {},
   "outputs": [
    {
     "output_type": "execute_result",
     "data": {
      "text/plain": [
       "[0, 2]"
      ]
     },
     "metadata": {},
     "execution_count": 1074
    }
   ],
   "source": []
  },
  {
   "cell_type": "code",
   "execution_count": 1034,
   "metadata": {},
   "outputs": [],
   "source": [
    "### occhio qui potrei usare quello di simon no???? hopping_like(edge, lattice=self._lattice, S=self._S, mixmat=mixmatrix, output=mode)\n",
    "\"\"\"\n",
    "def circuit_matrix_exp_theta(edge, lattice, S, mixmat=np.array([[0,0],[1,0]]), theta=1.):\n",
    "    nqubit=lattice.nsites * 2 + lattice.nedges * int(np.ceil(np.log2(2 * S + 1)))\n",
    "    site = lattice.site_vector(edge[0])\n",
    "    hopping_dim = edge[1]\n",
    "\n",
    "    # 2. Generate the hopping term as a sum over the fermionic (spinor) components\n",
    "    summands = []\n",
    "    # 2.1 Check for boundary sites\n",
    "    # Treat open and closed boundary conditions (skip term if edge is at boundary)\n",
    "    is_at_boundary = lattice.is_boundary_along(site, hopping_dim, direction='positive')\n",
    "    if is_at_boundary:\n",
    "        # print('encountered boundary at {}, {}'.format(site, j))\n",
    "        raise UserWarning('The given `site` and `hopping_dim` combination goes outside the lattice.')\n",
    "\n",
    "    # 2.2Get the edge along which hopping takes place and the next site\n",
    "    next_site = lattice.project(site + standard_basis(hopping_dim, lattice.ndim))\n",
    "\n",
    "\n",
    "\n",
    "    # 3 Sum over all spinor components:\n",
    "    for alpha in range(2):\n",
    "        for beta in range(2):\n",
    "            # Skip cases with zero coefficients\n",
    "            if mixmat[alpha, beta] == 0:\n",
    "                # print('skipped ab {}, {}'.format(alpha, beta))\n",
    "                continue\n",
    "\n",
    "            # Generate the fermionic hopping terms\n",
    "            bwd_hopp = (psidag(site, alpha, lattice)\n",
    "                        * mixmat[alpha, beta]\n",
    "                        * psi(next_site, beta, lattice))\n",
    "            fwd_hopp = bwd_hopp.dag()\n",
    "\n",
    "            # If gauge field is present, tensor with the hopping terms with the link operators\n",
    "            if S > 0:\n",
    "                bwd_hopp = bwd_hopp @ U(edge, S, lattice)\n",
    "                fwd_hopp = fwd_hopp @ Udag(edge, S, lattice)\n",
    "\n",
    "            # Convert the operators to qubit operators and add them to the total hopping term\n",
    "            bwd_hopp = bwd_hopp.to_qubit_operator(output=\"qiskit\")\n",
    "            fwd_hopp = fwd_hopp.to_qubit_operator(output=\"qiskit\")\n",
    "\n",
    "            summands += [fwd_hopp, bwd_hopp]\n",
    "\n",
    "    # 5. Sum up all hopping terms and return the hopping hamilton_qiskit\n",
    "    hopping_term = operator_sum(summands)\n",
    "    hopping_term.chop()\n",
    "\n",
    "    exp=construct_trotter_step(hopping_term, theta)   \n",
    "    #circ = Zero(H.num_qubits).construct_circuit(mode='circuit')\n",
    "    #circ.append(exp, qargs=circ.qubits)\n",
    "    circ=QuantumCircuit(nqubit,name=\"qc\")\n",
    "    circ.append(exp,qargs=circ.qubits)\n",
    "    backend_unitary=Aer.get_backend(\"unitary_simulator\")\n",
    "    qiskit_trotter_matrix = execute(circ, backend_unitary).result().get_unitary()\n",
    "\n",
    "    return [circ,qiskit_trotter_matrix]\n",
    "\"\"\"\n",
    " #### sono un idiota c'era un modo piu facile per avere l'hopping term\n",
    " # mat_hopping=to_matrix_operator(WilsonLGT2(lattice=lattice, S=S, rep=rep, initial_state=Zero(H.num_qubits))._hopping_terms[0]).dense_matrix\n",
    "#qt.Qobj(mat_hopping)   \n",
    "# però ho fatto bene  perché non c'era trotter credo \n",
    "\n"
   ]
  },
  {
   "cell_type": "code",
   "execution_count": 1152,
   "metadata": {},
   "outputs": [],
   "source": [
    "def from_Var_to_trotter_hopping(Var, theta=1., edge_index=0, hop=False):\n",
    "    ## nel caso ci sia solo un edge c'é solo un hopping temr \n",
    "    ## nota ceh ci sono tanti hopping term quanti edges, qui siano in 1d e va bene cosi\n",
    "    \n",
    "    Hop=Var._hopping_terms[edge_index]\n",
    "    exp=construct_trotter_step(Hop, theta)\n",
    "    circ=QuantumCircuit(Var.num_qubits,name=\"qc\")\n",
    "    circ.append(exp,qargs=circ.qubits)\n",
    "    backend_unitary=Aer.get_backend(\"unitary_simulator\")\n",
    "    qiskit_trotter_matrix = execute(circ, backend_unitary).result().get_unitary()\n",
    "    if not hop:\n",
    "        return [circ,qiskit_trotter_matrix]  \n",
    "    elif hop:\n",
    "        return [circ,qiskit_trotter_matrix, Hop]"
   ]
  },
  {
   "cell_type": "code",
   "execution_count": 1127,
   "metadata": {},
   "outputs": [
    {
     "output_type": "execute_result",
     "data": {
      "text/plain": [
       "array([[ 1.00000000e+00-8.07026258e-16j,  6.86915451e-17+6.77803465e-17j,\n",
       "        -1.71728863e-17+5.74143097e-17j, ...,\n",
       "         2.77555756e-17-4.17055809e-17j, -7.35980840e-18+5.50180192e-18j,\n",
       "         6.86915451e-17-3.46944695e-18j],\n",
       "       [ 5.88784672e-17+7.43648476e-17j,  1.00000000e+00-9.34596270e-16j,\n",
       "         6.62382756e-17-1.13523008e-17j, ...,\n",
       "         3.35039435e-17-2.69859641e-17j, -7.35980840e-18-5.98224272e-17j,\n",
       "        -3.19883556e-32+9.21781488e-18j],\n",
       "       [ 1.22663473e-17+5.77543347e-18j,  4.90653893e-18-2.42861287e-17j,\n",
       "         1.00000000e+00-9.73848582e-16j, ...,\n",
       "        -2.45326947e-18-3.78152195e-17j, -9.81307787e-18+1.71728863e-17j,\n",
       "         1.67519718e-17-3.92523115e-17j],\n",
       "       ...,\n",
       "       [ 1.67519718e-17+7.35980840e-18j,  1.26872618e-17-2.94392336e-17j,\n",
       "        -2.45326947e-18-1.30359588e-17j, ...,\n",
       "         1.00000000e+00-1.56263325e-15j,  5.64251977e-17+3.54341675e-17j,\n",
       "        -1.96261557e-17+4.20994299e-17j],\n",
       "       [-1.71728863e-17-1.32825248e-17j, -1.47196168e-17-5.08511783e-17j,\n",
       "        -1.26872618e-17+4.66121199e-17j, ...,\n",
       "         7.35980840e-18+1.58080118e-17j,  1.00000000e+00-1.59207249e-15j,\n",
       "         6.86915451e-17+5.96509266e-17j],\n",
       "       [ 2.20794252e-17+5.95262989e-19j,  2.68308443e-32+3.46944695e-18j,\n",
       "         4.04428374e-17-2.69859641e-17j, ...,\n",
       "        -4.66121199e-17+1.01888404e-17j,  5.88784672e-17-3.15351137e-18j,\n",
       "         1.00000000e+00-1.83739943e-15j]])"
      ]
     },
     "metadata": {},
     "execution_count": 1127
    }
   ],
   "source": [
    "from_Var_to_trotter_hopping(Var=WilsonLGT2(lattice=lattice, S=S, rep=rep, initial_state=Zero(H.num_qubits)), theta=2.)[1]\n"
   ]
  },
  {
   "cell_type": "code",
   "execution_count": 1035,
   "metadata": {},
   "outputs": [
    {
     "output_type": "execute_result",
     "data": {
      "text/plain": [
       "                                                                               »\n",
       "q_0: ──────────────────────────────────────────────────────────────────────────»\n",
       "        ┌───┐                                          ┌───┐    ┌───┐          »\n",
       "q_1: ───┤ H ├─────■──────────────────────────■─────────┤ H ├────┤ H ├──■───────»\n",
       "     ┌──┴───┴──┐┌─┴─┐                      ┌─┴─┐    ┌──┴───┴───┐├───┤┌─┴─┐     »\n",
       "q_2: ┤ RX(π/2) ├┤ X ├──■─────────────■─────┤ X ├────┤ RX(-π/2) ├┤ H ├┤ X ├──■──»\n",
       "     └─────────┘└───┘  │             │     └───┘    └──────────┘└───┘└───┘  │  »\n",
       "q_3: ──────────────────┼─────────────┼──────────────────────────────────────┼──»\n",
       "     ┌─────────┐     ┌─┴─┐┌───────┐┌─┴─┐┌──────────┐   ┌───┐              ┌─┴─┐»\n",
       "q_4: ┤ RX(π/2) ├─────┤ X ├┤ RZ(0) ├┤ X ├┤ RX(-π/2) ├───┤ H ├──────────────┤ X ├»\n",
       "     └─────────┘     └───┘└───────┘└───┘└──────────┘   └───┘              └───┘»\n",
       "«                                                                     »\n",
       "«q_0: ────────────────────────────────────────────────────────────────»\n",
       "«                        ┌───┐┌─────────┐                             »\n",
       "«q_1: ────────────────■──┤ H ├┤ RX(π/2) ├──■───────────────────────■──»\n",
       "«                   ┌─┴─┐├───┤├─────────┤┌─┴─┐                   ┌─┴─┐»\n",
       "«q_2: ───────────■──┤ X ├┤ H ├┤ RX(π/2) ├┤ X ├──■─────────────■──┤ X ├»\n",
       "«                │  └───┘└───┘└─────────┘└───┘  │             │  └───┘»\n",
       "«q_3: ───────────┼──────────────────────────────┼─────────────┼───────»\n",
       "«     ┌───────┐┌─┴─┐┌───┐┌───┐                ┌─┴─┐┌───────┐┌─┴─┐┌───┐»\n",
       "«q_4: ┤ RZ(0) ├┤ X ├┤ H ├┤ H ├────────────────┤ X ├┤ RZ(0) ├┤ X ├┤ H ├»\n",
       "«     └───────┘└───┘└───┘└───┘                └───┘└───────┘└───┘└───┘»\n",
       "«                                                                            »\n",
       "«q_0: ───────────────────────────────────────────────────────────────────────»\n",
       "«     ┌──────────┐┌─────────┐                                    ┌──────────┐»\n",
       "«q_1: ┤ RX(-π/2) ├┤ RX(π/2) ├──■──────────────────────────■──────┤ RX(-π/2) ├»\n",
       "«     ├──────────┤└──┬───┬──┘┌─┴─┐                      ┌─┴─┐    └──┬───┬───┘»\n",
       "«q_2: ┤ RX(-π/2) ├───┤ H ├───┤ X ├──■─────────────■─────┤ X ├───────┤ H ├────»\n",
       "«     └──────────┘   └───┘   └───┘  │             │     └───┘       └───┘    »\n",
       "«q_3: ──────────────────────────────┼─────────────┼──────────────────────────»\n",
       "«     ┌─────────┐                 ┌─┴─┐┌───────┐┌─┴─┐┌──────────┐            »\n",
       "«q_4: ┤ RX(π/2) ├─────────────────┤ X ├┤ RZ(0) ├┤ X ├┤ RX(-π/2) ├────────────»\n",
       "«     └─────────┘                 └───┘└───────┘└───┘└──────────┘            »\n",
       "«              ┌──────────────────┐\n",
       "«q_0: ─────────┤0                 ├\n",
       "«     ┌───────┐│                  │\n",
       "«q_1: ┤ RZ(1) ├┤1                 ├\n",
       "«     └───────┘│                  │\n",
       "«q_2: ─────────┤2 trotter_step(0) ├\n",
       "«              │                  │\n",
       "«q_3: ─────────┤3                 ├\n",
       "«              │                  │\n",
       "«q_4: ─────────┤4                 ├\n",
       "«              └──────────────────┘"
      ],
      "text/html": "<pre style=\"word-wrap: normal;white-space: pre;background: #fff0;line-height: 1.1;font-family: &quot;Courier New&quot;,Courier,monospace\">                                                                               »\nq_0: ──────────────────────────────────────────────────────────────────────────»\n        ┌───┐                                          ┌───┐    ┌───┐          »\nq_1: ───┤ H ├─────■──────────────────────────■─────────┤ H ├────┤ H ├──■───────»\n     ┌──┴───┴──┐┌─┴─┐                      ┌─┴─┐    ┌──┴───┴───┐├───┤┌─┴─┐     »\nq_2: ┤ RX(π/2) ├┤ X ├──■─────────────■─────┤ X ├────┤ RX(-π/2) ├┤ H ├┤ X ├──■──»\n     └─────────┘└───┘  │             │     └───┘    └──────────┘└───┘└───┘  │  »\nq_3: ──────────────────┼─────────────┼──────────────────────────────────────┼──»\n     ┌─────────┐     ┌─┴─┐┌───────┐┌─┴─┐┌──────────┐   ┌───┐              ┌─┴─┐»\nq_4: ┤ RX(π/2) ├─────┤ X ├┤ RZ(0) ├┤ X ├┤ RX(-π/2) ├───┤ H ├──────────────┤ X ├»\n     └─────────┘     └───┘└───────┘└───┘└──────────┘   └───┘              └───┘»\n«                                                                     »\n«q_0: ────────────────────────────────────────────────────────────────»\n«                        ┌───┐┌─────────┐                             »\n«q_1: ────────────────■──┤ H ├┤ RX(π/2) ├──■───────────────────────■──»\n«                   ┌─┴─┐├───┤├─────────┤┌─┴─┐                   ┌─┴─┐»\n«q_2: ───────────■──┤ X ├┤ H ├┤ RX(π/2) ├┤ X ├──■─────────────■──┤ X ├»\n«                │  └───┘└───┘└─────────┘└───┘  │             │  └───┘»\n«q_3: ───────────┼──────────────────────────────┼─────────────┼───────»\n«     ┌───────┐┌─┴─┐┌───┐┌───┐                ┌─┴─┐┌───────┐┌─┴─┐┌───┐»\n«q_4: ┤ RZ(0) ├┤ X ├┤ H ├┤ H ├────────────────┤ X ├┤ RZ(0) ├┤ X ├┤ H ├»\n«     └───────┘└───┘└───┘└───┘                └───┘└───────┘└───┘└───┘»\n«                                                                            »\n«q_0: ───────────────────────────────────────────────────────────────────────»\n«     ┌──────────┐┌─────────┐                                    ┌──────────┐»\n«q_1: ┤ RX(-π/2) ├┤ RX(π/2) ├──■──────────────────────────■──────┤ RX(-π/2) ├»\n«     ├──────────┤└──┬───┬──┘┌─┴─┐                      ┌─┴─┐    └──┬───┬───┘»\n«q_2: ┤ RX(-π/2) ├───┤ H ├───┤ X ├──■─────────────■─────┤ X ├───────┤ H ├────»\n«     └──────────┘   └───┘   └───┘  │             │     └───┘       └───┘    »\n«q_3: ──────────────────────────────┼─────────────┼──────────────────────────»\n«     ┌─────────┐                 ┌─┴─┐┌───────┐┌─┴─┐┌──────────┐            »\n«q_4: ┤ RX(π/2) ├─────────────────┤ X ├┤ RZ(0) ├┤ X ├┤ RX(-π/2) ├────────────»\n«     └─────────┘                 └───┘└───────┘└───┘└──────────┘            »\n«              ┌──────────────────┐\n«q_0: ─────────┤0                 ├\n«     ┌───────┐│                  │\n«q_1: ┤ RZ(1) ├┤1                 ├\n«     └───────┘│                  │\n«q_2: ─────────┤2 trotter_step(0) ├\n«              │                  │\n«q_3: ─────────┤3                 ├\n«              │                  │\n«q_4: ─────────┤4                 ├\n«              └──────────────────┘</pre>"
     },
     "metadata": {},
     "execution_count": 1035
    }
   ],
   "source": [
    "[circuittheta,matrixtheta]=circuit_matrix_exp_theta(edge=[0,0], lattice=lattice, S=params[\"S\"], mixmat=np.array([[0,0],[1,0]]), theta=0.)\n",
    "\n",
    "#check che non succende nulla\n",
    "np.around(plotvect2(circuittheta),4)\n",
    "\n",
    "## ho ricostruito il var con alcuni parametri \n",
    "Finalcir=QuantumCircuit(H.num_qubits)\n",
    "Finalcir.append(circuittheta, Finalcir.qubits)\n",
    "Finalcir.append(circuitlam0, Finalcir.qubits)\n",
    "Finalcir.append(circuitlam1, Finalcir.qubits)\n",
    "Finalcir.decompose().decompose().draw()"
   ]
  },
  {
   "cell_type": "code",
   "execution_count": 1036,
   "metadata": {},
   "outputs": [
    {
     "output_type": "execute_result",
     "data": {
      "text/plain": [
       "<qiskit.circuit.instructionset.InstructionSet at 0x7ffbee4204d0>"
      ]
     },
     "metadata": {},
     "execution_count": 1036
    }
   ],
   "source": [
    "## so di avere tre parametr\n",
    "theta_iniziale=[0,1,1]\n",
    "\n",
    "circuittheta1=circuit_matrix_exp_theta(edge=[0,0], lattice=lattice, S=params[\"S\"], mixmat=np.array([[0,0],[1,0]]), theta=theta_iniziale[0])[0]\n",
    "circuitlamsite1=circuit_matrix_exp_lam(site=[0], lattice=lattice, rep=dirac, m=1., S=params[\"S\"], lam0=theta_iniziale[1])[0]\n",
    "circuitlamsite2=circuit_matrix_exp_lam(site=[1], lattice=lattice, rep=dirac, m=1., S=params[\"S\"], lam0=theta_iniziale[2])[0]\n",
    "\n",
    "FinalCircuit=QuantumCircuit(H.num_qubits)\n",
    "FinalCircuit.append(circuittheta1, FinalCircuit.qubits)\n",
    "FinalCircuit.append(circuitlamsite1, FinalCircuit.qubits)\n",
    "FinalCircuit.append(circuitlamsite2, FinalCircuit.qubits)\n",
    "#FinalCircuit.decompose().decompose().draw()"
   ]
  },
  {
   "cell_type": "code",
   "execution_count": 1166,
   "metadata": {},
   "outputs": [],
   "source": [
    "#prende i oarametri e ridà le componenti di trottter \n",
    "def tric(paramameter):\n",
    "    [circuittheta1,mattheta1]=from_Var_to_trotter_hopping(Var=WilsonLGT2(lattice=lattice, S=S, rep=rep, initial_state=Zero(H.num_qubits)), theta=paramameter[0])\n",
    "    #[circuittheta1,mattheta1]=circuit_matrix_exp_theta(edge=[0,0], lattice=lattice, S=params[\"S\"], mixmat=np.array([[0,0],[1,0]]), theta=paramameter[0])\n",
    "    [circuitlamsite1,matlamsite1]=circuit_matrix_exp_lam(site=[0], lattice=lattice, rep=dirac, m=1., S=params[\"S\"], lam0=paramameter[1])\n",
    "    [circuitlamsite2,matlamsite2]=circuit_matrix_exp_lam(site=[1], lattice=lattice, rep=dirac, m=1., S=params[\"S\"], lam0=paramameter[2])\n",
    "    return [[circuittheta1,mattheta1],[circuitlamsite1,matlamsite1],[circuitlamsite2,matlamsite2]]\n"
   ]
  },
  {
   "cell_type": "code",
   "execution_count": 1167,
   "metadata": {},
   "outputs": [],
   "source": [
    "def var_mat_cir(paramameter):\n",
    "    [circuittheta1,mattheta1]=from_Var_to_trotter_hopping(Var=WilsonLGT2(lattice=lattice, S=S, rep=rep, initial_state=Zero(H.num_qubits)), theta=paramameter[0])\n",
    "    #circuit_matrix_exp_theta(edge=[0,0], lattice=lattice, S=params[\"S\"], mixmat=np.array([[0,0],[1,0]]), theta=paramameter[0])\n",
    "    [circuitlamsite1,matlamsite1]=circuit_matrix_exp_lam(site=[0], lattice=lattice, rep=dirac, m=1., S=params[\"S\"], lam0=paramameter[1])\n",
    "    [circuitlamsite2,matlamsite2]=circuit_matrix_exp_lam(site=[1], lattice=lattice, rep=dirac, m=1., S=params[\"S\"], lam0=paramameter[2])\n",
    "    tot_mat=matlamsite2@matlamsite1@mattheta1\n",
    "    tot_cir=QuantumCircuit(H.num_qubits, name=\"tot\")\n",
    "    tot_cir.append(circuittheta1,qargs=tot_cir.qubits)\n",
    "    tot_cir.append(circuitlamsite1,qargs=tot_cir.qubits)\n",
    "    tot_cir.append(circuitlamsite2,qargs=tot_cir.qubits)\n",
    "    return [tot_cir, tot_mat]"
   ]
  },
  {
   "cell_type": "code",
   "execution_count": 1168,
   "metadata": {},
   "outputs": [
    {
     "output_type": "stream",
     "name": "stdout",
     "text": [
      "18\n"
     ]
    },
    {
     "output_type": "execute_result",
     "data": {
      "text/plain": [
       "Quantum object: dims = [[32], [32]], shape = (32, 32), type = oper, isherm = False\n",
       "Qobj data =\n",
       "[[0.54-0.841j 0.  +0.j    0.  +0.j    ... 0.  +0.j    0.  +0.j\n",
       "  0.  +0.j   ]\n",
       " [0.  +0.j    0.54-0.841j 0.  +0.j    ... 0.  +0.j    0.  +0.j\n",
       "  0.  +0.j   ]\n",
       " [0.  +0.j    0.  +0.j    1.  +0.j    ... 0.  +0.j    0.  +0.j\n",
       "  0.  +0.j   ]\n",
       " ...\n",
       " [0.  +0.j    0.  +0.j    0.  +0.j    ... 1.  +0.j    0.  +0.j\n",
       "  0.  +0.j   ]\n",
       " [0.  +0.j    0.  +0.j    0.  +0.j    ... 0.  +0.j    0.54+0.841j\n",
       "  0.  +0.j   ]\n",
       " [0.  +0.j    0.  +0.j    0.  +0.j    ... 0.  +0.j    0.  +0.j\n",
       "  0.54+0.841j]]"
      ],
      "text/latex": "Quantum object: dims = [[32], [32]], shape = (32, 32), type = oper, isherm = False\\begin{equation*}\\left(\\begin{array}{*{11}c}(0.540-0.841j) & 0.0 & 0.0 & 0.0 & 0.0 & \\cdots & 0.0 & 0.0 & 0.0 & 0.0 & 0.0\\\\0.0 & (0.540-0.841j) & 0.0 & 0.0 & 0.0 & \\cdots & 0.0 & 0.0 & 0.0 & 0.0 & 0.0\\\\0.0 & 0.0 & 1.0 & 0.0 & 0.0 & \\cdots & 0.0 & 0.0 & 0.0 & 0.0 & 0.0\\\\0.0 & 0.0 & 0.0 & 1.0 & 0.0 & \\cdots & 0.0 & 0.0 & 0.0 & 0.0 & 0.0\\\\0.0 & 0.0 & 0.0 & 0.0 & (0.218-0.340j) & \\cdots & 0.0 & 0.0 & 0.0 & 0.0 & 0.0\\\\\\vdots & \\vdots & \\vdots & \\vdots & \\vdots & \\ddots & \\vdots & \\vdots & \\vdots & \\vdots & \\vdots\\\\0.0 & 0.0 & 0.0 & 0.0 & 0.0 & \\cdots & (0.218+0.340j) & 0.0 & 0.0 & 0.0 & 0.0\\\\0.0 & 0.0 & 0.0 & 0.0 & 0.0 & \\cdots & 0.0 & 1.0 & 0.0 & 0.0 & 0.0\\\\0.0 & 0.0 & 0.0 & 0.0 & 0.0 & \\cdots & 0.0 & 0.0 & 1.0 & 0.0 & 0.0\\\\0.0 & 0.0 & 0.0 & 0.0 & 0.0 & \\cdots & 0.0 & 0.0 & 0.0 & (0.540+0.841j) & 0.0\\\\0.0 & 0.0 & 0.0 & 0.0 & 0.0 & \\cdots & 0.0 & 0.0 & 0.0 & 0.0 & (0.540+0.841j)\\\\\\end{array}\\right)\\end{equation*}"
     },
     "metadata": {},
     "execution_count": 1168
    }
   ],
   "source": [
    "paraculo=[1,1,1]\n",
    "[cir,mattt]=var_mat_cir(paraculo)\n",
    "mattt=np.around(mattt,3)\n",
    "off_diagonal1=np.count_nonzero(mattt - np.diag(np.diagonal(mattt)))\n",
    "\n",
    "print(off_diagonal1)\n",
    "#cir.decompose().decompose().draw()\n",
    "qt.Qobj(mattt)"
   ]
  },
  {
   "cell_type": "code",
   "execution_count": 1169,
   "metadata": {},
   "outputs": [
    {
     "output_type": "stream",
     "name": "stdout",
     "text": [
      "18\n"
     ]
    },
    {
     "output_type": "execute_result",
     "data": {
      "text/plain": [
       "True"
      ]
     },
     "metadata": {},
     "execution_count": 1169
    }
   ],
   "source": [
    "# check with other var form \n",
    "circheck=WilsonLGT2(lattice=lattice, S=S, rep=rep, initial_state=Zero(H.num_qubits)).construct_circuit(parameters=paraculo, q= QuantumRegister(5,name=\"q\"))\n",
    "backend_unit=Aer.get_backend(\"unitary_simulator\")\n",
    "mat_var=execute(circheck, backend=backend_unit).result().get_unitary()\n",
    "mat_var=np.around(mat_var,3)\n",
    "off_diagonal2=np.count_nonzero(mat_var - np.diag(np.diagonal(mat_var)))\n",
    "print(off_diagonal2)\n",
    "\n",
    "### é la stessa!!!!!!!!!!!! \n",
    "qt.Qobj(mat_var)==qt.Qobj(mattt)\n",
    "#circheck.decompose().draw()\n",
    "\n"
   ]
  },
  {
   "cell_type": "code",
   "execution_count": null,
   "metadata": {},
   "outputs": [],
   "source": []
  },
  {
   "cell_type": "code",
   "execution_count": 1664,
   "metadata": {},
   "outputs": [],
   "source": [
    "### ora per ogni termine delle matrici A e C, abbiamo che\n",
    "\n",
    "### questi posso prenderli direttamente da var \n",
    "### é più lungo \n",
    "### nota che qui non ho il controllo sul edge ! \n",
    "### il theta non dovebbe far cambiare il pistolino\n",
    "term0= (from_Var_to_trotter_hopping(Var=WilsonLGT2(lattice=lattice, S=params[\"S\"], rep=rep, initial_state=Zero(H.num_qubits)),edge_index=0 ,theta=1.,hop=True)[2]) *1j\n",
    "\n",
    "#term0=Varder(edge=[0,0], lattice=lattice,S=params[\"S\"])*1j\n",
    "#term0conj=Varder(edge=[0,0], lattice=lattice,S=params[\"S\"])*(-1j)\n",
    "\n",
    "term1=1j*termlambda(site=[0],lattice=lattice, S=params[\"S\"]).to_qubit_operator(output='qiskit')\n",
    "term1conj=(-1j)*termlambda(site=[0],lattice=lattice, S=params[\"S\"]).to_qubit_operator(output='qiskit')\n",
    "\n",
    "term2=1j*termlambda(site=[1],lattice=lattice, S=params[\"S\"]).to_qubit_operator(output='qiskit')\n",
    "term2conj=(-1j)*termlambda(site=[1],lattice=lattice, S=params[\"S\"]).to_qubit_operator(output='qiskit')\n",
    "\n",
    "\n",
    "### devo fare tutto a livello matriciale poiché non esiste un circuito per term0 visto ceh non é unitario!!\n",
    "## se voglio fare con i circuit devo fare come nel paper!!! \n",
    "# se fosse solo un termine di cui calcolare la media al centro sarebbe un conto, ma qui ne ho uno a destra un circuito al centro e uno a sinista \n",
    "term0mat=to_matrix_operator(term0).dense_matrix\n",
    "#term0conjmat=to_matrix_operator(term0conj).dense_matrix\n",
    "\n",
    "term1mat=to_matrix_operator(term1).dense_matrix\n",
    "term1conjmat=to_matrix_operator(term1conj).dense_matrix\n",
    "\n",
    "term2mat=to_matrix_operator(term2).dense_matrix\n",
    "term2conjmat=to_matrix_operator(term2conj).dense_matrix"
   ]
  },
  {
   "cell_type": "code",
   "execution_count": 1303,
   "metadata": {},
   "outputs": [
    {
     "output_type": "execute_result",
     "data": {
      "text/plain": [
       "array([[0.+1.j, 0.+0.j, 0.+0.j, ..., 0.+0.j, 0.+0.j, 0.+0.j],\n",
       "       [0.+0.j, 0.+1.j, 0.+0.j, ..., 0.+0.j, 0.+0.j, 0.+0.j],\n",
       "       [0.+0.j, 0.+0.j, 0.+0.j, ..., 0.+0.j, 0.+0.j, 0.+0.j],\n",
       "       ...,\n",
       "       [0.+0.j, 0.+0.j, 0.+0.j, ..., 0.+1.j, 0.+0.j, 0.+0.j],\n",
       "       [0.+0.j, 0.+0.j, 0.+0.j, ..., 0.+0.j, 0.+0.j, 0.+0.j],\n",
       "       [0.+0.j, 0.+0.j, 0.+0.j, ..., 0.+0.j, 0.+0.j, 0.+0.j]])"
      ]
     },
     "metadata": {},
     "execution_count": 1303
    }
   ],
   "source": []
  },
  {
   "cell_type": "code",
   "execution_count": 1156,
   "metadata": {},
   "outputs": [
    {
     "output_type": "execute_result",
     "data": {
      "text/plain": [
       "YXZZY\t0.2886751345948129j\n",
       "XYZZY\t(-0-0.2886751345948129j)\n",
       "XXZZX\t(-0-0.2886751345948129j)\n",
       "YYZZX\t(-0-0.2886751345948129j)\n",
       "YIXYI\t(-0-0.2886751345948129j)\n",
       "XIYYI\t0.2886751345948129j\n",
       "XIXXI\t0.2886751345948129j\n",
       "YIYXI\t0.2886751345948129j"
      ]
     },
     "metadata": {},
     "execution_count": 1156
    }
   ],
   "source": []
  },
  {
   "cell_type": "code",
   "execution_count": 1287,
   "metadata": {},
   "outputs": [],
   "source": [
    "#### ora calcolo le derivata della var e ne calcolo i circuitit \n",
    "## faccio conto come se gli e\n",
    "##\n",
    "theta=[0,0,0]\n",
    "derU0=tric(theta)[2][1]@tric(theta)[1][1]@term0mat@tric(theta)[0][1]\n",
    "derU1=tric(theta)[2][1]@term1mat@tric(theta)[1][1]@tric(theta)[0][1]\n",
    "derU2=term2mat@tric(theta)[2][1]@tric(theta)[1][1]@tric(theta)[0][1]\n",
    "\n",
    "derU0dag=derU0.conj().T\n",
    "derU1dag=derU1.conj().T\n",
    "derU2dag=derU2.conj().T\n",
    "\n"
   ]
  },
  {
   "cell_type": "code",
   "execution_count": 1297,
   "metadata": {
    "tags": []
   },
   "outputs": [
    {
     "output_type": "execute_result",
     "data": {
      "text/plain": [
       "False"
      ]
     },
     "metadata": {},
     "execution_count": 1297
    }
   ],
   "source": [
    "off_diagonal2=np.count_nonzero(tric(theta)[1][1] - np.diag(np.diagonal(tric(theta)[1][1])))\n",
    "off_diagonal2\n",
    "#fullprint(tric(theta)[1][1])\n",
    "qt.Qobj(np.around(derU0,4))\n",
    "np.all(np.around(derU0,4)==0)\n"
   ]
  },
  {
   "cell_type": "code",
   "execution_count": 1173,
   "metadata": {},
   "outputs": [],
   "source": [
    "##### matrice A \n",
    "def get_A_matrix(theta, state):\n",
    "    Amat=np.zeros([3,3], dtype=np.complex)\n",
    "    state_vect=state \n",
    "\n",
    "    derU0=tric(theta)[2][1]@tric(theta)[1][1]@term0mat@tric(theta)[0][1]\n",
    "    derU1=tric(theta)[2][1]@term1mat@tric(theta)[1][1]@tric(theta)[0][1]\n",
    "    derU2=term2mat@tric(theta)[2][1]@tric(theta)[1][1]@tric(theta)[0][1]\n",
    "\n",
    "    derU0dag=derU0.conj().T\n",
    "    derU1dag=derU1.conj().T\n",
    "    derU2dag=derU2.conj().T\n",
    "\n",
    "    Amat[0][0]=np.inner(state_vect.conj(),np.dot(derU0dag@derU0,state_vect))\n",
    "    \n",
    "    Amat[0][1]=np.inner(state_vect.conj(),np.dot(derU0dag@derU1,state_vect))\n",
    "    Amat[0][2]=np.inner(state_vect.conj(),np.dot(derU0dag@derU2,state_vect))\n",
    "    Amat[1][0]=np.inner(state_vect.conj(),np.dot(derU1dag@derU0,state_vect))\n",
    "    Amat[1][1]=np.inner(state_vect.conj(),np.dot(derU1dag@derU1,state_vect))\n",
    "    Amat[1][2]=np.inner(state_vect.conj(),np.dot(derU1dag@derU2,state_vect))\n",
    "    Amat[2][0]=np.inner(state_vect.conj(),np.dot(derU2dag@derU0,state_vect))\n",
    "    Amat[2][1]=np.inner(state_vect.conj(),np.dot(derU2dag@derU1,state_vect))\n",
    "    Amat[2][2]=np.inner(state_vect.conj(),np.dot(derU2dag@derU2,state_vect))\n",
    "    return np.real(Amat)"
   ]
  },
  {
   "cell_type": "code",
   "execution_count": 1174,
   "metadata": {},
   "outputs": [
    {
     "output_type": "execute_result",
     "data": {
      "text/plain": [
       "array([[1.33333333e+00, 2.60990851e-17, 5.21981701e-17],\n",
       "       [2.60990851e-17, 1.00000000e+00, 1.00000000e+00],\n",
       "       [5.21981701e-17, 1.00000000e+00, 1.00000000e+00]])"
      ]
     },
     "metadata": {},
     "execution_count": 1174
    }
   ],
   "source": [
    "get_A_matrix(theta=[0,0,0], state=init_vect)"
   ]
  },
  {
   "cell_type": "code",
   "execution_count": 1175,
   "metadata": {},
   "outputs": [
    {
     "output_type": "execute_result",
     "data": {
      "text/plain": [
       "array([[ 0.5+0.j,  0. +0.j,  0. +0.j, ...,  0. +0.j,  0. +0.j,  0. +0.j],\n",
       "       [ 0. +0.j, -1.5+0.j,  0. +0.j, ...,  0. +0.j,  0. +0.j,  0. +0.j],\n",
       "       [ 0. +0.j,  0. +0.j,  2.5+0.j, ...,  0. +0.j,  0. +0.j,  0. +0.j],\n",
       "       ...,\n",
       "       [ 0. +0.j,  0. +0.j,  0. +0.j, ..., -2. +0.j,  0. +0.j,  0. +0.j],\n",
       "       [ 0. +0.j,  0. +0.j,  0. +0.j, ...,  0. +0.j,  2. +0.j,  0. +0.j],\n",
       "       [ 0. +0.j,  0. +0.j,  0. +0.j, ...,  0. +0.j,  0. +0.j,  0. +0.j]])"
      ]
     },
     "metadata": {},
     "execution_count": 1175
    }
   ],
   "source": [
    "to_matrix_operator(H).dense_matrix"
   ]
  },
  {
   "cell_type": "code",
   "execution_count": 1332,
   "metadata": {},
   "outputs": [],
   "source": [
    "def get_C_vect(theta, state):\n",
    "    Cvect=np.zeros([3], dtype=complex)\n",
    "\n",
    "    state_vect=state\n",
    "    Hmat=to_matrix_operator(H).dense_matrix\n",
    "\n",
    "    derU0=tric(theta)[2][1]@tric(theta)[1][1]@term0mat@tric(theta)[0][1]\n",
    "\n",
    "    derU1=tric(theta)[2][1]@term1mat@tric(theta)[1][1]@tric(theta)[0][1]\n",
    "    derU2=term2mat@tric(theta)[2][1]@tric(theta)[1][1]@tric(theta)[0][1]\n",
    "\n",
    "    derU0dag=derU0.conj().T\n",
    "    derU1dag=derU1.conj().T\n",
    "    derU2dag=derU2.conj().T\n",
    "    tot_mat=var_mat_cir(theta)[1]\n",
    "    tot_mat_dag=tot_mat.conj().T\n",
    "\n",
    "    Cvect[0]=np.inner(state_vect.conj(),np.dot(tot_mat_dag@ Hmat @ derU0,state_vect)).conjugate()\n",
    "    Cvect[1]=np.inner(state_vect.conj(),np.dot(derU1dag@Hmat@tot_mat,state_vect))\n",
    "    Cvect[2]=np.inner(state_vect.conj(),np.dot(derU2dag@Hmat@tot_mat,state_vect))\n",
    "    return np.imag(Cvect)"
   ]
  },
  {
   "cell_type": "code",
   "execution_count": 1666,
   "metadata": {},
   "outputs": [
    {
     "output_type": "execute_result",
     "data": {
      "text/plain": [
       "array([-0.66666667,  4.        ,  4.        ])"
      ]
     },
     "metadata": {},
     "execution_count": 1666
    }
   ],
   "source": [
    "vet=DiracState(\".p\", [-0.5], S=0.5).construct_circuit(\"vector\").flatten()\n",
    "get_C_vect([0.,0,0.], vet)"
   ]
  },
  {
   "cell_type": "code",
   "execution_count": 1663,
   "metadata": {},
   "outputs": [
    {
     "output_type": "stream",
     "name": "stdout",
     "text": [
      "(-6.9388939039071875e-18+1.3084103822364757e-17j)\n(-6.938893903907187e-18+1.308410382236476e-17j)\n"
     ]
    }
   ],
   "source": [
    "## pensoil problem é term0 che fa zero ogni volta ceh si moltiplica con a-p ? o no? \n",
    "term0mat\n",
    "tot_mat=var_mat_cir([0,0,0])[1]\n",
    "tot_mat_dag=tot_mat.conj().T\n",
    "vet=DiracState(\".p\", [-0.5], S=0.5).construct_circuit(\"vector\").flatten()\n",
    "derU0=tric([0,0,0])[2][1]@tric([0,0,0])[1][1]@term0mat@tric([0,0,0])[0][1]\n",
    "np.around(np.inner(vet.conj(),np.dot(tot_mat_dag@Hmat@derU0,vet)),4)\n",
    "print(np.inner(state_vect.conj(),np.dot(tot_mat_dag@ Hmat @ derU0,state_vect)).conjugate())\n",
    "print(np.inner(state_vect.conj(),np.dot(derU0dag @ Hmat@ tot_mat,state_vect)))"
   ]
  },
  {
   "cell_type": "code",
   "execution_count": 1313,
   "metadata": {},
   "outputs": [],
   "source": [
    "def fullprint(*args, **kwargs):\n",
    "  from pprint import pprint\n",
    "  import numpy\n",
    "  opt = numpy.get_printoptions()\n",
    "  numpy.set_printoptions(threshold=numpy.inf)\n",
    "  pprint(*args, **kwargs)\n",
    "  numpy.set_printoptions(**opt)"
   ]
  },
  {
   "cell_type": "code",
   "execution_count": 1267,
   "metadata": {
    "tags": []
   },
   "outputs": [
    {
     "output_type": "execute_result",
     "data": {
      "text/plain": [
       "array([[ 0.5+0.j,  0. +0.j,  0. +0.j, ...,  0. +0.j,  0. +0.j,  0. +0.j],\n",
       "       [ 0. +0.j, -1.5+0.j,  0. +0.j, ...,  0. +0.j,  0. +0.j,  0. +0.j],\n",
       "       [ 0. +0.j,  0. +0.j,  2.5+0.j, ...,  0. +0.j,  0. +0.j,  0. +0.j],\n",
       "       ...,\n",
       "       [ 0. +0.j,  0. +0.j,  0. +0.j, ..., -2. +0.j,  0. +0.j,  0. +0.j],\n",
       "       [ 0. +0.j,  0. +0.j,  0. +0.j, ...,  0. +0.j,  2. +0.j,  0. +0.j],\n",
       "       [ 0. +0.j,  0. +0.j,  0. +0.j, ...,  0. +0.j,  0. +0.j,  0. +0.j]])"
      ]
     },
     "metadata": {},
     "execution_count": 1267
    }
   ],
   "source": [
    "init_vect\n",
    "np.around(derU0@init_vect,4)\n",
    "is_all_zero = np.all((np.around(tot_mat_dag,5) == 0))\n",
    "derU0==np.zeros([32,32])\n",
    "#fullprint(np.around(derU0,5))\n",
    "np.around(Hmat,5)"
   ]
  },
  {
   "cell_type": "code",
   "execution_count": 1230,
   "metadata": {},
   "outputs": [
    {
     "output_type": "execute_result",
     "data": {
      "text/plain": [
       "Quantum object: dims = [[32], [32]], shape = (32, 32), type = oper, isherm = False\n",
       "Qobj data =\n",
       "[[0.54+0.841j 0.  +0.j    0.  +0.j    ... 0.  +0.j    0.  +0.j\n",
       "  0.  +0.j   ]\n",
       " [0.  +0.j    0.54+0.841j 0.  +0.j    ... 0.  +0.j    0.  +0.j\n",
       "  0.  +0.j   ]\n",
       " [0.  +0.j    0.  +0.j    0.54-0.841j ... 0.  +0.j    0.  +0.j\n",
       "  0.  +0.j   ]\n",
       " ...\n",
       " [0.  +0.j    0.  +0.j    0.  +0.j    ... 0.54+0.841j 0.  +0.j\n",
       "  0.  +0.j   ]\n",
       " [0.  +0.j    0.  +0.j    0.  +0.j    ... 0.  +0.j    0.54-0.841j\n",
       "  0.  +0.j   ]\n",
       " [0.  +0.j    0.  +0.j    0.  +0.j    ... 0.  +0.j    0.  +0.j\n",
       "  0.54-0.841j]]"
      ],
      "text/latex": "Quantum object: dims = [[32], [32]], shape = (32, 32), type = oper, isherm = False\\begin{equation*}\\left(\\begin{array}{*{11}c}(0.540+0.841j) & 0.0 & 0.0 & 0.0 & 0.0 & \\cdots & 0.0 & 0.0 & 0.0 & 0.0 & 0.0\\\\0.0 & (0.540+0.841j) & 0.0 & 0.0 & 0.0 & \\cdots & 0.0 & 0.0 & 0.0 & 0.0 & 0.0\\\\0.0 & 0.0 & (0.540-0.841j) & 0.0 & 0.0 & \\cdots & 0.0 & 0.0 & 0.0 & 0.0 & 0.0\\\\0.0 & 0.0 & 0.0 & (0.540-0.841j) & 0.0 & \\cdots & 0.0 & 0.0 & 0.0 & 0.0 & 0.0\\\\0.0 & 0.0 & 0.0 & 0.0 & (0.218+0.340j) & \\cdots & 0.0 & 0.0 & 0.0 & 0.0 & 0.0\\\\\\vdots & \\vdots & \\vdots & \\vdots & \\vdots & \\ddots & \\vdots & \\vdots & \\vdots & \\vdots & \\vdots\\\\0.0 & 0.0 & 0.0 & 0.0 & 0.0 & \\cdots & (0.218-0.340j) & 0.0 & 0.0 & 0.0 & 0.0\\\\0.0 & 0.0 & 0.0 & 0.0 & 0.0 & \\cdots & 0.0 & (0.540+0.841j) & 0.0 & 0.0 & 0.0\\\\0.0 & 0.0 & 0.0 & 0.0 & 0.0 & \\cdots & 0.0 & 0.0 & (0.540+0.841j) & 0.0 & 0.0\\\\0.0 & 0.0 & 0.0 & 0.0 & 0.0 & \\cdots & 0.0 & 0.0 & 0.0 & (0.540-0.841j) & 0.0\\\\0.0 & 0.0 & 0.0 & 0.0 & 0.0 & \\cdots & 0.0 & 0.0 & 0.0 & 0.0 & (0.540-0.841j)\\\\\\end{array}\\right)\\end{equation*}"
     },
     "metadata": {},
     "execution_count": 1230
    }
   ],
   "source": [
    "qt.Qobj(np.around(var_mat_cir(theta)[1].conj().T,3))"
   ]
  },
  {
   "cell_type": "code",
   "execution_count": 1231,
   "metadata": {},
   "outputs": [
    {
     "output_type": "execute_result",
     "data": {
      "text/plain": [
       "Quantum object: dims = [[32], [32]], shape = (32, 32), type = oper, isherm = False\n",
       "Qobj data =\n",
       "[[0.54-0.841j 0.  +0.j    0.  +0.j    ... 0.  +0.j    0.  +0.j\n",
       "  0.  +0.j   ]\n",
       " [0.  +0.j    0.54-0.841j 0.  +0.j    ... 0.  +0.j    0.  +0.j\n",
       "  0.  +0.j   ]\n",
       " [0.  +0.j    0.  +0.j    0.54+0.841j ... 0.  +0.j    0.  +0.j\n",
       "  0.  +0.j   ]\n",
       " ...\n",
       " [0.  +0.j    0.  +0.j    0.  +0.j    ... 0.54-0.841j 0.  +0.j\n",
       "  0.  +0.j   ]\n",
       " [0.  +0.j    0.  +0.j    0.  +0.j    ... 0.  +0.j    0.54+0.841j\n",
       "  0.  +0.j   ]\n",
       " [0.  +0.j    0.  +0.j    0.  +0.j    ... 0.  +0.j    0.  +0.j\n",
       "  0.54+0.841j]]"
      ],
      "text/latex": "Quantum object: dims = [[32], [32]], shape = (32, 32), type = oper, isherm = False\\begin{equation*}\\left(\\begin{array}{*{11}c}(0.540-0.841j) & 0.0 & 0.0 & 0.0 & 0.0 & \\cdots & 0.0 & 0.0 & 0.0 & 0.0 & 0.0\\\\0.0 & (0.540-0.841j) & 0.0 & 0.0 & 0.0 & \\cdots & 0.0 & 0.0 & 0.0 & 0.0 & 0.0\\\\0.0 & 0.0 & (0.540+0.841j) & 0.0 & 0.0 & \\cdots & 0.0 & 0.0 & 0.0 & 0.0 & 0.0\\\\0.0 & 0.0 & 0.0 & (0.540+0.841j) & 0.0 & \\cdots & 0.0 & 0.0 & 0.0 & 0.0 & 0.0\\\\0.0 & 0.0 & 0.0 & 0.0 & (0.218-0.340j) & \\cdots & 0.0 & 0.0 & 0.0 & 0.0 & 0.0\\\\\\vdots & \\vdots & \\vdots & \\vdots & \\vdots & \\ddots & \\vdots & \\vdots & \\vdots & \\vdots & \\vdots\\\\0.0 & 0.0 & 0.0 & 0.0 & 0.0 & \\cdots & (0.218+0.340j) & 0.0 & 0.0 & 0.0 & 0.0\\\\0.0 & 0.0 & 0.0 & 0.0 & 0.0 & \\cdots & 0.0 & (0.540-0.841j) & 0.0 & 0.0 & 0.0\\\\0.0 & 0.0 & 0.0 & 0.0 & 0.0 & \\cdots & 0.0 & 0.0 & (0.540-0.841j) & 0.0 & 0.0\\\\0.0 & 0.0 & 0.0 & 0.0 & 0.0 & \\cdots & 0.0 & 0.0 & 0.0 & (0.540+0.841j) & 0.0\\\\0.0 & 0.0 & 0.0 & 0.0 & 0.0 & \\cdots & 0.0 & 0.0 & 0.0 & 0.0 & (0.540+0.841j)\\\\\\end{array}\\right)\\end{equation*}"
     },
     "metadata": {},
     "execution_count": 1231
    }
   ],
   "source": []
  },
  {
   "cell_type": "code",
   "execution_count": 1183,
   "metadata": {},
   "outputs": [
    {
     "output_type": "execute_result",
     "data": {
      "text/plain": [
       "array([[ 0.8776-0.4794j, -0.    +0.j    ,  0.    +0.j    , ...,\n",
       "        -0.    +0.j    , -0.    +0.j    ,  0.    -0.j    ],\n",
       "       [ 0.    +0.j    ,  0.8776-0.4794j,  0.    +0.j    , ...,\n",
       "        -0.    -0.j    ,  0.    +0.j    , -0.    +0.j    ],\n",
       "       [-0.    +0.j    ,  0.    +0.j    ,  0.8776+0.4794j, ...,\n",
       "         0.    -0.j    ,  0.    -0.j    ,  0.    +0.j    ],\n",
       "       ...,\n",
       "       [ 0.    -0.j    ,  0.    -0.j    ,  0.    +0.j    , ...,\n",
       "         0.8776-0.4794j,  0.    -0.j    ,  0.    +0.j    ],\n",
       "       [-0.    +0.j    , -0.    +0.j    , -0.    +0.j    , ...,\n",
       "        -0.    +0.j    ,  0.8776+0.4794j,  0.    +0.j    ],\n",
       "       [ 0.    -0.j    , -0.    +0.j    , -0.    +0.j    , ...,\n",
       "        -0.    +0.j    , -0.    +0.j    ,  0.8776+0.4794j]])"
      ]
     },
     "metadata": {},
     "execution_count": 1183
    }
   ],
   "source": [
    "np.around(var_mat_cir([1,1,0])[1],4)"
   ]
  },
  {
   "cell_type": "code",
   "execution_count": 1693,
   "metadata": {},
   "outputs": [
    {
     "output_type": "stream",
     "name": "stdout",
     "text": [
      "Warning matrix is singular, using np.linalg.pinv(A)\n",
      "[-0.1 -0.4 -0.4]\n",
      "[-0.1921061  -0.8096802  -0.79550051]\n",
      "[-0.26108039 -1.22946375 -1.19411195]\n",
      "[-0.29456948 -1.66193124 -1.59395222]\n",
      "[-0.28551739 -2.11476411 -1.97948252]\n",
      "[-0.23383995 -2.60530938 -2.32092489]\n",
      "[-0.14792793 -3.17648618 -2.56548577]\n",
      "[-0.04799577 -3.98865151 -2.5526356 ]\n",
      "[ 0.01822341 -6.34221371 -0.99428012]\n",
      "[-0.08160244 -7.4678987  -0.66845183]\n",
      "[-0.11926019 -7.1342343  -1.81218047]\n",
      "[-0.18516366 -7.29808839 -2.46024594]\n",
      "[-0.23779373 -7.64084038 -2.93830527]\n",
      "[-0.25859292 -8.04864038 -3.36110525]\n",
      "[-0.23892178 -8.50460071 -3.73847198]\n",
      "[-0.17828683 -9.0106953  -4.05740519]\n",
      "[-0.08676627 -9.61204461 -4.26555303]\n",
      "[  0.0114827  -10.63527738  -4.04017   ]\n",
      "[  0.04673767  -3.28376531 -12.19311442]\n",
      "[  0.14572783  -3.77906205 -12.49870032]\n",
      "[  0.22601497  -4.1789112  -12.91036106]\n",
      "[  0.27651802  -4.62963006 -13.28529592]\n",
      "[  0.2843232   -5.12429644 -13.62675152]\n",
      "[  0.24423245  -5.66457238 -13.92059339]\n",
      "[  0.1629631   -6.27526122 -14.12853934]\n",
      "[  0.06302969  -7.09252761 -14.11144414]\n"
     ]
    }
   ],
   "source": [
    "### let's try this fucking algorithm !! \n",
    "init_state=DiracState(\"..\", [0.5], S=S)\n",
    "\n",
    "theta_init=[0,0,0]\n",
    "\n",
    "#q_init_circ=WilsonLGT2(lattice=lattice, S=S, rep=rep, initial_state=init_state).construct_circuit(parameters=theta_init)\n",
    "\n",
    "init_vect=init_state.construct_circuit(\"vector\").flatten()\n",
    "\n",
    "state_decompose_dirac(state=q_init_circ, fermi_len=lattice.nsites, spin_len= lattice.nedges, S=params[\"S\"], thres=0.1 )\n",
    "\n",
    "tfin=5\n",
    "delta_t=0.2\n",
    "nstep=int(tfin/delta_t)+1\n",
    "\n",
    "t=np.linspace(0, tfin, nstep)\n",
    "\n",
    "\n",
    "evolvevar2=[]\n",
    "theta_list=[theta_init]\n",
    "\n",
    "\n",
    "theta=theta_init\n",
    "### attenzione come l'hai fatto adesso non avrebbe senso perché prendi il vettore del passso di prima ma gli applichi la general ar form \n",
    "for i in range(len(t)):\n",
    "    #current_state=evolvevar2[-1]\n",
    "    state_vect_new=np.around(var_mat_cir(np.around(theta,5))[1],4)@init_vect\n",
    "    \n",
    "    ## proviamo con la var \n",
    "    evolvevar2.append(state_vect_new)\n",
    "    #evolvevar2.append(plotvect2(WilsonLGT2(lattice=lattice, S=S, rep=rep, initial_state=init_state).construct_circuit(parameters=theta)))\n",
    "    ### attenzione qui devo mettere l'init vect, perché 'evoluzione é gia dentro il theta \n",
    "    Amat=get_A_matrix(np.around(theta,5),init_vect)\n",
    "    Cvect=get_C_vect(np.around(theta,5),init_vect)\n",
    "    thetadot=solveG(Amat,Cvect)\n",
    "    #thetadot=scipy.linalg.solve(Amat,Cvec)\n",
    "    theta= theta+ delta_t * thetadot\n",
    "    theta_list.append(np.around(theta,5))\n",
    "    ## ttenzione \n",
    "    print(theta)\n",
    "    \n",
    "    "
   ]
  },
  {
   "cell_type": "code",
   "execution_count": 1694,
   "metadata": {},
   "outputs": [
    {
     "output_type": "execute_result",
     "data": {
      "text/plain": [
       "[<qiskit.circuit.quantumcircuit.QuantumCircuit at 0x7ffbfb0a6510>,\n",
       " array([[ 1.00000000e+00-7.35268126e-16j,  9.19976050e-17-4.46367439e-17j,\n",
       "          6.66982636e-17+3.43610110e-17j, ...,\n",
       "         -5.71948092e-17+2.40727066e-17j, -2.51460120e-17+3.06297596e-17j,\n",
       "          1.41062994e-17-2.02214187e-17j],\n",
       "        [-8.89310182e-17+2.06408094e-16j,  1.00000000e+00-9.75075216e-16j,\n",
       "          1.45662875e-17+2.13098137e-17j, ...,\n",
       "          4.33170214e-17+2.89792456e-17j, -1.41062994e-17+9.81307787e-18j,\n",
       "         -2.51460120e-17+2.71603126e-17j],\n",
       "        [ 1.33396527e-17-1.99900912e-17j, -1.53329342e-18-1.38777878e-17j,\n",
       "          1.00000000e+00-9.79368438e-16j, ...,\n",
       "         -1.14997006e-17+3.72199565e-17j, -2.08166817e-17-1.47196168e-17j,\n",
       "          2.08166817e-17+7.35980840e-18j],\n",
       "        ...,\n",
       "        [ 5.74836793e-18-3.23524911e-17j,  2.27729539e-32+3.34257965e-17j,\n",
       "         -2.03928024e-17+2.25003397e-17j, ...,\n",
       "          1.00000000e+00-1.95944959e-15j,  1.50262755e-17-2.77555756e-17j,\n",
       "          3.25058204e-17+2.25469463e-16j],\n",
       "        [ 1.30329940e-17+4.06470994e-18j,  3.06658683e-19-5.71948092e-17j,\n",
       "          2.25003397e-17+2.31527306e-17j, ...,\n",
       "          3.38857845e-17-1.59101428e-17j,  1.00000000e+00-1.96374281e-15j,\n",
       "         -3.31191378e-17+2.00979073e-16j],\n",
       "        [-4.59988025e-19+5.71948092e-17j,  1.31863234e-17+4.06470994e-18j,\n",
       "          1.91330237e-17+2.91325749e-18j, ...,\n",
       "         -1.57929222e-17+1.91892739e-16j, -1.08907447e-31+1.68550570e-16j,\n",
       "          1.00000000e+00-2.20661649e-15j]])]"
      ]
     },
     "metadata": {},
     "execution_count": 1694
    }
   ],
   "source": [
    "var_mat_cir(np.around([-1.00000000e-01 ,  6.33245766e-32 , 6.33245766e-32],5))"
   ]
  },
  {
   "cell_type": "code",
   "execution_count": 1695,
   "metadata": {},
   "outputs": [],
   "source": [
    "if theta_list[0] != [0,0,0]:\n",
    "    init_vect= np.around(var_mat_cir(theta_list[0])[1],4)@init_vect\n",
    "#overlapsvar2=np.asarray([ np.square(np.abs(qiskit_overlap(init_vect, evolve))) for evolve in evolvevar2])\n",
    "overlapsvar2=np.asarray([ np.square(np.abs(qiskit_overlap(evolvevar2[0], evolve))) for evolve in evolvevar2])"
   ]
  },
  {
   "cell_type": "code",
   "execution_count": 1696,
   "metadata": {},
   "outputs": [
    {
     "output_type": "execute_result",
     "data": {
      "text/plain": [
       "Text(0.5, 1.0, 'Probability of observing initial state')"
      ]
     },
     "metadata": {},
     "execution_count": 1696
    },
    {
     "output_type": "display_data",
     "data": {
      "text/plain": "<Figure size 648x360 with 1 Axes>",
      "image/svg+xml": "<?xml version=\"1.0\" encoding=\"utf-8\" standalone=\"no\"?>\n<!DOCTYPE svg PUBLIC \"-//W3C//DTD SVG 1.1//EN\"\n  \"http://www.w3.org/Graphics/SVG/1.1/DTD/svg11.dtd\">\n<!-- Created with matplotlib (https://matplotlib.org/) -->\n<svg height=\"344.79125pt\" version=\"1.1\" viewBox=\"0 0 555.61875 344.79125\" width=\"555.61875pt\" xmlns=\"http://www.w3.org/2000/svg\" xmlns:xlink=\"http://www.w3.org/1999/xlink\">\n <metadata>\n  <rdf:RDF xmlns:cc=\"http://creativecommons.org/ns#\" xmlns:dc=\"http://purl.org/dc/elements/1.1/\" xmlns:rdf=\"http://www.w3.org/1999/02/22-rdf-syntax-ns#\">\n   <cc:Work>\n    <dc:type rdf:resource=\"http://purl.org/dc/dcmitype/StillImage\"/>\n    <dc:date>2020-11-25T23:15:25.063129</dc:date>\n    <dc:format>image/svg+xml</dc:format>\n    <dc:creator>\n     <cc:Agent>\n      <dc:title>Matplotlib v3.3.3, https://matplotlib.org/</dc:title>\n     </cc:Agent>\n    </dc:creator>\n   </cc:Work>\n  </rdf:RDF>\n </metadata>\n <defs>\n  <style type=\"text/css\">*{stroke-linecap:butt;stroke-linejoin:round;}</style>\n </defs>\n <g id=\"figure_1\">\n  <g id=\"patch_1\">\n   <path d=\"M 0 344.79125 \nL 555.61875 344.79125 \nL 555.61875 0 \nL 0 0 \nz\n\" style=\"fill:none;\"/>\n  </g>\n  <g id=\"axes_1\">\n   <g id=\"patch_2\">\n    <path d=\"M 46.21875 301.39125 \nL 548.41875 301.39125 \nL 548.41875 29.59125 \nL 46.21875 29.59125 \nz\n\" style=\"fill:#ffffff;\"/>\n   </g>\n   <g id=\"PolyCollection_1\">\n    <path clip-path=\"url(#p8c006c1039)\" d=\"M 69.046023 41.945795 \nL 69.046023 289.036705 \nL 87.307841 289.036705 \nL 105.569659 289.036705 \nL 123.831477 289.036705 \nL 142.093295 289.036705 \nL 160.355114 289.036705 \nL 178.616932 289.036705 \nL 196.87875 289.036705 \nL 215.140568 289.036705 \nL 233.402386 289.036705 \nL 251.664205 289.036705 \nL 269.926023 289.036705 \nL 288.187841 289.036705 \nL 306.449659 289.036705 \nL 324.711477 289.036705 \nL 342.973295 289.036705 \nL 361.235114 289.036705 \nL 379.496932 289.036705 \nL 397.75875 289.036705 \nL 416.020568 289.036705 \nL 434.282386 289.036705 \nL 452.544205 289.036705 \nL 470.806023 289.036705 \nL 489.067841 289.036705 \nL 507.329659 289.036705 \nL 525.591477 289.036705 \nL 525.591477 50.558552 \nL 525.591477 50.558552 \nL 507.329659 61.057079 \nL 489.067841 67.654932 \nL 470.806023 66.278671 \nL 452.544205 58.397518 \nL 434.282386 48.891615 \nL 416.020568 42.658994 \nL 397.75875 41.984065 \nL 379.496932 44.413925 \nL 361.235114 52.290938 \nL 342.973295 60.296207 \nL 324.711477 63.348353 \nL 306.449659 60.122149 \nL 288.187841 53.058331 \nL 269.926023 46.614484 \nL 251.664205 44.144803 \nL 233.402386 42.064216 \nL 215.140568 42.68502 \nL 196.87875 49.08185 \nL 178.616932 59.525301 \nL 160.355114 67.858941 \nL 142.093295 69.434195 \nL 123.831477 63.74014 \nL 105.569659 53.925976 \nL 87.307841 45.242915 \nL 69.046023 41.945795 \nz\n\" style=\"fill:#1f77b4;fill-opacity:0.2;\"/>\n   </g>\n   <g id=\"matplotlib.axis_1\">\n    <g id=\"xtick_1\">\n     <g id=\"line2d_1\">\n      <defs>\n       <path d=\"M 0 0 \nL 0 3.5 \n\" id=\"m678ae73b7f\" style=\"stroke:#000000;stroke-width:0.8;\"/>\n      </defs>\n      <g>\n       <use style=\"stroke:#000000;stroke-width:0.8;\" x=\"69.046023\" xlink:href=\"#m678ae73b7f\" y=\"301.39125\"/>\n      </g>\n     </g>\n     <g id=\"text_1\">\n      <!-- 0 -->\n      <g transform=\"translate(67.046023 313.855)scale(0.08 -0.08)\">\n       <defs>\n        <path d=\"M 47.59375 33 \nQ 47.59375 26.296875 46.296875 20.34375 \nQ 45 14.40625 42.453125 9.40625 \nQ 39.90625 4.40625 35.40625 1.5 \nQ 30.90625 -1.40625 25 -1.40625 \nQ 18.90625 -1.40625 14.296875 1.6875 \nQ 9.703125 4.796875 7.203125 10 \nQ 4.703125 15.203125 3.546875 21.09375 \nQ 2.40625 27 2.40625 33.59375 \nQ 2.40625 42.90625 4.703125 50.34375 \nQ 7 57.796875 12.34375 62.6875 \nQ 17.703125 67.59375 25.40625 67.59375 \nQ 35.203125 67.59375 41.390625 58 \nQ 47.59375 48.40625 47.59375 33 \nz\nM 38 32.5 \nQ 38 48.296875 34.640625 56.640625 \nQ 31.296875 65 24.796875 65 \nQ 18.59375 65 15.296875 56.59375 \nQ 12 48.203125 12 32.90625 \nQ 12 17.5 15.296875 9.34375 \nQ 18.59375 1.203125 25 1.203125 \nQ 31.296875 1.203125 34.640625 9.34375 \nQ 38 17.5 38 32.5 \nz\n\" id=\"STIXGeneral-Regular-48\"/>\n       </defs>\n       <use xlink:href=\"#STIXGeneral-Regular-48\"/>\n      </g>\n     </g>\n    </g>\n    <g id=\"xtick_2\">\n     <g id=\"line2d_2\">\n      <g>\n       <use style=\"stroke:#000000;stroke-width:0.8;\" x=\"160.355114\" xlink:href=\"#m678ae73b7f\" y=\"301.39125\"/>\n      </g>\n     </g>\n     <g id=\"text_2\">\n      <!-- 1 -->\n      <g transform=\"translate(158.355114 313.855)scale(0.08 -0.08)\">\n       <defs>\n        <path d=\"M 39.40625 0 \nL 11.796875 0 \nL 11.796875 1.5 \nQ 17.296875 1.796875 19.296875 3.546875 \nQ 21.296875 5.296875 21.296875 9.5 \nL 21.296875 54.40625 \nQ 21.296875 59.296875 18.296875 59.296875 \nQ 16.90625 59.296875 13.796875 58.09375 \nL 11.09375 57.09375 \nL 11.09375 58.5 \nL 29 67.59375 \nL 29.90625 67.296875 \nL 29.90625 7.59375 \nQ 29.90625 4.296875 31.90625 2.890625 \nQ 33.90625 1.5 39.40625 1.5 \nz\n\" id=\"STIXGeneral-Regular-49\"/>\n       </defs>\n       <use xlink:href=\"#STIXGeneral-Regular-49\"/>\n      </g>\n     </g>\n    </g>\n    <g id=\"xtick_3\">\n     <g id=\"line2d_3\">\n      <g>\n       <use style=\"stroke:#000000;stroke-width:0.8;\" x=\"251.664205\" xlink:href=\"#m678ae73b7f\" y=\"301.39125\"/>\n      </g>\n     </g>\n     <g id=\"text_3\">\n      <!-- 2 -->\n      <g transform=\"translate(249.664205 313.855)scale(0.08 -0.08)\">\n       <defs>\n        <path d=\"M 47.40625 13.703125 \nL 42 0 \nL 2.90625 0 \nL 2.90625 1.203125 \nL 20.703125 20.09375 \nQ 27.703125 27.40625 30.703125 33.5 \nQ 33.703125 39.59375 33.703125 46.09375 \nQ 33.703125 52.796875 30 56.5 \nQ 26.296875 60.203125 19.796875 60.203125 \nQ 14.40625 60.203125 11.25 57.390625 \nQ 8.09375 54.59375 5.09375 47.203125 \nL 3 47.703125 \nQ 4.703125 57 9.84375 62.296875 \nQ 15 67.59375 23.796875 67.59375 \nQ 32.09375 67.59375 37.1875 62.59375 \nQ 42.296875 57.59375 42.296875 50 \nQ 42.296875 38.703125 29.5 25.203125 \nL 13 7.59375 \nL 36.40625 7.59375 \nQ 39.703125 7.59375 41.640625 8.890625 \nQ 43.59375 10.203125 46 14.296875 \nz\n\" id=\"STIXGeneral-Regular-50\"/>\n       </defs>\n       <use xlink:href=\"#STIXGeneral-Regular-50\"/>\n      </g>\n     </g>\n    </g>\n    <g id=\"xtick_4\">\n     <g id=\"line2d_4\">\n      <g>\n       <use style=\"stroke:#000000;stroke-width:0.8;\" x=\"342.973295\" xlink:href=\"#m678ae73b7f\" y=\"301.39125\"/>\n      </g>\n     </g>\n     <g id=\"text_4\">\n      <!-- 3 -->\n      <g transform=\"translate(340.973295 313.855)scale(0.08 -0.08)\">\n       <defs>\n        <path d=\"M 6.09375 51 \nL 4.5 51.40625 \nQ 6.796875 58.90625 11.6875 63.25 \nQ 16.59375 67.59375 24.09375 67.59375 \nQ 31.09375 67.59375 35.390625 63.796875 \nQ 39.703125 60 39.703125 53.90625 \nQ 39.703125 45.703125 30.40625 40.09375 \nQ 35.90625 37.703125 38.703125 34.796875 \nQ 43.09375 29.90625 43.09375 21.90625 \nQ 43.09375 13.90625 38.5 7.90625 \nQ 35.09375 3.296875 28.75 0.9375 \nQ 22.40625 -1.40625 15.296875 -1.40625 \nQ 4.09375 -1.40625 4.09375 4.296875 \nQ 4.09375 5.90625 5.296875 6.90625 \nQ 6.5 7.90625 8.203125 7.90625 \nQ 10.703125 7.90625 14.296875 5.296875 \nQ 18.703125 2.203125 22.90625 2.203125 \nQ 28.40625 2.203125 32.15625 6.640625 \nQ 35.90625 11.09375 35.90625 17.5 \nQ 35.90625 29 25.5 32 \nQ 22.40625 33 15.296875 33 \nL 15.296875 34.40625 \nQ 20.90625 36.296875 23.703125 38 \nQ 31.796875 42.59375 31.796875 51.40625 \nQ 31.796875 56.40625 28.9375 59 \nQ 26.09375 61.59375 21 61.59375 \nQ 12 61.59375 6.09375 51 \nz\n\" id=\"STIXGeneral-Regular-51\"/>\n       </defs>\n       <use xlink:href=\"#STIXGeneral-Regular-51\"/>\n      </g>\n     </g>\n    </g>\n    <g id=\"xtick_5\">\n     <g id=\"line2d_5\">\n      <g>\n       <use style=\"stroke:#000000;stroke-width:0.8;\" x=\"434.282386\" xlink:href=\"#m678ae73b7f\" y=\"301.39125\"/>\n      </g>\n     </g>\n     <g id=\"text_5\">\n      <!-- 4 -->\n      <g transform=\"translate(432.282386 313.855)scale(0.08 -0.08)\">\n       <defs>\n        <path d=\"M 47.296875 16.703125 \nL 37 16.703125 \nL 37 0 \nL 29.203125 0 \nL 29.203125 16.703125 \nL 1.203125 16.703125 \nL 1.203125 23.09375 \nL 32.59375 67.59375 \nL 37 67.59375 \nL 37 23.09375 \nL 47.296875 23.09375 \nz\nM 29.203125 23.09375 \nL 29.203125 57.40625 \nL 5.203125 23.09375 \nz\n\" id=\"STIXGeneral-Regular-52\"/>\n       </defs>\n       <use xlink:href=\"#STIXGeneral-Regular-52\"/>\n      </g>\n     </g>\n    </g>\n    <g id=\"xtick_6\">\n     <g id=\"line2d_6\">\n      <g>\n       <use style=\"stroke:#000000;stroke-width:0.8;\" x=\"525.591477\" xlink:href=\"#m678ae73b7f\" y=\"301.39125\"/>\n      </g>\n     </g>\n     <g id=\"text_6\">\n      <!-- 5 -->\n      <g transform=\"translate(523.591477 313.855)scale(0.08 -0.08)\">\n       <defs>\n        <path d=\"M 43.796875 68.09375 \nL 40.203125 59.59375 \nQ 39.59375 58.296875 37.5 58.296875 \nL 18.09375 58.296875 \nL 14.09375 49.796875 \nQ 25.09375 47.703125 30 45.25 \nQ 34.90625 42.796875 39.09375 37 \nQ 42.59375 32.203125 42.59375 24.296875 \nQ 42.59375 17.09375 40.25 12.1875 \nQ 37.90625 7.296875 32.796875 3.5 \nQ 26 -1.40625 15.796875 -1.40625 \nQ 10.09375 -1.40625 6.59375 0.296875 \nQ 3.09375 2 3.09375 4.796875 \nQ 3.09375 8.59375 7.59375 8.59375 \nQ 11.203125 8.59375 15 5.5 \nQ 18.90625 2.296875 22.09375 2.296875 \nQ 27.296875 2.296875 31.4375 7.5 \nQ 35.59375 12.703125 35.59375 19.203125 \nQ 35.59375 28.796875 28.90625 34.203125 \nQ 20.203125 41.203125 7.59375 41.203125 \nQ 6.40625 41.203125 6.40625 42 \nL 6.5 42.5 \nL 17.40625 66.203125 \nL 38.09375 66.203125 \nQ 39.796875 66.203125 40.75 66.703125 \nQ 41.703125 67.203125 42.90625 68.796875 \nz\n\" id=\"STIXGeneral-Regular-53\"/>\n       </defs>\n       <use xlink:href=\"#STIXGeneral-Regular-53\"/>\n      </g>\n     </g>\n    </g>\n    <g id=\"text_7\">\n     <!-- Time t -->\n     <g transform=\"translate(270.929688 333.250625)scale(0.2 -0.2)\">\n      <defs>\n       <path d=\"M 59.296875 49.203125 \nL 56.90625 49.203125 \nQ 55.296875 57.40625 52.390625 59.703125 \nQ 49.5 62 41.5 62 \nL 35.59375 62 \nL 35.59375 11.09375 \nQ 35.59375 5.40625 37.296875 3.796875 \nQ 39 2.203125 45.203125 1.90625 \nL 45.203125 0 \nL 16 0 \nL 16 1.90625 \nQ 22.296875 2.296875 23.84375 4 \nQ 25.40625 5.703125 25.40625 12.296875 \nL 25.40625 62 \nL 19.40625 62 \nQ 11.296875 62 8.4375 59.640625 \nQ 5.59375 57.296875 4.09375 49.203125 \nL 1.703125 49.203125 \nL 2.40625 66.203125 \nL 58.59375 66.203125 \nz\n\" id=\"STIXGeneral-Regular-84\"/>\n       <path d=\"M 18 63.203125 \nQ 18 61 16.5 59.546875 \nQ 15 58.09375 12.796875 58.09375 \nQ 10.703125 58.09375 9.25 59.546875 \nQ 7.796875 61 7.796875 63.203125 \nQ 7.796875 65.296875 9.296875 66.796875 \nQ 10.796875 68.296875 12.90625 68.296875 \nQ 15.09375 68.296875 16.546875 66.796875 \nQ 18 65.296875 18 63.203125 \nz\nM 25.296875 0 \nL 1.59375 0 \nL 1.59375 1.5 \nQ 6.796875 1.796875 8.140625 3.296875 \nQ 9.5 4.796875 9.5 10.40625 \nL 9.5 33.09375 \nQ 9.5 36.59375 8.796875 38 \nQ 8.09375 39.40625 6.203125 39.40625 \nQ 3.796875 39.40625 2 38.90625 \nL 2 40.5 \nL 17.5 46 \nL 17.90625 45.59375 \nL 17.90625 10.5 \nQ 17.90625 4.90625 19.15625 3.40625 \nQ 20.40625 1.90625 25.296875 1.5 \nz\n\" id=\"STIXGeneral-Regular-105\"/>\n       <path d=\"M 77.5 0 \nL 55.703125 0 \nL 55.703125 1.5 \nQ 59.90625 1.90625 61.046875 3.25 \nQ 62.203125 4.59375 62.203125 9 \nL 62.203125 29.59375 \nQ 62.203125 35.59375 60.453125 38.1875 \nQ 58.703125 40.796875 54.5 40.796875 \nQ 51 40.796875 48.546875 39.390625 \nQ 46.09375 38 43.796875 34.703125 \nL 43.796875 9.5 \nQ 43.796875 4.703125 45.25 3.140625 \nQ 46.703125 1.59375 51 1.5 \nL 51 0 \nL 28.59375 0 \nL 28.59375 1.5 \nQ 33 1.796875 34.203125 2.9375 \nQ 35.40625 4.09375 35.40625 8.59375 \nL 35.40625 29.703125 \nQ 35.40625 40.796875 28.90625 40.796875 \nQ 26.09375 40.796875 22.9375 39.546875 \nQ 19.796875 38.296875 18.296875 36.5 \nQ 17 35 17 34.796875 \nL 17 7 \nQ 17 3.796875 18.390625 2.75 \nQ 19.796875 1.703125 23.796875 1.5 \nL 23.796875 0 \nL 1.59375 0 \nL 1.59375 1.5 \nQ 5.796875 1.59375 7.1875 3.046875 \nQ 8.59375 4.5 8.59375 8.796875 \nL 8.59375 33.59375 \nQ 8.59375 37.296875 7.796875 38.75 \nQ 7 40.203125 5.09375 40.203125 \nQ 3.59375 40.203125 1.90625 39.796875 \nL 1.90625 41.5 \nQ 8.703125 43.40625 15.796875 46 \nL 16.59375 45.703125 \nL 16.59375 38.296875 \nL 16.796875 38.296875 \nQ 21.296875 43 24.75 44.5 \nQ 28.203125 46 32.09375 46 \nQ 40 46 42.703125 37.59375 \nQ 50.5 46 59 46 \nQ 70.59375 46 70.59375 28 \nL 70.59375 7.703125 \nQ 70.59375 4.40625 71.59375 3.15625 \nQ 72.59375 1.90625 74.90625 1.703125 \nL 77.5 1.5 \nz\n\" id=\"STIXGeneral-Regular-109\"/>\n       <path d=\"M 40.796875 16.40625 \nL 42.40625 15.703125 \nQ 36.40625 -1 21.5 -1 \nQ 12.703125 -1 7.59375 5.140625 \nQ 2.5 11.296875 2.5 21.703125 \nQ 2.5 32.40625 8.203125 39.203125 \nQ 13.90625 46 23.203125 46 \nQ 32.203125 46 37.09375 39.09375 \nQ 40 35.09375 40.5 27.703125 \nL 9.703125 27.703125 \nQ 10.09375 21.40625 10.9375 18.09375 \nQ 11.796875 14.796875 14.296875 11.40625 \nQ 18.5 5.90625 25.40625 5.90625 \nQ 30.296875 5.90625 33.640625 8.296875 \nQ 37 10.703125 40.796875 16.40625 \nz\nM 9.90625 30.90625 \nL 30.296875 30.90625 \nQ 29.40625 37.203125 27.34375 39.796875 \nQ 25.296875 42.40625 20.5 42.40625 \nQ 16.296875 42.40625 13.5 39.453125 \nQ 10.703125 36.5 9.90625 30.90625 \nz\n\" id=\"STIXGeneral-Regular-101\"/>\n       <path id=\"STIXGeneral-Regular-32\"/>\n       <path d=\"M 26.59375 7.703125 \nL 27.90625 6.59375 \nQ 23.09375 -1 15.796875 -1 \nQ 7 -1 7 11.703125 \nL 7 41.796875 \nL 1.703125 41.796875 \nQ 1.296875 42.09375 1.296875 42.5 \nQ 1.296875 43.296875 3 44.40625 \nQ 6.796875 46.59375 12.703125 55.09375 \nQ 12.90625 55.40625 13.65625 56.34375 \nQ 14.40625 57.296875 14.703125 57.90625 \nQ 15.40625 57.90625 15.40625 56.59375 \nL 15.40625 45 \nL 25.5 45 \nL 25.5 41.796875 \nL 15.40625 41.796875 \nL 15.40625 13.203125 \nQ 15.40625 8.40625 16.59375 6.296875 \nQ 17.796875 4.203125 20.59375 4.203125 \nQ 23.59375 4.203125 26.59375 7.703125 \nz\n\" id=\"STIXGeneral-Regular-116\"/>\n      </defs>\n      <use xlink:href=\"#STIXGeneral-Regular-84\"/>\n      <use x=\"61.099991\" xlink:href=\"#STIXGeneral-Regular-105\"/>\n      <use x=\"88.899979\" xlink:href=\"#STIXGeneral-Regular-109\"/>\n      <use x=\"166.699966\" xlink:href=\"#STIXGeneral-Regular-101\"/>\n      <use x=\"211.09996\" xlink:href=\"#STIXGeneral-Regular-32\"/>\n      <use x=\"236.099945\" xlink:href=\"#STIXGeneral-Regular-116\"/>\n     </g>\n    </g>\n   </g>\n   <g id=\"matplotlib.axis_2\">\n    <g id=\"ytick_1\">\n     <g id=\"line2d_7\">\n      <defs>\n       <path d=\"M 0 0 \nL -3.5 0 \n\" id=\"me1f5b5f171\" style=\"stroke:#000000;stroke-width:0.8;\"/>\n      </defs>\n      <g>\n       <use style=\"stroke:#000000;stroke-width:0.8;\" x=\"46.21875\" xlink:href=\"#me1f5b5f171\" y=\"289.036705\"/>\n      </g>\n     </g>\n     <g id=\"text_8\">\n      <!-- 0.0 -->\n      <g transform=\"translate(29.21875 291.76858)scale(0.08 -0.08)\">\n       <defs>\n        <path d=\"M 18.09375 4.296875 \nQ 18.09375 2.09375 16.4375 0.5 \nQ 14.796875 -1.09375 12.5 -1.09375 \nQ 10.203125 -1.09375 8.59375 0.5 \nQ 7 2.09375 7 4.390625 \nQ 7 6.703125 8.640625 8.34375 \nQ 10.296875 10 12.59375 10 \nQ 14.796875 10 16.4375 8.296875 \nQ 18.09375 6.59375 18.09375 4.296875 \nz\n\" id=\"STIXGeneral-Regular-46\"/>\n       </defs>\n       <use xlink:href=\"#STIXGeneral-Regular-48\"/>\n       <use x=\"49.999985\" xlink:href=\"#STIXGeneral-Regular-46\"/>\n       <use x=\"74.999969\" xlink:href=\"#STIXGeneral-Regular-48\"/>\n      </g>\n     </g>\n    </g>\n    <g id=\"ytick_2\">\n     <g id=\"line2d_8\">\n      <g>\n       <use style=\"stroke:#000000;stroke-width:0.8;\" x=\"46.21875\" xlink:href=\"#me1f5b5f171\" y=\"239.618523\"/>\n      </g>\n     </g>\n     <g id=\"text_9\">\n      <!-- 0.2 -->\n      <g transform=\"translate(29.21875 242.350398)scale(0.08 -0.08)\">\n       <use xlink:href=\"#STIXGeneral-Regular-48\"/>\n       <use x=\"49.999985\" xlink:href=\"#STIXGeneral-Regular-46\"/>\n       <use x=\"74.999969\" xlink:href=\"#STIXGeneral-Regular-50\"/>\n      </g>\n     </g>\n    </g>\n    <g id=\"ytick_3\">\n     <g id=\"line2d_9\">\n      <g>\n       <use style=\"stroke:#000000;stroke-width:0.8;\" x=\"46.21875\" xlink:href=\"#me1f5b5f171\" y=\"190.200341\"/>\n      </g>\n     </g>\n     <g id=\"text_10\">\n      <!-- 0.4 -->\n      <g transform=\"translate(29.21875 192.932216)scale(0.08 -0.08)\">\n       <use xlink:href=\"#STIXGeneral-Regular-48\"/>\n       <use x=\"49.999985\" xlink:href=\"#STIXGeneral-Regular-46\"/>\n       <use x=\"74.999969\" xlink:href=\"#STIXGeneral-Regular-52\"/>\n      </g>\n     </g>\n    </g>\n    <g id=\"ytick_4\">\n     <g id=\"line2d_10\">\n      <g>\n       <use style=\"stroke:#000000;stroke-width:0.8;\" x=\"46.21875\" xlink:href=\"#me1f5b5f171\" y=\"140.782159\"/>\n      </g>\n     </g>\n     <g id=\"text_11\">\n      <!-- 0.6 -->\n      <g transform=\"translate(29.21875 143.514034)scale(0.08 -0.08)\">\n       <defs>\n        <path d=\"M 44.59375 68.40625 \nL 44.796875 66.796875 \nQ 33 64.90625 25.09375 57.25 \nQ 17.203125 49.59375 15.203125 38.296875 \nQ 21 42.796875 27.90625 42.796875 \nQ 36.703125 42.796875 41.75 37.1875 \nQ 46.796875 31.59375 46.796875 21.90625 \nQ 46.796875 12.09375 41.703125 5.90625 \nQ 35.796875 -1.40625 25.796875 -1.40625 \nQ 13.59375 -1.40625 8.09375 8.703125 \nQ 3.40625 17.296875 3.40625 27.90625 \nQ 3.40625 44.296875 14.296875 55.5 \nQ 20.5 61.90625 27.046875 64.546875 \nQ 33.59375 67.203125 44.59375 68.40625 \nz\nM 37.796875 18.796875 \nQ 37.796875 38.203125 24.296875 38.203125 \nQ 19.296875 38.203125 16 35.546875 \nQ 12.703125 32.90625 12.703125 26.59375 \nQ 12.703125 14.90625 16.34375 8.15625 \nQ 20 1.40625 26.90625 1.40625 \nQ 32.203125 1.40625 35 6.15625 \nQ 37.796875 10.90625 37.796875 18.796875 \nz\n\" id=\"STIXGeneral-Regular-54\"/>\n       </defs>\n       <use xlink:href=\"#STIXGeneral-Regular-48\"/>\n       <use x=\"49.999985\" xlink:href=\"#STIXGeneral-Regular-46\"/>\n       <use x=\"74.999969\" xlink:href=\"#STIXGeneral-Regular-54\"/>\n      </g>\n     </g>\n    </g>\n    <g id=\"ytick_5\">\n     <g id=\"line2d_11\">\n      <g>\n       <use style=\"stroke:#000000;stroke-width:0.8;\" x=\"46.21875\" xlink:href=\"#me1f5b5f171\" y=\"91.363977\"/>\n      </g>\n     </g>\n     <g id=\"text_12\">\n      <!-- 0.8 -->\n      <g transform=\"translate(29.21875 94.095852)scale(0.08 -0.08)\">\n       <defs>\n        <path d=\"M 44.5 15.5 \nQ 44.5 7.796875 39.140625 3.1875 \nQ 33.796875 -1.40625 24.796875 -1.40625 \nQ 16.40625 -1.40625 11 3.1875 \nQ 5.59375 7.796875 5.59375 14.90625 \nQ 5.59375 20.203125 8.1875 23.953125 \nQ 10.796875 27.703125 18.59375 33.203125 \nQ 11.09375 39.40625 8.640625 43.203125 \nQ 6.203125 47 6.203125 52 \nQ 6.203125 59.09375 11.640625 63.34375 \nQ 17.09375 67.59375 25.59375 67.59375 \nQ 32.90625 67.59375 37.65625 63.4375 \nQ 42.40625 59.296875 42.40625 53.296875 \nQ 42.40625 47.796875 39.546875 44.5 \nQ 36.703125 41.203125 29 37.09375 \nQ 38 31.09375 41.25 26.390625 \nQ 44.5 21.703125 44.5 15.5 \nz\nM 35.5 53.296875 \nQ 35.5 58.5 32.59375 61.640625 \nQ 29.703125 64.796875 24.59375 64.796875 \nQ 19.5 64.796875 16.546875 62.140625 \nQ 13.59375 59.5 13.59375 54.890625 \nQ 13.59375 50.296875 16.546875 46.546875 \nQ 19.5 42.796875 26.09375 38.90625 \nQ 31.203125 41.90625 33.34375 45.25 \nQ 35.5 48.59375 35.5 53.296875 \nz\nM 27.09375 27.203125 \nL 21.203125 31.203125 \nQ 16.796875 27.59375 15 24.140625 \nQ 13.203125 20.703125 13.203125 15.796875 \nQ 13.203125 9 16.640625 5.203125 \nQ 20.09375 1.40625 25.90625 1.40625 \nQ 30.796875 1.40625 33.84375 4.453125 \nQ 36.90625 7.5 36.90625 12.40625 \nQ 36.90625 16.90625 34.59375 20.296875 \nQ 32.296875 23.703125 27.09375 27.203125 \nz\n\" id=\"STIXGeneral-Regular-56\"/>\n       </defs>\n       <use xlink:href=\"#STIXGeneral-Regular-48\"/>\n       <use x=\"49.999985\" xlink:href=\"#STIXGeneral-Regular-46\"/>\n       <use x=\"74.999969\" xlink:href=\"#STIXGeneral-Regular-56\"/>\n      </g>\n     </g>\n    </g>\n    <g id=\"ytick_6\">\n     <g id=\"line2d_12\">\n      <g>\n       <use style=\"stroke:#000000;stroke-width:0.8;\" x=\"46.21875\" xlink:href=\"#me1f5b5f171\" y=\"41.945795\"/>\n      </g>\n     </g>\n     <g id=\"text_13\">\n      <!-- 1.0 -->\n      <g transform=\"translate(29.21875 44.67767)scale(0.08 -0.08)\">\n       <use xlink:href=\"#STIXGeneral-Regular-49\"/>\n       <use x=\"49.999985\" xlink:href=\"#STIXGeneral-Regular-46\"/>\n       <use x=\"74.999969\" xlink:href=\"#STIXGeneral-Regular-48\"/>\n      </g>\n     </g>\n    </g>\n    <g id=\"text_14\">\n     <!-- Probability P(t) -->\n     <g transform=\"translate(20.859375 227.46)rotate(-90)scale(0.2 -0.2)\">\n      <defs>\n       <path d=\"M 1.59375 66.203125 \nL 27.5 66.203125 \nQ 41.703125 66.203125 49.203125 59.90625 \nQ 54.203125 55.703125 54.203125 48 \nQ 54.203125 40 48.5 34.90625 \nQ 44.296875 31.09375 39.890625 29.9375 \nQ 35.5 28.796875 27.09375 28.796875 \nQ 24.203125 28.796875 20.203125 29.09375 \nL 20.203125 11.203125 \nQ 20.203125 5.5 21.84375 3.84375 \nQ 23.5 2.203125 29.59375 1.90625 \nL 29.59375 0 \nL 1.59375 0 \nL 1.59375 1.90625 \nQ 7.40625 2.296875 8.703125 4 \nQ 10 5.703125 10 12.203125 \nL 10 55.09375 \nQ 10 60.703125 8.546875 62.296875 \nQ 7.09375 63.90625 1.59375 64.296875 \nz\nM 20.203125 58.90625 \nL 20.203125 33.09375 \nQ 23.59375 32.796875 26.296875 32.796875 \nQ 34.40625 32.796875 38.84375 36.75 \nQ 43.296875 40.703125 43.296875 47.5 \nQ 43.296875 55.59375 38.6875 59.046875 \nQ 34.09375 62.5 23.703125 62.5 \nQ 21.59375 62.5 20.890625 61.75 \nQ 20.203125 61 20.203125 58.90625 \nz\n\" id=\"STIXGeneral-Regular-80\"/>\n       <path d=\"M 16 45.796875 \nL 16 36.59375 \nQ 19.796875 42 22.34375 44 \nQ 24.90625 46 28 46 \nQ 30.59375 46 32.046875 44.59375 \nQ 33.5 43.203125 33.5 40.703125 \nQ 33.5 38.59375 32.453125 37.390625 \nQ 31.40625 36.203125 29.59375 36.203125 \nQ 27.703125 36.203125 25.59375 38.203125 \nQ 24 39.703125 23 39.703125 \nQ 20.90625 39.703125 18.453125 36.796875 \nQ 16 33.90625 16 31.5 \nL 16 9 \nQ 16 4.703125 17.703125 3.203125 \nQ 19.40625 1.703125 24.5 1.5 \nL 24.5 0 \nL 0.5 0 \nL 0.5 1.5 \nQ 5.296875 2.40625 6.4375 3.5 \nQ 7.59375 4.59375 7.59375 8.40625 \nL 7.59375 33.40625 \nQ 7.59375 36.703125 6.84375 38.046875 \nQ 6.09375 39.40625 4.203125 39.40625 \nQ 2.59375 39.40625 0.703125 39 \nL 0.703125 40.59375 \nQ 7 42.59375 15.5 46 \nz\n\" id=\"STIXGeneral-Regular-114\"/>\n       <path d=\"M 47 23.09375 \nQ 47 12.59375 40.75 5.796875 \nQ 34.5 -1 24.5 -1 \nQ 15.296875 -1 9.09375 5.75 \nQ 2.90625 12.5 2.90625 22.796875 \nQ 2.90625 33.203125 9.09375 39.59375 \nQ 15.296875 46 25.40625 46 \nQ 34.703125 46 40.84375 39.640625 \nQ 47 33.296875 47 23.09375 \nz\nM 38 20.40625 \nQ 38 31.796875 33 38.203125 \nQ 29 43.203125 23.5 43.203125 \nQ 18.296875 43.203125 15.09375 38.953125 \nQ 11.90625 34.703125 11.90625 27.296875 \nQ 11.90625 14.5 17.203125 6.796875 \nQ 20.59375 1.796875 26.203125 1.796875 \nQ 31.703125 1.796875 34.84375 6.75 \nQ 38 11.703125 38 20.40625 \nz\n\" id=\"STIXGeneral-Regular-111\"/>\n       <path d=\"M 15.296875 68.09375 \nL 15.296875 37.59375 \nQ 16.90625 41.40625 20.546875 43.703125 \nQ 24.203125 46 28.796875 46 \nQ 36.703125 46 41.75 39.703125 \nQ 46.796875 33.40625 46.796875 24 \nQ 46.796875 13 40.09375 6 \nQ 33.40625 -1 23.40625 -1 \nQ 17.296875 -1 12.09375 1.046875 \nQ 6.90625 3.09375 6.90625 5.59375 \nL 6.90625 56.59375 \nQ 6.90625 60.296875 6 61.34375 \nQ 5.09375 62.40625 2 62.40625 \nQ 1.296875 62.40625 0.296875 62.203125 \nL 0.296875 63.90625 \nL 3.296875 64.796875 \nQ 13.5 67.90625 14.796875 68.296875 \nz\nM 15.296875 31.796875 \nL 15.296875 7.40625 \nQ 15.296875 5.09375 18.140625 3.640625 \nQ 21 2.203125 25 2.203125 \nQ 30.90625 2.203125 34.296875 6.5 \nQ 38 11.09375 38 19.703125 \nQ 38 29.5 34.09375 35 \nQ 30.796875 39.703125 25.203125 39.703125 \nQ 21.203125 39.703125 18.25 37.34375 \nQ 15.296875 35 15.296875 31.796875 \nz\n\" id=\"STIXGeneral-Regular-98\"/>\n       <path d=\"M 44.203125 6.59375 \nL 44.203125 3.796875 \nQ 40.40625 -1 35.203125 -1 \nQ 29.5 -1 28.796875 6.296875 \nL 28.703125 6.296875 \nQ 22.296875 -1 14.203125 -1 \nQ 9.5 -1 6.59375 1.75 \nQ 3.703125 4.5 3.703125 9.40625 \nQ 3.703125 16.40625 10.703125 21.09375 \nQ 15.5 24.296875 28.703125 29.203125 \nL 28.703125 34.59375 \nQ 28.703125 39.09375 26.546875 41.34375 \nQ 24.40625 43.59375 20.90625 43.59375 \nQ 17.90625 43.59375 15.90625 42.140625 \nQ 13.90625 40.703125 13.90625 38.703125 \nQ 13.90625 37.796875 14.203125 36.6875 \nQ 14.5 35.59375 14.5 34.5 \nQ 14.5 33 13.140625 31.703125 \nQ 11.796875 30.40625 9.90625 30.40625 \nQ 8.203125 30.40625 6.890625 31.703125 \nQ 5.59375 33 5.59375 35 \nQ 5.59375 39.796875 10.703125 43 \nQ 15.40625 46 22.203125 46 \nQ 30.296875 46 34 41.5 \nQ 35.796875 39.40625 36.296875 37.25 \nQ 36.796875 35.09375 36.796875 30.40625 \nL 36.796875 11.296875 \nQ 36.796875 4.703125 39.90625 4.703125 \nQ 41.90625 4.703125 44.203125 6.59375 \nz\nM 28.703125 12.703125 \nL 28.703125 26.796875 \nQ 19.5 23.59375 15.90625 20.203125 \nQ 12.5 17.09375 12.5 12.5 \nQ 12.5 8.703125 14.390625 6.75 \nQ 16.296875 4.796875 19.40625 4.796875 \nQ 22.703125 4.796875 25.203125 6.40625 \nQ 27.296875 7.90625 28 9.203125 \nQ 28.703125 10.5 28.703125 12.703125 \nz\n\" id=\"STIXGeneral-Regular-97\"/>\n       <path d=\"M 25.703125 0 \nL 2.09375 0 \nL 2.09375 1.5 \nQ 6.796875 1.90625 8.296875 3.453125 \nQ 9.796875 5 9.796875 9.203125 \nL 9.796875 56.09375 \nQ 9.796875 59.703125 8.890625 61.09375 \nQ 8 62.5 5.59375 62.5 \nQ 3.5 62.5 1.90625 62.296875 \nL 1.90625 63.90625 \nQ 11.40625 66.203125 17.703125 68.296875 \nL 18.203125 67.90625 \nL 18.203125 8.703125 \nQ 18.203125 4.5 19.59375 3.140625 \nQ 21 1.796875 25.703125 1.5 \nz\n\" id=\"STIXGeneral-Regular-108\"/>\n       <path d=\"M 47.5 45 \nL 47.5 43.5 \nQ 45.703125 43.296875 44.59375 42.1875 \nQ 43.5 41.09375 42.5 38.40625 \nL 27.5 -2.5 \nQ 23.59375 -13.09375 19.640625 -17.4375 \nQ 15.703125 -21.796875 10 -21.796875 \nQ 6.796875 -21.796875 4.890625 -20.140625 \nQ 3 -18.5 3 -16 \nQ 3 -14.09375 4.25 -12.75 \nQ 5.5 -11.40625 7.296875 -11.40625 \nQ 10.203125 -11.40625 12.5 -12.703125 \nQ 13.796875 -13.40625 15.09375 -13.40625 \nQ 17.203125 -13.40625 20.09375 -9 \nQ 21.5 -7 22.796875 -3.296875 \nQ 24.09375 0.40625 24.09375 1.796875 \nQ 24.09375 3.09375 19.90625 11.90625 \nL 6.703125 40.09375 \nQ 5.40625 43 1.40625 43.59375 \nL 1.40625 45 \nL 21.90625 45 \nL 21.90625 43.5 \nQ 18.703125 43.40625 17.453125 42.796875 \nQ 16.203125 42.203125 16.203125 40.796875 \nQ 16.203125 39.703125 17.5 36.703125 \nL 28.703125 11.703125 \nL 38.40625 39.296875 \nQ 38.796875 40.203125 38.796875 41.09375 \nQ 38.796875 43.5 34.203125 43.5 \nL 34.203125 45 \nz\n\" id=\"STIXGeneral-Regular-121\"/>\n       <path d=\"M 30.40625 -16.09375 \nL 29.203125 -17.703125 \nQ 17.59375 -11.09375 11.1875 0.5 \nQ 4.796875 12.09375 4.796875 25.203125 \nQ 4.796875 52.90625 29.5 67.59375 \nL 30.40625 66 \nQ 20.203125 57.296875 16.796875 48.84375 \nQ 13.40625 40.40625 13.40625 25.5 \nQ 13.40625 10.703125 16.90625 1.5 \nQ 20.40625 -7.703125 30.40625 -16.09375 \nz\n\" id=\"STIXGeneral-Regular-40\"/>\n       <path d=\"M 2.90625 66 \nL 4.09375 67.59375 \nQ 15.5 60.796875 22 49.1875 \nQ 28.5 37.59375 28.5 24.703125 \nQ 28.5 -2.59375 3.796875 -17.703125 \nL 2.90625 -16.09375 \nQ 13.203125 -7.59375 16.546875 0.84375 \nQ 19.90625 9.296875 19.90625 24.40625 \nQ 19.90625 39.59375 16.546875 48.75 \nQ 13.203125 57.90625 2.90625 66 \nz\n\" id=\"STIXGeneral-Regular-41\"/>\n      </defs>\n      <use xlink:href=\"#STIXGeneral-Regular-80\"/>\n      <use x=\"55.699997\" xlink:href=\"#STIXGeneral-Regular-114\"/>\n      <use x=\"88.999985\" xlink:href=\"#STIXGeneral-Regular-111\"/>\n      <use x=\"138.999969\" xlink:href=\"#STIXGeneral-Regular-98\"/>\n      <use x=\"188.999954\" xlink:href=\"#STIXGeneral-Regular-97\"/>\n      <use x=\"233.399948\" xlink:href=\"#STIXGeneral-Regular-98\"/>\n      <use x=\"283.399933\" xlink:href=\"#STIXGeneral-Regular-105\"/>\n      <use x=\"311.199921\" xlink:href=\"#STIXGeneral-Regular-108\"/>\n      <use x=\"338.999908\" xlink:href=\"#STIXGeneral-Regular-105\"/>\n      <use x=\"366.799896\" xlink:href=\"#STIXGeneral-Regular-116\"/>\n      <use x=\"394.599884\" xlink:href=\"#STIXGeneral-Regular-121\"/>\n      <use x=\"444.599869\" xlink:href=\"#STIXGeneral-Regular-32\"/>\n      <use x=\"469.599854\" xlink:href=\"#STIXGeneral-Regular-80\"/>\n      <use x=\"525.29985\" xlink:href=\"#STIXGeneral-Regular-40\"/>\n      <use x=\"558.599838\" xlink:href=\"#STIXGeneral-Regular-116\"/>\n      <use x=\"586.399826\" xlink:href=\"#STIXGeneral-Regular-41\"/>\n     </g>\n    </g>\n   </g>\n   <g id=\"line2d_13\">\n    <path clip-path=\"url(#p8c006c1039)\" d=\"M 69.046023 41.945795 \nL 87.307841 45.242915 \nL 105.569659 53.925976 \nL 123.831477 63.74014 \nL 142.093295 69.434195 \nL 160.355114 67.858941 \nL 178.616932 59.525301 \nL 196.87875 49.08185 \nL 215.140568 42.68502 \nL 233.402386 42.064216 \nL 251.664205 44.144803 \nL 269.926023 46.614484 \nL 288.187841 53.058331 \nL 306.449659 60.122149 \nL 324.711477 63.348353 \nL 342.973295 60.296207 \nL 361.235114 52.290938 \nL 379.496932 44.413925 \nL 397.75875 41.984065 \nL 416.020568 42.658994 \nL 434.282386 48.891615 \nL 452.544205 58.397518 \nL 470.806023 66.278671 \nL 489.067841 67.654932 \nL 507.329659 61.057079 \nL 525.591477 50.558552 \n\" style=\"fill:none;stroke:#1f77b4;stroke-linecap:square;stroke-width:1.5;\"/>\n    <defs>\n     <path d=\"M 0 1.5 \nC 0.397805 1.5 0.77937 1.341951 1.06066 1.06066 \nC 1.341951 0.77937 1.5 0.397805 1.5 0 \nC 1.5 -0.397805 1.341951 -0.77937 1.06066 -1.06066 \nC 0.77937 -1.341951 0.397805 -1.5 0 -1.5 \nC -0.397805 -1.5 -0.77937 -1.341951 -1.06066 -1.06066 \nC -1.341951 -0.77937 -1.5 -0.397805 -1.5 0 \nC -1.5 0.397805 -1.341951 0.77937 -1.06066 1.06066 \nC -0.77937 1.341951 -0.397805 1.5 0 1.5 \nz\n\" id=\"m1483be7d42\" style=\"stroke:#1f77b4;\"/>\n    </defs>\n    <g clip-path=\"url(#p8c006c1039)\">\n     <use style=\"fill:#1f77b4;stroke:#1f77b4;\" x=\"69.046023\" xlink:href=\"#m1483be7d42\" y=\"41.945795\"/>\n     <use style=\"fill:#1f77b4;stroke:#1f77b4;\" x=\"87.307841\" xlink:href=\"#m1483be7d42\" y=\"45.242915\"/>\n     <use style=\"fill:#1f77b4;stroke:#1f77b4;\" x=\"105.569659\" xlink:href=\"#m1483be7d42\" y=\"53.925976\"/>\n     <use style=\"fill:#1f77b4;stroke:#1f77b4;\" x=\"123.831477\" xlink:href=\"#m1483be7d42\" y=\"63.74014\"/>\n     <use style=\"fill:#1f77b4;stroke:#1f77b4;\" x=\"142.093295\" xlink:href=\"#m1483be7d42\" y=\"69.434195\"/>\n     <use style=\"fill:#1f77b4;stroke:#1f77b4;\" x=\"160.355114\" xlink:href=\"#m1483be7d42\" y=\"67.858941\"/>\n     <use style=\"fill:#1f77b4;stroke:#1f77b4;\" x=\"178.616932\" xlink:href=\"#m1483be7d42\" y=\"59.525301\"/>\n     <use style=\"fill:#1f77b4;stroke:#1f77b4;\" x=\"196.87875\" xlink:href=\"#m1483be7d42\" y=\"49.08185\"/>\n     <use style=\"fill:#1f77b4;stroke:#1f77b4;\" x=\"215.140568\" xlink:href=\"#m1483be7d42\" y=\"42.68502\"/>\n     <use style=\"fill:#1f77b4;stroke:#1f77b4;\" x=\"233.402386\" xlink:href=\"#m1483be7d42\" y=\"42.064216\"/>\n     <use style=\"fill:#1f77b4;stroke:#1f77b4;\" x=\"251.664205\" xlink:href=\"#m1483be7d42\" y=\"44.144803\"/>\n     <use style=\"fill:#1f77b4;stroke:#1f77b4;\" x=\"269.926023\" xlink:href=\"#m1483be7d42\" y=\"46.614484\"/>\n     <use style=\"fill:#1f77b4;stroke:#1f77b4;\" x=\"288.187841\" xlink:href=\"#m1483be7d42\" y=\"53.058331\"/>\n     <use style=\"fill:#1f77b4;stroke:#1f77b4;\" x=\"306.449659\" xlink:href=\"#m1483be7d42\" y=\"60.122149\"/>\n     <use style=\"fill:#1f77b4;stroke:#1f77b4;\" x=\"324.711477\" xlink:href=\"#m1483be7d42\" y=\"63.348353\"/>\n     <use style=\"fill:#1f77b4;stroke:#1f77b4;\" x=\"342.973295\" xlink:href=\"#m1483be7d42\" y=\"60.296207\"/>\n     <use style=\"fill:#1f77b4;stroke:#1f77b4;\" x=\"361.235114\" xlink:href=\"#m1483be7d42\" y=\"52.290938\"/>\n     <use style=\"fill:#1f77b4;stroke:#1f77b4;\" x=\"379.496932\" xlink:href=\"#m1483be7d42\" y=\"44.413925\"/>\n     <use style=\"fill:#1f77b4;stroke:#1f77b4;\" x=\"397.75875\" xlink:href=\"#m1483be7d42\" y=\"41.984065\"/>\n     <use style=\"fill:#1f77b4;stroke:#1f77b4;\" x=\"416.020568\" xlink:href=\"#m1483be7d42\" y=\"42.658994\"/>\n     <use style=\"fill:#1f77b4;stroke:#1f77b4;\" x=\"434.282386\" xlink:href=\"#m1483be7d42\" y=\"48.891615\"/>\n     <use style=\"fill:#1f77b4;stroke:#1f77b4;\" x=\"452.544205\" xlink:href=\"#m1483be7d42\" y=\"58.397518\"/>\n     <use style=\"fill:#1f77b4;stroke:#1f77b4;\" x=\"470.806023\" xlink:href=\"#m1483be7d42\" y=\"66.278671\"/>\n     <use style=\"fill:#1f77b4;stroke:#1f77b4;\" x=\"489.067841\" xlink:href=\"#m1483be7d42\" y=\"67.654932\"/>\n     <use style=\"fill:#1f77b4;stroke:#1f77b4;\" x=\"507.329659\" xlink:href=\"#m1483be7d42\" y=\"61.057079\"/>\n     <use style=\"fill:#1f77b4;stroke:#1f77b4;\" x=\"525.591477\" xlink:href=\"#m1483be7d42\" y=\"50.558552\"/>\n    </g>\n   </g>\n   <g id=\"patch_3\">\n    <path d=\"M 46.21875 301.39125 \nL 46.21875 29.59125 \n\" style=\"fill:none;stroke:#000000;stroke-linecap:square;stroke-linejoin:miter;stroke-width:0.8;\"/>\n   </g>\n   <g id=\"patch_4\">\n    <path d=\"M 548.41875 301.39125 \nL 548.41875 29.59125 \n\" style=\"fill:none;stroke:#000000;stroke-linecap:square;stroke-linejoin:miter;stroke-width:0.8;\"/>\n   </g>\n   <g id=\"patch_5\">\n    <path d=\"M 46.21875 301.39125 \nL 548.41875 301.39125 \n\" style=\"fill:none;stroke:#000000;stroke-linecap:square;stroke-linejoin:miter;stroke-width:0.8;\"/>\n   </g>\n   <g id=\"patch_6\">\n    <path d=\"M 46.21875 29.59125 \nL 548.41875 29.59125 \n\" style=\"fill:none;stroke:#000000;stroke-linecap:square;stroke-linejoin:miter;stroke-width:0.8;\"/>\n   </g>\n   <g id=\"text_15\">\n    <!-- Probability of observing initial state -->\n    <g transform=\"translate(124.63875 23.59125)scale(0.24 -0.24)\">\n     <defs>\n      <path d=\"M 2.09375 45 \nL 10.296875 45 \nQ 10.40625 51 11.09375 54.34375 \nQ 11.796875 57.703125 13.796875 61.09375 \nQ 18 68.296875 27.90625 68.296875 \nQ 32.40625 68.296875 35.34375 66.546875 \nQ 38.296875 64.796875 38.296875 62.09375 \nQ 38.296875 60.40625 37.09375 59.203125 \nQ 35.90625 58 34.09375 58 \nQ 31.703125 58 29.59375 61.59375 \nQ 27.203125 65.5 24.296875 65.5 \nQ 18.703125 65.5 18.703125 56.59375 \nL 18.703125 45 \nL 30.90625 45 \nL 30.90625 41.796875 \nL 18.703125 41.796875 \nL 18.703125 10.40625 \nQ 18.703125 4.796875 20.296875 3.25 \nQ 21.90625 1.703125 28 1.5 \nL 28 0 \nL 2 0 \nL 2 1.5 \nQ 7.40625 1.796875 8.84375 3.34375 \nQ 10.296875 4.90625 10.296875 10.40625 \nL 10.296875 41.796875 \nL 2.09375 41.796875 \nz\n\" id=\"STIXGeneral-Regular-102\"/>\n      <path d=\"M 15.59375 30.09375 \nL 26 23.796875 \nQ 31 20.796875 32.890625 18.1875 \nQ 34.796875 15.59375 34.796875 11.5 \nQ 34.796875 6.5 30.640625 2.75 \nQ 26.5 -1 20.796875 -1 \nQ 16.09375 -1 13.5 -0.09375 \nQ 10.796875 0.796875 8.90625 0.796875 \nQ 7.203125 0.796875 6.5 -0.40625 \nL 5.203125 -0.40625 \nL 5.203125 15.296875 \nL 6.796875 15.296875 \nQ 8.40625 8 11.40625 4.59375 \nQ 14.40625 1.203125 19.5 1.203125 \nQ 23.203125 1.203125 25.5 3.296875 \nQ 27.796875 5.40625 27.796875 8.59375 \nQ 27.796875 13.203125 22.5 16.09375 \nL 17.09375 19.09375 \nQ 5.09375 25.796875 5.09375 33.59375 \nQ 5.09375 39.40625 8.84375 42.65625 \nQ 12.59375 45.90625 18.90625 45.90625 \nQ 23.296875 45.90625 25.59375 44.796875 \nQ 27.40625 44 28.40625 44 \nQ 29.09375 44 30 45 \nL 31.09375 45 \nL 31.59375 31.40625 \nL 30.09375 31.40625 \nQ 28.40625 38.203125 25.84375 40.953125 \nQ 23.296875 43.703125 18.796875 43.703125 \nQ 15.40625 43.703125 13.34375 42 \nQ 11.296875 40.296875 11.296875 36.90625 \nQ 11.296875 35.203125 12.4375 33.25 \nQ 13.59375 31.296875 15.59375 30.09375 \nz\n\" id=\"STIXGeneral-Regular-115\"/>\n      <path d=\"M 47.703125 45 \nL 47.703125 43.5 \nQ 45.40625 43.296875 44.296875 42 \nQ 43.203125 40.703125 41.203125 35.703125 \nL 28.40625 3.59375 \nQ 26.40625 -1.40625 25.59375 -1.40625 \nQ 24.796875 -1.40625 23.796875 1.203125 \nQ 23.59375 1.5 23.390625 2.203125 \nQ 23.203125 2.90625 23 3.296875 \nL 11 32 \nQ 7.796875 39.59375 6.296875 41.4375 \nQ 4.796875 43.296875 1.90625 43.5 \nL 1.90625 45 \nL 21.5 45 \nL 21.5 43.5 \nQ 18.90625 43.296875 17.90625 42.6875 \nQ 16.90625 42.09375 16.90625 40.796875 \nQ 16.90625 39.203125 17.796875 37 \nL 28 11.40625 \nL 37.90625 37.296875 \nQ 38.5 38.796875 38.5 40.296875 \nQ 38.5 43.09375 33.796875 43.5 \nL 33.796875 45 \nz\n\" id=\"STIXGeneral-Regular-118\"/>\n      <path d=\"M 48.5 0 \nL 27.703125 0 \nL 27.796875 1.5 \nQ 31.5 1.796875 32.75 3.640625 \nQ 34 5.5 34 10.5 \nL 34 30.40625 \nQ 34 40.5 26.703125 40.5 \nQ 24.203125 40.5 22 39.296875 \nQ 19.796875 38.09375 16.40625 34.796875 \nL 16.40625 7.203125 \nQ 16.40625 4.203125 17.75 3 \nQ 19.09375 1.796875 22.90625 1.5 \nL 22.90625 0 \nL 1.796875 0 \nL 1.796875 1.5 \nQ 5.59375 1.796875 6.796875 3.34375 \nQ 8 4.90625 8 9.40625 \nL 8 33.703125 \nQ 8 37.40625 7.296875 38.796875 \nQ 6.59375 40.203125 4.5 40.203125 \nQ 2.5 40.203125 1.59375 39.796875 \nL 1.59375 41.5 \nQ 8.59375 43.5 15.296875 46 \nL 16.09375 45.703125 \nL 16.09375 37.90625 \nL 16.203125 37.90625 \nQ 23.296875 46 30.59375 46 \nQ 36.296875 46 39.34375 42 \nQ 42.40625 38 42.40625 30.59375 \nL 42.40625 8.5 \nQ 42.40625 4.5 43.59375 3.203125 \nQ 44.796875 1.90625 48.5 1.5 \nz\n\" id=\"STIXGeneral-Regular-110\"/>\n      <path d=\"M 47 38.796875 \nL 38.703125 38.796875 \nQ 40.59375 34.5 40.59375 30.40625 \nQ 40.59375 22.703125 35.390625 18.796875 \nQ 30.203125 14.90625 25 14.90625 \nQ 23.90625 14.90625 21.203125 15.203125 \nL 19.296875 15.40625 \nQ 17.296875 14.796875 15.296875 12.6875 \nQ 13.296875 10.59375 13.296875 9.09375 \nQ 13.296875 6.796875 21.09375 6.40625 \nL 34 5.796875 \nQ 39.5 5.59375 42.796875 2.6875 \nQ 46.09375 -0.203125 46.09375 -4.90625 \nQ 46.09375 -10.703125 40.09375 -15.40625 \nQ 31.796875 -21.796875 20.09375 -21.796875 \nQ 12.90625 -21.796875 7.84375 -18.9375 \nQ 2.796875 -16.09375 2.796875 -12.09375 \nQ 2.796875 -9.296875 5 -6.546875 \nQ 7.203125 -3.796875 12.59375 0.09375 \nQ 9.40625 1.59375 8.34375 2.6875 \nQ 7.296875 3.796875 7.296875 5.40625 \nQ 7.296875 8.296875 11.90625 12.296875 \nQ 14.203125 14.296875 16.203125 16.296875 \nQ 11.203125 18.796875 9.046875 21.890625 \nQ 6.90625 25 6.90625 29.703125 \nQ 6.90625 36.5 11.75 41.25 \nQ 16.59375 46 23.59375 46 \nQ 27.59375 46 31.59375 44.5 \nL 33.796875 43.703125 \nQ 36.703125 42.703125 39.296875 42.703125 \nL 47 42.703125 \nz\nM 15.203125 33.796875 \nL 15.203125 33.5 \nQ 15.203125 26.296875 18.046875 21.84375 \nQ 20.90625 17.40625 25.5 17.40625 \nQ 28.90625 17.40625 30.90625 19.84375 \nQ 32.90625 22.296875 32.90625 26.40625 \nQ 32.90625 33 29.90625 38.5 \nQ 27.40625 43.203125 22.59375 43.203125 \nQ 19.09375 43.203125 17.140625 40.703125 \nQ 15.203125 38.203125 15.203125 33.796875 \nz\nM 43.296875 -6.40625 \nQ 43.296875 -3.59375 40.546875 -2.546875 \nQ 37.796875 -1.5 30.90625 -1.5 \nQ 21 -1.5 14.703125 -0.203125 \nQ 11.703125 -3.796875 10.75 -5.4375 \nQ 9.796875 -7.09375 9.796875 -8.796875 \nQ 9.796875 -12.09375 13.75 -14.09375 \nQ 17.703125 -16.09375 24.296875 -16.09375 \nQ 32.796875 -16.09375 38.046875 -13.4375 \nQ 43.296875 -10.796875 43.296875 -6.40625 \nz\n\" id=\"STIXGeneral-Regular-103\"/>\n     </defs>\n     <use xlink:href=\"#STIXGeneral-Regular-80\"/>\n     <use x=\"55.699997\" xlink:href=\"#STIXGeneral-Regular-114\"/>\n     <use x=\"88.999985\" xlink:href=\"#STIXGeneral-Regular-111\"/>\n     <use x=\"138.999969\" xlink:href=\"#STIXGeneral-Regular-98\"/>\n     <use x=\"188.999954\" xlink:href=\"#STIXGeneral-Regular-97\"/>\n     <use x=\"233.399948\" xlink:href=\"#STIXGeneral-Regular-98\"/>\n     <use x=\"283.399933\" xlink:href=\"#STIXGeneral-Regular-105\"/>\n     <use x=\"311.199921\" xlink:href=\"#STIXGeneral-Regular-108\"/>\n     <use x=\"338.999908\" xlink:href=\"#STIXGeneral-Regular-105\"/>\n     <use x=\"366.799896\" xlink:href=\"#STIXGeneral-Regular-116\"/>\n     <use x=\"394.599884\" xlink:href=\"#STIXGeneral-Regular-121\"/>\n     <use x=\"444.599869\" xlink:href=\"#STIXGeneral-Regular-32\"/>\n     <use x=\"469.599854\" xlink:href=\"#STIXGeneral-Regular-111\"/>\n     <use x=\"519.599838\" xlink:href=\"#STIXGeneral-Regular-102\"/>\n     <use x=\"552.899826\" xlink:href=\"#STIXGeneral-Regular-32\"/>\n     <use x=\"577.899811\" xlink:href=\"#STIXGeneral-Regular-111\"/>\n     <use x=\"627.899796\" xlink:href=\"#STIXGeneral-Regular-98\"/>\n     <use x=\"677.89978\" xlink:href=\"#STIXGeneral-Regular-115\"/>\n     <use x=\"716.799774\" xlink:href=\"#STIXGeneral-Regular-101\"/>\n     <use x=\"761.199768\" xlink:href=\"#STIXGeneral-Regular-114\"/>\n     <use x=\"794.499756\" xlink:href=\"#STIXGeneral-Regular-118\"/>\n     <use x=\"844.499741\" xlink:href=\"#STIXGeneral-Regular-105\"/>\n     <use x=\"872.299728\" xlink:href=\"#STIXGeneral-Regular-110\"/>\n     <use x=\"922.299713\" xlink:href=\"#STIXGeneral-Regular-103\"/>\n     <use x=\"972.299698\" xlink:href=\"#STIXGeneral-Regular-32\"/>\n     <use x=\"997.299683\" xlink:href=\"#STIXGeneral-Regular-105\"/>\n     <use x=\"1025.09967\" xlink:href=\"#STIXGeneral-Regular-110\"/>\n     <use x=\"1075.099655\" xlink:href=\"#STIXGeneral-Regular-105\"/>\n     <use x=\"1102.899643\" xlink:href=\"#STIXGeneral-Regular-116\"/>\n     <use x=\"1130.699631\" xlink:href=\"#STIXGeneral-Regular-105\"/>\n     <use x=\"1158.499619\" xlink:href=\"#STIXGeneral-Regular-97\"/>\n     <use x=\"1202.899612\" xlink:href=\"#STIXGeneral-Regular-108\"/>\n     <use x=\"1230.6996\" xlink:href=\"#STIXGeneral-Regular-32\"/>\n     <use x=\"1255.699585\" xlink:href=\"#STIXGeneral-Regular-115\"/>\n     <use x=\"1294.599579\" xlink:href=\"#STIXGeneral-Regular-116\"/>\n     <use x=\"1322.399567\" xlink:href=\"#STIXGeneral-Regular-97\"/>\n     <use x=\"1366.799561\" xlink:href=\"#STIXGeneral-Regular-116\"/>\n     <use x=\"1394.599548\" xlink:href=\"#STIXGeneral-Regular-101\"/>\n    </g>\n   </g>\n   <g id=\"legend_1\">\n    <g id=\"patch_7\">\n     <path d=\"M 60.21875 291.39125 \nL 347.21875 291.39125 \nQ 351.21875 291.39125 351.21875 287.39125 \nL 351.21875 254.79125 \nQ 351.21875 250.79125 347.21875 250.79125 \nL 60.21875 250.79125 \nQ 56.21875 250.79125 56.21875 254.79125 \nL 56.21875 287.39125 \nQ 56.21875 291.39125 60.21875 291.39125 \nz\n\" style=\"fill:#ffffff;opacity:0.8;stroke:#cccccc;stroke-linejoin:miter;\"/>\n    </g>\n    <g id=\"line2d_14\">\n     <path d=\"M 64.21875 271.39125 \nL 104.21875 271.39125 \n\" style=\"fill:none;stroke:#1f77b4;stroke-linecap:square;stroke-width:1.5;\"/>\n    </g>\n    <g id=\"line2d_15\">\n     <g>\n      <use style=\"fill:#1f77b4;stroke:#1f77b4;\" x=\"84.21875\" xlink:href=\"#m1483be7d42\" y=\"271.39125\"/>\n     </g>\n    </g>\n    <g id=\"text_16\">\n     <!-- Probability P(t)=$|\\langle \\psi_0 | \\psi_t \\rangle|^2$ -->\n     <g transform=\"translate(120.21875 278.39125)scale(0.2 -0.2)\">\n      <defs>\n       <path d=\"M 63.703125 32 \nL 4.796875 32 \nL 4.796875 38.59375 \nL 63.703125 38.59375 \nz\nM 63.703125 12 \nL 4.796875 12 \nL 4.796875 18.59375 \nL 63.703125 18.59375 \nz\n\" id=\"STIXGeneral-Regular-61\"/>\n       <path d=\"M 11.921875 -23.1875 \nL 11.921875 73.1875 \nQ 11.921875 73.96875 12.5 74.484375 \nQ 13.09375 75 13.921875 75 \nQ 14.65625 75 15.28125 74.484375 \nQ 15.921875 73.96875 15.921875 73.1875 \nL 15.921875 -23.1875 \nQ 15.921875 -23.96875 15.28125 -24.484375 \nQ 14.65625 -25 13.921875 -25 \nQ 13.09375 -25 12.5 -24.484375 \nQ 11.921875 -23.96875 11.921875 -23.1875 \nz\n\" id=\"Cmsy10-106\"/>\n       <path d=\"M 35.5 -114.796875 \nL 10.015625 -56.78125 \nQ 9.8125 -56.5 9.8125 -56 \nQ 9.8125 -55.515625 10.015625 -55.328125 \nL 35.5 2.78125 \nQ 35.984375 4 37.3125 4 \nQ 38.03125 4 38.671875 3.359375 \nQ 39.3125 2.734375 39.3125 2 \nQ 39.3125 1.515625 39.203125 1.3125 \nL 14.015625 -56 \nL 39.203125 -113.28125 \nQ 39.3125 -113.484375 39.3125 -114.015625 \nQ 39.3125 -114.75 38.671875 -115.375 \nQ 38.03125 -116.015625 37.3125 -116.015625 \nQ 36.03125 -116.015625 35.5 -114.796875 \nz\n\" id=\"Cmex10-173\"/>\n       <path d=\"M 23.78125 -19.484375 \nL 28.515625 -0.875 \nQ 24.171875 -0.875 20.09375 0.75 \nQ 16.015625 2.390625 13.5 5.5625 \nQ 10.984375 8.734375 10.984375 13.28125 \nQ 10.984375 15.875 11.90625 19.1875 \nQ 12.84375 22.515625 13.890625 25.296875 \nQ 14.9375 28.078125 16.703125 32.625 \nQ 18.015625 36.28125 18.015625 38.625 \nQ 18.015625 41.609375 15.828125 41.609375 \nQ 11.859375 41.609375 9.296875 37.53125 \nQ 6.734375 33.453125 5.515625 28.421875 \nQ 5.328125 27.78125 4.6875 27.78125 \nL 3.515625 27.78125 \nQ 2.6875 27.78125 2.6875 28.71875 \nL 2.6875 29 \nQ 4.296875 34.96875 7.609375 39.578125 \nQ 10.9375 44.1875 16.015625 44.1875 \nQ 19.578125 44.1875 22.046875 41.84375 \nQ 24.515625 39.5 24.515625 35.890625 \nQ 24.515625 34.03125 23.6875 31.984375 \nQ 21.921875 27.4375 20.890625 24.75 \nQ 19.875 22.078125 18.9375 18.671875 \nQ 18.015625 15.28125 18.015625 12.59375 \nQ 18.015625 7.71875 21.0625 5.03125 \nQ 24.125 2.34375 29.109375 1.703125 \nL 45.90625 68.796875 \nQ 46.09375 69.390625 46.6875 69.390625 \nL 47.90625 69.390625 \nQ 48.6875 69.390625 48.6875 68.40625 \nL 31.984375 1.515625 \nL 33.109375 1.515625 \nQ 37.3125 1.515625 41.96875 4 \nQ 46.625 6.5 50.453125 10.546875 \nQ 54.296875 14.59375 56.546875 19.25 \nQ 58.796875 23.921875 58.796875 27.984375 \nQ 58.796875 31 57.8125 32.6875 \nQ 56.84375 34.375 55.28125 36.203125 \nQ 53.71875 38.03125 53.71875 39.109375 \nQ 53.71875 41.0625 55.328125 42.671875 \nQ 56.9375 44.28125 58.890625 44.28125 \nQ 61.28125 44.28125 62.328125 42.078125 \nQ 63.375 39.890625 63.375 37.109375 \nQ 63.375 34.1875 62.78125 31.25 \nQ 62.203125 28.328125 61.1875 24.3125 \nQ 58.890625 15.1875 51.609375 7.90625 \nQ 49.125 5.421875 46.109375 3.34375 \nQ 43.109375 1.265625 39.765625 0.0625 \nQ 36.421875 -1.125 33.015625 -1.125 \nL 31.390625 -1.125 \nL 26.703125 -19.921875 \nQ 26.515625 -20.515625 25.875 -20.515625 \nL 24.703125 -20.515625 \nQ 24.3125 -20.515625 24.046875 -20.1875 \nQ 23.78125 -19.875 23.78125 -19.484375 \nz\n\" id=\"Cmmi10-195\"/>\n       <path d=\"M 25 -2.203125 \nQ 12.75 -2.203125 8.328125 7.875 \nQ 3.90625 17.96875 3.90625 31.890625 \nQ 3.90625 40.578125 5.484375 48.234375 \nQ 7.078125 55.90625 11.78125 61.25 \nQ 16.5 66.609375 25 66.609375 \nQ 31.59375 66.609375 35.78125 63.375 \nQ 39.984375 60.15625 42.1875 55.046875 \nQ 44.390625 49.953125 45.1875 44.109375 \nQ 46 38.28125 46 31.890625 \nQ 46 23.296875 44.40625 15.796875 \nQ 42.828125 8.296875 38.1875 3.046875 \nQ 33.546875 -2.203125 25 -2.203125 \nz\nM 25 0.390625 \nQ 30.5625 0.390625 33.296875 6.09375 \nQ 36.03125 11.8125 36.671875 18.75 \nQ 37.3125 25.6875 37.3125 33.5 \nQ 37.3125 41.015625 36.671875 47.359375 \nQ 36.03125 53.71875 33.3125 58.859375 \nQ 30.609375 64.015625 25 64.015625 \nQ 19.34375 64.015625 16.609375 58.828125 \nQ 13.875 53.65625 13.234375 47.328125 \nQ 12.59375 41.015625 12.59375 33.5 \nQ 12.59375 27.9375 12.859375 23 \nQ 13.140625 18.0625 14.3125 12.8125 \nQ 15.484375 7.5625 18.09375 3.96875 \nQ 20.703125 0.390625 25 0.390625 \nz\n\" id=\"Cmr10-48\"/>\n       <path d=\"M 6.203125 8.109375 \nQ 6.203125 9.578125 6.5 10.890625 \nL 13.71875 39.59375 \nL 3.21875 39.59375 \nQ 2.203125 39.59375 2.203125 40.921875 \nQ 2.59375 43.109375 3.515625 43.109375 \nL 14.59375 43.109375 \nL 18.609375 59.421875 \nQ 19 60.75 20.171875 61.671875 \nQ 21.34375 62.59375 22.796875 62.59375 \nQ 24.078125 62.59375 24.921875 61.828125 \nQ 25.78125 61.078125 25.78125 59.8125 \nQ 25.78125 59.515625 25.75 59.34375 \nQ 25.734375 59.1875 25.6875 58.984375 \nL 21.6875 43.109375 \nL 31.984375 43.109375 \nQ 33.015625 43.109375 33.015625 41.796875 \nQ 32.953125 41.546875 32.8125 40.953125 \nQ 32.671875 40.375 32.421875 39.984375 \nQ 32.171875 39.59375 31.6875 39.59375 \nL 20.796875 39.59375 \nL 13.625 10.6875 \nQ 12.890625 7.859375 12.890625 5.8125 \nQ 12.890625 1.515625 15.828125 1.515625 \nQ 20.21875 1.515625 23.609375 5.640625 \nQ 27 9.765625 28.8125 14.703125 \nQ 29.203125 15.28125 29.59375 15.28125 \nL 30.8125 15.28125 \nQ 31.203125 15.28125 31.4375 15.015625 \nQ 31.6875 14.75 31.6875 14.40625 \nQ 31.6875 14.203125 31.59375 14.109375 \nQ 29.390625 8.0625 25.1875 3.46875 \nQ 21 -1.125 15.578125 -1.125 \nQ 11.625 -1.125 8.90625 1.453125 \nQ 6.203125 4.046875 6.203125 8.109375 \nz\n\" id=\"Cmmi10-116\"/>\n       <path d=\"M 7.8125 -114.015625 \nQ 7.8125 -113.484375 8.015625 -113.28125 \nL 33.109375 -56 \nL 8.015625 1.3125 \nQ 7.8125 1.515625 7.8125 2 \nQ 7.8125 2.734375 8.390625 3.359375 \nQ 8.984375 4 9.8125 4 \nQ 10.984375 4 11.71875 2.78125 \nL 37.203125 -55.328125 \nQ 37.3125 -55.515625 37.3125 -56 \nQ 37.3125 -56.5 37.203125 -56.78125 \nL 11.71875 -114.796875 \nQ 10.9375 -116.015625 9.8125 -116.015625 \nQ 8.984375 -116.015625 8.390625 -115.375 \nQ 7.8125 -114.75 7.8125 -114.015625 \nz\n\" id=\"Cmex10-174\"/>\n       <path d=\"M 4.984375 0 \nL 4.984375 2.6875 \nQ 4.984375 2.9375 5.171875 3.21875 \nL 20.703125 20.40625 \nQ 24.21875 24.21875 26.40625 26.796875 \nQ 28.609375 29.390625 30.75 32.765625 \nQ 32.90625 36.140625 34.15625 39.625 \nQ 35.40625 43.109375 35.40625 47.015625 \nQ 35.40625 51.125 33.890625 54.859375 \nQ 32.375 58.59375 29.375 60.84375 \nQ 26.375 63.09375 22.125 63.09375 \nQ 17.78125 63.09375 14.3125 60.46875 \nQ 10.84375 57.859375 9.421875 53.71875 \nQ 9.8125 53.8125 10.5 53.8125 \nQ 12.75 53.8125 14.328125 52.296875 \nQ 15.921875 50.78125 15.921875 48.390625 \nQ 15.921875 46.09375 14.328125 44.5 \nQ 12.75 42.921875 10.5 42.921875 \nQ 8.15625 42.921875 6.5625 44.546875 \nQ 4.984375 46.1875 4.984375 48.390625 \nQ 4.984375 52.15625 6.390625 55.4375 \nQ 7.8125 58.734375 10.46875 61.296875 \nQ 13.140625 63.875 16.484375 65.234375 \nQ 19.828125 66.609375 23.578125 66.609375 \nQ 29.296875 66.609375 34.21875 64.1875 \nQ 39.15625 61.765625 42.03125 57.34375 \nQ 44.921875 52.9375 44.921875 47.015625 \nQ 44.921875 42.671875 43.015625 38.765625 \nQ 41.109375 34.859375 38.125 31.65625 \nQ 35.15625 28.46875 30.515625 24.40625 \nQ 25.875 20.359375 24.421875 19 \nL 13.09375 8.109375 \nL 22.703125 8.109375 \nQ 29.78125 8.109375 34.546875 8.21875 \nQ 39.3125 8.34375 39.59375 8.59375 \nQ 40.765625 9.859375 42 17.828125 \nL 44.921875 17.828125 \nL 42.09375 0 \nz\n\" id=\"Cmr10-50\"/>\n      </defs>\n      <use transform=\"translate(0 0.658854)\" xlink:href=\"#STIXGeneral-Regular-80\"/>\n      <use transform=\"translate(55.699997 0.658854)\" xlink:href=\"#STIXGeneral-Regular-114\"/>\n      <use transform=\"translate(88.999985 0.658854)\" xlink:href=\"#STIXGeneral-Regular-111\"/>\n      <use transform=\"translate(138.999969 0.658854)\" xlink:href=\"#STIXGeneral-Regular-98\"/>\n      <use transform=\"translate(188.999954 0.658854)\" xlink:href=\"#STIXGeneral-Regular-97\"/>\n      <use transform=\"translate(233.399948 0.658854)\" xlink:href=\"#STIXGeneral-Regular-98\"/>\n      <use transform=\"translate(283.399933 0.658854)\" xlink:href=\"#STIXGeneral-Regular-105\"/>\n      <use transform=\"translate(311.199921 0.658854)\" xlink:href=\"#STIXGeneral-Regular-108\"/>\n      <use transform=\"translate(338.999908 0.658854)\" xlink:href=\"#STIXGeneral-Regular-105\"/>\n      <use transform=\"translate(366.799896 0.658854)\" xlink:href=\"#STIXGeneral-Regular-116\"/>\n      <use transform=\"translate(394.599884 0.658854)\" xlink:href=\"#STIXGeneral-Regular-121\"/>\n      <use transform=\"translate(444.599869 0.658854)\" xlink:href=\"#STIXGeneral-Regular-32\"/>\n      <use transform=\"translate(469.599854 0.658854)\" xlink:href=\"#STIXGeneral-Regular-80\"/>\n      <use transform=\"translate(525.29985 0.658854)\" xlink:href=\"#STIXGeneral-Regular-40\"/>\n      <use transform=\"translate(558.599838 0.658854)\" xlink:href=\"#STIXGeneral-Regular-116\"/>\n      <use transform=\"translate(586.399826 0.658854)\" xlink:href=\"#STIXGeneral-Regular-41\"/>\n      <use transform=\"translate(619.699814 0.658854)\" xlink:href=\"#STIXGeneral-Regular-61\"/>\n      <use transform=\"translate(688.199799 0.658854)\" xlink:href=\"#Cmsy10-106\"/>\n      <use transform=\"translate(715.885345 94)\" xlink:href=\"#Cmex10-173\"/>\n      <use transform=\"translate(763.102142 0.658854)\" xlink:href=\"#Cmmi10-195\"/>\n      <use transform=\"translate(828.190033 -16.347396)scale(0.7)\" xlink:href=\"#Cmr10-48\"/>\n      <use transform=\"translate(869.567377 0.658854)\" xlink:href=\"#Cmsy10-106\"/>\n      <use transform=\"translate(897.252924 0.658854)\" xlink:href=\"#Cmmi10-195\"/>\n      <use transform=\"translate(962.340814 -16.347396)scale(0.7)\" xlink:href=\"#Cmmi10-116\"/>\n      <use transform=\"translate(993.976947 94)\" xlink:href=\"#Cmex10-174\"/>\n      <use transform=\"translate(1041.193744 0.658854)\" xlink:href=\"#Cmsy10-106\"/>\n      <use transform=\"translate(1073.343431 38.922917)scale(0.7)\" xlink:href=\"#Cmr10-50\"/>\n     </g>\n    </g>\n   </g>\n  </g>\n </g>\n <defs>\n  <clipPath id=\"p8c006c1039\">\n   <rect height=\"271.8\" width=\"502.2\" x=\"46.21875\" y=\"29.59125\"/>\n  </clipPath>\n </defs>\n</svg>\n",
      "image/png": "[encoded data removed]"
     },
     "metadata": {
      "needs_background": "light"
     }
    }
   ],
   "source": [
    "plt.figure(figsize=(9,5))\n",
    "plt.plot(t,overlapsvar2,\".-\" ,label=r'Probability P(t)=$|\\langle \\psi_0 | \\psi_t \\rangle|^2$')\n",
    "plt.fill_between(t, 0, overlapsvar2, alpha=0.2)\n",
    "plt.legend(fontsize=20)\n",
    "plt.xlabel('Time t', fontsize=20)\n",
    "plt.ylabel('Probability P(t)', fontsize=20)\n",
    "plt.title('Probability of observing initial state', fontsize=24)"
   ]
  },
  {
   "cell_type": "code",
   "execution_count": 1697,
   "metadata": {},
   "outputs": [
    {
     "output_type": "execute_result",
     "data": {
      "text/plain": [
       "(0.0, 1.1)"
      ]
     },
     "metadata": {},
     "execution_count": 1697
    },
    {
     "output_type": "display_data",
     "data": {
      "text/plain": "<Figure size 432x288 with 1 Axes>",
      "image/svg+xml": "<?xml version=\"1.0\" encoding=\"utf-8\" standalone=\"no\"?>\n<!DOCTYPE svg PUBLIC \"-//W3C//DTD SVG 1.1//EN\"\n  \"http://www.w3.org/Graphics/SVG/1.1/DTD/svg11.dtd\">\n<!-- Created with matplotlib (https://matplotlib.org/) -->\n<svg height=\"246.04pt\" version=\"1.1\" viewBox=\"0 0 366.2 246.04\" width=\"366.2pt\" xmlns=\"http://www.w3.org/2000/svg\" xmlns:xlink=\"http://www.w3.org/1999/xlink\">\n <metadata>\n  <rdf:RDF xmlns:cc=\"http://creativecommons.org/ns#\" xmlns:dc=\"http://purl.org/dc/elements/1.1/\" xmlns:rdf=\"http://www.w3.org/1999/02/22-rdf-syntax-ns#\">\n   <cc:Work>\n    <dc:type rdf:resource=\"http://purl.org/dc/dcmitype/StillImage\"/>\n    <dc:date>2020-11-25T23:15:26.268058</dc:date>\n    <dc:format>image/svg+xml</dc:format>\n    <dc:creator>\n     <cc:Agent>\n      <dc:title>Matplotlib v3.3.3, https://matplotlib.org/</dc:title>\n     </cc:Agent>\n    </dc:creator>\n   </cc:Work>\n  </rdf:RDF>\n </metadata>\n <defs>\n  <style type=\"text/css\">*{stroke-linecap:butt;stroke-linejoin:round;}</style>\n </defs>\n <g id=\"figure_1\">\n  <g id=\"patch_1\">\n   <path d=\"M 0 246.04 \nL 366.2 246.04 \nL 366.2 0 \nL 0 0 \nz\n\" style=\"fill:none;\"/>\n  </g>\n  <g id=\"axes_1\">\n   <g id=\"patch_2\">\n    <path d=\"M 24.2 224.64 \nL 359 224.64 \nL 359 7.2 \nL 24.2 7.2 \nz\n\" style=\"fill:#ffffff;\"/>\n   </g>\n   <g id=\"matplotlib.axis_1\">\n    <g id=\"xtick_1\">\n     <g id=\"line2d_1\">\n      <defs>\n       <path d=\"M 0 0 \nL 0 3.5 \n\" id=\"m18d66736e9\" style=\"stroke:#000000;stroke-width:0.8;\"/>\n      </defs>\n      <g>\n       <use style=\"stroke:#000000;stroke-width:0.8;\" x=\"39.418182\" xlink:href=\"#m18d66736e9\" y=\"224.64\"/>\n      </g>\n     </g>\n     <g id=\"text_1\">\n      <!-- 0 -->\n      <g transform=\"translate(37.418182 237.10375)scale(0.08 -0.08)\">\n       <defs>\n        <path d=\"M 47.59375 33 \nQ 47.59375 26.296875 46.296875 20.34375 \nQ 45 14.40625 42.453125 9.40625 \nQ 39.90625 4.40625 35.40625 1.5 \nQ 30.90625 -1.40625 25 -1.40625 \nQ 18.90625 -1.40625 14.296875 1.6875 \nQ 9.703125 4.796875 7.203125 10 \nQ 4.703125 15.203125 3.546875 21.09375 \nQ 2.40625 27 2.40625 33.59375 \nQ 2.40625 42.90625 4.703125 50.34375 \nQ 7 57.796875 12.34375 62.6875 \nQ 17.703125 67.59375 25.40625 67.59375 \nQ 35.203125 67.59375 41.390625 58 \nQ 47.59375 48.40625 47.59375 33 \nz\nM 38 32.5 \nQ 38 48.296875 34.640625 56.640625 \nQ 31.296875 65 24.796875 65 \nQ 18.59375 65 15.296875 56.59375 \nQ 12 48.203125 12 32.90625 \nQ 12 17.5 15.296875 9.34375 \nQ 18.59375 1.203125 25 1.203125 \nQ 31.296875 1.203125 34.640625 9.34375 \nQ 38 17.5 38 32.5 \nz\n\" id=\"STIXGeneral-Regular-48\"/>\n       </defs>\n       <use xlink:href=\"#STIXGeneral-Regular-48\"/>\n      </g>\n     </g>\n    </g>\n    <g id=\"xtick_2\">\n     <g id=\"line2d_2\">\n      <g>\n       <use style=\"stroke:#000000;stroke-width:0.8;\" x=\"100.290909\" xlink:href=\"#m18d66736e9\" y=\"224.64\"/>\n      </g>\n     </g>\n     <g id=\"text_2\">\n      <!-- 1 -->\n      <g transform=\"translate(98.290909 237.10375)scale(0.08 -0.08)\">\n       <defs>\n        <path d=\"M 39.40625 0 \nL 11.796875 0 \nL 11.796875 1.5 \nQ 17.296875 1.796875 19.296875 3.546875 \nQ 21.296875 5.296875 21.296875 9.5 \nL 21.296875 54.40625 \nQ 21.296875 59.296875 18.296875 59.296875 \nQ 16.90625 59.296875 13.796875 58.09375 \nL 11.09375 57.09375 \nL 11.09375 58.5 \nL 29 67.59375 \nL 29.90625 67.296875 \nL 29.90625 7.59375 \nQ 29.90625 4.296875 31.90625 2.890625 \nQ 33.90625 1.5 39.40625 1.5 \nz\n\" id=\"STIXGeneral-Regular-49\"/>\n       </defs>\n       <use xlink:href=\"#STIXGeneral-Regular-49\"/>\n      </g>\n     </g>\n    </g>\n    <g id=\"xtick_3\">\n     <g id=\"line2d_3\">\n      <g>\n       <use style=\"stroke:#000000;stroke-width:0.8;\" x=\"161.163636\" xlink:href=\"#m18d66736e9\" y=\"224.64\"/>\n      </g>\n     </g>\n     <g id=\"text_3\">\n      <!-- 2 -->\n      <g transform=\"translate(159.163636 237.10375)scale(0.08 -0.08)\">\n       <defs>\n        <path d=\"M 47.40625 13.703125 \nL 42 0 \nL 2.90625 0 \nL 2.90625 1.203125 \nL 20.703125 20.09375 \nQ 27.703125 27.40625 30.703125 33.5 \nQ 33.703125 39.59375 33.703125 46.09375 \nQ 33.703125 52.796875 30 56.5 \nQ 26.296875 60.203125 19.796875 60.203125 \nQ 14.40625 60.203125 11.25 57.390625 \nQ 8.09375 54.59375 5.09375 47.203125 \nL 3 47.703125 \nQ 4.703125 57 9.84375 62.296875 \nQ 15 67.59375 23.796875 67.59375 \nQ 32.09375 67.59375 37.1875 62.59375 \nQ 42.296875 57.59375 42.296875 50 \nQ 42.296875 38.703125 29.5 25.203125 \nL 13 7.59375 \nL 36.40625 7.59375 \nQ 39.703125 7.59375 41.640625 8.890625 \nQ 43.59375 10.203125 46 14.296875 \nz\n\" id=\"STIXGeneral-Regular-50\"/>\n       </defs>\n       <use xlink:href=\"#STIXGeneral-Regular-50\"/>\n      </g>\n     </g>\n    </g>\n    <g id=\"xtick_4\">\n     <g id=\"line2d_4\">\n      <g>\n       <use style=\"stroke:#000000;stroke-width:0.8;\" x=\"222.036364\" xlink:href=\"#m18d66736e9\" y=\"224.64\"/>\n      </g>\n     </g>\n     <g id=\"text_4\">\n      <!-- 3 -->\n      <g transform=\"translate(220.036364 237.10375)scale(0.08 -0.08)\">\n       <defs>\n        <path d=\"M 6.09375 51 \nL 4.5 51.40625 \nQ 6.796875 58.90625 11.6875 63.25 \nQ 16.59375 67.59375 24.09375 67.59375 \nQ 31.09375 67.59375 35.390625 63.796875 \nQ 39.703125 60 39.703125 53.90625 \nQ 39.703125 45.703125 30.40625 40.09375 \nQ 35.90625 37.703125 38.703125 34.796875 \nQ 43.09375 29.90625 43.09375 21.90625 \nQ 43.09375 13.90625 38.5 7.90625 \nQ 35.09375 3.296875 28.75 0.9375 \nQ 22.40625 -1.40625 15.296875 -1.40625 \nQ 4.09375 -1.40625 4.09375 4.296875 \nQ 4.09375 5.90625 5.296875 6.90625 \nQ 6.5 7.90625 8.203125 7.90625 \nQ 10.703125 7.90625 14.296875 5.296875 \nQ 18.703125 2.203125 22.90625 2.203125 \nQ 28.40625 2.203125 32.15625 6.640625 \nQ 35.90625 11.09375 35.90625 17.5 \nQ 35.90625 29 25.5 32 \nQ 22.40625 33 15.296875 33 \nL 15.296875 34.40625 \nQ 20.90625 36.296875 23.703125 38 \nQ 31.796875 42.59375 31.796875 51.40625 \nQ 31.796875 56.40625 28.9375 59 \nQ 26.09375 61.59375 21 61.59375 \nQ 12 61.59375 6.09375 51 \nz\n\" id=\"STIXGeneral-Regular-51\"/>\n       </defs>\n       <use xlink:href=\"#STIXGeneral-Regular-51\"/>\n      </g>\n     </g>\n    </g>\n    <g id=\"xtick_5\">\n     <g id=\"line2d_5\">\n      <g>\n       <use style=\"stroke:#000000;stroke-width:0.8;\" x=\"282.909091\" xlink:href=\"#m18d66736e9\" y=\"224.64\"/>\n      </g>\n     </g>\n     <g id=\"text_5\">\n      <!-- 4 -->\n      <g transform=\"translate(280.909091 237.10375)scale(0.08 -0.08)\">\n       <defs>\n        <path d=\"M 47.296875 16.703125 \nL 37 16.703125 \nL 37 0 \nL 29.203125 0 \nL 29.203125 16.703125 \nL 1.203125 16.703125 \nL 1.203125 23.09375 \nL 32.59375 67.59375 \nL 37 67.59375 \nL 37 23.09375 \nL 47.296875 23.09375 \nz\nM 29.203125 23.09375 \nL 29.203125 57.40625 \nL 5.203125 23.09375 \nz\n\" id=\"STIXGeneral-Regular-52\"/>\n       </defs>\n       <use xlink:href=\"#STIXGeneral-Regular-52\"/>\n      </g>\n     </g>\n    </g>\n    <g id=\"xtick_6\">\n     <g id=\"line2d_6\">\n      <g>\n       <use style=\"stroke:#000000;stroke-width:0.8;\" x=\"343.781818\" xlink:href=\"#m18d66736e9\" y=\"224.64\"/>\n      </g>\n     </g>\n     <g id=\"text_6\">\n      <!-- 5 -->\n      <g transform=\"translate(341.781818 237.10375)scale(0.08 -0.08)\">\n       <defs>\n        <path d=\"M 43.796875 68.09375 \nL 40.203125 59.59375 \nQ 39.59375 58.296875 37.5 58.296875 \nL 18.09375 58.296875 \nL 14.09375 49.796875 \nQ 25.09375 47.703125 30 45.25 \nQ 34.90625 42.796875 39.09375 37 \nQ 42.59375 32.203125 42.59375 24.296875 \nQ 42.59375 17.09375 40.25 12.1875 \nQ 37.90625 7.296875 32.796875 3.5 \nQ 26 -1.40625 15.796875 -1.40625 \nQ 10.09375 -1.40625 6.59375 0.296875 \nQ 3.09375 2 3.09375 4.796875 \nQ 3.09375 8.59375 7.59375 8.59375 \nQ 11.203125 8.59375 15 5.5 \nQ 18.90625 2.296875 22.09375 2.296875 \nQ 27.296875 2.296875 31.4375 7.5 \nQ 35.59375 12.703125 35.59375 19.203125 \nQ 35.59375 28.796875 28.90625 34.203125 \nQ 20.203125 41.203125 7.59375 41.203125 \nQ 6.40625 41.203125 6.40625 42 \nL 6.5 42.5 \nL 17.40625 66.203125 \nL 38.09375 66.203125 \nQ 39.796875 66.203125 40.75 66.703125 \nQ 41.703125 67.203125 42.90625 68.796875 \nz\n\" id=\"STIXGeneral-Regular-53\"/>\n       </defs>\n       <use xlink:href=\"#STIXGeneral-Regular-53\"/>\n      </g>\n     </g>\n    </g>\n   </g>\n   <g id=\"matplotlib.axis_2\">\n    <g id=\"ytick_1\">\n     <g id=\"line2d_7\">\n      <defs>\n       <path d=\"M 0 0 \nL -3.5 0 \n\" id=\"mca77b3cf8d\" style=\"stroke:#000000;stroke-width:0.8;\"/>\n      </defs>\n      <g>\n       <use style=\"stroke:#000000;stroke-width:0.8;\" x=\"24.2\" xlink:href=\"#mca77b3cf8d\" y=\"224.64\"/>\n      </g>\n     </g>\n     <g id=\"text_7\">\n      <!-- 0.0 -->\n      <g transform=\"translate(7.2 227.371875)scale(0.08 -0.08)\">\n       <defs>\n        <path d=\"M 18.09375 4.296875 \nQ 18.09375 2.09375 16.4375 0.5 \nQ 14.796875 -1.09375 12.5 -1.09375 \nQ 10.203125 -1.09375 8.59375 0.5 \nQ 7 2.09375 7 4.390625 \nQ 7 6.703125 8.640625 8.34375 \nQ 10.296875 10 12.59375 10 \nQ 14.796875 10 16.4375 8.296875 \nQ 18.09375 6.59375 18.09375 4.296875 \nz\n\" id=\"STIXGeneral-Regular-46\"/>\n       </defs>\n       <use xlink:href=\"#STIXGeneral-Regular-48\"/>\n       <use x=\"49.999985\" xlink:href=\"#STIXGeneral-Regular-46\"/>\n       <use x=\"74.999969\" xlink:href=\"#STIXGeneral-Regular-48\"/>\n      </g>\n     </g>\n    </g>\n    <g id=\"ytick_2\">\n     <g id=\"line2d_8\">\n      <g>\n       <use style=\"stroke:#000000;stroke-width:0.8;\" x=\"24.2\" xlink:href=\"#mca77b3cf8d\" y=\"185.105455\"/>\n      </g>\n     </g>\n     <g id=\"text_8\">\n      <!-- 0.2 -->\n      <g transform=\"translate(7.2 187.83733)scale(0.08 -0.08)\">\n       <use xlink:href=\"#STIXGeneral-Regular-48\"/>\n       <use x=\"49.999985\" xlink:href=\"#STIXGeneral-Regular-46\"/>\n       <use x=\"74.999969\" xlink:href=\"#STIXGeneral-Regular-50\"/>\n      </g>\n     </g>\n    </g>\n    <g id=\"ytick_3\">\n     <g id=\"line2d_9\">\n      <g>\n       <use style=\"stroke:#000000;stroke-width:0.8;\" x=\"24.2\" xlink:href=\"#mca77b3cf8d\" y=\"145.570909\"/>\n      </g>\n     </g>\n     <g id=\"text_9\">\n      <!-- 0.4 -->\n      <g transform=\"translate(7.2 148.302784)scale(0.08 -0.08)\">\n       <use xlink:href=\"#STIXGeneral-Regular-48\"/>\n       <use x=\"49.999985\" xlink:href=\"#STIXGeneral-Regular-46\"/>\n       <use x=\"74.999969\" xlink:href=\"#STIXGeneral-Regular-52\"/>\n      </g>\n     </g>\n    </g>\n    <g id=\"ytick_4\">\n     <g id=\"line2d_10\">\n      <g>\n       <use style=\"stroke:#000000;stroke-width:0.8;\" x=\"24.2\" xlink:href=\"#mca77b3cf8d\" y=\"106.036364\"/>\n      </g>\n     </g>\n     <g id=\"text_10\">\n      <!-- 0.6 -->\n      <g transform=\"translate(7.2 108.768239)scale(0.08 -0.08)\">\n       <defs>\n        <path d=\"M 44.59375 68.40625 \nL 44.796875 66.796875 \nQ 33 64.90625 25.09375 57.25 \nQ 17.203125 49.59375 15.203125 38.296875 \nQ 21 42.796875 27.90625 42.796875 \nQ 36.703125 42.796875 41.75 37.1875 \nQ 46.796875 31.59375 46.796875 21.90625 \nQ 46.796875 12.09375 41.703125 5.90625 \nQ 35.796875 -1.40625 25.796875 -1.40625 \nQ 13.59375 -1.40625 8.09375 8.703125 \nQ 3.40625 17.296875 3.40625 27.90625 \nQ 3.40625 44.296875 14.296875 55.5 \nQ 20.5 61.90625 27.046875 64.546875 \nQ 33.59375 67.203125 44.59375 68.40625 \nz\nM 37.796875 18.796875 \nQ 37.796875 38.203125 24.296875 38.203125 \nQ 19.296875 38.203125 16 35.546875 \nQ 12.703125 32.90625 12.703125 26.59375 \nQ 12.703125 14.90625 16.34375 8.15625 \nQ 20 1.40625 26.90625 1.40625 \nQ 32.203125 1.40625 35 6.15625 \nQ 37.796875 10.90625 37.796875 18.796875 \nz\n\" id=\"STIXGeneral-Regular-54\"/>\n       </defs>\n       <use xlink:href=\"#STIXGeneral-Regular-48\"/>\n       <use x=\"49.999985\" xlink:href=\"#STIXGeneral-Regular-46\"/>\n       <use x=\"74.999969\" xlink:href=\"#STIXGeneral-Regular-54\"/>\n      </g>\n     </g>\n    </g>\n    <g id=\"ytick_5\">\n     <g id=\"line2d_11\">\n      <g>\n       <use style=\"stroke:#000000;stroke-width:0.8;\" x=\"24.2\" xlink:href=\"#mca77b3cf8d\" y=\"66.501818\"/>\n      </g>\n     </g>\n     <g id=\"text_11\">\n      <!-- 0.8 -->\n      <g transform=\"translate(7.2 69.233693)scale(0.08 -0.08)\">\n       <defs>\n        <path d=\"M 44.5 15.5 \nQ 44.5 7.796875 39.140625 3.1875 \nQ 33.796875 -1.40625 24.796875 -1.40625 \nQ 16.40625 -1.40625 11 3.1875 \nQ 5.59375 7.796875 5.59375 14.90625 \nQ 5.59375 20.203125 8.1875 23.953125 \nQ 10.796875 27.703125 18.59375 33.203125 \nQ 11.09375 39.40625 8.640625 43.203125 \nQ 6.203125 47 6.203125 52 \nQ 6.203125 59.09375 11.640625 63.34375 \nQ 17.09375 67.59375 25.59375 67.59375 \nQ 32.90625 67.59375 37.65625 63.4375 \nQ 42.40625 59.296875 42.40625 53.296875 \nQ 42.40625 47.796875 39.546875 44.5 \nQ 36.703125 41.203125 29 37.09375 \nQ 38 31.09375 41.25 26.390625 \nQ 44.5 21.703125 44.5 15.5 \nz\nM 35.5 53.296875 \nQ 35.5 58.5 32.59375 61.640625 \nQ 29.703125 64.796875 24.59375 64.796875 \nQ 19.5 64.796875 16.546875 62.140625 \nQ 13.59375 59.5 13.59375 54.890625 \nQ 13.59375 50.296875 16.546875 46.546875 \nQ 19.5 42.796875 26.09375 38.90625 \nQ 31.203125 41.90625 33.34375 45.25 \nQ 35.5 48.59375 35.5 53.296875 \nz\nM 27.09375 27.203125 \nL 21.203125 31.203125 \nQ 16.796875 27.59375 15 24.140625 \nQ 13.203125 20.703125 13.203125 15.796875 \nQ 13.203125 9 16.640625 5.203125 \nQ 20.09375 1.40625 25.90625 1.40625 \nQ 30.796875 1.40625 33.84375 4.453125 \nQ 36.90625 7.5 36.90625 12.40625 \nQ 36.90625 16.90625 34.59375 20.296875 \nQ 32.296875 23.703125 27.09375 27.203125 \nz\n\" id=\"STIXGeneral-Regular-56\"/>\n       </defs>\n       <use xlink:href=\"#STIXGeneral-Regular-48\"/>\n       <use x=\"49.999985\" xlink:href=\"#STIXGeneral-Regular-46\"/>\n       <use x=\"74.999969\" xlink:href=\"#STIXGeneral-Regular-56\"/>\n      </g>\n     </g>\n    </g>\n    <g id=\"ytick_6\">\n     <g id=\"line2d_12\">\n      <g>\n       <use style=\"stroke:#000000;stroke-width:0.8;\" x=\"24.2\" xlink:href=\"#mca77b3cf8d\" y=\"26.967273\"/>\n      </g>\n     </g>\n     <g id=\"text_12\">\n      <!-- 1.0 -->\n      <g transform=\"translate(7.2 29.699148)scale(0.08 -0.08)\">\n       <use xlink:href=\"#STIXGeneral-Regular-49\"/>\n       <use x=\"49.999985\" xlink:href=\"#STIXGeneral-Regular-46\"/>\n       <use x=\"74.999969\" xlink:href=\"#STIXGeneral-Regular-48\"/>\n      </g>\n     </g>\n    </g>\n   </g>\n   <g id=\"line2d_13\">\n    <path clip-path=\"url(#p73ff01b3c3)\" d=\"M 39.418182 26.967273 \nL 41.913964 27.077752 \nL 44.470618 27.416443 \nL 47.088145 27.988255 \nL 49.888291 28.830156 \nL 52.9928 30.002757 \nL 56.645164 31.630428 \nL 62.184582 34.378853 \nL 68.515345 37.460871 \nL 72.106836 38.962512 \nL 75.150473 40.003529 \nL 77.950618 40.730248 \nL 80.568145 41.183869 \nL 83.1248 41.401462 \nL 85.620582 41.392247 \nL 88.116364 41.164371 \nL 90.733891 40.698136 \nL 93.473164 39.97795 \nL 96.395055 38.977403 \nL 99.743055 37.589193 \nL 104.004145 35.565449 \nL 114.778618 30.336909 \nL 118.126618 29.023835 \nL 121.048509 28.107089 \nL 123.787782 27.478048 \nL 126.405309 27.10744 \nL 128.901091 26.975731 \nL 131.396873 27.064688 \nL 133.953527 27.381826 \nL 136.571055 27.932918 \nL 139.3712 28.755063 \nL 142.414836 29.884893 \nL 146.006327 31.465403 \nL 151.180509 34.016915 \nL 158.241745 37.469256 \nL 161.833236 38.970151 \nL 164.876873 40.009783 \nL 167.677018 40.734591 \nL 170.294545 41.185928 \nL 172.8512 41.400933 \nL 175.346982 41.388995 \nL 177.842764 41.158378 \nL 180.460291 40.689457 \nL 183.199564 39.966912 \nL 186.182327 38.941475 \nL 189.530327 37.548486 \nL 193.852291 35.492877 \nL 204.261527 30.442327 \nL 207.6704 29.095106 \nL 210.653164 28.151514 \nL 213.392436 27.515808 \nL 216.009964 27.137368 \nL 218.505745 26.997067 \nL 221.001527 27.07661 \nL 223.558182 27.383592 \nL 226.175709 27.92417 \nL 228.975855 28.735453 \nL 232.019491 29.854567 \nL 235.610982 31.424739 \nL 240.663418 33.905719 \nL 247.968145 37.474943 \nL 251.559636 38.972611 \nL 254.603273 40.009375 \nL 257.403418 40.731398 \nL 260.020945 41.18 \nL 262.5776 41.392245 \nL 265.073382 41.377593 \nL 267.630036 41.135968 \nL 270.247564 40.659263 \nL 272.986836 39.929496 \nL 275.9696 38.897725 \nL 279.378473 37.472767 \nL 283.822182 35.352383 \nL 293.683564 30.569608 \nL 297.153309 29.185832 \nL 300.136073 28.229589 \nL 302.875345 27.579508 \nL 305.492873 27.185222 \nL 308.049527 27.027178 \nL 310.545309 27.094357 \nL 313.101964 27.387957 \nL 315.719491 27.914517 \nL 318.519636 28.711013 \nL 321.563273 29.815044 \nL 325.093891 31.341713 \nL 329.963709 33.713448 \nL 337.816291 37.537983 \nL 341.407782 39.02016 \nL 343.781818 39.83828 \nL 343.781818 39.83828 \n\" style=\"fill:none;stroke:#1f77b4;stroke-linecap:square;stroke-width:1.5;\"/>\n   </g>\n   <g id=\"patch_3\">\n    <path d=\"M 24.2 224.64 \nL 24.2 7.2 \n\" style=\"fill:none;stroke:#000000;stroke-linecap:square;stroke-linejoin:miter;stroke-width:0.8;\"/>\n   </g>\n   <g id=\"patch_4\">\n    <path d=\"M 359 224.64 \nL 359 7.2 \n\" style=\"fill:none;stroke:#000000;stroke-linecap:square;stroke-linejoin:miter;stroke-width:0.8;\"/>\n   </g>\n   <g id=\"patch_5\">\n    <path d=\"M 24.2 224.64 \nL 359 224.64 \n\" style=\"fill:none;stroke:#000000;stroke-linecap:square;stroke-linejoin:miter;stroke-width:0.8;\"/>\n   </g>\n   <g id=\"patch_6\">\n    <path d=\"M 24.2 7.2 \nL 359 7.2 \n\" style=\"fill:none;stroke:#000000;stroke-linecap:square;stroke-linejoin:miter;stroke-width:0.8;\"/>\n   </g>\n  </g>\n </g>\n <defs>\n  <clipPath id=\"p73ff01b3c3\">\n   <rect height=\"217.44\" width=\"334.8\" x=\"24.2\" y=\"7.2\"/>\n  </clipPath>\n </defs>\n</svg>\n",
      "image/png": "[encoded data removed]"
     },
     "metadata": {
      "needs_background": "light"
     }
    }
   ],
   "source": [
    "init_vect=init_state.construct_circuit(\"vector\").flatten()\n",
    "if theta_list[0] != [0,0,0]:\n",
    "    init_state_qutip=qt.Qobj(np.around(var_mat_cir(theta_list[0])\n",
    "[1],4)@init_vect)\n",
    "else: \n",
    "    init_state_qutip=init_state.construct_circuit(\"qutip\")\n",
    "tlist = np.linspace(0, tfin, 5001)\n",
    "\n",
    "H_qutip=qt.Qobj(to_matrix_operator(H).dense_matrix) \n",
    "sol=qt.sesolve(H_qutip, init_state_qutip, tlist) \n",
    "#sol.states[0].full().flatten()\n",
    "overlapexact=np.asarray([ np.square(np.abs(qiskit_overlap(sol.states[0].full().flatten(), qtstate.full().flatten()))) for qtstate in sol.states])\n",
    "plt.plot(tlist,overlapexact)\n",
    "plt.ylim((0,1.1))"
   ]
  },
  {
   "cell_type": "code",
   "execution_count": 1683,
   "metadata": {},
   "outputs": [],
   "source": [
    "import seaborn as sns"
   ]
  },
  {
   "cell_type": "code",
   "execution_count": 1,
   "metadata": {},
   "outputs": [
    {
     "output_type": "error",
     "ename": "NameError",
     "evalue": "name 'qiskit_trotter_simulate' is not defined",
     "traceback": [
      "\u001b[0;31m---------------------------------------------------------------------------\u001b[0m",
      "\u001b[0;31mNameError\u001b[0m                                 Traceback (most recent call last)",
      "\u001b[0;32m<ipython-input-1-6af5ef89ef15>\u001b[0m in \u001b[0;36m<module>\u001b[0;34m\u001b[0m\n\u001b[0;32m----> 1\u001b[0;31m \u001b[0;34m[\u001b[0m\u001b[0mtime\u001b[0m\u001b[0;34m,\u001b[0m\u001b[0mevolvetrotter\u001b[0m\u001b[0;34m,\u001b[0m\u001b[0mqmatrix\u001b[0m\u001b[0;34m]\u001b[0m\u001b[0;34m=\u001b[0m\u001b[0mqiskit_trotter_simulate\u001b[0m\u001b[0;34m(\u001b[0m\u001b[0mHamilton\u001b[0m\u001b[0;34m=\u001b[0m\u001b[0mH\u001b[0m\u001b[0;34m,\u001b[0m\u001b[0minit_state\u001b[0m\u001b[0;34m=\u001b[0m\u001b[0minit_state\u001b[0m\u001b[0;34m,\u001b[0m \u001b[0mt_stepsize\u001b[0m\u001b[0;34m=\u001b[0m\u001b[0mdelta_t\u001b[0m\u001b[0;34m,\u001b[0m \u001b[0mnsteps\u001b[0m\u001b[0;34m=\u001b[0m\u001b[0mnstep\u001b[0m\u001b[0;34m-\u001b[0m\u001b[0;36m1\u001b[0m\u001b[0;34m)\u001b[0m\u001b[0;34m\u001b[0m\u001b[0;34m\u001b[0m\u001b[0m\n\u001b[0m\u001b[1;32m      2\u001b[0m \u001b[0;34m\u001b[0m\u001b[0m\n\u001b[1;32m      3\u001b[0m \u001b[0moverlaps_trotter\u001b[0m\u001b[0;34m=\u001b[0m \u001b[0mnp\u001b[0m\u001b[0;34m.\u001b[0m\u001b[0masarray\u001b[0m\u001b[0;34m(\u001b[0m\u001b[0;34m[\u001b[0m \u001b[0mnp\u001b[0m\u001b[0;34m.\u001b[0m\u001b[0msquare\u001b[0m\u001b[0;34m(\u001b[0m\u001b[0mnp\u001b[0m\u001b[0;34m.\u001b[0m\u001b[0mabs\u001b[0m\u001b[0;34m(\u001b[0m\u001b[0mqiskit_overlap\u001b[0m\u001b[0;34m(\u001b[0m\u001b[0minit_vect\u001b[0m\u001b[0;34m,\u001b[0m \u001b[0mevolve\u001b[0m\u001b[0;34m)\u001b[0m\u001b[0;34m)\u001b[0m\u001b[0;34m)\u001b[0m \u001b[0;32mfor\u001b[0m \u001b[0mevolve\u001b[0m \u001b[0;32min\u001b[0m \u001b[0mevolvetrotter\u001b[0m\u001b[0;34m]\u001b[0m\u001b[0;34m)\u001b[0m\u001b[0;34m\u001b[0m\u001b[0;34m\u001b[0m\u001b[0m\n",
      "\u001b[0;31mNameError\u001b[0m: name 'qiskit_trotter_simulate' is not defined"
     ]
    }
   ],
   "source": [
    "\n",
    "\n",
    "[time,evolvetrotter,qmatrix]=qiskit_trotter_simulate(Hamilton=H,init_state=init_state, t_stepsize=delta_t, nsteps=nstep-1)\n",
    "\n",
    "overlaps_trotter= np.asarray([ np.square(np.abs(qiskit_overlap(init_vect, evolve))) for evolve in evolvetrotter])"
   ]
  },
  {
   "cell_type": "code",
   "execution_count": 2,
   "metadata": {},
   "outputs": [
    {
     "output_type": "error",
     "ename": "NameError",
     "evalue": "name 'plt' is not defined",
     "traceback": [
      "\u001b[0;31m---------------------------------------------------------------------------\u001b[0m",
      "\u001b[0;31mNameError\u001b[0m                                 Traceback (most recent call last)",
      "\u001b[0;32m<ipython-input-2-c1976732afa6>\u001b[0m in \u001b[0;36m<module>\u001b[0;34m\u001b[0m\n\u001b[1;32m      1\u001b[0m \u001b[0;31m##### plottino\u001b[0m\u001b[0;34m\u001b[0m\u001b[0;34m\u001b[0m\u001b[0;34m\u001b[0m\u001b[0m\n\u001b[1;32m      2\u001b[0m \u001b[0;34m\u001b[0m\u001b[0m\n\u001b[0;32m----> 3\u001b[0;31m \u001b[0mplt\u001b[0m\u001b[0;34m.\u001b[0m\u001b[0mfigure\u001b[0m\u001b[0;34m(\u001b[0m\u001b[0mfigsize\u001b[0m\u001b[0;34m=\u001b[0m\u001b[0;34m(\u001b[0m\u001b[0;36m10\u001b[0m\u001b[0;34m,\u001b[0m\u001b[0;36m3.6\u001b[0m\u001b[0;34m)\u001b[0m\u001b[0;34m)\u001b[0m\u001b[0;34m\u001b[0m\u001b[0;34m\u001b[0m\u001b[0m\n\u001b[0m\u001b[1;32m      4\u001b[0m \u001b[0mplt\u001b[0m\u001b[0;34m.\u001b[0m\u001b[0mplot\u001b[0m\u001b[0;34m(\u001b[0m\u001b[0mtlist\u001b[0m\u001b[0;34m,\u001b[0m \u001b[0moverlapexact\u001b[0m\u001b[0;34m,\u001b[0m \u001b[0mlabel\u001b[0m \u001b[0;34m=\u001b[0m \u001b[0;34mr'exact'\u001b[0m\u001b[0;34m)\u001b[0m\u001b[0;34m\u001b[0m\u001b[0;34m\u001b[0m\u001b[0m\n\u001b[1;32m      5\u001b[0m \u001b[0mplt\u001b[0m\u001b[0;34m.\u001b[0m\u001b[0mfill_between\u001b[0m\u001b[0;34m(\u001b[0m\u001b[0mtlist\u001b[0m\u001b[0;34m,\u001b[0m \u001b[0;36m0\u001b[0m\u001b[0;34m,\u001b[0m \u001b[0moverlapexact\u001b[0m\u001b[0;34m,\u001b[0m \u001b[0malpha\u001b[0m\u001b[0;34m=\u001b[0m\u001b[0;36m0.4\u001b[0m\u001b[0;34m)\u001b[0m\u001b[0;34m\u001b[0m\u001b[0;34m\u001b[0m\u001b[0m\n",
      "\u001b[0;31mNameError\u001b[0m: name 'plt' is not defined"
     ]
    }
   ],
   "source": [
    "##### plottino\n",
    "\n",
    "plt.figure(figsize=(10,3.6))\n",
    "plt.plot(tlist, overlapexact, label = r'exact')\n",
    "plt.fill_between(tlist, 0, overlapexact, alpha=0.4)\n",
    "\n",
    "plt.plot(t, overlapsvar2, 'o-', label = r'Var, $ \\Delta_t $= '+str(delta_t))\n",
    "\n",
    "plt.plot(time, overlaps_trotter, 'o-', label = r'Trotter,  $ \\Delta_t $= '+str(delta_t))\n",
    "\n",
    "plt.ylim(0,1.1)\n",
    "plt.xticks([0,1,2,3,4,5],fontsize=22)\n",
    "plt.yticks(fontsize=22)\n",
    "plt.title(r'$|\\langle \\psi | e^{iHt} | \\psi \\rangle|^2$, initial state $ \\, | \\psi \\rangle=o \\rightarrow o$, m='+ str(params[\"m\"]/params[\"e\"]) +' e', fontsize=17)\n",
    "plt.xlabel(r'Time $t$', fontsize=22)\n",
    "plt.legend(fontsize=17)#, loc='center left', bbox_to_anchor=(1, 0.5))\n",
    "sns.despine()"
   ]
  },
  {
   "cell_type": "code",
   "execution_count": 1522,
   "metadata": {},
   "outputs": [
    {
     "output_type": "execute_result",
     "data": {
      "text/plain": [
       "'1.0'"
      ]
     },
     "metadata": {},
     "execution_count": 1522
    }
   ],
   "source": [
    "str(params[\"m\"]/params[\"e\"]) "
   ]
  },
  {
   "cell_type": "code",
   "execution_count": 1410,
   "metadata": {},
   "outputs": [
    {
     "output_type": "execute_result",
     "data": {
      "text/plain": [
       "(0.0, 1.0)"
      ]
     },
     "metadata": {},
     "execution_count": 1410
    },
    {
     "output_type": "display_data",
     "data": {
      "text/plain": "<Figure size 432x288 with 1 Axes>",
      "image/svg+xml": "<?xml version=\"1.0\" encoding=\"utf-8\" standalone=\"no\"?>\n<!DOCTYPE svg PUBLIC \"-//W3C//DTD SVG 1.1//EN\"\n  \"http://www.w3.org/Graphics/SVG/1.1/DTD/svg11.dtd\">\n<!-- Created with matplotlib (https://matplotlib.org/) -->\n<svg height=\"248.771875pt\" version=\"1.1\" viewBox=\"0 0 366.2 248.771875\" width=\"366.2pt\" xmlns=\"http://www.w3.org/2000/svg\" xmlns:xlink=\"http://www.w3.org/1999/xlink\">\n <metadata>\n  <rdf:RDF xmlns:cc=\"http://creativecommons.org/ns#\" xmlns:dc=\"http://purl.org/dc/elements/1.1/\" xmlns:rdf=\"http://www.w3.org/1999/02/22-rdf-syntax-ns#\">\n   <cc:Work>\n    <dc:type rdf:resource=\"http://purl.org/dc/dcmitype/StillImage\"/>\n    <dc:date>2020-11-25T15:50:02.904868</dc:date>\n    <dc:format>image/svg+xml</dc:format>\n    <dc:creator>\n     <cc:Agent>\n      <dc:title>Matplotlib v3.3.3, https://matplotlib.org/</dc:title>\n     </cc:Agent>\n    </dc:creator>\n   </cc:Work>\n  </rdf:RDF>\n </metadata>\n <defs>\n  <style type=\"text/css\">*{stroke-linecap:butt;stroke-linejoin:round;}</style>\n </defs>\n <g id=\"figure_1\">\n  <g id=\"patch_1\">\n   <path d=\"M 0 248.771875 \nL 366.2 248.771875 \nL 366.2 0 \nL 0 0 \nz\n\" style=\"fill:none;\"/>\n  </g>\n  <g id=\"axes_1\">\n   <g id=\"patch_2\">\n    <path d=\"M 24.2 227.371875 \nL 359 227.371875 \nL 359 9.931875 \nL 24.2 9.931875 \nz\n\" style=\"fill:#ffffff;\"/>\n   </g>\n   <g id=\"matplotlib.axis_1\">\n    <g id=\"xtick_1\">\n     <g id=\"line2d_1\">\n      <defs>\n       <path d=\"M 0 0 \nL 0 3.5 \n\" id=\"mf24687a5d7\" style=\"stroke:#000000;stroke-width:0.8;\"/>\n      </defs>\n      <g>\n       <use style=\"stroke:#000000;stroke-width:0.8;\" x=\"39.418182\" xlink:href=\"#mf24687a5d7\" y=\"227.371875\"/>\n      </g>\n     </g>\n     <g id=\"text_1\">\n      <!-- 0 -->\n      <g transform=\"translate(37.418182 239.835625)scale(0.08 -0.08)\">\n       <defs>\n        <path d=\"M 47.59375 33 \nQ 47.59375 26.296875 46.296875 20.34375 \nQ 45 14.40625 42.453125 9.40625 \nQ 39.90625 4.40625 35.40625 1.5 \nQ 30.90625 -1.40625 25 -1.40625 \nQ 18.90625 -1.40625 14.296875 1.6875 \nQ 9.703125 4.796875 7.203125 10 \nQ 4.703125 15.203125 3.546875 21.09375 \nQ 2.40625 27 2.40625 33.59375 \nQ 2.40625 42.90625 4.703125 50.34375 \nQ 7 57.796875 12.34375 62.6875 \nQ 17.703125 67.59375 25.40625 67.59375 \nQ 35.203125 67.59375 41.390625 58 \nQ 47.59375 48.40625 47.59375 33 \nz\nM 38 32.5 \nQ 38 48.296875 34.640625 56.640625 \nQ 31.296875 65 24.796875 65 \nQ 18.59375 65 15.296875 56.59375 \nQ 12 48.203125 12 32.90625 \nQ 12 17.5 15.296875 9.34375 \nQ 18.59375 1.203125 25 1.203125 \nQ 31.296875 1.203125 34.640625 9.34375 \nQ 38 17.5 38 32.5 \nz\n\" id=\"STIXGeneral-Regular-48\"/>\n       </defs>\n       <use xlink:href=\"#STIXGeneral-Regular-48\"/>\n      </g>\n     </g>\n    </g>\n    <g id=\"xtick_2\">\n     <g id=\"line2d_2\">\n      <g>\n       <use style=\"stroke:#000000;stroke-width:0.8;\" x=\"100.290909\" xlink:href=\"#mf24687a5d7\" y=\"227.371875\"/>\n      </g>\n     </g>\n     <g id=\"text_2\">\n      <!-- 1 -->\n      <g transform=\"translate(98.290909 239.835625)scale(0.08 -0.08)\">\n       <defs>\n        <path d=\"M 39.40625 0 \nL 11.796875 0 \nL 11.796875 1.5 \nQ 17.296875 1.796875 19.296875 3.546875 \nQ 21.296875 5.296875 21.296875 9.5 \nL 21.296875 54.40625 \nQ 21.296875 59.296875 18.296875 59.296875 \nQ 16.90625 59.296875 13.796875 58.09375 \nL 11.09375 57.09375 \nL 11.09375 58.5 \nL 29 67.59375 \nL 29.90625 67.296875 \nL 29.90625 7.59375 \nQ 29.90625 4.296875 31.90625 2.890625 \nQ 33.90625 1.5 39.40625 1.5 \nz\n\" id=\"STIXGeneral-Regular-49\"/>\n       </defs>\n       <use xlink:href=\"#STIXGeneral-Regular-49\"/>\n      </g>\n     </g>\n    </g>\n    <g id=\"xtick_3\">\n     <g id=\"line2d_3\">\n      <g>\n       <use style=\"stroke:#000000;stroke-width:0.8;\" x=\"161.163636\" xlink:href=\"#mf24687a5d7\" y=\"227.371875\"/>\n      </g>\n     </g>\n     <g id=\"text_3\">\n      <!-- 2 -->\n      <g transform=\"translate(159.163636 239.835625)scale(0.08 -0.08)\">\n       <defs>\n        <path d=\"M 47.40625 13.703125 \nL 42 0 \nL 2.90625 0 \nL 2.90625 1.203125 \nL 20.703125 20.09375 \nQ 27.703125 27.40625 30.703125 33.5 \nQ 33.703125 39.59375 33.703125 46.09375 \nQ 33.703125 52.796875 30 56.5 \nQ 26.296875 60.203125 19.796875 60.203125 \nQ 14.40625 60.203125 11.25 57.390625 \nQ 8.09375 54.59375 5.09375 47.203125 \nL 3 47.703125 \nQ 4.703125 57 9.84375 62.296875 \nQ 15 67.59375 23.796875 67.59375 \nQ 32.09375 67.59375 37.1875 62.59375 \nQ 42.296875 57.59375 42.296875 50 \nQ 42.296875 38.703125 29.5 25.203125 \nL 13 7.59375 \nL 36.40625 7.59375 \nQ 39.703125 7.59375 41.640625 8.890625 \nQ 43.59375 10.203125 46 14.296875 \nz\n\" id=\"STIXGeneral-Regular-50\"/>\n       </defs>\n       <use xlink:href=\"#STIXGeneral-Regular-50\"/>\n      </g>\n     </g>\n    </g>\n    <g id=\"xtick_4\">\n     <g id=\"line2d_4\">\n      <g>\n       <use style=\"stroke:#000000;stroke-width:0.8;\" x=\"222.036364\" xlink:href=\"#mf24687a5d7\" y=\"227.371875\"/>\n      </g>\n     </g>\n     <g id=\"text_4\">\n      <!-- 3 -->\n      <g transform=\"translate(220.036364 239.835625)scale(0.08 -0.08)\">\n       <defs>\n        <path d=\"M 6.09375 51 \nL 4.5 51.40625 \nQ 6.796875 58.90625 11.6875 63.25 \nQ 16.59375 67.59375 24.09375 67.59375 \nQ 31.09375 67.59375 35.390625 63.796875 \nQ 39.703125 60 39.703125 53.90625 \nQ 39.703125 45.703125 30.40625 40.09375 \nQ 35.90625 37.703125 38.703125 34.796875 \nQ 43.09375 29.90625 43.09375 21.90625 \nQ 43.09375 13.90625 38.5 7.90625 \nQ 35.09375 3.296875 28.75 0.9375 \nQ 22.40625 -1.40625 15.296875 -1.40625 \nQ 4.09375 -1.40625 4.09375 4.296875 \nQ 4.09375 5.90625 5.296875 6.90625 \nQ 6.5 7.90625 8.203125 7.90625 \nQ 10.703125 7.90625 14.296875 5.296875 \nQ 18.703125 2.203125 22.90625 2.203125 \nQ 28.40625 2.203125 32.15625 6.640625 \nQ 35.90625 11.09375 35.90625 17.5 \nQ 35.90625 29 25.5 32 \nQ 22.40625 33 15.296875 33 \nL 15.296875 34.40625 \nQ 20.90625 36.296875 23.703125 38 \nQ 31.796875 42.59375 31.796875 51.40625 \nQ 31.796875 56.40625 28.9375 59 \nQ 26.09375 61.59375 21 61.59375 \nQ 12 61.59375 6.09375 51 \nz\n\" id=\"STIXGeneral-Regular-51\"/>\n       </defs>\n       <use xlink:href=\"#STIXGeneral-Regular-51\"/>\n      </g>\n     </g>\n    </g>\n    <g id=\"xtick_5\">\n     <g id=\"line2d_5\">\n      <g>\n       <use style=\"stroke:#000000;stroke-width:0.8;\" x=\"282.909091\" xlink:href=\"#mf24687a5d7\" y=\"227.371875\"/>\n      </g>\n     </g>\n     <g id=\"text_5\">\n      <!-- 4 -->\n      <g transform=\"translate(280.909091 239.835625)scale(0.08 -0.08)\">\n       <defs>\n        <path d=\"M 47.296875 16.703125 \nL 37 16.703125 \nL 37 0 \nL 29.203125 0 \nL 29.203125 16.703125 \nL 1.203125 16.703125 \nL 1.203125 23.09375 \nL 32.59375 67.59375 \nL 37 67.59375 \nL 37 23.09375 \nL 47.296875 23.09375 \nz\nM 29.203125 23.09375 \nL 29.203125 57.40625 \nL 5.203125 23.09375 \nz\n\" id=\"STIXGeneral-Regular-52\"/>\n       </defs>\n       <use xlink:href=\"#STIXGeneral-Regular-52\"/>\n      </g>\n     </g>\n    </g>\n    <g id=\"xtick_6\">\n     <g id=\"line2d_6\">\n      <g>\n       <use style=\"stroke:#000000;stroke-width:0.8;\" x=\"343.781818\" xlink:href=\"#mf24687a5d7\" y=\"227.371875\"/>\n      </g>\n     </g>\n     <g id=\"text_6\">\n      <!-- 5 -->\n      <g transform=\"translate(341.781818 239.835625)scale(0.08 -0.08)\">\n       <defs>\n        <path d=\"M 43.796875 68.09375 \nL 40.203125 59.59375 \nQ 39.59375 58.296875 37.5 58.296875 \nL 18.09375 58.296875 \nL 14.09375 49.796875 \nQ 25.09375 47.703125 30 45.25 \nQ 34.90625 42.796875 39.09375 37 \nQ 42.59375 32.203125 42.59375 24.296875 \nQ 42.59375 17.09375 40.25 12.1875 \nQ 37.90625 7.296875 32.796875 3.5 \nQ 26 -1.40625 15.796875 -1.40625 \nQ 10.09375 -1.40625 6.59375 0.296875 \nQ 3.09375 2 3.09375 4.796875 \nQ 3.09375 8.59375 7.59375 8.59375 \nQ 11.203125 8.59375 15 5.5 \nQ 18.90625 2.296875 22.09375 2.296875 \nQ 27.296875 2.296875 31.4375 7.5 \nQ 35.59375 12.703125 35.59375 19.203125 \nQ 35.59375 28.796875 28.90625 34.203125 \nQ 20.203125 41.203125 7.59375 41.203125 \nQ 6.40625 41.203125 6.40625 42 \nL 6.5 42.5 \nL 17.40625 66.203125 \nL 38.09375 66.203125 \nQ 39.796875 66.203125 40.75 66.703125 \nQ 41.703125 67.203125 42.90625 68.796875 \nz\n\" id=\"STIXGeneral-Regular-53\"/>\n       </defs>\n       <use xlink:href=\"#STIXGeneral-Regular-53\"/>\n      </g>\n     </g>\n    </g>\n   </g>\n   <g id=\"matplotlib.axis_2\">\n    <g id=\"ytick_1\">\n     <g id=\"line2d_7\">\n      <defs>\n       <path d=\"M 0 0 \nL -3.5 0 \n\" id=\"m2298654dc2\" style=\"stroke:#000000;stroke-width:0.8;\"/>\n      </defs>\n      <g>\n       <use style=\"stroke:#000000;stroke-width:0.8;\" x=\"24.2\" xlink:href=\"#m2298654dc2\" y=\"227.371875\"/>\n      </g>\n     </g>\n     <g id=\"text_7\">\n      <!-- 0.0 -->\n      <g transform=\"translate(7.2 230.10375)scale(0.08 -0.08)\">\n       <defs>\n        <path d=\"M 18.09375 4.296875 \nQ 18.09375 2.09375 16.4375 0.5 \nQ 14.796875 -1.09375 12.5 -1.09375 \nQ 10.203125 -1.09375 8.59375 0.5 \nQ 7 2.09375 7 4.390625 \nQ 7 6.703125 8.640625 8.34375 \nQ 10.296875 10 12.59375 10 \nQ 14.796875 10 16.4375 8.296875 \nQ 18.09375 6.59375 18.09375 4.296875 \nz\n\" id=\"STIXGeneral-Regular-46\"/>\n       </defs>\n       <use xlink:href=\"#STIXGeneral-Regular-48\"/>\n       <use x=\"49.999985\" xlink:href=\"#STIXGeneral-Regular-46\"/>\n       <use x=\"74.999969\" xlink:href=\"#STIXGeneral-Regular-48\"/>\n      </g>\n     </g>\n    </g>\n    <g id=\"ytick_2\">\n     <g id=\"line2d_8\">\n      <g>\n       <use style=\"stroke:#000000;stroke-width:0.8;\" x=\"24.2\" xlink:href=\"#m2298654dc2\" y=\"183.883875\"/>\n      </g>\n     </g>\n     <g id=\"text_8\">\n      <!-- 0.2 -->\n      <g transform=\"translate(7.2 186.61575)scale(0.08 -0.08)\">\n       <use xlink:href=\"#STIXGeneral-Regular-48\"/>\n       <use x=\"49.999985\" xlink:href=\"#STIXGeneral-Regular-46\"/>\n       <use x=\"74.999969\" xlink:href=\"#STIXGeneral-Regular-50\"/>\n      </g>\n     </g>\n    </g>\n    <g id=\"ytick_3\">\n     <g id=\"line2d_9\">\n      <g>\n       <use style=\"stroke:#000000;stroke-width:0.8;\" x=\"24.2\" xlink:href=\"#m2298654dc2\" y=\"140.395875\"/>\n      </g>\n     </g>\n     <g id=\"text_9\">\n      <!-- 0.4 -->\n      <g transform=\"translate(7.2 143.12775)scale(0.08 -0.08)\">\n       <use xlink:href=\"#STIXGeneral-Regular-48\"/>\n       <use x=\"49.999985\" xlink:href=\"#STIXGeneral-Regular-46\"/>\n       <use x=\"74.999969\" xlink:href=\"#STIXGeneral-Regular-52\"/>\n      </g>\n     </g>\n    </g>\n    <g id=\"ytick_4\">\n     <g id=\"line2d_10\">\n      <g>\n       <use style=\"stroke:#000000;stroke-width:0.8;\" x=\"24.2\" xlink:href=\"#m2298654dc2\" y=\"96.907875\"/>\n      </g>\n     </g>\n     <g id=\"text_10\">\n      <!-- 0.6 -->\n      <g transform=\"translate(7.2 99.63975)scale(0.08 -0.08)\">\n       <defs>\n        <path d=\"M 44.59375 68.40625 \nL 44.796875 66.796875 \nQ 33 64.90625 25.09375 57.25 \nQ 17.203125 49.59375 15.203125 38.296875 \nQ 21 42.796875 27.90625 42.796875 \nQ 36.703125 42.796875 41.75 37.1875 \nQ 46.796875 31.59375 46.796875 21.90625 \nQ 46.796875 12.09375 41.703125 5.90625 \nQ 35.796875 -1.40625 25.796875 -1.40625 \nQ 13.59375 -1.40625 8.09375 8.703125 \nQ 3.40625 17.296875 3.40625 27.90625 \nQ 3.40625 44.296875 14.296875 55.5 \nQ 20.5 61.90625 27.046875 64.546875 \nQ 33.59375 67.203125 44.59375 68.40625 \nz\nM 37.796875 18.796875 \nQ 37.796875 38.203125 24.296875 38.203125 \nQ 19.296875 38.203125 16 35.546875 \nQ 12.703125 32.90625 12.703125 26.59375 \nQ 12.703125 14.90625 16.34375 8.15625 \nQ 20 1.40625 26.90625 1.40625 \nQ 32.203125 1.40625 35 6.15625 \nQ 37.796875 10.90625 37.796875 18.796875 \nz\n\" id=\"STIXGeneral-Regular-54\"/>\n       </defs>\n       <use xlink:href=\"#STIXGeneral-Regular-48\"/>\n       <use x=\"49.999985\" xlink:href=\"#STIXGeneral-Regular-46\"/>\n       <use x=\"74.999969\" xlink:href=\"#STIXGeneral-Regular-54\"/>\n      </g>\n     </g>\n    </g>\n    <g id=\"ytick_5\">\n     <g id=\"line2d_11\">\n      <g>\n       <use style=\"stroke:#000000;stroke-width:0.8;\" x=\"24.2\" xlink:href=\"#m2298654dc2\" y=\"53.419875\"/>\n      </g>\n     </g>\n     <g id=\"text_11\">\n      <!-- 0.8 -->\n      <g transform=\"translate(7.2 56.15175)scale(0.08 -0.08)\">\n       <defs>\n        <path d=\"M 44.5 15.5 \nQ 44.5 7.796875 39.140625 3.1875 \nQ 33.796875 -1.40625 24.796875 -1.40625 \nQ 16.40625 -1.40625 11 3.1875 \nQ 5.59375 7.796875 5.59375 14.90625 \nQ 5.59375 20.203125 8.1875 23.953125 \nQ 10.796875 27.703125 18.59375 33.203125 \nQ 11.09375 39.40625 8.640625 43.203125 \nQ 6.203125 47 6.203125 52 \nQ 6.203125 59.09375 11.640625 63.34375 \nQ 17.09375 67.59375 25.59375 67.59375 \nQ 32.90625 67.59375 37.65625 63.4375 \nQ 42.40625 59.296875 42.40625 53.296875 \nQ 42.40625 47.796875 39.546875 44.5 \nQ 36.703125 41.203125 29 37.09375 \nQ 38 31.09375 41.25 26.390625 \nQ 44.5 21.703125 44.5 15.5 \nz\nM 35.5 53.296875 \nQ 35.5 58.5 32.59375 61.640625 \nQ 29.703125 64.796875 24.59375 64.796875 \nQ 19.5 64.796875 16.546875 62.140625 \nQ 13.59375 59.5 13.59375 54.890625 \nQ 13.59375 50.296875 16.546875 46.546875 \nQ 19.5 42.796875 26.09375 38.90625 \nQ 31.203125 41.90625 33.34375 45.25 \nQ 35.5 48.59375 35.5 53.296875 \nz\nM 27.09375 27.203125 \nL 21.203125 31.203125 \nQ 16.796875 27.59375 15 24.140625 \nQ 13.203125 20.703125 13.203125 15.796875 \nQ 13.203125 9 16.640625 5.203125 \nQ 20.09375 1.40625 25.90625 1.40625 \nQ 30.796875 1.40625 33.84375 4.453125 \nQ 36.90625 7.5 36.90625 12.40625 \nQ 36.90625 16.90625 34.59375 20.296875 \nQ 32.296875 23.703125 27.09375 27.203125 \nz\n\" id=\"STIXGeneral-Regular-56\"/>\n       </defs>\n       <use xlink:href=\"#STIXGeneral-Regular-48\"/>\n       <use x=\"49.999985\" xlink:href=\"#STIXGeneral-Regular-46\"/>\n       <use x=\"74.999969\" xlink:href=\"#STIXGeneral-Regular-56\"/>\n      </g>\n     </g>\n    </g>\n    <g id=\"ytick_6\">\n     <g id=\"line2d_12\">\n      <g>\n       <use style=\"stroke:#000000;stroke-width:0.8;\" x=\"24.2\" xlink:href=\"#m2298654dc2\" y=\"9.931875\"/>\n      </g>\n     </g>\n     <g id=\"text_12\">\n      <!-- 1.0 -->\n      <g transform=\"translate(7.2 12.66375)scale(0.08 -0.08)\">\n       <use xlink:href=\"#STIXGeneral-Regular-49\"/>\n       <use x=\"49.999985\" xlink:href=\"#STIXGeneral-Regular-46\"/>\n       <use x=\"74.999969\" xlink:href=\"#STIXGeneral-Regular-48\"/>\n      </g>\n     </g>\n    </g>\n   </g>\n   <g id=\"line2d_13\">\n    <path clip-path=\"url(#pfd1bbd43bc)\" d=\"M 39.418182 9.931875 \nL 45.629685 24.557535 \nL 51.841187 61.797398 \nL 58.05269 105.60362 \nL 64.264193 139.66927 \nL 70.475696 156.133114 \nL 76.687199 158.510069 \nL 82.898701 157.340926 \nL 89.110204 161.776248 \nL 95.321707 172.847226 \nL 101.53321 182.896339 \nL 107.744712 181.423135 \nL 113.956215 163.252734 \nL 120.167718 133.339732 \nL 126.379221 104.737545 \nL 132.590724 90.830988 \nL 138.802226 96.826523 \nL 145.013729 116.127958 \nL 151.225232 134.143025 \nL 157.436735 137.261732 \nL 163.648237 121.356418 \nL 169.85974 94.404785 \nL 176.071243 71.582331 \nL 182.282746 65.982465 \nL 188.494249 80.876477 \nL 194.705751 108.3448 \nL 200.917254 134.92347 \nL 207.128757 150.366592 \nL 213.34026 153.694889 \nL 219.551763 152.622491 \nL 225.763265 156.933763 \nL 231.974768 170.447284 \nL 238.186271 187.163749 \nL 244.397774 194.410432 \nL 250.609276 181.101766 \nL 256.820779 145.735929 \nL 263.032282 98.768805 \nL 269.243785 57.567937 \nL 275.455288 36.939637 \nL 281.66679 41.113261 \nL 287.878293 62.162258 \nL 294.089796 85.72122 \nL 300.301299 100.203311 \nL 306.512801 103.559043 \nL 312.724304 103.338095 \nL 318.935807 110.271462 \nL 325.14731 129.848572 \nL 331.358813 157.632658 \nL 337.570315 181.519336 \nL 343.781818 189.48535 \n\" style=\"fill:none;stroke:#1f77b4;stroke-linecap:square;stroke-width:1.5;\"/>\n   </g>\n   <g id=\"patch_3\">\n    <path d=\"M 24.2 227.371875 \nL 24.2 9.931875 \n\" style=\"fill:none;stroke:#000000;stroke-linecap:square;stroke-linejoin:miter;stroke-width:0.8;\"/>\n   </g>\n   <g id=\"patch_4\">\n    <path d=\"M 359 227.371875 \nL 359 9.931875 \n\" style=\"fill:none;stroke:#000000;stroke-linecap:square;stroke-linejoin:miter;stroke-width:0.8;\"/>\n   </g>\n   <g id=\"patch_5\">\n    <path d=\"M 24.2 227.371875 \nL 359 227.371875 \n\" style=\"fill:none;stroke:#000000;stroke-linecap:square;stroke-linejoin:miter;stroke-width:0.8;\"/>\n   </g>\n   <g id=\"patch_6\">\n    <path d=\"M 24.2 9.931875 \nL 359 9.931875 \n\" style=\"fill:none;stroke:#000000;stroke-linecap:square;stroke-linejoin:miter;stroke-width:0.8;\"/>\n   </g>\n  </g>\n </g>\n <defs>\n  <clipPath id=\"pfd1bbd43bc\">\n   <rect height=\"217.44\" width=\"334.8\" x=\"24.2\" y=\"9.931875\"/>\n  </clipPath>\n </defs>\n</svg>\n",
      "image/png": "[encoded data removed]"
     },
     "metadata": {
      "needs_background": "light"
     }
    }
   ],
   "source": [
    "### penso che quella esatta potrei farla così \n",
    "init_state_qutip=init_state.construct_circuit(\"qutip\")\n",
    "v_check=qt.Qobj(init_state.construct_circuit(\"vector\").flatten())\n",
    "if theta_list[0] != [0,0,0]:\n",
    "    init_state_qutip=qt.Qobj(np.around(var_mat_cir(theta_list[0])\n",
    "[1],4)@init_vect)\n",
    "    v_check=qt.Qobj(np.around(var_mat_cir(theta_list[0])[1],4)@init_vect)\n",
    "H_qutip=qt.Qobj(to_matrix_operator(H).dense_matrix)\n",
    "sol=qt.sesolve(H_qutip, v_check, t)\n",
    "#plt.plot(t,sol.states)\n",
    "overlapexact=np.asarray([ np.square(np.abs(qiskit_overlap(sol.states[0].full().flatten(), qtstate.full().flatten()))) for qtstate in sol.states])\n",
    "\n",
    "plt.plot(t,overlapexact)\n",
    "plt.ylim((0,1))\n",
    "# ma vuoldire ceh trotte lo prende male= "
   ]
  },
  {
   "cell_type": "code",
   "execution_count": 1389,
   "metadata": {},
   "outputs": [
    {
     "output_type": "execute_result",
     "data": {
      "text/plain": [
       "Quantum object: dims = [[2, 2, 2, 2, 2], [1, 1, 1, 1, 1]], shape = (32, 1), type = ket\n",
       "Qobj data =\n",
       "[[0.]\n",
       " [0.]\n",
       " [0.]\n",
       " [0.]\n",
       " [0.]\n",
       " [1.]\n",
       " [0.]\n",
       " [0.]\n",
       " [0.]\n",
       " [0.]\n",
       " [0.]\n",
       " [0.]\n",
       " [0.]\n",
       " [0.]\n",
       " [0.]\n",
       " [0.]\n",
       " [0.]\n",
       " [0.]\n",
       " [0.]\n",
       " [0.]\n",
       " [0.]\n",
       " [0.]\n",
       " [0.]\n",
       " [0.]\n",
       " [0.]\n",
       " [0.]\n",
       " [0.]\n",
       " [0.]\n",
       " [0.]\n",
       " [0.]\n",
       " [0.]\n",
       " [0.]]"
      ],
      "text/latex": "Quantum object: dims = [[2, 2, 2, 2, 2], [1, 1, 1, 1, 1]], shape = (32, 1), type = ket\\begin{equation*}\\left(\\begin{array}{*{11}c}0.0\\\\0.0\\\\0.0\\\\0.0\\\\0.0\\\\\\vdots\\\\0.0\\\\0.0\\\\0.0\\\\0.0\\\\0.0\\\\\\end{array}\\right)\\end{equation*}"
     },
     "metadata": {},
     "execution_count": 1389
    }
   ],
   "source": [
    "init_state_qutip=init_state.construct_circuit(\"qutip\")\n",
    "v_check=qt.Qobj(init_state.construct_circuit(\"vector\").flatten())\n",
    "init_state_qutip"
   ]
  },
  {
   "cell_type": "code",
   "execution_count": 1393,
   "metadata": {},
   "outputs": [
    {
     "output_type": "execute_result",
     "data": {
      "text/plain": [
       "Quantum object: dims = [[32], [1]], shape = (32, 1), type = ket\n",
       "Qobj data =\n",
       "[[0.]\n",
       " [0.]\n",
       " [0.]\n",
       " [0.]\n",
       " [0.]\n",
       " [1.]\n",
       " [0.]\n",
       " [0.]\n",
       " [0.]\n",
       " [0.]\n",
       " [0.]\n",
       " [0.]\n",
       " [0.]\n",
       " [0.]\n",
       " [0.]\n",
       " [0.]\n",
       " [0.]\n",
       " [0.]\n",
       " [0.]\n",
       " [0.]\n",
       " [0.]\n",
       " [0.]\n",
       " [0.]\n",
       " [0.]\n",
       " [0.]\n",
       " [0.]\n",
       " [0.]\n",
       " [0.]\n",
       " [0.]\n",
       " [0.]\n",
       " [0.]\n",
       " [0.]]"
      ],
      "text/latex": "Quantum object: dims = [[32], [1]], shape = (32, 1), type = ket\\begin{equation*}\\left(\\begin{array}{*{11}c}0.0\\\\0.0\\\\0.0\\\\0.0\\\\0.0\\\\\\vdots\\\\0.0\\\\0.0\\\\0.0\\\\0.0\\\\0.0\\\\\\end{array}\\right)\\end{equation*}"
     },
     "metadata": {},
     "execution_count": 1393
    }
   ],
   "source": [
    "qt.Qobj(init_state.construct_circuit(\"vector\").flatten())"
   ]
  },
  {
   "source": [
    "### ToDO \n",
    "# COnfrntare con exact solution e non solo trotter solution di Simon, vedi come Simone aveva confrontato trotter con exact, o come lo fa la pAuline sul coso oppure vedi se giulia aiuta, oppure se chiami la funzione . Hai cambiato all'ultimo tutte le multiplicazioni matriciali, vedi se non ci sono errori la dentro.\n",
    "seocndo ci sarebbe da capire se il derUdag, ha senso come é scritto\n",
    ", seocndo chissà se ora ci sono degli stati non fisici, terzo \n",
    "magari il problema é la variational form, se usi 4 lambda dovrebbe andare meglio, sarebbe fico ! \n",
    "ricorda che tutto é fatto in statevector !! e che prima o poi servirâ portare tutto in vector mode!!\n",
    "\n",
    "\n",
    "# ho cambiato l'input del vect, mettendo l'init vect, ma viene tutto 0, vai a vedere perchàéé! "
   ],
   "cell_type": "markdown",
   "metadata": {}
  },
  {
   "cell_type": "code",
   "execution_count": 655,
   "metadata": {},
   "outputs": [
    {
     "output_type": "execute_result",
     "data": {
      "text/plain": [
       "        ┌───┐                                                                  »\n",
       "q_0: ───┤ H ├──────────────────────────────────────────────────────────────────»\n",
       "        ├───┤                                          ┌───┐    ┌───┐          »\n",
       "q_1: ───┤ H ├─────■──────────────────────────■─────────┤ H ├────┤ H ├──■───────»\n",
       "     ┌──┴───┴──┐┌─┴─┐                      ┌─┴─┐    ┌──┴───┴───┐├───┤┌─┴─┐     »\n",
       "q_2: ┤ RX(π/2) ├┤ X ├──■─────────────■─────┤ X ├────┤ RX(-π/2) ├┤ H ├┤ X ├──■──»\n",
       "     ├─────────┤└───┘  │             │     └───┘    └──────────┘└───┘└───┘  │  »\n",
       "q_3: ┤ RX(π/2) ├───────┼─────────────┼──────────────────────────────────────┼──»\n",
       "     ├─────────┤     ┌─┴─┐┌───────┐┌─┴─┐┌──────────┐   ┌───┐              ┌─┴─┐»\n",
       "q_4: ┤ RX(π/2) ├─────┤ X ├┤ RZ(0) ├┤ X ├┤ RX(-π/2) ├───┤ H ├──────────────┤ X ├»\n",
       "     └─────────┘     └───┘└───────┘└───┘└──────────┘   └───┘              └───┘»\n",
       "«                                                                     »\n",
       "«q_0: ────────────────────────────────────────────────────────────────»\n",
       "«                        ┌───┐┌─────────┐                             »\n",
       "«q_1: ────────────────■──┤ H ├┤ RX(π/2) ├──■───────────────────────■──»\n",
       "«                   ┌─┴─┐├───┤├─────────┤┌─┴─┐                   ┌─┴─┐»\n",
       "«q_2: ───────────■──┤ X ├┤ H ├┤ RX(π/2) ├┤ X ├──■─────────────■──┤ X ├»\n",
       "«                │  └───┘└───┘└─────────┘└───┘  │             │  └───┘»\n",
       "«q_3: ───────────┼──────────────────────────────┼─────────────┼───────»\n",
       "«     ┌───────┐┌─┴─┐┌───┐┌───┐                ┌─┴─┐┌───────┐┌─┴─┐┌───┐»\n",
       "«q_4: ┤ RZ(0) ├┤ X ├┤ H ├┤ H ├────────────────┤ X ├┤ RZ(0) ├┤ X ├┤ H ├»\n",
       "«     └───────┘└───┘└───┘└───┘                └───┘└───────┘└───┘└───┘»\n",
       "«                                                                            »\n",
       "«q_0: ───────────────────────────────────────────────────────────────────────»\n",
       "«     ┌──────────┐┌─────────┐                                    ┌──────────┐»\n",
       "«q_1: ┤ RX(-π/2) ├┤ RX(π/2) ├──■──────────────────────────■──────┤ RX(-π/2) ├»\n",
       "«     ├──────────┤└──┬───┬──┘┌─┴─┐                      ┌─┴─┐    └──┬───┬───┘»\n",
       "«q_2: ┤ RX(-π/2) ├───┤ H ├───┤ X ├──■─────────────■─────┤ X ├───────┤ H ├────»\n",
       "«     └──────────┘   └───┘   └───┘  │             │     └───┘       └───┘    »\n",
       "«q_3: ──────────────────────────────┼─────────────┼──────────────────────────»\n",
       "«     ┌─────────┐                 ┌─┴─┐┌───────┐┌─┴─┐┌──────────┐┌─────────┐ »\n",
       "«q_4: ┤ RX(π/2) ├─────────────────┤ X ├┤ RZ(0) ├┤ X ├┤ RX(-π/2) ├┤ RX(π/2) ├─»\n",
       "«     └─────────┘                 └───┘└───────┘└───┘└──────────┘└─────────┘ »\n",
       "«                                                                    ┌───┐┌───┐»\n",
       "«q_0: ──■─────────────────────────────────────────────────────────■──┤ H ├┤ H ├»\n",
       "«     ┌─┴─┐                                                     ┌─┴─┐└───┘└───┘»\n",
       "«q_1: ┤ X ├──■───────────────────────────────────────────■──────┤ X ├──────────»\n",
       "«     └───┘┌─┴─┐                                       ┌─┴─┐    └───┘          »\n",
       "«q_2: ─────┤ X ├──■──────────────────────────■─────────┤ X ├───────────────────»\n",
       "«          └───┘┌─┴─┐                      ┌─┴─┐    ┌──┴───┴───┐┌───┐          »\n",
       "«q_3: ──────────┤ X ├──■─────────────■─────┤ X ├────┤ RX(-π/2) ├┤ H ├──────────»\n",
       "«               └───┘┌─┴─┐┌───────┐┌─┴─┐┌──┴───┴───┐└──┬───┬───┘└───┘          »\n",
       "«q_4: ───────────────┤ X ├┤ RZ(0) ├┤ X ├┤ RX(-π/2) ├───┤ H ├───────────────────»\n",
       "«                    └───┘└───────┘└───┘└──────────┘   └───┘                   »\n",
       "«                                                            ┌───┐┌─────────┐»\n",
       "«q_0: ──■──────────────────────────────────────────────■─────┤ H ├┤ RX(π/2) ├»\n",
       "«     ┌─┴─┐                                          ┌─┴─┐   └───┘└─────────┘»\n",
       "«q_1: ┤ X ├──■─────────────────────────────────■─────┤ X ├───────────────────»\n",
       "«     └───┘┌─┴─┐                             ┌─┴─┐   └───┘                   »\n",
       "«q_2: ─────┤ X ├──■───────────────────────■──┤ X ├───────────────────────────»\n",
       "«          └───┘┌─┴─┐                   ┌─┴─┐├───┤┌─────────┐                »\n",
       "«q_3: ──────────┤ X ├──■─────────────■──┤ X ├┤ H ├┤ RX(π/2) ├────────────────»\n",
       "«               └───┘┌─┴─┐┌───────┐┌─┴─┐├───┤├───┤└─────────┘                »\n",
       "«q_4: ───────────────┤ X ├┤ RZ(0) ├┤ X ├┤ H ├┤ H ├───────────────────────────»\n",
       "«                    └───┘└───────┘└───┘└───┘└───┘                           »\n",
       "«                                                             ┌──────────┐»\n",
       "«q_0: ──■──────────────────────────────────────────────────■──┤ RX(-π/2) ├»\n",
       "«     ┌─┴─┐                                              ┌─┴─┐└──────────┘»\n",
       "«q_1: ┤ X ├──■────────────────────────────────────■──────┤ X ├────────────»\n",
       "«     └───┘┌─┴─┐                                ┌─┴─┐    └───┘            »\n",
       "«q_2: ─────┤ X ├──■───────────────────────■─────┤ X ├─────────────────────»\n",
       "«          └───┘┌─┴─┐                   ┌─┴─┐┌──┴───┴───┐┌───┐            »\n",
       "«q_3: ──────────┤ X ├──■─────────────■──┤ X ├┤ RX(-π/2) ├┤ H ├────────────»\n",
       "«               └───┘┌─┴─┐┌───────┐┌─┴─┐├───┤├─────────┬┘└───┘            »\n",
       "«q_4: ───────────────┤ X ├┤ RZ(0) ├┤ X ├┤ H ├┤ RX(π/2) ├──────────────────»\n",
       "«                    └───┘└───────┘└───┘└───┘└─────────┘                  »\n",
       "«     ┌─────────┐                                                            »\n",
       "«q_0: ┤ RX(π/2) ├──■────────────────────────────────────────────────────■────»\n",
       "«     └─────────┘┌─┴─┐                                                ┌─┴─┐  »\n",
       "«q_1: ───────────┤ X ├──■────────────────────────────────────────■────┤ X ├──»\n",
       "«                └───┘┌─┴─┐                                    ┌─┴─┐  └───┘  »\n",
       "«q_2: ────────────────┤ X ├──■──────────────────────────■──────┤ X ├─────────»\n",
       "«                     └───┘┌─┴─┐                      ┌─┴─┐    ├───┤┌───────┐»\n",
       "«q_3: ─────────────────────┤ X ├──■─────────────■─────┤ X ├────┤ H ├┤ U1(0) ├»\n",
       "«                          └───┘┌─┴─┐┌───────┐┌─┴─┐┌──┴───┴───┐└───┘└───────┘»\n",
       "«q_4: ──────────────────────────┤ X ├┤ RZ(0) ├┤ X ├┤ RX(-π/2) ├──────────────»\n",
       "«                               └───┘└───────┘└───┘└──────────┘              »\n",
       "«     ┌──────────┐\n",
       "«q_0: ┤ RX(-π/2) ├\n",
       "«     └┬───────┬─┘\n",
       "«q_1: ─┤ U1(0) ├──\n",
       "«      └───────┘  \n",
       "«q_2: ────────────\n",
       "«                 \n",
       "«q_3: ────────────\n",
       "«                 \n",
       "«q_4: ────────────\n",
       "«                 "
      ],
      "text/html": "<pre style=\"word-wrap: normal;white-space: pre;background: #fff0;line-height: 1.1;font-family: &quot;Courier New&quot;,Courier,monospace\">        ┌───┐                                                                  »\nq_0: ───┤ H ├──────────────────────────────────────────────────────────────────»\n        ├───┤                                          ┌───┐    ┌───┐          »\nq_1: ───┤ H ├─────■──────────────────────────■─────────┤ H ├────┤ H ├──■───────»\n     ┌──┴───┴──┐┌─┴─┐                      ┌─┴─┐    ┌──┴───┴───┐├───┤┌─┴─┐     »\nq_2: ┤ RX(π/2) ├┤ X ├──■─────────────■─────┤ X ├────┤ RX(-π/2) ├┤ H ├┤ X ├──■──»\n     ├─────────┤└───┘  │             │     └───┘    └──────────┘└───┘└───┘  │  »\nq_3: ┤ RX(π/2) ├───────┼─────────────┼──────────────────────────────────────┼──»\n     ├─────────┤     ┌─┴─┐┌───────┐┌─┴─┐┌──────────┐   ┌───┐              ┌─┴─┐»\nq_4: ┤ RX(π/2) ├─────┤ X ├┤ RZ(0) ├┤ X ├┤ RX(-π/2) ├───┤ H ├──────────────┤ X ├»\n     └─────────┘     └───┘└───────┘└───┘└──────────┘   └───┘              └───┘»\n«                                                                     »\n«q_0: ────────────────────────────────────────────────────────────────»\n«                        ┌───┐┌─────────┐                             »\n«q_1: ────────────────■──┤ H ├┤ RX(π/2) ├──■───────────────────────■──»\n«                   ┌─┴─┐├───┤├─────────┤┌─┴─┐                   ┌─┴─┐»\n«q_2: ───────────■──┤ X ├┤ H ├┤ RX(π/2) ├┤ X ├──■─────────────■──┤ X ├»\n«                │  └───┘└───┘└─────────┘└───┘  │             │  └───┘»\n«q_3: ───────────┼──────────────────────────────┼─────────────┼───────»\n«     ┌───────┐┌─┴─┐┌───┐┌───┐                ┌─┴─┐┌───────┐┌─┴─┐┌───┐»\n«q_4: ┤ RZ(0) ├┤ X ├┤ H ├┤ H ├────────────────┤ X ├┤ RZ(0) ├┤ X ├┤ H ├»\n«     └───────┘└───┘└───┘└───┘                └───┘└───────┘└───┘└───┘»\n«                                                                            »\n«q_0: ───────────────────────────────────────────────────────────────────────»\n«     ┌──────────┐┌─────────┐                                    ┌──────────┐»\n«q_1: ┤ RX(-π/2) ├┤ RX(π/2) ├──■──────────────────────────■──────┤ RX(-π/2) ├»\n«     ├──────────┤└──┬───┬──┘┌─┴─┐                      ┌─┴─┐    └──┬───┬───┘»\n«q_2: ┤ RX(-π/2) ├───┤ H ├───┤ X ├──■─────────────■─────┤ X ├───────┤ H ├────»\n«     └──────────┘   └───┘   └───┘  │             │     └───┘       └───┘    »\n«q_3: ──────────────────────────────┼─────────────┼──────────────────────────»\n«     ┌─────────┐                 ┌─┴─┐┌───────┐┌─┴─┐┌──────────┐┌─────────┐ »\n«q_4: ┤ RX(π/2) ├─────────────────┤ X ├┤ RZ(0) ├┤ X ├┤ RX(-π/2) ├┤ RX(π/2) ├─»\n«     └─────────┘                 └───┘└───────┘└───┘└──────────┘└─────────┘ »\n«                                                                    ┌───┐┌───┐»\n«q_0: ──■─────────────────────────────────────────────────────────■──┤ H ├┤ H ├»\n«     ┌─┴─┐                                                     ┌─┴─┐└───┘└───┘»\n«q_1: ┤ X ├──■───────────────────────────────────────────■──────┤ X ├──────────»\n«     └───┘┌─┴─┐                                       ┌─┴─┐    └───┘          »\n«q_2: ─────┤ X ├──■──────────────────────────■─────────┤ X ├───────────────────»\n«          └───┘┌─┴─┐                      ┌─┴─┐    ┌──┴───┴───┐┌───┐          »\n«q_3: ──────────┤ X ├──■─────────────■─────┤ X ├────┤ RX(-π/2) ├┤ H ├──────────»\n«               └───┘┌─┴─┐┌───────┐┌─┴─┐┌──┴───┴───┐└──┬───┬───┘└───┘          »\n«q_4: ───────────────┤ X ├┤ RZ(0) ├┤ X ├┤ RX(-π/2) ├───┤ H ├───────────────────»\n«                    └───┘└───────┘└───┘└──────────┘   └───┘                   »\n«                                                            ┌───┐┌─────────┐»\n«q_0: ──■──────────────────────────────────────────────■─────┤ H ├┤ RX(π/2) ├»\n«     ┌─┴─┐                                          ┌─┴─┐   └───┘└─────────┘»\n«q_1: ┤ X ├──■─────────────────────────────────■─────┤ X ├───────────────────»\n«     └───┘┌─┴─┐                             ┌─┴─┐   └───┘                   »\n«q_2: ─────┤ X ├──■───────────────────────■──┤ X ├───────────────────────────»\n«          └───┘┌─┴─┐                   ┌─┴─┐├───┤┌─────────┐                »\n«q_3: ──────────┤ X ├──■─────────────■──┤ X ├┤ H ├┤ RX(π/2) ├────────────────»\n«               └───┘┌─┴─┐┌───────┐┌─┴─┐├───┤├───┤└─────────┘                »\n«q_4: ───────────────┤ X ├┤ RZ(0) ├┤ X ├┤ H ├┤ H ├───────────────────────────»\n«                    └───┘└───────┘└───┘└───┘└───┘                           »\n«                                                             ┌──────────┐»\n«q_0: ──■──────────────────────────────────────────────────■──┤ RX(-π/2) ├»\n«     ┌─┴─┐                                              ┌─┴─┐└──────────┘»\n«q_1: ┤ X ├──■────────────────────────────────────■──────┤ X ├────────────»\n«     └───┘┌─┴─┐                                ┌─┴─┐    └───┘            »\n«q_2: ─────┤ X ├──■───────────────────────■─────┤ X ├─────────────────────»\n«          └───┘┌─┴─┐                   ┌─┴─┐┌──┴───┴───┐┌───┐            »\n«q_3: ──────────┤ X ├──■─────────────■──┤ X ├┤ RX(-π/2) ├┤ H ├────────────»\n«               └───┘┌─┴─┐┌───────┐┌─┴─┐├───┤├─────────┬┘└───┘            »\n«q_4: ───────────────┤ X ├┤ RZ(0) ├┤ X ├┤ H ├┤ RX(π/2) ├──────────────────»\n«                    └───┘└───────┘└───┘└───┘└─────────┘                  »\n«     ┌─────────┐                                                            »\n«q_0: ┤ RX(π/2) ├──■────────────────────────────────────────────────────■────»\n«     └─────────┘┌─┴─┐                                                ┌─┴─┐  »\n«q_1: ───────────┤ X ├──■────────────────────────────────────────■────┤ X ├──»\n«                └───┘┌─┴─┐                                    ┌─┴─┐  └───┘  »\n«q_2: ────────────────┤ X ├──■──────────────────────────■──────┤ X ├─────────»\n«                     └───┘┌─┴─┐                      ┌─┴─┐    ├───┤┌───────┐»\n«q_3: ─────────────────────┤ X ├──■─────────────■─────┤ X ├────┤ H ├┤ U1(0) ├»\n«                          └───┘┌─┴─┐┌───────┐┌─┴─┐┌──┴───┴───┐└───┘└───────┘»\n«q_4: ──────────────────────────┤ X ├┤ RZ(0) ├┤ X ├┤ RX(-π/2) ├──────────────»\n«                               └───┘└───────┘└───┘└──────────┘              »\n«     ┌──────────┐\n«q_0: ┤ RX(-π/2) ├\n«     └┬───────┬─┘\n«q_1: ─┤ U1(0) ├──\n«      └───────┘  \n«q_2: ────────────\n«                 \n«q_3: ────────────\n«                 \n«q_4: ────────────\n«                 </pre>"
     },
     "metadata": {},
     "execution_count": 655
    }
   ],
   "source": [
    "init_state_zero=Zero(H.num_qubits)\n",
    "q_init_circ_proof=WilsonLGT2(lattice=lattice, S=S, rep=rep).construct_circuit(parameters=[0,0,0])\n",
    "q_init_circ_proof.decompose().draw()"
   ]
  },
  {
   "cell_type": "code",
   "execution_count": 777,
   "metadata": {},
   "outputs": [
    {
     "output_type": "execute_result",
     "data": {
      "text/plain": [
       "numpy.ndarray"
      ]
     },
     "metadata": {},
     "execution_count": 777
    }
   ],
   "source": [
    "type(derU0dag*derU1)"
   ]
  },
  {
   "cell_type": "code",
   "execution_count": 367,
   "metadata": {},
   "outputs": [
    {
     "output_type": "execute_result",
     "data": {
      "text/plain": [
       "array([0.+0.j, 0.+0.j, 0.+0.j, 0.+0.j, 0.+0.j, 0.+0.j, 0.+0.j, 0.+0.j,\n",
       "       0.+0.j, 0.+0.j, 0.+0.j, 0.+0.j, 0.+0.j, 0.+0.j, 0.+0.j, 0.+0.j,\n",
       "       0.+0.j, 0.+0.j, 0.+0.j, 1.+0.j, 0.+0.j, 0.+0.j, 0.+0.j, 0.+0.j,\n",
       "       0.+0.j, 0.+0.j, 0.+0.j, 0.+0.j, 0.+0.j, 0.+0.j, 0.+0.j, 0.+0.j])"
      ]
     },
     "metadata": {},
     "execution_count": 367
    }
   ],
   "source": []
  },
  {
   "cell_type": "code",
   "execution_count": 442,
   "metadata": {},
   "outputs": [],
   "source": []
  },
  {
   "cell_type": "code",
   "execution_count": 763,
   "metadata": {},
   "outputs": [
    {
     "output_type": "error",
     "ename": "ValueError",
     "evalue": "invalid literal for int() with base 10: '1.5'",
     "traceback": [
      "\u001b[0;31m---------------------------------------------------------------------------\u001b[0m",
      "\u001b[0;31mValueError\u001b[0m                                Traceback (most recent call last)",
      "\u001b[0;32m<ipython-input-763-3e103dc83ffc>\u001b[0m in \u001b[0;36m<module>\u001b[0;34m\u001b[0m\n\u001b[0;32m----> 1\u001b[0;31m \u001b[0ma\u001b[0m\u001b[0;34m=\u001b[0m\u001b[0mint\u001b[0m\u001b[0;34m(\u001b[0m\u001b[0minput\u001b[0m\u001b[0;34m(\u001b[0m\u001b[0;34m\"geben si dein nummer\"\u001b[0m\u001b[0;34m)\u001b[0m\u001b[0;34m)\u001b[0m\u001b[0;34m\u001b[0m\u001b[0;34m\u001b[0m\u001b[0m\n\u001b[0m",
      "\u001b[0;31mValueError\u001b[0m: invalid literal for int() with base 10: '1.5'"
     ]
    }
   ],
   "source": [
    "a=int(input(\"geben si dein nummer\"))"
   ]
  },
  {
   "cell_type": "code",
   "execution_count": 774,
   "metadata": {},
   "outputs": [],
   "source": []
  },
  {
   "cell_type": "code",
   "execution_count": 775,
   "metadata": {},
   "outputs": [
    {
     "output_type": "execute_result",
     "data": {
      "text/plain": [
       "0.9166666666666666"
      ]
     },
     "metadata": {},
     "execution_count": 775
    }
   ],
   "source": []
  },
  {
   "cell_type": "code",
   "execution_count": null,
   "metadata": {},
   "outputs": [],
   "source": []
  }
 ]
}